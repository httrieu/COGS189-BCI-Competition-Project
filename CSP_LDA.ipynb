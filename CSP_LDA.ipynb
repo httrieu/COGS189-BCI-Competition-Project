{
 "cells": [
  {
   "cell_type": "code",
   "execution_count": 1,
   "metadata": {},
   "outputs": [],
   "source": [
    "import numpy as np\n",
    "from pathlib import Path\n",
    "import mne\n",
    "from util import *\n",
    "from scipy.signal import butter, sosfiltfilt, sosfreqz  # for filtering\n",
    "import matplotlib.pyplot as plt   \n",
    "import pandas as pd\n",
    "from sklearn.metrics import cohen_kappa_score"
   ]
  },
  {
   "cell_type": "markdown",
   "metadata": {},
   "source": [
    "### Data Processing"
   ]
  },
  {
   "cell_type": "code",
   "execution_count": 2,
   "metadata": {},
   "outputs": [
    {
     "name": "stdout",
     "output_type": "stream",
     "text": [
      "\n",
      "Processing A01T.gdf...\n",
      "Extracting EDF parameters from C:\\Users\\hunte\\Documents\\COGS189-BCI-Competition-Project\\BCICIV_2a_gdf\\A01T.gdf...\n",
      "GDF file detected\n",
      "Setting channel info structure...\n",
      "Could not determine channel type of the following channels, they will be set as EEG:\n",
      "EEG-Fz, EEG, EEG, EEG, EEG, EEG, EEG, EEG-C3, EEG, EEG-Cz, EEG, EEG-C4, EEG, EEG, EEG, EEG, EEG, EEG, EEG, EEG-Pz, EEG, EEG, EOG-left, EOG-central, EOG-right\n",
      "Creating raw.info structure...\n",
      "Reading 0 ... 672527  =      0.000 ...  2690.108 secs...\n"
     ]
    },
    {
     "name": "stderr",
     "output_type": "stream",
     "text": [
      "c:\\Users\\hunte\\anaconda3\\envs\\CSE156\\Lib\\contextlib.py:144: RuntimeWarning: Channel names are not unique, found duplicates for: {'EEG'}. Applying running numbers for duplicates.\n",
      "  next(self.gen)\n"
     ]
    },
    {
     "name": "stdout",
     "output_type": "stream",
     "text": [
      "Used Annotations descriptions: ['1023', '1072', '276', '277', '32766', '768', '769', '770', '771', '772']\n",
      "  Filtering 1-3 Hz...\n",
      "Filtering raw data in 1 contiguous segment\n",
      "Setting up band-pass filter from 1 - 3 Hz\n",
      "\n",
      "FIR filter parameters\n",
      "---------------------\n",
      "Designing a one-pass, zero-phase, non-causal bandpass filter:\n",
      "- Windowed time-domain design (firwin) method\n",
      "- Hamming window with 0.0194 passband ripple and 53 dB stopband attenuation\n",
      "- Lower passband edge: 1.00\n",
      "- Lower transition bandwidth: 1.00 Hz (-6 dB cutoff frequency: 0.50 Hz)\n",
      "- Upper passband edge: 3.00 Hz\n",
      "- Upper transition bandwidth: 2.00 Hz (-6 dB cutoff frequency: 4.00 Hz)\n",
      "- Filter length: 825 samples (3.300 s)\n",
      "\n"
     ]
    },
    {
     "name": "stderr",
     "output_type": "stream",
     "text": [
      "[Parallel(n_jobs=1)]: Done  17 tasks      | elapsed:    0.4s\n"
     ]
    },
    {
     "name": "stdout",
     "output_type": "stream",
     "text": [
      "Not setting metadata\n",
      "288 matching events found\n",
      "Setting baseline interval to [-0.3, 0.0] s\n",
      "Applying baseline correction (mode: mean)\n",
      "0 projection items activated\n",
      "Using data from preloaded Raw for 288 events and 1076 original time points ...\n",
      "0 bad epochs dropped\n",
      "  Filtering 2-5 Hz...\n",
      "Filtering raw data in 1 contiguous segment\n",
      "Setting up band-pass filter from 2 - 5 Hz\n",
      "\n",
      "FIR filter parameters\n",
      "---------------------\n",
      "Designing a one-pass, zero-phase, non-causal bandpass filter:\n",
      "- Windowed time-domain design (firwin) method\n",
      "- Hamming window with 0.0194 passband ripple and 53 dB stopband attenuation\n",
      "- Lower passband edge: 2.00\n",
      "- Lower transition bandwidth: 2.00 Hz (-6 dB cutoff frequency: 1.00 Hz)\n",
      "- Upper passband edge: 5.00 Hz\n",
      "- Upper transition bandwidth: 2.00 Hz (-6 dB cutoff frequency: 6.00 Hz)\n",
      "- Filter length: 413 samples (1.652 s)\n",
      "\n"
     ]
    },
    {
     "name": "stderr",
     "output_type": "stream",
     "text": [
      "[Parallel(n_jobs=1)]: Done  17 tasks      | elapsed:    0.4s\n"
     ]
    },
    {
     "name": "stdout",
     "output_type": "stream",
     "text": [
      "Not setting metadata\n",
      "288 matching events found\n",
      "Setting baseline interval to [-0.3, 0.0] s\n",
      "Applying baseline correction (mode: mean)\n",
      "0 projection items activated\n",
      "Using data from preloaded Raw for 288 events and 1076 original time points ...\n",
      "0 bad epochs dropped\n",
      "  Filtering 4-7 Hz...\n",
      "Filtering raw data in 1 contiguous segment\n",
      "Setting up band-pass filter from 4 - 7 Hz\n",
      "\n",
      "FIR filter parameters\n",
      "---------------------\n",
      "Designing a one-pass, zero-phase, non-causal bandpass filter:\n",
      "- Windowed time-domain design (firwin) method\n",
      "- Hamming window with 0.0194 passband ripple and 53 dB stopband attenuation\n",
      "- Lower passband edge: 4.00\n",
      "- Lower transition bandwidth: 2.00 Hz (-6 dB cutoff frequency: 3.00 Hz)\n",
      "- Upper passband edge: 7.00 Hz\n",
      "- Upper transition bandwidth: 2.00 Hz (-6 dB cutoff frequency: 8.00 Hz)\n",
      "- Filter length: 413 samples (1.652 s)\n",
      "\n"
     ]
    },
    {
     "name": "stderr",
     "output_type": "stream",
     "text": [
      "[Parallel(n_jobs=1)]: Done  17 tasks      | elapsed:    0.4s\n"
     ]
    },
    {
     "name": "stdout",
     "output_type": "stream",
     "text": [
      "Not setting metadata\n",
      "288 matching events found\n",
      "Setting baseline interval to [-0.3, 0.0] s\n",
      "Applying baseline correction (mode: mean)\n",
      "0 projection items activated\n",
      "Using data from preloaded Raw for 288 events and 1076 original time points ...\n",
      "0 bad epochs dropped\n",
      "  Filtering 6-10 Hz...\n",
      "Filtering raw data in 1 contiguous segment\n",
      "Setting up band-pass filter from 6 - 10 Hz\n",
      "\n",
      "FIR filter parameters\n",
      "---------------------\n",
      "Designing a one-pass, zero-phase, non-causal bandpass filter:\n",
      "- Windowed time-domain design (firwin) method\n",
      "- Hamming window with 0.0194 passband ripple and 53 dB stopband attenuation\n",
      "- Lower passband edge: 6.00\n",
      "- Lower transition bandwidth: 2.00 Hz (-6 dB cutoff frequency: 5.00 Hz)\n",
      "- Upper passband edge: 10.00 Hz\n",
      "- Upper transition bandwidth: 2.50 Hz (-6 dB cutoff frequency: 11.25 Hz)\n",
      "- Filter length: 413 samples (1.652 s)\n",
      "\n"
     ]
    },
    {
     "name": "stderr",
     "output_type": "stream",
     "text": [
      "[Parallel(n_jobs=1)]: Done  17 tasks      | elapsed:    0.4s\n"
     ]
    },
    {
     "name": "stdout",
     "output_type": "stream",
     "text": [
      "Not setting metadata\n",
      "288 matching events found\n",
      "Setting baseline interval to [-0.3, 0.0] s\n",
      "Applying baseline correction (mode: mean)\n",
      "0 projection items activated\n",
      "Using data from preloaded Raw for 288 events and 1076 original time points ...\n",
      "0 bad epochs dropped\n",
      "  Filtering 7-12 Hz...\n",
      "Filtering raw data in 1 contiguous segment\n",
      "Setting up band-pass filter from 7 - 12 Hz\n",
      "\n",
      "FIR filter parameters\n",
      "---------------------\n",
      "Designing a one-pass, zero-phase, non-causal bandpass filter:\n",
      "- Windowed time-domain design (firwin) method\n",
      "- Hamming window with 0.0194 passband ripple and 53 dB stopband attenuation\n",
      "- Lower passband edge: 7.00\n",
      "- Lower transition bandwidth: 2.00 Hz (-6 dB cutoff frequency: 6.00 Hz)\n",
      "- Upper passband edge: 12.00 Hz\n",
      "- Upper transition bandwidth: 3.00 Hz (-6 dB cutoff frequency: 13.50 Hz)\n",
      "- Filter length: 413 samples (1.652 s)\n",
      "\n"
     ]
    },
    {
     "name": "stderr",
     "output_type": "stream",
     "text": [
      "[Parallel(n_jobs=1)]: Done  17 tasks      | elapsed:    0.3s\n"
     ]
    },
    {
     "name": "stdout",
     "output_type": "stream",
     "text": [
      "Not setting metadata\n",
      "288 matching events found\n",
      "Setting baseline interval to [-0.3, 0.0] s\n",
      "Applying baseline correction (mode: mean)\n",
      "0 projection items activated\n",
      "Using data from preloaded Raw for 288 events and 1076 original time points ...\n",
      "0 bad epochs dropped\n",
      "  Filtering 10-15 Hz...\n",
      "Filtering raw data in 1 contiguous segment\n",
      "Setting up band-pass filter from 10 - 15 Hz\n",
      "\n",
      "FIR filter parameters\n",
      "---------------------\n",
      "Designing a one-pass, zero-phase, non-causal bandpass filter:\n",
      "- Windowed time-domain design (firwin) method\n",
      "- Hamming window with 0.0194 passband ripple and 53 dB stopband attenuation\n",
      "- Lower passband edge: 10.00\n",
      "- Lower transition bandwidth: 2.50 Hz (-6 dB cutoff frequency: 8.75 Hz)\n",
      "- Upper passband edge: 15.00 Hz\n",
      "- Upper transition bandwidth: 3.75 Hz (-6 dB cutoff frequency: 16.88 Hz)\n",
      "- Filter length: 331 samples (1.324 s)\n",
      "\n"
     ]
    },
    {
     "name": "stderr",
     "output_type": "stream",
     "text": [
      "[Parallel(n_jobs=1)]: Done  17 tasks      | elapsed:    0.3s\n"
     ]
    },
    {
     "name": "stdout",
     "output_type": "stream",
     "text": [
      "Not setting metadata\n",
      "288 matching events found\n",
      "Setting baseline interval to [-0.3, 0.0] s\n",
      "Applying baseline correction (mode: mean)\n",
      "0 projection items activated\n",
      "Using data from preloaded Raw for 288 events and 1076 original time points ...\n",
      "0 bad epochs dropped\n",
      "  Filtering 12-19 Hz...\n",
      "Filtering raw data in 1 contiguous segment\n",
      "Setting up band-pass filter from 12 - 19 Hz\n",
      "\n",
      "FIR filter parameters\n",
      "---------------------\n",
      "Designing a one-pass, zero-phase, non-causal bandpass filter:\n",
      "- Windowed time-domain design (firwin) method\n",
      "- Hamming window with 0.0194 passband ripple and 53 dB stopband attenuation\n",
      "- Lower passband edge: 12.00\n",
      "- Lower transition bandwidth: 3.00 Hz (-6 dB cutoff frequency: 10.50 Hz)\n",
      "- Upper passband edge: 19.00 Hz\n",
      "- Upper transition bandwidth: 4.75 Hz (-6 dB cutoff frequency: 21.38 Hz)\n",
      "- Filter length: 275 samples (1.100 s)\n",
      "\n"
     ]
    },
    {
     "name": "stderr",
     "output_type": "stream",
     "text": [
      "[Parallel(n_jobs=1)]: Done  17 tasks      | elapsed:    0.4s\n"
     ]
    },
    {
     "name": "stdout",
     "output_type": "stream",
     "text": [
      "Not setting metadata\n",
      "288 matching events found\n",
      "Setting baseline interval to [-0.3, 0.0] s\n",
      "Applying baseline correction (mode: mean)\n",
      "0 projection items activated\n",
      "Using data from preloaded Raw for 288 events and 1076 original time points ...\n",
      "0 bad epochs dropped\n",
      "  Filtering 15-25 Hz...\n",
      "Filtering raw data in 1 contiguous segment\n",
      "Setting up band-pass filter from 15 - 25 Hz\n",
      "\n",
      "FIR filter parameters\n",
      "---------------------\n",
      "Designing a one-pass, zero-phase, non-causal bandpass filter:\n",
      "- Windowed time-domain design (firwin) method\n",
      "- Hamming window with 0.0194 passband ripple and 53 dB stopband attenuation\n",
      "- Lower passband edge: 15.00\n",
      "- Lower transition bandwidth: 3.75 Hz (-6 dB cutoff frequency: 13.12 Hz)\n",
      "- Upper passband edge: 25.00 Hz\n",
      "- Upper transition bandwidth: 6.25 Hz (-6 dB cutoff frequency: 28.12 Hz)\n",
      "- Filter length: 221 samples (0.884 s)\n",
      "\n"
     ]
    },
    {
     "name": "stderr",
     "output_type": "stream",
     "text": [
      "[Parallel(n_jobs=1)]: Done  17 tasks      | elapsed:    0.4s\n"
     ]
    },
    {
     "name": "stdout",
     "output_type": "stream",
     "text": [
      "Not setting metadata\n",
      "288 matching events found\n",
      "Setting baseline interval to [-0.3, 0.0] s\n",
      "Applying baseline correction (mode: mean)\n",
      "0 projection items activated\n",
      "Using data from preloaded Raw for 288 events and 1076 original time points ...\n",
      "0 bad epochs dropped\n",
      "  Filtering 19-30 Hz...\n",
      "Filtering raw data in 1 contiguous segment\n",
      "Setting up band-pass filter from 19 - 30 Hz\n",
      "\n",
      "FIR filter parameters\n",
      "---------------------\n",
      "Designing a one-pass, zero-phase, non-causal bandpass filter:\n",
      "- Windowed time-domain design (firwin) method\n",
      "- Hamming window with 0.0194 passband ripple and 53 dB stopband attenuation\n",
      "- Lower passband edge: 19.00\n",
      "- Lower transition bandwidth: 4.75 Hz (-6 dB cutoff frequency: 16.62 Hz)\n",
      "- Upper passband edge: 30.00 Hz\n",
      "- Upper transition bandwidth: 7.50 Hz (-6 dB cutoff frequency: 33.75 Hz)\n",
      "- Filter length: 175 samples (0.700 s)\n",
      "\n"
     ]
    },
    {
     "name": "stderr",
     "output_type": "stream",
     "text": [
      "[Parallel(n_jobs=1)]: Done  17 tasks      | elapsed:    0.4s\n"
     ]
    },
    {
     "name": "stdout",
     "output_type": "stream",
     "text": [
      "Not setting metadata\n",
      "288 matching events found\n",
      "Setting baseline interval to [-0.3, 0.0] s\n",
      "Applying baseline correction (mode: mean)\n",
      "0 projection items activated\n",
      "Using data from preloaded Raw for 288 events and 1076 original time points ...\n",
      "0 bad epochs dropped\n",
      "  Filtering 25-35 Hz...\n",
      "Filtering raw data in 1 contiguous segment\n",
      "Setting up band-pass filter from 25 - 35 Hz\n",
      "\n",
      "FIR filter parameters\n",
      "---------------------\n",
      "Designing a one-pass, zero-phase, non-causal bandpass filter:\n",
      "- Windowed time-domain design (firwin) method\n",
      "- Hamming window with 0.0194 passband ripple and 53 dB stopband attenuation\n",
      "- Lower passband edge: 25.00\n",
      "- Lower transition bandwidth: 6.25 Hz (-6 dB cutoff frequency: 21.88 Hz)\n",
      "- Upper passband edge: 35.00 Hz\n",
      "- Upper transition bandwidth: 8.75 Hz (-6 dB cutoff frequency: 39.38 Hz)\n",
      "- Filter length: 133 samples (0.532 s)\n",
      "\n"
     ]
    },
    {
     "name": "stderr",
     "output_type": "stream",
     "text": [
      "[Parallel(n_jobs=1)]: Done  17 tasks      | elapsed:    0.7s\n"
     ]
    },
    {
     "name": "stdout",
     "output_type": "stream",
     "text": [
      "Not setting metadata\n",
      "288 matching events found\n",
      "Setting baseline interval to [-0.3, 0.0] s\n",
      "Applying baseline correction (mode: mean)\n",
      "0 projection items activated\n",
      "Using data from preloaded Raw for 288 events and 1076 original time points ...\n",
      "0 bad epochs dropped\n",
      "  Filtering 30-40 Hz...\n",
      "Filtering raw data in 1 contiguous segment\n",
      "Setting up band-pass filter from 30 - 40 Hz\n",
      "\n",
      "FIR filter parameters\n",
      "---------------------\n",
      "Designing a one-pass, zero-phase, non-causal bandpass filter:\n",
      "- Windowed time-domain design (firwin) method\n",
      "- Hamming window with 0.0194 passband ripple and 53 dB stopband attenuation\n",
      "- Lower passband edge: 30.00\n",
      "- Lower transition bandwidth: 7.50 Hz (-6 dB cutoff frequency: 26.25 Hz)\n",
      "- Upper passband edge: 40.00 Hz\n",
      "- Upper transition bandwidth: 10.00 Hz (-6 dB cutoff frequency: 45.00 Hz)\n",
      "- Filter length: 111 samples (0.444 s)\n",
      "\n"
     ]
    },
    {
     "name": "stderr",
     "output_type": "stream",
     "text": [
      "[Parallel(n_jobs=1)]: Done  17 tasks      | elapsed:    0.6s\n"
     ]
    },
    {
     "name": "stdout",
     "output_type": "stream",
     "text": [
      "Not setting metadata\n",
      "288 matching events found\n",
      "Setting baseline interval to [-0.3, 0.0] s\n",
      "Applying baseline correction (mode: mean)\n",
      "0 projection items activated\n",
      "Using data from preloaded Raw for 288 events and 1076 original time points ...\n",
      "0 bad epochs dropped\n",
      "\n",
      "Processing A02T.gdf...\n",
      "Extracting EDF parameters from C:\\Users\\hunte\\Documents\\COGS189-BCI-Competition-Project\\BCICIV_2a_gdf\\A02T.gdf...\n",
      "GDF file detected\n",
      "Setting channel info structure...\n",
      "Could not determine channel type of the following channels, they will be set as EEG:\n",
      "EEG-Fz, EEG, EEG, EEG, EEG, EEG, EEG, EEG-C3, EEG, EEG-Cz, EEG, EEG-C4, EEG, EEG, EEG, EEG, EEG, EEG, EEG, EEG-Pz, EEG, EEG, EOG-left, EOG-central, EOG-right\n",
      "Creating raw.info structure...\n",
      "Reading 0 ... 677168  =      0.000 ...  2708.672 secs...\n"
     ]
    },
    {
     "name": "stderr",
     "output_type": "stream",
     "text": [
      "c:\\Users\\hunte\\anaconda3\\envs\\CSE156\\Lib\\contextlib.py:144: RuntimeWarning: Channel names are not unique, found duplicates for: {'EEG'}. Applying running numbers for duplicates.\n",
      "  next(self.gen)\n"
     ]
    },
    {
     "name": "stdout",
     "output_type": "stream",
     "text": [
      "Used Annotations descriptions: ['1023', '1072', '276', '277', '32766', '768', '769', '770', '771', '772']\n",
      "  Filtering 1-3 Hz...\n",
      "Filtering raw data in 1 contiguous segment\n",
      "Setting up band-pass filter from 1 - 3 Hz\n",
      "\n",
      "FIR filter parameters\n",
      "---------------------\n",
      "Designing a one-pass, zero-phase, non-causal bandpass filter:\n",
      "- Windowed time-domain design (firwin) method\n",
      "- Hamming window with 0.0194 passband ripple and 53 dB stopband attenuation\n",
      "- Lower passband edge: 1.00\n",
      "- Lower transition bandwidth: 1.00 Hz (-6 dB cutoff frequency: 0.50 Hz)\n",
      "- Upper passband edge: 3.00 Hz\n",
      "- Upper transition bandwidth: 2.00 Hz (-6 dB cutoff frequency: 4.00 Hz)\n",
      "- Filter length: 825 samples (3.300 s)\n",
      "\n"
     ]
    },
    {
     "name": "stderr",
     "output_type": "stream",
     "text": [
      "[Parallel(n_jobs=1)]: Done  17 tasks      | elapsed:    0.3s\n"
     ]
    },
    {
     "name": "stdout",
     "output_type": "stream",
     "text": [
      "Not setting metadata\n",
      "288 matching events found\n",
      "Setting baseline interval to [-0.3, 0.0] s\n",
      "Applying baseline correction (mode: mean)\n",
      "0 projection items activated\n",
      "Using data from preloaded Raw for 288 events and 1076 original time points ...\n",
      "0 bad epochs dropped\n",
      "  Filtering 2-5 Hz...\n",
      "Filtering raw data in 1 contiguous segment\n",
      "Setting up band-pass filter from 2 - 5 Hz\n",
      "\n",
      "FIR filter parameters\n",
      "---------------------\n",
      "Designing a one-pass, zero-phase, non-causal bandpass filter:\n",
      "- Windowed time-domain design (firwin) method\n",
      "- Hamming window with 0.0194 passband ripple and 53 dB stopband attenuation\n",
      "- Lower passband edge: 2.00\n",
      "- Lower transition bandwidth: 2.00 Hz (-6 dB cutoff frequency: 1.00 Hz)\n",
      "- Upper passband edge: 5.00 Hz\n",
      "- Upper transition bandwidth: 2.00 Hz (-6 dB cutoff frequency: 6.00 Hz)\n",
      "- Filter length: 413 samples (1.652 s)\n",
      "\n"
     ]
    },
    {
     "name": "stderr",
     "output_type": "stream",
     "text": [
      "[Parallel(n_jobs=1)]: Done  17 tasks      | elapsed:    0.4s\n"
     ]
    },
    {
     "name": "stdout",
     "output_type": "stream",
     "text": [
      "Not setting metadata\n",
      "288 matching events found\n",
      "Setting baseline interval to [-0.3, 0.0] s\n",
      "Applying baseline correction (mode: mean)\n",
      "0 projection items activated\n",
      "Using data from preloaded Raw for 288 events and 1076 original time points ...\n",
      "0 bad epochs dropped\n",
      "  Filtering 4-7 Hz...\n",
      "Filtering raw data in 1 contiguous segment\n",
      "Setting up band-pass filter from 4 - 7 Hz\n",
      "\n",
      "FIR filter parameters\n",
      "---------------------\n",
      "Designing a one-pass, zero-phase, non-causal bandpass filter:\n",
      "- Windowed time-domain design (firwin) method\n",
      "- Hamming window with 0.0194 passband ripple and 53 dB stopband attenuation\n",
      "- Lower passband edge: 4.00\n",
      "- Lower transition bandwidth: 2.00 Hz (-6 dB cutoff frequency: 3.00 Hz)\n",
      "- Upper passband edge: 7.00 Hz\n",
      "- Upper transition bandwidth: 2.00 Hz (-6 dB cutoff frequency: 8.00 Hz)\n",
      "- Filter length: 413 samples (1.652 s)\n",
      "\n"
     ]
    },
    {
     "name": "stderr",
     "output_type": "stream",
     "text": [
      "[Parallel(n_jobs=1)]: Done  17 tasks      | elapsed:    0.3s\n"
     ]
    },
    {
     "name": "stdout",
     "output_type": "stream",
     "text": [
      "Not setting metadata\n",
      "288 matching events found\n",
      "Setting baseline interval to [-0.3, 0.0] s\n",
      "Applying baseline correction (mode: mean)\n",
      "0 projection items activated\n",
      "Using data from preloaded Raw for 288 events and 1076 original time points ...\n",
      "0 bad epochs dropped\n",
      "  Filtering 6-10 Hz...\n",
      "Filtering raw data in 1 contiguous segment\n",
      "Setting up band-pass filter from 6 - 10 Hz\n",
      "\n",
      "FIR filter parameters\n",
      "---------------------\n",
      "Designing a one-pass, zero-phase, non-causal bandpass filter:\n",
      "- Windowed time-domain design (firwin) method\n",
      "- Hamming window with 0.0194 passband ripple and 53 dB stopband attenuation\n",
      "- Lower passband edge: 6.00\n",
      "- Lower transition bandwidth: 2.00 Hz (-6 dB cutoff frequency: 5.00 Hz)\n",
      "- Upper passband edge: 10.00 Hz\n",
      "- Upper transition bandwidth: 2.50 Hz (-6 dB cutoff frequency: 11.25 Hz)\n",
      "- Filter length: 413 samples (1.652 s)\n",
      "\n"
     ]
    },
    {
     "name": "stderr",
     "output_type": "stream",
     "text": [
      "[Parallel(n_jobs=1)]: Done  17 tasks      | elapsed:    0.3s\n"
     ]
    },
    {
     "name": "stdout",
     "output_type": "stream",
     "text": [
      "Not setting metadata\n",
      "288 matching events found\n",
      "Setting baseline interval to [-0.3, 0.0] s\n",
      "Applying baseline correction (mode: mean)\n",
      "0 projection items activated\n",
      "Using data from preloaded Raw for 288 events and 1076 original time points ...\n",
      "0 bad epochs dropped\n",
      "  Filtering 7-12 Hz...\n",
      "Filtering raw data in 1 contiguous segment\n",
      "Setting up band-pass filter from 7 - 12 Hz\n",
      "\n",
      "FIR filter parameters\n",
      "---------------------\n",
      "Designing a one-pass, zero-phase, non-causal bandpass filter:\n",
      "- Windowed time-domain design (firwin) method\n",
      "- Hamming window with 0.0194 passband ripple and 53 dB stopband attenuation\n",
      "- Lower passband edge: 7.00\n",
      "- Lower transition bandwidth: 2.00 Hz (-6 dB cutoff frequency: 6.00 Hz)\n",
      "- Upper passband edge: 12.00 Hz\n",
      "- Upper transition bandwidth: 3.00 Hz (-6 dB cutoff frequency: 13.50 Hz)\n",
      "- Filter length: 413 samples (1.652 s)\n",
      "\n"
     ]
    },
    {
     "name": "stderr",
     "output_type": "stream",
     "text": [
      "[Parallel(n_jobs=1)]: Done  17 tasks      | elapsed:    0.5s\n"
     ]
    },
    {
     "name": "stdout",
     "output_type": "stream",
     "text": [
      "Not setting metadata\n",
      "288 matching events found\n",
      "Setting baseline interval to [-0.3, 0.0] s\n",
      "Applying baseline correction (mode: mean)\n",
      "0 projection items activated\n",
      "Using data from preloaded Raw for 288 events and 1076 original time points ...\n",
      "0 bad epochs dropped\n",
      "  Filtering 10-15 Hz...\n",
      "Filtering raw data in 1 contiguous segment\n",
      "Setting up band-pass filter from 10 - 15 Hz\n",
      "\n",
      "FIR filter parameters\n",
      "---------------------\n",
      "Designing a one-pass, zero-phase, non-causal bandpass filter:\n",
      "- Windowed time-domain design (firwin) method\n",
      "- Hamming window with 0.0194 passband ripple and 53 dB stopband attenuation\n",
      "- Lower passband edge: 10.00\n",
      "- Lower transition bandwidth: 2.50 Hz (-6 dB cutoff frequency: 8.75 Hz)\n",
      "- Upper passband edge: 15.00 Hz\n",
      "- Upper transition bandwidth: 3.75 Hz (-6 dB cutoff frequency: 16.88 Hz)\n",
      "- Filter length: 331 samples (1.324 s)\n",
      "\n",
      "Not setting metadata\n"
     ]
    },
    {
     "name": "stderr",
     "output_type": "stream",
     "text": [
      "[Parallel(n_jobs=1)]: Done  17 tasks      | elapsed:    0.3s\n"
     ]
    },
    {
     "name": "stdout",
     "output_type": "stream",
     "text": [
      "288 matching events found\n",
      "Setting baseline interval to [-0.3, 0.0] s\n",
      "Applying baseline correction (mode: mean)\n",
      "0 projection items activated\n",
      "Using data from preloaded Raw for 288 events and 1076 original time points ...\n",
      "0 bad epochs dropped\n",
      "  Filtering 12-19 Hz...\n",
      "Filtering raw data in 1 contiguous segment\n",
      "Setting up band-pass filter from 12 - 19 Hz\n",
      "\n",
      "FIR filter parameters\n",
      "---------------------\n",
      "Designing a one-pass, zero-phase, non-causal bandpass filter:\n",
      "- Windowed time-domain design (firwin) method\n",
      "- Hamming window with 0.0194 passband ripple and 53 dB stopband attenuation\n",
      "- Lower passband edge: 12.00\n",
      "- Lower transition bandwidth: 3.00 Hz (-6 dB cutoff frequency: 10.50 Hz)\n",
      "- Upper passband edge: 19.00 Hz\n",
      "- Upper transition bandwidth: 4.75 Hz (-6 dB cutoff frequency: 21.38 Hz)\n",
      "- Filter length: 275 samples (1.100 s)\n",
      "\n",
      "Not setting metadata\n"
     ]
    },
    {
     "name": "stderr",
     "output_type": "stream",
     "text": [
      "[Parallel(n_jobs=1)]: Done  17 tasks      | elapsed:    0.3s\n"
     ]
    },
    {
     "name": "stdout",
     "output_type": "stream",
     "text": [
      "288 matching events found\n",
      "Setting baseline interval to [-0.3, 0.0] s\n",
      "Applying baseline correction (mode: mean)\n",
      "0 projection items activated\n",
      "Using data from preloaded Raw for 288 events and 1076 original time points ...\n",
      "0 bad epochs dropped\n",
      "  Filtering 15-25 Hz...\n",
      "Filtering raw data in 1 contiguous segment\n",
      "Setting up band-pass filter from 15 - 25 Hz\n",
      "\n",
      "FIR filter parameters\n",
      "---------------------\n",
      "Designing a one-pass, zero-phase, non-causal bandpass filter:\n",
      "- Windowed time-domain design (firwin) method\n",
      "- Hamming window with 0.0194 passband ripple and 53 dB stopband attenuation\n",
      "- Lower passband edge: 15.00\n",
      "- Lower transition bandwidth: 3.75 Hz (-6 dB cutoff frequency: 13.12 Hz)\n",
      "- Upper passband edge: 25.00 Hz\n",
      "- Upper transition bandwidth: 6.25 Hz (-6 dB cutoff frequency: 28.12 Hz)\n",
      "- Filter length: 221 samples (0.884 s)\n",
      "\n"
     ]
    },
    {
     "name": "stderr",
     "output_type": "stream",
     "text": [
      "[Parallel(n_jobs=1)]: Done  17 tasks      | elapsed:    0.4s\n"
     ]
    },
    {
     "name": "stdout",
     "output_type": "stream",
     "text": [
      "Not setting metadata\n",
      "288 matching events found\n",
      "Setting baseline interval to [-0.3, 0.0] s\n",
      "Applying baseline correction (mode: mean)\n",
      "0 projection items activated\n",
      "Using data from preloaded Raw for 288 events and 1076 original time points ...\n",
      "0 bad epochs dropped\n",
      "  Filtering 19-30 Hz...\n",
      "Filtering raw data in 1 contiguous segment\n",
      "Setting up band-pass filter from 19 - 30 Hz\n",
      "\n",
      "FIR filter parameters\n",
      "---------------------\n",
      "Designing a one-pass, zero-phase, non-causal bandpass filter:\n",
      "- Windowed time-domain design (firwin) method\n",
      "- Hamming window with 0.0194 passband ripple and 53 dB stopband attenuation\n",
      "- Lower passband edge: 19.00\n",
      "- Lower transition bandwidth: 4.75 Hz (-6 dB cutoff frequency: 16.62 Hz)\n",
      "- Upper passband edge: 30.00 Hz\n",
      "- Upper transition bandwidth: 7.50 Hz (-6 dB cutoff frequency: 33.75 Hz)\n",
      "- Filter length: 175 samples (0.700 s)\n",
      "\n"
     ]
    },
    {
     "name": "stderr",
     "output_type": "stream",
     "text": [
      "[Parallel(n_jobs=1)]: Done  17 tasks      | elapsed:    0.3s\n"
     ]
    },
    {
     "name": "stdout",
     "output_type": "stream",
     "text": [
      "Not setting metadata\n",
      "288 matching events found\n",
      "Setting baseline interval to [-0.3, 0.0] s\n",
      "Applying baseline correction (mode: mean)\n",
      "0 projection items activated\n",
      "Using data from preloaded Raw for 288 events and 1076 original time points ...\n",
      "0 bad epochs dropped\n",
      "  Filtering 25-35 Hz...\n",
      "Filtering raw data in 1 contiguous segment\n",
      "Setting up band-pass filter from 25 - 35 Hz\n",
      "\n",
      "FIR filter parameters\n",
      "---------------------\n",
      "Designing a one-pass, zero-phase, non-causal bandpass filter:\n",
      "- Windowed time-domain design (firwin) method\n",
      "- Hamming window with 0.0194 passband ripple and 53 dB stopband attenuation\n",
      "- Lower passband edge: 25.00\n",
      "- Lower transition bandwidth: 6.25 Hz (-6 dB cutoff frequency: 21.88 Hz)\n",
      "- Upper passband edge: 35.00 Hz\n",
      "- Upper transition bandwidth: 8.75 Hz (-6 dB cutoff frequency: 39.38 Hz)\n",
      "- Filter length: 133 samples (0.532 s)\n",
      "\n"
     ]
    },
    {
     "name": "stderr",
     "output_type": "stream",
     "text": [
      "[Parallel(n_jobs=1)]: Done  17 tasks      | elapsed:    0.5s\n"
     ]
    },
    {
     "name": "stdout",
     "output_type": "stream",
     "text": [
      "Not setting metadata\n",
      "288 matching events found\n",
      "Setting baseline interval to [-0.3, 0.0] s\n",
      "Applying baseline correction (mode: mean)\n",
      "0 projection items activated\n",
      "Using data from preloaded Raw for 288 events and 1076 original time points ...\n",
      "0 bad epochs dropped\n",
      "  Filtering 30-40 Hz...\n",
      "Filtering raw data in 1 contiguous segment\n",
      "Setting up band-pass filter from 30 - 40 Hz\n",
      "\n",
      "FIR filter parameters\n",
      "---------------------\n",
      "Designing a one-pass, zero-phase, non-causal bandpass filter:\n",
      "- Windowed time-domain design (firwin) method\n",
      "- Hamming window with 0.0194 passband ripple and 53 dB stopband attenuation\n",
      "- Lower passband edge: 30.00\n",
      "- Lower transition bandwidth: 7.50 Hz (-6 dB cutoff frequency: 26.25 Hz)\n",
      "- Upper passband edge: 40.00 Hz\n",
      "- Upper transition bandwidth: 10.00 Hz (-6 dB cutoff frequency: 45.00 Hz)\n",
      "- Filter length: 111 samples (0.444 s)\n",
      "\n"
     ]
    },
    {
     "name": "stderr",
     "output_type": "stream",
     "text": [
      "[Parallel(n_jobs=1)]: Done  17 tasks      | elapsed:    0.5s\n"
     ]
    },
    {
     "name": "stdout",
     "output_type": "stream",
     "text": [
      "Not setting metadata\n",
      "288 matching events found\n",
      "Setting baseline interval to [-0.3, 0.0] s\n",
      "Applying baseline correction (mode: mean)\n",
      "0 projection items activated\n",
      "Using data from preloaded Raw for 288 events and 1076 original time points ...\n",
      "0 bad epochs dropped\n",
      "\n",
      "Processing A03T.gdf...\n",
      "Extracting EDF parameters from C:\\Users\\hunte\\Documents\\COGS189-BCI-Competition-Project\\BCICIV_2a_gdf\\A03T.gdf...\n",
      "GDF file detected\n",
      "Setting channel info structure...\n",
      "Could not determine channel type of the following channels, they will be set as EEG:\n",
      "EEG-Fz, EEG, EEG, EEG, EEG, EEG, EEG, EEG-C3, EEG, EEG-Cz, EEG, EEG-C4, EEG, EEG, EEG, EEG, EEG, EEG, EEG, EEG-Pz, EEG, EEG, EOG-left, EOG-central, EOG-right\n",
      "Creating raw.info structure...\n",
      "Reading 0 ... 660529  =      0.000 ...  2642.116 secs...\n"
     ]
    },
    {
     "name": "stderr",
     "output_type": "stream",
     "text": [
      "c:\\Users\\hunte\\anaconda3\\envs\\CSE156\\Lib\\contextlib.py:144: RuntimeWarning: Channel names are not unique, found duplicates for: {'EEG'}. Applying running numbers for duplicates.\n",
      "  next(self.gen)\n"
     ]
    },
    {
     "name": "stdout",
     "output_type": "stream",
     "text": [
      "Used Annotations descriptions: ['1023', '1072', '276', '277', '32766', '768', '769', '770', '771', '772']\n",
      "  Filtering 1-3 Hz...\n",
      "Filtering raw data in 1 contiguous segment\n",
      "Setting up band-pass filter from 1 - 3 Hz\n",
      "\n",
      "FIR filter parameters\n",
      "---------------------\n",
      "Designing a one-pass, zero-phase, non-causal bandpass filter:\n",
      "- Windowed time-domain design (firwin) method\n",
      "- Hamming window with 0.0194 passband ripple and 53 dB stopband attenuation\n",
      "- Lower passband edge: 1.00\n",
      "- Lower transition bandwidth: 1.00 Hz (-6 dB cutoff frequency: 0.50 Hz)\n",
      "- Upper passband edge: 3.00 Hz\n",
      "- Upper transition bandwidth: 2.00 Hz (-6 dB cutoff frequency: 4.00 Hz)\n",
      "- Filter length: 825 samples (3.300 s)\n",
      "\n"
     ]
    },
    {
     "name": "stderr",
     "output_type": "stream",
     "text": [
      "[Parallel(n_jobs=1)]: Done  17 tasks      | elapsed:    0.3s\n"
     ]
    },
    {
     "name": "stdout",
     "output_type": "stream",
     "text": [
      "Not setting metadata\n",
      "288 matching events found\n",
      "Setting baseline interval to [-0.3, 0.0] s\n",
      "Applying baseline correction (mode: mean)\n",
      "0 projection items activated\n",
      "Using data from preloaded Raw for 288 events and 1076 original time points ...\n",
      "0 bad epochs dropped\n",
      "  Filtering 2-5 Hz...\n",
      "Filtering raw data in 1 contiguous segment\n",
      "Setting up band-pass filter from 2 - 5 Hz\n",
      "\n",
      "FIR filter parameters\n",
      "---------------------\n",
      "Designing a one-pass, zero-phase, non-causal bandpass filter:\n",
      "- Windowed time-domain design (firwin) method\n",
      "- Hamming window with 0.0194 passband ripple and 53 dB stopband attenuation\n",
      "- Lower passband edge: 2.00\n",
      "- Lower transition bandwidth: 2.00 Hz (-6 dB cutoff frequency: 1.00 Hz)\n",
      "- Upper passband edge: 5.00 Hz\n",
      "- Upper transition bandwidth: 2.00 Hz (-6 dB cutoff frequency: 6.00 Hz)\n",
      "- Filter length: 413 samples (1.652 s)\n",
      "\n"
     ]
    },
    {
     "name": "stderr",
     "output_type": "stream",
     "text": [
      "[Parallel(n_jobs=1)]: Done  17 tasks      | elapsed:    0.3s\n"
     ]
    },
    {
     "name": "stdout",
     "output_type": "stream",
     "text": [
      "Not setting metadata\n",
      "288 matching events found\n",
      "Setting baseline interval to [-0.3, 0.0] s\n",
      "Applying baseline correction (mode: mean)\n",
      "0 projection items activated\n",
      "Using data from preloaded Raw for 288 events and 1076 original time points ...\n",
      "0 bad epochs dropped\n",
      "  Filtering 4-7 Hz...\n",
      "Filtering raw data in 1 contiguous segment\n",
      "Setting up band-pass filter from 4 - 7 Hz\n",
      "\n",
      "FIR filter parameters\n",
      "---------------------\n",
      "Designing a one-pass, zero-phase, non-causal bandpass filter:\n",
      "- Windowed time-domain design (firwin) method\n",
      "- Hamming window with 0.0194 passband ripple and 53 dB stopband attenuation\n",
      "- Lower passband edge: 4.00\n",
      "- Lower transition bandwidth: 2.00 Hz (-6 dB cutoff frequency: 3.00 Hz)\n",
      "- Upper passband edge: 7.00 Hz\n",
      "- Upper transition bandwidth: 2.00 Hz (-6 dB cutoff frequency: 8.00 Hz)\n",
      "- Filter length: 413 samples (1.652 s)\n",
      "\n",
      "Not setting metadata\n"
     ]
    },
    {
     "name": "stderr",
     "output_type": "stream",
     "text": [
      "[Parallel(n_jobs=1)]: Done  17 tasks      | elapsed:    0.3s\n"
     ]
    },
    {
     "name": "stdout",
     "output_type": "stream",
     "text": [
      "288 matching events found\n",
      "Setting baseline interval to [-0.3, 0.0] s\n",
      "Applying baseline correction (mode: mean)\n",
      "0 projection items activated\n",
      "Using data from preloaded Raw for 288 events and 1076 original time points ...\n",
      "0 bad epochs dropped\n",
      "  Filtering 6-10 Hz...\n",
      "Filtering raw data in 1 contiguous segment\n",
      "Setting up band-pass filter from 6 - 10 Hz\n",
      "\n",
      "FIR filter parameters\n",
      "---------------------\n",
      "Designing a one-pass, zero-phase, non-causal bandpass filter:\n",
      "- Windowed time-domain design (firwin) method\n",
      "- Hamming window with 0.0194 passband ripple and 53 dB stopband attenuation\n",
      "- Lower passband edge: 6.00\n",
      "- Lower transition bandwidth: 2.00 Hz (-6 dB cutoff frequency: 5.00 Hz)\n",
      "- Upper passband edge: 10.00 Hz\n",
      "- Upper transition bandwidth: 2.50 Hz (-6 dB cutoff frequency: 11.25 Hz)\n",
      "- Filter length: 413 samples (1.652 s)\n",
      "\n",
      "Not setting metadata\n"
     ]
    },
    {
     "name": "stderr",
     "output_type": "stream",
     "text": [
      "[Parallel(n_jobs=1)]: Done  17 tasks      | elapsed:    0.3s\n"
     ]
    },
    {
     "name": "stdout",
     "output_type": "stream",
     "text": [
      "288 matching events found\n",
      "Setting baseline interval to [-0.3, 0.0] s\n",
      "Applying baseline correction (mode: mean)\n",
      "0 projection items activated\n",
      "Using data from preloaded Raw for 288 events and 1076 original time points ...\n",
      "0 bad epochs dropped\n",
      "  Filtering 7-12 Hz...\n",
      "Filtering raw data in 1 contiguous segment\n",
      "Setting up band-pass filter from 7 - 12 Hz\n",
      "\n",
      "FIR filter parameters\n",
      "---------------------\n",
      "Designing a one-pass, zero-phase, non-causal bandpass filter:\n",
      "- Windowed time-domain design (firwin) method\n",
      "- Hamming window with 0.0194 passband ripple and 53 dB stopband attenuation\n",
      "- Lower passband edge: 7.00\n",
      "- Lower transition bandwidth: 2.00 Hz (-6 dB cutoff frequency: 6.00 Hz)\n",
      "- Upper passband edge: 12.00 Hz\n",
      "- Upper transition bandwidth: 3.00 Hz (-6 dB cutoff frequency: 13.50 Hz)\n",
      "- Filter length: 413 samples (1.652 s)\n",
      "\n",
      "Not setting metadata\n"
     ]
    },
    {
     "name": "stderr",
     "output_type": "stream",
     "text": [
      "[Parallel(n_jobs=1)]: Done  17 tasks      | elapsed:    0.3s\n"
     ]
    },
    {
     "name": "stdout",
     "output_type": "stream",
     "text": [
      "288 matching events found\n",
      "Setting baseline interval to [-0.3, 0.0] s\n",
      "Applying baseline correction (mode: mean)\n",
      "0 projection items activated\n",
      "Using data from preloaded Raw for 288 events and 1076 original time points ...\n",
      "0 bad epochs dropped\n",
      "  Filtering 10-15 Hz...\n",
      "Filtering raw data in 1 contiguous segment\n",
      "Setting up band-pass filter from 10 - 15 Hz\n",
      "\n",
      "FIR filter parameters\n",
      "---------------------\n",
      "Designing a one-pass, zero-phase, non-causal bandpass filter:\n",
      "- Windowed time-domain design (firwin) method\n",
      "- Hamming window with 0.0194 passband ripple and 53 dB stopband attenuation\n",
      "- Lower passband edge: 10.00\n",
      "- Lower transition bandwidth: 2.50 Hz (-6 dB cutoff frequency: 8.75 Hz)\n",
      "- Upper passband edge: 15.00 Hz\n",
      "- Upper transition bandwidth: 3.75 Hz (-6 dB cutoff frequency: 16.88 Hz)\n",
      "- Filter length: 331 samples (1.324 s)\n",
      "\n",
      "Not setting metadata\n"
     ]
    },
    {
     "name": "stderr",
     "output_type": "stream",
     "text": [
      "[Parallel(n_jobs=1)]: Done  17 tasks      | elapsed:    0.3s\n"
     ]
    },
    {
     "name": "stdout",
     "output_type": "stream",
     "text": [
      "288 matching events found\n",
      "Setting baseline interval to [-0.3, 0.0] s\n",
      "Applying baseline correction (mode: mean)\n",
      "0 projection items activated\n",
      "Using data from preloaded Raw for 288 events and 1076 original time points ...\n",
      "0 bad epochs dropped\n",
      "  Filtering 12-19 Hz...\n",
      "Filtering raw data in 1 contiguous segment\n",
      "Setting up band-pass filter from 12 - 19 Hz\n",
      "\n",
      "FIR filter parameters\n",
      "---------------------\n",
      "Designing a one-pass, zero-phase, non-causal bandpass filter:\n",
      "- Windowed time-domain design (firwin) method\n",
      "- Hamming window with 0.0194 passband ripple and 53 dB stopband attenuation\n",
      "- Lower passband edge: 12.00\n",
      "- Lower transition bandwidth: 3.00 Hz (-6 dB cutoff frequency: 10.50 Hz)\n",
      "- Upper passband edge: 19.00 Hz\n",
      "- Upper transition bandwidth: 4.75 Hz (-6 dB cutoff frequency: 21.38 Hz)\n",
      "- Filter length: 275 samples (1.100 s)\n",
      "\n"
     ]
    },
    {
     "name": "stderr",
     "output_type": "stream",
     "text": [
      "[Parallel(n_jobs=1)]: Done  17 tasks      | elapsed:    0.4s\n"
     ]
    },
    {
     "name": "stdout",
     "output_type": "stream",
     "text": [
      "Not setting metadata\n",
      "288 matching events found\n",
      "Setting baseline interval to [-0.3, 0.0] s\n",
      "Applying baseline correction (mode: mean)\n",
      "0 projection items activated\n",
      "Using data from preloaded Raw for 288 events and 1076 original time points ...\n",
      "0 bad epochs dropped\n",
      "  Filtering 15-25 Hz...\n",
      "Filtering raw data in 1 contiguous segment\n",
      "Setting up band-pass filter from 15 - 25 Hz\n",
      "\n",
      "FIR filter parameters\n",
      "---------------------\n",
      "Designing a one-pass, zero-phase, non-causal bandpass filter:\n",
      "- Windowed time-domain design (firwin) method\n",
      "- Hamming window with 0.0194 passband ripple and 53 dB stopband attenuation\n",
      "- Lower passband edge: 15.00\n",
      "- Lower transition bandwidth: 3.75 Hz (-6 dB cutoff frequency: 13.12 Hz)\n",
      "- Upper passband edge: 25.00 Hz\n",
      "- Upper transition bandwidth: 6.25 Hz (-6 dB cutoff frequency: 28.12 Hz)\n",
      "- Filter length: 221 samples (0.884 s)\n",
      "\n"
     ]
    },
    {
     "name": "stderr",
     "output_type": "stream",
     "text": [
      "[Parallel(n_jobs=1)]: Done  17 tasks      | elapsed:    0.3s\n"
     ]
    },
    {
     "name": "stdout",
     "output_type": "stream",
     "text": [
      "Not setting metadata\n",
      "288 matching events found\n",
      "Setting baseline interval to [-0.3, 0.0] s\n",
      "Applying baseline correction (mode: mean)\n",
      "0 projection items activated\n",
      "Using data from preloaded Raw for 288 events and 1076 original time points ...\n",
      "0 bad epochs dropped\n",
      "  Filtering 19-30 Hz...\n",
      "Filtering raw data in 1 contiguous segment\n",
      "Setting up band-pass filter from 19 - 30 Hz\n",
      "\n",
      "FIR filter parameters\n",
      "---------------------\n",
      "Designing a one-pass, zero-phase, non-causal bandpass filter:\n",
      "- Windowed time-domain design (firwin) method\n",
      "- Hamming window with 0.0194 passband ripple and 53 dB stopband attenuation\n",
      "- Lower passband edge: 19.00\n",
      "- Lower transition bandwidth: 4.75 Hz (-6 dB cutoff frequency: 16.62 Hz)\n",
      "- Upper passband edge: 30.00 Hz\n",
      "- Upper transition bandwidth: 7.50 Hz (-6 dB cutoff frequency: 33.75 Hz)\n",
      "- Filter length: 175 samples (0.700 s)\n",
      "\n"
     ]
    },
    {
     "name": "stderr",
     "output_type": "stream",
     "text": [
      "[Parallel(n_jobs=1)]: Done  17 tasks      | elapsed:    0.4s\n"
     ]
    },
    {
     "name": "stdout",
     "output_type": "stream",
     "text": [
      "Not setting metadata\n",
      "288 matching events found\n",
      "Setting baseline interval to [-0.3, 0.0] s\n",
      "Applying baseline correction (mode: mean)\n",
      "0 projection items activated\n",
      "Using data from preloaded Raw for 288 events and 1076 original time points ...\n",
      "0 bad epochs dropped\n",
      "  Filtering 25-35 Hz...\n",
      "Filtering raw data in 1 contiguous segment\n",
      "Setting up band-pass filter from 25 - 35 Hz\n",
      "\n",
      "FIR filter parameters\n",
      "---------------------\n",
      "Designing a one-pass, zero-phase, non-causal bandpass filter:\n",
      "- Windowed time-domain design (firwin) method\n",
      "- Hamming window with 0.0194 passband ripple and 53 dB stopband attenuation\n",
      "- Lower passband edge: 25.00\n",
      "- Lower transition bandwidth: 6.25 Hz (-6 dB cutoff frequency: 21.88 Hz)\n",
      "- Upper passband edge: 35.00 Hz\n",
      "- Upper transition bandwidth: 8.75 Hz (-6 dB cutoff frequency: 39.38 Hz)\n",
      "- Filter length: 133 samples (0.532 s)\n",
      "\n"
     ]
    },
    {
     "name": "stderr",
     "output_type": "stream",
     "text": [
      "[Parallel(n_jobs=1)]: Done  17 tasks      | elapsed:    0.5s\n"
     ]
    },
    {
     "name": "stdout",
     "output_type": "stream",
     "text": [
      "Not setting metadata\n",
      "288 matching events found\n",
      "Setting baseline interval to [-0.3, 0.0] s\n",
      "Applying baseline correction (mode: mean)\n",
      "0 projection items activated\n",
      "Using data from preloaded Raw for 288 events and 1076 original time points ...\n",
      "0 bad epochs dropped\n",
      "  Filtering 30-40 Hz...\n",
      "Filtering raw data in 1 contiguous segment\n",
      "Setting up band-pass filter from 30 - 40 Hz\n",
      "\n",
      "FIR filter parameters\n",
      "---------------------\n",
      "Designing a one-pass, zero-phase, non-causal bandpass filter:\n",
      "- Windowed time-domain design (firwin) method\n",
      "- Hamming window with 0.0194 passband ripple and 53 dB stopband attenuation\n",
      "- Lower passband edge: 30.00\n",
      "- Lower transition bandwidth: 7.50 Hz (-6 dB cutoff frequency: 26.25 Hz)\n",
      "- Upper passband edge: 40.00 Hz\n",
      "- Upper transition bandwidth: 10.00 Hz (-6 dB cutoff frequency: 45.00 Hz)\n",
      "- Filter length: 111 samples (0.444 s)\n",
      "\n"
     ]
    },
    {
     "name": "stderr",
     "output_type": "stream",
     "text": [
      "[Parallel(n_jobs=1)]: Done  17 tasks      | elapsed:    0.5s\n"
     ]
    },
    {
     "name": "stdout",
     "output_type": "stream",
     "text": [
      "Not setting metadata\n",
      "288 matching events found\n",
      "Setting baseline interval to [-0.3, 0.0] s\n",
      "Applying baseline correction (mode: mean)\n",
      "0 projection items activated\n",
      "Using data from preloaded Raw for 288 events and 1076 original time points ...\n",
      "0 bad epochs dropped\n",
      "\n",
      "Processing A05T.gdf...\n",
      "Extracting EDF parameters from C:\\Users\\hunte\\Documents\\COGS189-BCI-Competition-Project\\BCICIV_2a_gdf\\A05T.gdf...\n",
      "GDF file detected\n",
      "Setting channel info structure...\n",
      "Could not determine channel type of the following channels, they will be set as EEG:\n",
      "EEG-Fz, EEG, EEG, EEG, EEG, EEG, EEG, EEG-C3, EEG, EEG-Cz, EEG, EEG-C4, EEG, EEG, EEG, EEG, EEG, EEG, EEG, EEG-Pz, EEG, EEG, EOG-left, EOG-central, EOG-right\n",
      "Creating raw.info structure...\n",
      "Reading 0 ... 686119  =      0.000 ...  2744.476 secs...\n"
     ]
    },
    {
     "name": "stderr",
     "output_type": "stream",
     "text": [
      "c:\\Users\\hunte\\anaconda3\\envs\\CSE156\\Lib\\contextlib.py:144: RuntimeWarning: Channel names are not unique, found duplicates for: {'EEG'}. Applying running numbers for duplicates.\n",
      "  next(self.gen)\n"
     ]
    },
    {
     "name": "stdout",
     "output_type": "stream",
     "text": [
      "Used Annotations descriptions: ['1023', '1072', '276', '277', '32766', '768', '769', '770', '771', '772']\n",
      "  Filtering 1-3 Hz...\n",
      "Filtering raw data in 1 contiguous segment\n",
      "Setting up band-pass filter from 1 - 3 Hz\n",
      "\n",
      "FIR filter parameters\n",
      "---------------------\n",
      "Designing a one-pass, zero-phase, non-causal bandpass filter:\n",
      "- Windowed time-domain design (firwin) method\n",
      "- Hamming window with 0.0194 passband ripple and 53 dB stopband attenuation\n",
      "- Lower passband edge: 1.00\n",
      "- Lower transition bandwidth: 1.00 Hz (-6 dB cutoff frequency: 0.50 Hz)\n",
      "- Upper passband edge: 3.00 Hz\n",
      "- Upper transition bandwidth: 2.00 Hz (-6 dB cutoff frequency: 4.00 Hz)\n",
      "- Filter length: 825 samples (3.300 s)\n",
      "\n"
     ]
    },
    {
     "name": "stderr",
     "output_type": "stream",
     "text": [
      "[Parallel(n_jobs=1)]: Done  17 tasks      | elapsed:    0.3s\n"
     ]
    },
    {
     "name": "stdout",
     "output_type": "stream",
     "text": [
      "Not setting metadata\n",
      "288 matching events found\n",
      "Setting baseline interval to [-0.3, 0.0] s\n",
      "Applying baseline correction (mode: mean)\n",
      "0 projection items activated\n",
      "Using data from preloaded Raw for 288 events and 1076 original time points ...\n",
      "0 bad epochs dropped\n",
      "  Filtering 2-5 Hz...\n",
      "Filtering raw data in 1 contiguous segment\n",
      "Setting up band-pass filter from 2 - 5 Hz\n",
      "\n",
      "FIR filter parameters\n",
      "---------------------\n",
      "Designing a one-pass, zero-phase, non-causal bandpass filter:\n",
      "- Windowed time-domain design (firwin) method\n",
      "- Hamming window with 0.0194 passband ripple and 53 dB stopband attenuation\n",
      "- Lower passband edge: 2.00\n",
      "- Lower transition bandwidth: 2.00 Hz (-6 dB cutoff frequency: 1.00 Hz)\n",
      "- Upper passband edge: 5.00 Hz\n",
      "- Upper transition bandwidth: 2.00 Hz (-6 dB cutoff frequency: 6.00 Hz)\n",
      "- Filter length: 413 samples (1.652 s)\n",
      "\n"
     ]
    },
    {
     "name": "stderr",
     "output_type": "stream",
     "text": [
      "[Parallel(n_jobs=1)]: Done  17 tasks      | elapsed:    0.3s\n"
     ]
    },
    {
     "name": "stdout",
     "output_type": "stream",
     "text": [
      "Not setting metadata\n",
      "288 matching events found\n",
      "Setting baseline interval to [-0.3, 0.0] s\n",
      "Applying baseline correction (mode: mean)\n",
      "0 projection items activated\n",
      "Using data from preloaded Raw for 288 events and 1076 original time points ...\n",
      "0 bad epochs dropped\n",
      "  Filtering 4-7 Hz...\n",
      "Filtering raw data in 1 contiguous segment\n",
      "Setting up band-pass filter from 4 - 7 Hz\n",
      "\n",
      "FIR filter parameters\n",
      "---------------------\n",
      "Designing a one-pass, zero-phase, non-causal bandpass filter:\n",
      "- Windowed time-domain design (firwin) method\n",
      "- Hamming window with 0.0194 passband ripple and 53 dB stopband attenuation\n",
      "- Lower passband edge: 4.00\n",
      "- Lower transition bandwidth: 2.00 Hz (-6 dB cutoff frequency: 3.00 Hz)\n",
      "- Upper passband edge: 7.00 Hz\n",
      "- Upper transition bandwidth: 2.00 Hz (-6 dB cutoff frequency: 8.00 Hz)\n",
      "- Filter length: 413 samples (1.652 s)\n",
      "\n",
      "Not setting metadata\n"
     ]
    },
    {
     "name": "stderr",
     "output_type": "stream",
     "text": [
      "[Parallel(n_jobs=1)]: Done  17 tasks      | elapsed:    0.2s\n"
     ]
    },
    {
     "name": "stdout",
     "output_type": "stream",
     "text": [
      "288 matching events found\n",
      "Setting baseline interval to [-0.3, 0.0] s\n",
      "Applying baseline correction (mode: mean)\n",
      "0 projection items activated\n",
      "Using data from preloaded Raw for 288 events and 1076 original time points ...\n",
      "0 bad epochs dropped\n",
      "  Filtering 6-10 Hz...\n",
      "Filtering raw data in 1 contiguous segment\n",
      "Setting up band-pass filter from 6 - 10 Hz\n",
      "\n",
      "FIR filter parameters\n",
      "---------------------\n",
      "Designing a one-pass, zero-phase, non-causal bandpass filter:\n",
      "- Windowed time-domain design (firwin) method\n",
      "- Hamming window with 0.0194 passband ripple and 53 dB stopband attenuation\n",
      "- Lower passband edge: 6.00\n",
      "- Lower transition bandwidth: 2.00 Hz (-6 dB cutoff frequency: 5.00 Hz)\n",
      "- Upper passband edge: 10.00 Hz\n",
      "- Upper transition bandwidth: 2.50 Hz (-6 dB cutoff frequency: 11.25 Hz)\n",
      "- Filter length: 413 samples (1.652 s)\n",
      "\n"
     ]
    },
    {
     "name": "stderr",
     "output_type": "stream",
     "text": [
      "[Parallel(n_jobs=1)]: Done  17 tasks      | elapsed:    0.4s\n"
     ]
    },
    {
     "name": "stdout",
     "output_type": "stream",
     "text": [
      "Not setting metadata\n",
      "288 matching events found\n",
      "Setting baseline interval to [-0.3, 0.0] s\n",
      "Applying baseline correction (mode: mean)\n",
      "0 projection items activated\n",
      "Using data from preloaded Raw for 288 events and 1076 original time points ...\n",
      "0 bad epochs dropped\n",
      "  Filtering 7-12 Hz...\n",
      "Filtering raw data in 1 contiguous segment\n",
      "Setting up band-pass filter from 7 - 12 Hz\n",
      "\n",
      "FIR filter parameters\n",
      "---------------------\n",
      "Designing a one-pass, zero-phase, non-causal bandpass filter:\n",
      "- Windowed time-domain design (firwin) method\n",
      "- Hamming window with 0.0194 passband ripple and 53 dB stopband attenuation\n",
      "- Lower passband edge: 7.00\n",
      "- Lower transition bandwidth: 2.00 Hz (-6 dB cutoff frequency: 6.00 Hz)\n",
      "- Upper passband edge: 12.00 Hz\n",
      "- Upper transition bandwidth: 3.00 Hz (-6 dB cutoff frequency: 13.50 Hz)\n",
      "- Filter length: 413 samples (1.652 s)\n",
      "\n",
      "Not setting metadata\n"
     ]
    },
    {
     "name": "stderr",
     "output_type": "stream",
     "text": [
      "[Parallel(n_jobs=1)]: Done  17 tasks      | elapsed:    0.3s\n"
     ]
    },
    {
     "name": "stdout",
     "output_type": "stream",
     "text": [
      "288 matching events found\n",
      "Setting baseline interval to [-0.3, 0.0] s\n",
      "Applying baseline correction (mode: mean)\n",
      "0 projection items activated\n",
      "Using data from preloaded Raw for 288 events and 1076 original time points ...\n",
      "0 bad epochs dropped\n",
      "  Filtering 10-15 Hz...\n",
      "Filtering raw data in 1 contiguous segment\n",
      "Setting up band-pass filter from 10 - 15 Hz\n",
      "\n",
      "FIR filter parameters\n",
      "---------------------\n",
      "Designing a one-pass, zero-phase, non-causal bandpass filter:\n",
      "- Windowed time-domain design (firwin) method\n",
      "- Hamming window with 0.0194 passband ripple and 53 dB stopband attenuation\n",
      "- Lower passband edge: 10.00\n",
      "- Lower transition bandwidth: 2.50 Hz (-6 dB cutoff frequency: 8.75 Hz)\n",
      "- Upper passband edge: 15.00 Hz\n",
      "- Upper transition bandwidth: 3.75 Hz (-6 dB cutoff frequency: 16.88 Hz)\n",
      "- Filter length: 331 samples (1.324 s)\n",
      "\n"
     ]
    },
    {
     "name": "stderr",
     "output_type": "stream",
     "text": [
      "[Parallel(n_jobs=1)]: Done  17 tasks      | elapsed:    0.5s\n"
     ]
    },
    {
     "name": "stdout",
     "output_type": "stream",
     "text": [
      "Not setting metadata\n",
      "288 matching events found\n",
      "Setting baseline interval to [-0.3, 0.0] s\n",
      "Applying baseline correction (mode: mean)\n",
      "0 projection items activated\n",
      "Using data from preloaded Raw for 288 events and 1076 original time points ...\n",
      "0 bad epochs dropped\n",
      "  Filtering 12-19 Hz...\n",
      "Filtering raw data in 1 contiguous segment\n",
      "Setting up band-pass filter from 12 - 19 Hz\n",
      "\n",
      "FIR filter parameters\n",
      "---------------------\n",
      "Designing a one-pass, zero-phase, non-causal bandpass filter:\n",
      "- Windowed time-domain design (firwin) method\n",
      "- Hamming window with 0.0194 passband ripple and 53 dB stopband attenuation\n",
      "- Lower passband edge: 12.00\n",
      "- Lower transition bandwidth: 3.00 Hz (-6 dB cutoff frequency: 10.50 Hz)\n",
      "- Upper passband edge: 19.00 Hz\n",
      "- Upper transition bandwidth: 4.75 Hz (-6 dB cutoff frequency: 21.38 Hz)\n",
      "- Filter length: 275 samples (1.100 s)\n",
      "\n"
     ]
    },
    {
     "name": "stderr",
     "output_type": "stream",
     "text": [
      "[Parallel(n_jobs=1)]: Done  17 tasks      | elapsed:    0.4s\n"
     ]
    },
    {
     "name": "stdout",
     "output_type": "stream",
     "text": [
      "Not setting metadata\n",
      "288 matching events found\n",
      "Setting baseline interval to [-0.3, 0.0] s\n",
      "Applying baseline correction (mode: mean)\n",
      "0 projection items activated\n",
      "Using data from preloaded Raw for 288 events and 1076 original time points ...\n",
      "0 bad epochs dropped\n",
      "  Filtering 15-25 Hz...\n",
      "Filtering raw data in 1 contiguous segment\n",
      "Setting up band-pass filter from 15 - 25 Hz\n",
      "\n",
      "FIR filter parameters\n",
      "---------------------\n",
      "Designing a one-pass, zero-phase, non-causal bandpass filter:\n",
      "- Windowed time-domain design (firwin) method\n",
      "- Hamming window with 0.0194 passband ripple and 53 dB stopband attenuation\n",
      "- Lower passband edge: 15.00\n",
      "- Lower transition bandwidth: 3.75 Hz (-6 dB cutoff frequency: 13.12 Hz)\n",
      "- Upper passband edge: 25.00 Hz\n",
      "- Upper transition bandwidth: 6.25 Hz (-6 dB cutoff frequency: 28.12 Hz)\n",
      "- Filter length: 221 samples (0.884 s)\n",
      "\n"
     ]
    },
    {
     "name": "stderr",
     "output_type": "stream",
     "text": [
      "[Parallel(n_jobs=1)]: Done  17 tasks      | elapsed:    0.5s\n"
     ]
    },
    {
     "name": "stdout",
     "output_type": "stream",
     "text": [
      "Not setting metadata\n",
      "288 matching events found\n",
      "Setting baseline interval to [-0.3, 0.0] s\n",
      "Applying baseline correction (mode: mean)\n",
      "0 projection items activated\n",
      "Using data from preloaded Raw for 288 events and 1076 original time points ...\n",
      "0 bad epochs dropped\n",
      "  Filtering 19-30 Hz...\n",
      "Filtering raw data in 1 contiguous segment\n",
      "Setting up band-pass filter from 19 - 30 Hz\n",
      "\n",
      "FIR filter parameters\n",
      "---------------------\n",
      "Designing a one-pass, zero-phase, non-causal bandpass filter:\n",
      "- Windowed time-domain design (firwin) method\n",
      "- Hamming window with 0.0194 passband ripple and 53 dB stopband attenuation\n",
      "- Lower passband edge: 19.00\n",
      "- Lower transition bandwidth: 4.75 Hz (-6 dB cutoff frequency: 16.62 Hz)\n",
      "- Upper passband edge: 30.00 Hz\n",
      "- Upper transition bandwidth: 7.50 Hz (-6 dB cutoff frequency: 33.75 Hz)\n",
      "- Filter length: 175 samples (0.700 s)\n",
      "\n"
     ]
    },
    {
     "name": "stderr",
     "output_type": "stream",
     "text": [
      "[Parallel(n_jobs=1)]: Done  17 tasks      | elapsed:    0.3s\n"
     ]
    },
    {
     "name": "stdout",
     "output_type": "stream",
     "text": [
      "Not setting metadata\n",
      "288 matching events found\n",
      "Setting baseline interval to [-0.3, 0.0] s\n",
      "Applying baseline correction (mode: mean)\n",
      "0 projection items activated\n",
      "Using data from preloaded Raw for 288 events and 1076 original time points ...\n",
      "0 bad epochs dropped\n",
      "  Filtering 25-35 Hz...\n",
      "Filtering raw data in 1 contiguous segment\n",
      "Setting up band-pass filter from 25 - 35 Hz\n",
      "\n",
      "FIR filter parameters\n",
      "---------------------\n",
      "Designing a one-pass, zero-phase, non-causal bandpass filter:\n",
      "- Windowed time-domain design (firwin) method\n",
      "- Hamming window with 0.0194 passband ripple and 53 dB stopband attenuation\n",
      "- Lower passband edge: 25.00\n",
      "- Lower transition bandwidth: 6.25 Hz (-6 dB cutoff frequency: 21.88 Hz)\n",
      "- Upper passband edge: 35.00 Hz\n",
      "- Upper transition bandwidth: 8.75 Hz (-6 dB cutoff frequency: 39.38 Hz)\n",
      "- Filter length: 133 samples (0.532 s)\n",
      "\n"
     ]
    },
    {
     "name": "stderr",
     "output_type": "stream",
     "text": [
      "[Parallel(n_jobs=1)]: Done  17 tasks      | elapsed:    0.7s\n"
     ]
    },
    {
     "name": "stdout",
     "output_type": "stream",
     "text": [
      "Not setting metadata\n",
      "288 matching events found\n",
      "Setting baseline interval to [-0.3, 0.0] s\n",
      "Applying baseline correction (mode: mean)\n",
      "0 projection items activated\n",
      "Using data from preloaded Raw for 288 events and 1076 original time points ...\n",
      "0 bad epochs dropped\n",
      "  Filtering 30-40 Hz...\n",
      "Filtering raw data in 1 contiguous segment\n",
      "Setting up band-pass filter from 30 - 40 Hz\n",
      "\n",
      "FIR filter parameters\n",
      "---------------------\n",
      "Designing a one-pass, zero-phase, non-causal bandpass filter:\n",
      "- Windowed time-domain design (firwin) method\n",
      "- Hamming window with 0.0194 passband ripple and 53 dB stopband attenuation\n",
      "- Lower passband edge: 30.00\n",
      "- Lower transition bandwidth: 7.50 Hz (-6 dB cutoff frequency: 26.25 Hz)\n",
      "- Upper passband edge: 40.00 Hz\n",
      "- Upper transition bandwidth: 10.00 Hz (-6 dB cutoff frequency: 45.00 Hz)\n",
      "- Filter length: 111 samples (0.444 s)\n",
      "\n"
     ]
    },
    {
     "name": "stderr",
     "output_type": "stream",
     "text": [
      "[Parallel(n_jobs=1)]: Done  17 tasks      | elapsed:    0.5s\n"
     ]
    },
    {
     "name": "stdout",
     "output_type": "stream",
     "text": [
      "Not setting metadata\n",
      "288 matching events found\n",
      "Setting baseline interval to [-0.3, 0.0] s\n",
      "Applying baseline correction (mode: mean)\n",
      "0 projection items activated\n",
      "Using data from preloaded Raw for 288 events and 1076 original time points ...\n",
      "0 bad epochs dropped\n",
      "\n",
      "Processing A06T.gdf...\n",
      "Extracting EDF parameters from C:\\Users\\hunte\\Documents\\COGS189-BCI-Competition-Project\\BCICIV_2a_gdf\\A06T.gdf...\n",
      "GDF file detected\n",
      "Setting channel info structure...\n",
      "Could not determine channel type of the following channels, they will be set as EEG:\n",
      "EEG-Fz, EEG, EEG, EEG, EEG, EEG, EEG, EEG-C3, EEG, EEG-Cz, EEG, EEG-C4, EEG, EEG, EEG, EEG, EEG, EEG, EEG, EEG-Pz, EEG, EEG, EOG-left, EOG-central, EOG-right\n",
      "Creating raw.info structure...\n",
      "Reading 0 ... 678979  =      0.000 ...  2715.916 secs...\n"
     ]
    },
    {
     "name": "stderr",
     "output_type": "stream",
     "text": [
      "c:\\Users\\hunte\\anaconda3\\envs\\CSE156\\Lib\\contextlib.py:144: RuntimeWarning: Channel names are not unique, found duplicates for: {'EEG'}. Applying running numbers for duplicates.\n",
      "  next(self.gen)\n"
     ]
    },
    {
     "name": "stdout",
     "output_type": "stream",
     "text": [
      "Used Annotations descriptions: ['1023', '1072', '276', '277', '32766', '768', '769', '770', '771', '772']\n",
      "  Filtering 1-3 Hz...\n",
      "Filtering raw data in 1 contiguous segment\n",
      "Setting up band-pass filter from 1 - 3 Hz\n",
      "\n",
      "FIR filter parameters\n",
      "---------------------\n",
      "Designing a one-pass, zero-phase, non-causal bandpass filter:\n",
      "- Windowed time-domain design (firwin) method\n",
      "- Hamming window with 0.0194 passband ripple and 53 dB stopband attenuation\n",
      "- Lower passband edge: 1.00\n",
      "- Lower transition bandwidth: 1.00 Hz (-6 dB cutoff frequency: 0.50 Hz)\n",
      "- Upper passband edge: 3.00 Hz\n",
      "- Upper transition bandwidth: 2.00 Hz (-6 dB cutoff frequency: 4.00 Hz)\n",
      "- Filter length: 825 samples (3.300 s)\n",
      "\n",
      "Not setting metadata\n"
     ]
    },
    {
     "name": "stderr",
     "output_type": "stream",
     "text": [
      "[Parallel(n_jobs=1)]: Done  17 tasks      | elapsed:    0.2s\n"
     ]
    },
    {
     "name": "stdout",
     "output_type": "stream",
     "text": [
      "288 matching events found\n",
      "Setting baseline interval to [-0.3, 0.0] s\n",
      "Applying baseline correction (mode: mean)\n",
      "0 projection items activated\n",
      "Using data from preloaded Raw for 288 events and 1076 original time points ...\n",
      "0 bad epochs dropped\n",
      "  Filtering 2-5 Hz...\n",
      "Filtering raw data in 1 contiguous segment\n",
      "Setting up band-pass filter from 2 - 5 Hz\n",
      "\n",
      "FIR filter parameters\n",
      "---------------------\n",
      "Designing a one-pass, zero-phase, non-causal bandpass filter:\n",
      "- Windowed time-domain design (firwin) method\n",
      "- Hamming window with 0.0194 passband ripple and 53 dB stopband attenuation\n",
      "- Lower passband edge: 2.00\n",
      "- Lower transition bandwidth: 2.00 Hz (-6 dB cutoff frequency: 1.00 Hz)\n",
      "- Upper passband edge: 5.00 Hz\n",
      "- Upper transition bandwidth: 2.00 Hz (-6 dB cutoff frequency: 6.00 Hz)\n",
      "- Filter length: 413 samples (1.652 s)\n",
      "\n",
      "Not setting metadata\n",
      "288 matching events found\n",
      "Setting baseline interval to [-0.3, 0.0] s\n"
     ]
    },
    {
     "name": "stderr",
     "output_type": "stream",
     "text": [
      "[Parallel(n_jobs=1)]: Done  17 tasks      | elapsed:    0.2s\n"
     ]
    },
    {
     "name": "stdout",
     "output_type": "stream",
     "text": [
      "Applying baseline correction (mode: mean)\n",
      "0 projection items activated\n",
      "Using data from preloaded Raw for 288 events and 1076 original time points ...\n",
      "0 bad epochs dropped\n",
      "  Filtering 4-7 Hz...\n",
      "Filtering raw data in 1 contiguous segment\n",
      "Setting up band-pass filter from 4 - 7 Hz\n",
      "\n",
      "FIR filter parameters\n",
      "---------------------\n",
      "Designing a one-pass, zero-phase, non-causal bandpass filter:\n",
      "- Windowed time-domain design (firwin) method\n",
      "- Hamming window with 0.0194 passband ripple and 53 dB stopband attenuation\n",
      "- Lower passband edge: 4.00\n",
      "- Lower transition bandwidth: 2.00 Hz (-6 dB cutoff frequency: 3.00 Hz)\n",
      "- Upper passband edge: 7.00 Hz\n",
      "- Upper transition bandwidth: 2.00 Hz (-6 dB cutoff frequency: 8.00 Hz)\n",
      "- Filter length: 413 samples (1.652 s)\n",
      "\n",
      "Not setting metadata\n"
     ]
    },
    {
     "name": "stderr",
     "output_type": "stream",
     "text": [
      "[Parallel(n_jobs=1)]: Done  17 tasks      | elapsed:    0.3s\n"
     ]
    },
    {
     "name": "stdout",
     "output_type": "stream",
     "text": [
      "288 matching events found\n",
      "Setting baseline interval to [-0.3, 0.0] s\n",
      "Applying baseline correction (mode: mean)\n",
      "0 projection items activated\n",
      "Using data from preloaded Raw for 288 events and 1076 original time points ...\n",
      "0 bad epochs dropped\n",
      "  Filtering 6-10 Hz...\n",
      "Filtering raw data in 1 contiguous segment\n",
      "Setting up band-pass filter from 6 - 10 Hz\n",
      "\n",
      "FIR filter parameters\n",
      "---------------------\n",
      "Designing a one-pass, zero-phase, non-causal bandpass filter:\n",
      "- Windowed time-domain design (firwin) method\n",
      "- Hamming window with 0.0194 passband ripple and 53 dB stopband attenuation\n",
      "- Lower passband edge: 6.00\n",
      "- Lower transition bandwidth: 2.00 Hz (-6 dB cutoff frequency: 5.00 Hz)\n",
      "- Upper passband edge: 10.00 Hz\n",
      "- Upper transition bandwidth: 2.50 Hz (-6 dB cutoff frequency: 11.25 Hz)\n",
      "- Filter length: 413 samples (1.652 s)\n",
      "\n",
      "Not setting metadata\n",
      "288 matching events found\n",
      "Setting baseline interval to [-0.3, 0.0] s\n",
      "Applying baseline correction (mode: mean)\n",
      "0 projection items activated\n",
      "Using data from preloaded Raw for 288 events and 1076 original time points ...\n"
     ]
    },
    {
     "name": "stderr",
     "output_type": "stream",
     "text": [
      "[Parallel(n_jobs=1)]: Done  17 tasks      | elapsed:    0.2s\n"
     ]
    },
    {
     "name": "stdout",
     "output_type": "stream",
     "text": [
      "0 bad epochs dropped\n",
      "  Filtering 7-12 Hz...\n",
      "Filtering raw data in 1 contiguous segment\n",
      "Setting up band-pass filter from 7 - 12 Hz\n",
      "\n",
      "FIR filter parameters\n",
      "---------------------\n",
      "Designing a one-pass, zero-phase, non-causal bandpass filter:\n",
      "- Windowed time-domain design (firwin) method\n",
      "- Hamming window with 0.0194 passband ripple and 53 dB stopband attenuation\n",
      "- Lower passband edge: 7.00\n",
      "- Lower transition bandwidth: 2.00 Hz (-6 dB cutoff frequency: 6.00 Hz)\n",
      "- Upper passband edge: 12.00 Hz\n",
      "- Upper transition bandwidth: 3.00 Hz (-6 dB cutoff frequency: 13.50 Hz)\n",
      "- Filter length: 413 samples (1.652 s)\n",
      "\n"
     ]
    },
    {
     "name": "stderr",
     "output_type": "stream",
     "text": [
      "[Parallel(n_jobs=1)]: Done  17 tasks      | elapsed:    0.2s\n"
     ]
    },
    {
     "name": "stdout",
     "output_type": "stream",
     "text": [
      "Not setting metadata\n",
      "288 matching events found\n",
      "Setting baseline interval to [-0.3, 0.0] s\n",
      "Applying baseline correction (mode: mean)\n",
      "0 projection items activated\n",
      "Using data from preloaded Raw for 288 events and 1076 original time points ...\n",
      "0 bad epochs dropped\n",
      "  Filtering 10-15 Hz...\n",
      "Filtering raw data in 1 contiguous segment\n",
      "Setting up band-pass filter from 10 - 15 Hz\n",
      "\n",
      "FIR filter parameters\n",
      "---------------------\n",
      "Designing a one-pass, zero-phase, non-causal bandpass filter:\n",
      "- Windowed time-domain design (firwin) method\n",
      "- Hamming window with 0.0194 passband ripple and 53 dB stopband attenuation\n",
      "- Lower passband edge: 10.00\n",
      "- Lower transition bandwidth: 2.50 Hz (-6 dB cutoff frequency: 8.75 Hz)\n",
      "- Upper passband edge: 15.00 Hz\n",
      "- Upper transition bandwidth: 3.75 Hz (-6 dB cutoff frequency: 16.88 Hz)\n",
      "- Filter length: 331 samples (1.324 s)\n",
      "\n",
      "Not setting metadata\n"
     ]
    },
    {
     "name": "stderr",
     "output_type": "stream",
     "text": [
      "[Parallel(n_jobs=1)]: Done  17 tasks      | elapsed:    0.2s\n"
     ]
    },
    {
     "name": "stdout",
     "output_type": "stream",
     "text": [
      "288 matching events found\n",
      "Setting baseline interval to [-0.3, 0.0] s\n",
      "Applying baseline correction (mode: mean)\n",
      "0 projection items activated\n",
      "Using data from preloaded Raw for 288 events and 1076 original time points ...\n",
      "0 bad epochs dropped\n",
      "  Filtering 12-19 Hz...\n",
      "Filtering raw data in 1 contiguous segment\n",
      "Setting up band-pass filter from 12 - 19 Hz\n",
      "\n",
      "FIR filter parameters\n",
      "---------------------\n",
      "Designing a one-pass, zero-phase, non-causal bandpass filter:\n",
      "- Windowed time-domain design (firwin) method\n",
      "- Hamming window with 0.0194 passband ripple and 53 dB stopband attenuation\n",
      "- Lower passband edge: 12.00\n",
      "- Lower transition bandwidth: 3.00 Hz (-6 dB cutoff frequency: 10.50 Hz)\n",
      "- Upper passband edge: 19.00 Hz\n",
      "- Upper transition bandwidth: 4.75 Hz (-6 dB cutoff frequency: 21.38 Hz)\n",
      "- Filter length: 275 samples (1.100 s)\n",
      "\n"
     ]
    },
    {
     "name": "stderr",
     "output_type": "stream",
     "text": [
      "[Parallel(n_jobs=1)]: Done  17 tasks      | elapsed:    0.3s\n"
     ]
    },
    {
     "name": "stdout",
     "output_type": "stream",
     "text": [
      "Not setting metadata\n",
      "288 matching events found\n",
      "Setting baseline interval to [-0.3, 0.0] s\n",
      "Applying baseline correction (mode: mean)\n",
      "0 projection items activated\n",
      "Using data from preloaded Raw for 288 events and 1076 original time points ...\n",
      "0 bad epochs dropped\n",
      "  Filtering 15-25 Hz...\n",
      "Filtering raw data in 1 contiguous segment\n",
      "Setting up band-pass filter from 15 - 25 Hz\n",
      "\n",
      "FIR filter parameters\n",
      "---------------------\n",
      "Designing a one-pass, zero-phase, non-causal bandpass filter:\n",
      "- Windowed time-domain design (firwin) method\n",
      "- Hamming window with 0.0194 passband ripple and 53 dB stopband attenuation\n",
      "- Lower passband edge: 15.00\n",
      "- Lower transition bandwidth: 3.75 Hz (-6 dB cutoff frequency: 13.12 Hz)\n",
      "- Upper passband edge: 25.00 Hz\n",
      "- Upper transition bandwidth: 6.25 Hz (-6 dB cutoff frequency: 28.12 Hz)\n",
      "- Filter length: 221 samples (0.884 s)\n",
      "\n"
     ]
    },
    {
     "name": "stderr",
     "output_type": "stream",
     "text": [
      "[Parallel(n_jobs=1)]: Done  17 tasks      | elapsed:    0.3s\n"
     ]
    },
    {
     "name": "stdout",
     "output_type": "stream",
     "text": [
      "Not setting metadata\n",
      "288 matching events found\n",
      "Setting baseline interval to [-0.3, 0.0] s\n",
      "Applying baseline correction (mode: mean)\n",
      "0 projection items activated\n",
      "Using data from preloaded Raw for 288 events and 1076 original time points ...\n",
      "0 bad epochs dropped\n",
      "  Filtering 19-30 Hz...\n",
      "Filtering raw data in 1 contiguous segment\n",
      "Setting up band-pass filter from 19 - 30 Hz\n",
      "\n",
      "FIR filter parameters\n",
      "---------------------\n",
      "Designing a one-pass, zero-phase, non-causal bandpass filter:\n",
      "- Windowed time-domain design (firwin) method\n",
      "- Hamming window with 0.0194 passband ripple and 53 dB stopband attenuation\n",
      "- Lower passband edge: 19.00\n",
      "- Lower transition bandwidth: 4.75 Hz (-6 dB cutoff frequency: 16.62 Hz)\n",
      "- Upper passband edge: 30.00 Hz\n",
      "- Upper transition bandwidth: 7.50 Hz (-6 dB cutoff frequency: 33.75 Hz)\n",
      "- Filter length: 175 samples (0.700 s)\n",
      "\n"
     ]
    },
    {
     "name": "stderr",
     "output_type": "stream",
     "text": [
      "[Parallel(n_jobs=1)]: Done  17 tasks      | elapsed:    0.3s\n"
     ]
    },
    {
     "name": "stdout",
     "output_type": "stream",
     "text": [
      "Not setting metadata\n",
      "288 matching events found\n",
      "Setting baseline interval to [-0.3, 0.0] s\n",
      "Applying baseline correction (mode: mean)\n",
      "0 projection items activated\n",
      "Using data from preloaded Raw for 288 events and 1076 original time points ...\n",
      "0 bad epochs dropped\n",
      "  Filtering 25-35 Hz...\n",
      "Filtering raw data in 1 contiguous segment\n",
      "Setting up band-pass filter from 25 - 35 Hz\n",
      "\n",
      "FIR filter parameters\n",
      "---------------------\n",
      "Designing a one-pass, zero-phase, non-causal bandpass filter:\n",
      "- Windowed time-domain design (firwin) method\n",
      "- Hamming window with 0.0194 passband ripple and 53 dB stopband attenuation\n",
      "- Lower passband edge: 25.00\n",
      "- Lower transition bandwidth: 6.25 Hz (-6 dB cutoff frequency: 21.88 Hz)\n",
      "- Upper passband edge: 35.00 Hz\n",
      "- Upper transition bandwidth: 8.75 Hz (-6 dB cutoff frequency: 39.38 Hz)\n",
      "- Filter length: 133 samples (0.532 s)\n",
      "\n"
     ]
    },
    {
     "name": "stderr",
     "output_type": "stream",
     "text": [
      "[Parallel(n_jobs=1)]: Done  17 tasks      | elapsed:    0.4s\n"
     ]
    },
    {
     "name": "stdout",
     "output_type": "stream",
     "text": [
      "Not setting metadata\n",
      "288 matching events found\n",
      "Setting baseline interval to [-0.3, 0.0] s\n",
      "Applying baseline correction (mode: mean)\n",
      "0 projection items activated\n",
      "Using data from preloaded Raw for 288 events and 1076 original time points ...\n",
      "0 bad epochs dropped\n",
      "  Filtering 30-40 Hz...\n",
      "Filtering raw data in 1 contiguous segment\n",
      "Setting up band-pass filter from 30 - 40 Hz\n",
      "\n",
      "FIR filter parameters\n",
      "---------------------\n",
      "Designing a one-pass, zero-phase, non-causal bandpass filter:\n",
      "- Windowed time-domain design (firwin) method\n",
      "- Hamming window with 0.0194 passband ripple and 53 dB stopband attenuation\n",
      "- Lower passband edge: 30.00\n",
      "- Lower transition bandwidth: 7.50 Hz (-6 dB cutoff frequency: 26.25 Hz)\n",
      "- Upper passband edge: 40.00 Hz\n",
      "- Upper transition bandwidth: 10.00 Hz (-6 dB cutoff frequency: 45.00 Hz)\n",
      "- Filter length: 111 samples (0.444 s)\n",
      "\n"
     ]
    },
    {
     "name": "stderr",
     "output_type": "stream",
     "text": [
      "[Parallel(n_jobs=1)]: Done  17 tasks      | elapsed:    0.5s\n"
     ]
    },
    {
     "name": "stdout",
     "output_type": "stream",
     "text": [
      "Not setting metadata\n",
      "288 matching events found\n",
      "Setting baseline interval to [-0.3, 0.0] s\n",
      "Applying baseline correction (mode: mean)\n",
      "0 projection items activated\n",
      "Using data from preloaded Raw for 288 events and 1076 original time points ...\n",
      "0 bad epochs dropped\n",
      "\n",
      "Processing A07T.gdf...\n",
      "Extracting EDF parameters from C:\\Users\\hunte\\Documents\\COGS189-BCI-Competition-Project\\BCICIV_2a_gdf\\A07T.gdf...\n",
      "GDF file detected\n",
      "Setting channel info structure...\n",
      "Could not determine channel type of the following channels, they will be set as EEG:\n",
      "EEG-Fz, EEG, EEG, EEG, EEG, EEG, EEG, EEG-C3, EEG, EEG-Cz, EEG, EEG-C4, EEG, EEG, EEG, EEG, EEG, EEG, EEG, EEG-Pz, EEG, EEG, EOG-left, EOG-central, EOG-right\n",
      "Creating raw.info structure...\n",
      "Reading 0 ... 681070  =      0.000 ...  2724.280 secs...\n"
     ]
    },
    {
     "name": "stderr",
     "output_type": "stream",
     "text": [
      "c:\\Users\\hunte\\anaconda3\\envs\\CSE156\\Lib\\contextlib.py:144: RuntimeWarning: Channel names are not unique, found duplicates for: {'EEG'}. Applying running numbers for duplicates.\n",
      "  next(self.gen)\n"
     ]
    },
    {
     "name": "stdout",
     "output_type": "stream",
     "text": [
      "Used Annotations descriptions: ['1023', '1072', '276', '277', '32766', '768', '769', '770', '771', '772']\n",
      "  Filtering 1-3 Hz...\n",
      "Filtering raw data in 1 contiguous segment\n",
      "Setting up band-pass filter from 1 - 3 Hz\n",
      "\n",
      "FIR filter parameters\n",
      "---------------------\n",
      "Designing a one-pass, zero-phase, non-causal bandpass filter:\n",
      "- Windowed time-domain design (firwin) method\n",
      "- Hamming window with 0.0194 passband ripple and 53 dB stopband attenuation\n",
      "- Lower passband edge: 1.00\n",
      "- Lower transition bandwidth: 1.00 Hz (-6 dB cutoff frequency: 0.50 Hz)\n",
      "- Upper passband edge: 3.00 Hz\n",
      "- Upper transition bandwidth: 2.00 Hz (-6 dB cutoff frequency: 4.00 Hz)\n",
      "- Filter length: 825 samples (3.300 s)\n",
      "\n",
      "Not setting metadata\n"
     ]
    },
    {
     "name": "stderr",
     "output_type": "stream",
     "text": [
      "[Parallel(n_jobs=1)]: Done  17 tasks      | elapsed:    0.2s\n"
     ]
    },
    {
     "name": "stdout",
     "output_type": "stream",
     "text": [
      "288 matching events found\n",
      "Setting baseline interval to [-0.3, 0.0] s\n",
      "Applying baseline correction (mode: mean)\n",
      "0 projection items activated\n",
      "Using data from preloaded Raw for 288 events and 1076 original time points ...\n",
      "0 bad epochs dropped\n",
      "  Filtering 2-5 Hz...\n",
      "Filtering raw data in 1 contiguous segment\n",
      "Setting up band-pass filter from 2 - 5 Hz\n",
      "\n",
      "FIR filter parameters\n",
      "---------------------\n",
      "Designing a one-pass, zero-phase, non-causal bandpass filter:\n",
      "- Windowed time-domain design (firwin) method\n",
      "- Hamming window with 0.0194 passband ripple and 53 dB stopband attenuation\n",
      "- Lower passband edge: 2.00\n",
      "- Lower transition bandwidth: 2.00 Hz (-6 dB cutoff frequency: 1.00 Hz)\n",
      "- Upper passband edge: 5.00 Hz\n",
      "- Upper transition bandwidth: 2.00 Hz (-6 dB cutoff frequency: 6.00 Hz)\n",
      "- Filter length: 413 samples (1.652 s)\n",
      "\n",
      "Not setting metadata\n"
     ]
    },
    {
     "name": "stderr",
     "output_type": "stream",
     "text": [
      "[Parallel(n_jobs=1)]: Done  17 tasks      | elapsed:    0.3s\n"
     ]
    },
    {
     "name": "stdout",
     "output_type": "stream",
     "text": [
      "288 matching events found\n",
      "Setting baseline interval to [-0.3, 0.0] s\n",
      "Applying baseline correction (mode: mean)\n",
      "0 projection items activated\n",
      "Using data from preloaded Raw for 288 events and 1076 original time points ...\n",
      "0 bad epochs dropped\n",
      "  Filtering 4-7 Hz...\n",
      "Filtering raw data in 1 contiguous segment\n",
      "Setting up band-pass filter from 4 - 7 Hz\n",
      "\n",
      "FIR filter parameters\n",
      "---------------------\n",
      "Designing a one-pass, zero-phase, non-causal bandpass filter:\n",
      "- Windowed time-domain design (firwin) method\n",
      "- Hamming window with 0.0194 passband ripple and 53 dB stopband attenuation\n",
      "- Lower passband edge: 4.00\n",
      "- Lower transition bandwidth: 2.00 Hz (-6 dB cutoff frequency: 3.00 Hz)\n",
      "- Upper passband edge: 7.00 Hz\n",
      "- Upper transition bandwidth: 2.00 Hz (-6 dB cutoff frequency: 8.00 Hz)\n",
      "- Filter length: 413 samples (1.652 s)\n",
      "\n"
     ]
    },
    {
     "name": "stderr",
     "output_type": "stream",
     "text": [
      "[Parallel(n_jobs=1)]: Done  17 tasks      | elapsed:    0.3s\n"
     ]
    },
    {
     "name": "stdout",
     "output_type": "stream",
     "text": [
      "Not setting metadata\n",
      "288 matching events found\n",
      "Setting baseline interval to [-0.3, 0.0] s\n",
      "Applying baseline correction (mode: mean)\n",
      "0 projection items activated\n",
      "Using data from preloaded Raw for 288 events and 1076 original time points ...\n",
      "0 bad epochs dropped\n",
      "  Filtering 6-10 Hz...\n",
      "Filtering raw data in 1 contiguous segment\n",
      "Setting up band-pass filter from 6 - 10 Hz\n",
      "\n",
      "FIR filter parameters\n",
      "---------------------\n",
      "Designing a one-pass, zero-phase, non-causal bandpass filter:\n",
      "- Windowed time-domain design (firwin) method\n",
      "- Hamming window with 0.0194 passband ripple and 53 dB stopband attenuation\n",
      "- Lower passband edge: 6.00\n",
      "- Lower transition bandwidth: 2.00 Hz (-6 dB cutoff frequency: 5.00 Hz)\n",
      "- Upper passband edge: 10.00 Hz\n",
      "- Upper transition bandwidth: 2.50 Hz (-6 dB cutoff frequency: 11.25 Hz)\n",
      "- Filter length: 413 samples (1.652 s)\n",
      "\n",
      "Not setting metadata\n"
     ]
    },
    {
     "name": "stderr",
     "output_type": "stream",
     "text": [
      "[Parallel(n_jobs=1)]: Done  17 tasks      | elapsed:    0.3s\n"
     ]
    },
    {
     "name": "stdout",
     "output_type": "stream",
     "text": [
      "288 matching events found\n",
      "Setting baseline interval to [-0.3, 0.0] s\n",
      "Applying baseline correction (mode: mean)\n",
      "0 projection items activated\n",
      "Using data from preloaded Raw for 288 events and 1076 original time points ...\n",
      "0 bad epochs dropped\n",
      "  Filtering 7-12 Hz...\n",
      "Filtering raw data in 1 contiguous segment\n",
      "Setting up band-pass filter from 7 - 12 Hz\n",
      "\n",
      "FIR filter parameters\n",
      "---------------------\n",
      "Designing a one-pass, zero-phase, non-causal bandpass filter:\n",
      "- Windowed time-domain design (firwin) method\n",
      "- Hamming window with 0.0194 passband ripple and 53 dB stopband attenuation\n",
      "- Lower passband edge: 7.00\n",
      "- Lower transition bandwidth: 2.00 Hz (-6 dB cutoff frequency: 6.00 Hz)\n",
      "- Upper passband edge: 12.00 Hz\n",
      "- Upper transition bandwidth: 3.00 Hz (-6 dB cutoff frequency: 13.50 Hz)\n",
      "- Filter length: 413 samples (1.652 s)\n",
      "\n"
     ]
    },
    {
     "name": "stderr",
     "output_type": "stream",
     "text": [
      "[Parallel(n_jobs=1)]: Done  17 tasks      | elapsed:    0.3s\n"
     ]
    },
    {
     "name": "stdout",
     "output_type": "stream",
     "text": [
      "Not setting metadata\n",
      "288 matching events found\n",
      "Setting baseline interval to [-0.3, 0.0] s\n",
      "Applying baseline correction (mode: mean)\n",
      "0 projection items activated\n",
      "Using data from preloaded Raw for 288 events and 1076 original time points ...\n",
      "0 bad epochs dropped\n",
      "  Filtering 10-15 Hz...\n",
      "Filtering raw data in 1 contiguous segment\n",
      "Setting up band-pass filter from 10 - 15 Hz\n",
      "\n",
      "FIR filter parameters\n",
      "---------------------\n",
      "Designing a one-pass, zero-phase, non-causal bandpass filter:\n",
      "- Windowed time-domain design (firwin) method\n",
      "- Hamming window with 0.0194 passband ripple and 53 dB stopband attenuation\n",
      "- Lower passband edge: 10.00\n",
      "- Lower transition bandwidth: 2.50 Hz (-6 dB cutoff frequency: 8.75 Hz)\n",
      "- Upper passband edge: 15.00 Hz\n",
      "- Upper transition bandwidth: 3.75 Hz (-6 dB cutoff frequency: 16.88 Hz)\n",
      "- Filter length: 331 samples (1.324 s)\n",
      "\n"
     ]
    },
    {
     "name": "stderr",
     "output_type": "stream",
     "text": [
      "[Parallel(n_jobs=1)]: Done  17 tasks      | elapsed:    0.4s\n"
     ]
    },
    {
     "name": "stdout",
     "output_type": "stream",
     "text": [
      "Not setting metadata\n",
      "288 matching events found\n",
      "Setting baseline interval to [-0.3, 0.0] s\n",
      "Applying baseline correction (mode: mean)\n",
      "0 projection items activated\n",
      "Using data from preloaded Raw for 288 events and 1076 original time points ...\n",
      "0 bad epochs dropped\n",
      "  Filtering 12-19 Hz...\n",
      "Filtering raw data in 1 contiguous segment\n",
      "Setting up band-pass filter from 12 - 19 Hz\n",
      "\n",
      "FIR filter parameters\n",
      "---------------------\n",
      "Designing a one-pass, zero-phase, non-causal bandpass filter:\n",
      "- Windowed time-domain design (firwin) method\n",
      "- Hamming window with 0.0194 passband ripple and 53 dB stopband attenuation\n",
      "- Lower passband edge: 12.00\n",
      "- Lower transition bandwidth: 3.00 Hz (-6 dB cutoff frequency: 10.50 Hz)\n",
      "- Upper passband edge: 19.00 Hz\n",
      "- Upper transition bandwidth: 4.75 Hz (-6 dB cutoff frequency: 21.38 Hz)\n",
      "- Filter length: 275 samples (1.100 s)\n",
      "\n"
     ]
    },
    {
     "name": "stderr",
     "output_type": "stream",
     "text": [
      "[Parallel(n_jobs=1)]: Done  17 tasks      | elapsed:    0.5s\n"
     ]
    },
    {
     "name": "stdout",
     "output_type": "stream",
     "text": [
      "Not setting metadata\n",
      "288 matching events found\n",
      "Setting baseline interval to [-0.3, 0.0] s\n",
      "Applying baseline correction (mode: mean)\n",
      "0 projection items activated\n",
      "Using data from preloaded Raw for 288 events and 1076 original time points ...\n",
      "0 bad epochs dropped\n",
      "  Filtering 15-25 Hz...\n",
      "Filtering raw data in 1 contiguous segment\n",
      "Setting up band-pass filter from 15 - 25 Hz\n",
      "\n",
      "FIR filter parameters\n",
      "---------------------\n",
      "Designing a one-pass, zero-phase, non-causal bandpass filter:\n",
      "- Windowed time-domain design (firwin) method\n",
      "- Hamming window with 0.0194 passband ripple and 53 dB stopband attenuation\n",
      "- Lower passband edge: 15.00\n",
      "- Lower transition bandwidth: 3.75 Hz (-6 dB cutoff frequency: 13.12 Hz)\n",
      "- Upper passband edge: 25.00 Hz\n",
      "- Upper transition bandwidth: 6.25 Hz (-6 dB cutoff frequency: 28.12 Hz)\n",
      "- Filter length: 221 samples (0.884 s)\n",
      "\n"
     ]
    },
    {
     "name": "stderr",
     "output_type": "stream",
     "text": [
      "[Parallel(n_jobs=1)]: Done  17 tasks      | elapsed:    0.4s\n"
     ]
    },
    {
     "name": "stdout",
     "output_type": "stream",
     "text": [
      "Not setting metadata\n",
      "288 matching events found\n",
      "Setting baseline interval to [-0.3, 0.0] s\n",
      "Applying baseline correction (mode: mean)\n",
      "0 projection items activated\n",
      "Using data from preloaded Raw for 288 events and 1076 original time points ...\n",
      "0 bad epochs dropped\n",
      "  Filtering 19-30 Hz...\n",
      "Filtering raw data in 1 contiguous segment\n",
      "Setting up band-pass filter from 19 - 30 Hz\n",
      "\n",
      "FIR filter parameters\n",
      "---------------------\n",
      "Designing a one-pass, zero-phase, non-causal bandpass filter:\n",
      "- Windowed time-domain design (firwin) method\n",
      "- Hamming window with 0.0194 passband ripple and 53 dB stopband attenuation\n",
      "- Lower passband edge: 19.00\n",
      "- Lower transition bandwidth: 4.75 Hz (-6 dB cutoff frequency: 16.62 Hz)\n",
      "- Upper passband edge: 30.00 Hz\n",
      "- Upper transition bandwidth: 7.50 Hz (-6 dB cutoff frequency: 33.75 Hz)\n",
      "- Filter length: 175 samples (0.700 s)\n",
      "\n"
     ]
    },
    {
     "name": "stderr",
     "output_type": "stream",
     "text": [
      "[Parallel(n_jobs=1)]: Done  17 tasks      | elapsed:    0.3s\n"
     ]
    },
    {
     "name": "stdout",
     "output_type": "stream",
     "text": [
      "Not setting metadata\n",
      "288 matching events found\n",
      "Setting baseline interval to [-0.3, 0.0] s\n",
      "Applying baseline correction (mode: mean)\n",
      "0 projection items activated\n",
      "Using data from preloaded Raw for 288 events and 1076 original time points ...\n",
      "0 bad epochs dropped\n",
      "  Filtering 25-35 Hz...\n",
      "Filtering raw data in 1 contiguous segment\n",
      "Setting up band-pass filter from 25 - 35 Hz\n",
      "\n",
      "FIR filter parameters\n",
      "---------------------\n",
      "Designing a one-pass, zero-phase, non-causal bandpass filter:\n",
      "- Windowed time-domain design (firwin) method\n",
      "- Hamming window with 0.0194 passband ripple and 53 dB stopband attenuation\n",
      "- Lower passband edge: 25.00\n",
      "- Lower transition bandwidth: 6.25 Hz (-6 dB cutoff frequency: 21.88 Hz)\n",
      "- Upper passband edge: 35.00 Hz\n",
      "- Upper transition bandwidth: 8.75 Hz (-6 dB cutoff frequency: 39.38 Hz)\n",
      "- Filter length: 133 samples (0.532 s)\n",
      "\n"
     ]
    },
    {
     "name": "stderr",
     "output_type": "stream",
     "text": [
      "[Parallel(n_jobs=1)]: Done  17 tasks      | elapsed:    0.5s\n"
     ]
    },
    {
     "name": "stdout",
     "output_type": "stream",
     "text": [
      "Not setting metadata\n",
      "288 matching events found\n",
      "Setting baseline interval to [-0.3, 0.0] s\n",
      "Applying baseline correction (mode: mean)\n",
      "0 projection items activated\n",
      "Using data from preloaded Raw for 288 events and 1076 original time points ...\n",
      "0 bad epochs dropped\n",
      "  Filtering 30-40 Hz...\n",
      "Filtering raw data in 1 contiguous segment\n",
      "Setting up band-pass filter from 30 - 40 Hz\n",
      "\n",
      "FIR filter parameters\n",
      "---------------------\n",
      "Designing a one-pass, zero-phase, non-causal bandpass filter:\n",
      "- Windowed time-domain design (firwin) method\n",
      "- Hamming window with 0.0194 passband ripple and 53 dB stopband attenuation\n",
      "- Lower passband edge: 30.00\n",
      "- Lower transition bandwidth: 7.50 Hz (-6 dB cutoff frequency: 26.25 Hz)\n",
      "- Upper passband edge: 40.00 Hz\n",
      "- Upper transition bandwidth: 10.00 Hz (-6 dB cutoff frequency: 45.00 Hz)\n",
      "- Filter length: 111 samples (0.444 s)\n",
      "\n"
     ]
    },
    {
     "name": "stderr",
     "output_type": "stream",
     "text": [
      "[Parallel(n_jobs=1)]: Done  17 tasks      | elapsed:    0.4s\n"
     ]
    },
    {
     "name": "stdout",
     "output_type": "stream",
     "text": [
      "Not setting metadata\n",
      "288 matching events found\n",
      "Setting baseline interval to [-0.3, 0.0] s\n",
      "Applying baseline correction (mode: mean)\n",
      "0 projection items activated\n",
      "Using data from preloaded Raw for 288 events and 1076 original time points ...\n",
      "0 bad epochs dropped\n",
      "\n",
      "Processing A08T.gdf...\n",
      "Extracting EDF parameters from C:\\Users\\hunte\\Documents\\COGS189-BCI-Competition-Project\\BCICIV_2a_gdf\\A08T.gdf...\n",
      "GDF file detected\n",
      "Setting channel info structure...\n",
      "Could not determine channel type of the following channels, they will be set as EEG:\n",
      "EEG-Fz, EEG, EEG, EEG, EEG, EEG, EEG, EEG-C3, EEG, EEG-Cz, EEG, EEG-C4, EEG, EEG, EEG, EEG, EEG, EEG, EEG, EEG-Pz, EEG, EEG, EOG-left, EOG-central, EOG-right\n",
      "Creating raw.info structure...\n",
      "Reading 0 ... 675269  =      0.000 ...  2701.076 secs...\n"
     ]
    },
    {
     "name": "stderr",
     "output_type": "stream",
     "text": [
      "c:\\Users\\hunte\\anaconda3\\envs\\CSE156\\Lib\\contextlib.py:144: RuntimeWarning: Channel names are not unique, found duplicates for: {'EEG'}. Applying running numbers for duplicates.\n",
      "  next(self.gen)\n"
     ]
    },
    {
     "name": "stdout",
     "output_type": "stream",
     "text": [
      "Used Annotations descriptions: ['1023', '1072', '276', '277', '32766', '768', '769', '770', '771', '772']\n",
      "  Filtering 1-3 Hz...\n",
      "Filtering raw data in 1 contiguous segment\n",
      "Setting up band-pass filter from 1 - 3 Hz\n",
      "\n",
      "FIR filter parameters\n",
      "---------------------\n",
      "Designing a one-pass, zero-phase, non-causal bandpass filter:\n",
      "- Windowed time-domain design (firwin) method\n",
      "- Hamming window with 0.0194 passband ripple and 53 dB stopband attenuation\n",
      "- Lower passband edge: 1.00\n",
      "- Lower transition bandwidth: 1.00 Hz (-6 dB cutoff frequency: 0.50 Hz)\n",
      "- Upper passband edge: 3.00 Hz\n",
      "- Upper transition bandwidth: 2.00 Hz (-6 dB cutoff frequency: 4.00 Hz)\n",
      "- Filter length: 825 samples (3.300 s)\n",
      "\n",
      "Not setting metadata\n",
      "288 matching events found\n",
      "Setting baseline interval to [-0.3, 0.0] s\n",
      "Applying baseline correction (mode: mean)\n",
      "0 projection items activated\n",
      "Using data from preloaded Raw for 288 events and 1076 original time points ...\n"
     ]
    },
    {
     "name": "stderr",
     "output_type": "stream",
     "text": [
      "[Parallel(n_jobs=1)]: Done  17 tasks      | elapsed:    0.2s\n"
     ]
    },
    {
     "name": "stdout",
     "output_type": "stream",
     "text": [
      "0 bad epochs dropped\n",
      "  Filtering 2-5 Hz...\n",
      "Filtering raw data in 1 contiguous segment\n",
      "Setting up band-pass filter from 2 - 5 Hz\n",
      "\n",
      "FIR filter parameters\n",
      "---------------------\n",
      "Designing a one-pass, zero-phase, non-causal bandpass filter:\n",
      "- Windowed time-domain design (firwin) method\n",
      "- Hamming window with 0.0194 passband ripple and 53 dB stopband attenuation\n",
      "- Lower passband edge: 2.00\n",
      "- Lower transition bandwidth: 2.00 Hz (-6 dB cutoff frequency: 1.00 Hz)\n",
      "- Upper passband edge: 5.00 Hz\n",
      "- Upper transition bandwidth: 2.00 Hz (-6 dB cutoff frequency: 6.00 Hz)\n",
      "- Filter length: 413 samples (1.652 s)\n",
      "\n",
      "Not setting metadata\n"
     ]
    },
    {
     "name": "stderr",
     "output_type": "stream",
     "text": [
      "[Parallel(n_jobs=1)]: Done  17 tasks      | elapsed:    0.3s\n"
     ]
    },
    {
     "name": "stdout",
     "output_type": "stream",
     "text": [
      "288 matching events found\n",
      "Setting baseline interval to [-0.3, 0.0] s\n",
      "Applying baseline correction (mode: mean)\n",
      "0 projection items activated\n",
      "Using data from preloaded Raw for 288 events and 1076 original time points ...\n",
      "0 bad epochs dropped\n",
      "  Filtering 4-7 Hz...\n",
      "Filtering raw data in 1 contiguous segment\n",
      "Setting up band-pass filter from 4 - 7 Hz\n",
      "\n",
      "FIR filter parameters\n",
      "---------------------\n",
      "Designing a one-pass, zero-phase, non-causal bandpass filter:\n",
      "- Windowed time-domain design (firwin) method\n",
      "- Hamming window with 0.0194 passband ripple and 53 dB stopband attenuation\n",
      "- Lower passband edge: 4.00\n",
      "- Lower transition bandwidth: 2.00 Hz (-6 dB cutoff frequency: 3.00 Hz)\n",
      "- Upper passband edge: 7.00 Hz\n",
      "- Upper transition bandwidth: 2.00 Hz (-6 dB cutoff frequency: 8.00 Hz)\n",
      "- Filter length: 413 samples (1.652 s)\n",
      "\n",
      "Not setting metadata\n"
     ]
    },
    {
     "name": "stderr",
     "output_type": "stream",
     "text": [
      "[Parallel(n_jobs=1)]: Done  17 tasks      | elapsed:    0.2s\n"
     ]
    },
    {
     "name": "stdout",
     "output_type": "stream",
     "text": [
      "288 matching events found\n",
      "Setting baseline interval to [-0.3, 0.0] s\n",
      "Applying baseline correction (mode: mean)\n",
      "0 projection items activated\n",
      "Using data from preloaded Raw for 288 events and 1076 original time points ...\n",
      "0 bad epochs dropped\n",
      "  Filtering 6-10 Hz...\n",
      "Filtering raw data in 1 contiguous segment\n",
      "Setting up band-pass filter from 6 - 10 Hz\n",
      "\n",
      "FIR filter parameters\n",
      "---------------------\n",
      "Designing a one-pass, zero-phase, non-causal bandpass filter:\n",
      "- Windowed time-domain design (firwin) method\n",
      "- Hamming window with 0.0194 passband ripple and 53 dB stopband attenuation\n",
      "- Lower passband edge: 6.00\n",
      "- Lower transition bandwidth: 2.00 Hz (-6 dB cutoff frequency: 5.00 Hz)\n",
      "- Upper passband edge: 10.00 Hz\n",
      "- Upper transition bandwidth: 2.50 Hz (-6 dB cutoff frequency: 11.25 Hz)\n",
      "- Filter length: 413 samples (1.652 s)\n",
      "\n",
      "Not setting metadata\n",
      "288 matching events found\n",
      "Setting baseline interval to [-0.3, 0.0] s\n",
      "Applying baseline correction (mode: mean)\n",
      "0 projection items activated\n",
      "Using data from preloaded Raw for 288 events and 1076 original time points ...\n"
     ]
    },
    {
     "name": "stderr",
     "output_type": "stream",
     "text": [
      "[Parallel(n_jobs=1)]: Done  17 tasks      | elapsed:    0.3s\n"
     ]
    },
    {
     "name": "stdout",
     "output_type": "stream",
     "text": [
      "0 bad epochs dropped\n",
      "  Filtering 7-12 Hz...\n",
      "Filtering raw data in 1 contiguous segment\n",
      "Setting up band-pass filter from 7 - 12 Hz\n",
      "\n",
      "FIR filter parameters\n",
      "---------------------\n",
      "Designing a one-pass, zero-phase, non-causal bandpass filter:\n",
      "- Windowed time-domain design (firwin) method\n",
      "- Hamming window with 0.0194 passband ripple and 53 dB stopband attenuation\n",
      "- Lower passband edge: 7.00\n",
      "- Lower transition bandwidth: 2.00 Hz (-6 dB cutoff frequency: 6.00 Hz)\n",
      "- Upper passband edge: 12.00 Hz\n",
      "- Upper transition bandwidth: 3.00 Hz (-6 dB cutoff frequency: 13.50 Hz)\n",
      "- Filter length: 413 samples (1.652 s)\n",
      "\n",
      "Not setting metadata\n",
      "288 matching events found\n",
      "Setting baseline interval to [-0.3, 0.0] s\n"
     ]
    },
    {
     "name": "stderr",
     "output_type": "stream",
     "text": [
      "[Parallel(n_jobs=1)]: Done  17 tasks      | elapsed:    0.2s\n"
     ]
    },
    {
     "name": "stdout",
     "output_type": "stream",
     "text": [
      "Applying baseline correction (mode: mean)\n",
      "0 projection items activated\n",
      "Using data from preloaded Raw for 288 events and 1076 original time points ...\n",
      "0 bad epochs dropped\n",
      "  Filtering 10-15 Hz...\n",
      "Filtering raw data in 1 contiguous segment\n",
      "Setting up band-pass filter from 10 - 15 Hz\n",
      "\n",
      "FIR filter parameters\n",
      "---------------------\n",
      "Designing a one-pass, zero-phase, non-causal bandpass filter:\n",
      "- Windowed time-domain design (firwin) method\n",
      "- Hamming window with 0.0194 passband ripple and 53 dB stopband attenuation\n",
      "- Lower passband edge: 10.00\n",
      "- Lower transition bandwidth: 2.50 Hz (-6 dB cutoff frequency: 8.75 Hz)\n",
      "- Upper passband edge: 15.00 Hz\n",
      "- Upper transition bandwidth: 3.75 Hz (-6 dB cutoff frequency: 16.88 Hz)\n",
      "- Filter length: 331 samples (1.324 s)\n",
      "\n",
      "Not setting metadata\n"
     ]
    },
    {
     "name": "stderr",
     "output_type": "stream",
     "text": [
      "[Parallel(n_jobs=1)]: Done  17 tasks      | elapsed:    0.3s\n"
     ]
    },
    {
     "name": "stdout",
     "output_type": "stream",
     "text": [
      "288 matching events found\n",
      "Setting baseline interval to [-0.3, 0.0] s\n",
      "Applying baseline correction (mode: mean)\n",
      "0 projection items activated\n",
      "Using data from preloaded Raw for 288 events and 1076 original time points ...\n",
      "0 bad epochs dropped\n",
      "  Filtering 12-19 Hz...\n",
      "Filtering raw data in 1 contiguous segment\n",
      "Setting up band-pass filter from 12 - 19 Hz\n",
      "\n",
      "FIR filter parameters\n",
      "---------------------\n",
      "Designing a one-pass, zero-phase, non-causal bandpass filter:\n",
      "- Windowed time-domain design (firwin) method\n",
      "- Hamming window with 0.0194 passband ripple and 53 dB stopband attenuation\n",
      "- Lower passband edge: 12.00\n",
      "- Lower transition bandwidth: 3.00 Hz (-6 dB cutoff frequency: 10.50 Hz)\n",
      "- Upper passband edge: 19.00 Hz\n",
      "- Upper transition bandwidth: 4.75 Hz (-6 dB cutoff frequency: 21.38 Hz)\n",
      "- Filter length: 275 samples (1.100 s)\n",
      "\n",
      "Not setting metadata\n"
     ]
    },
    {
     "name": "stderr",
     "output_type": "stream",
     "text": [
      "[Parallel(n_jobs=1)]: Done  17 tasks      | elapsed:    0.3s\n"
     ]
    },
    {
     "name": "stdout",
     "output_type": "stream",
     "text": [
      "288 matching events found\n",
      "Setting baseline interval to [-0.3, 0.0] s\n",
      "Applying baseline correction (mode: mean)\n",
      "0 projection items activated\n",
      "Using data from preloaded Raw for 288 events and 1076 original time points ...\n",
      "0 bad epochs dropped\n",
      "  Filtering 15-25 Hz...\n",
      "Filtering raw data in 1 contiguous segment\n",
      "Setting up band-pass filter from 15 - 25 Hz\n",
      "\n",
      "FIR filter parameters\n",
      "---------------------\n",
      "Designing a one-pass, zero-phase, non-causal bandpass filter:\n",
      "- Windowed time-domain design (firwin) method\n",
      "- Hamming window with 0.0194 passband ripple and 53 dB stopband attenuation\n",
      "- Lower passband edge: 15.00\n",
      "- Lower transition bandwidth: 3.75 Hz (-6 dB cutoff frequency: 13.12 Hz)\n",
      "- Upper passband edge: 25.00 Hz\n",
      "- Upper transition bandwidth: 6.25 Hz (-6 dB cutoff frequency: 28.12 Hz)\n",
      "- Filter length: 221 samples (0.884 s)\n",
      "\n"
     ]
    },
    {
     "name": "stderr",
     "output_type": "stream",
     "text": [
      "[Parallel(n_jobs=1)]: Done  17 tasks      | elapsed:    0.4s\n"
     ]
    },
    {
     "name": "stdout",
     "output_type": "stream",
     "text": [
      "Not setting metadata\n",
      "288 matching events found\n",
      "Setting baseline interval to [-0.3, 0.0] s\n",
      "Applying baseline correction (mode: mean)\n",
      "0 projection items activated\n",
      "Using data from preloaded Raw for 288 events and 1076 original time points ...\n",
      "0 bad epochs dropped\n",
      "  Filtering 19-30 Hz...\n",
      "Filtering raw data in 1 contiguous segment\n",
      "Setting up band-pass filter from 19 - 30 Hz\n",
      "\n",
      "FIR filter parameters\n",
      "---------------------\n",
      "Designing a one-pass, zero-phase, non-causal bandpass filter:\n",
      "- Windowed time-domain design (firwin) method\n",
      "- Hamming window with 0.0194 passband ripple and 53 dB stopband attenuation\n",
      "- Lower passband edge: 19.00\n",
      "- Lower transition bandwidth: 4.75 Hz (-6 dB cutoff frequency: 16.62 Hz)\n",
      "- Upper passband edge: 30.00 Hz\n",
      "- Upper transition bandwidth: 7.50 Hz (-6 dB cutoff frequency: 33.75 Hz)\n",
      "- Filter length: 175 samples (0.700 s)\n",
      "\n"
     ]
    },
    {
     "name": "stderr",
     "output_type": "stream",
     "text": [
      "[Parallel(n_jobs=1)]: Done  17 tasks      | elapsed:    0.4s\n"
     ]
    },
    {
     "name": "stdout",
     "output_type": "stream",
     "text": [
      "Not setting metadata\n",
      "288 matching events found\n",
      "Setting baseline interval to [-0.3, 0.0] s\n",
      "Applying baseline correction (mode: mean)\n",
      "0 projection items activated\n",
      "Using data from preloaded Raw for 288 events and 1076 original time points ...\n",
      "0 bad epochs dropped\n",
      "  Filtering 25-35 Hz...\n",
      "Filtering raw data in 1 contiguous segment\n",
      "Setting up band-pass filter from 25 - 35 Hz\n",
      "\n",
      "FIR filter parameters\n",
      "---------------------\n",
      "Designing a one-pass, zero-phase, non-causal bandpass filter:\n",
      "- Windowed time-domain design (firwin) method\n",
      "- Hamming window with 0.0194 passband ripple and 53 dB stopband attenuation\n",
      "- Lower passband edge: 25.00\n",
      "- Lower transition bandwidth: 6.25 Hz (-6 dB cutoff frequency: 21.88 Hz)\n",
      "- Upper passband edge: 35.00 Hz\n",
      "- Upper transition bandwidth: 8.75 Hz (-6 dB cutoff frequency: 39.38 Hz)\n",
      "- Filter length: 133 samples (0.532 s)\n",
      "\n"
     ]
    },
    {
     "name": "stderr",
     "output_type": "stream",
     "text": [
      "[Parallel(n_jobs=1)]: Done  17 tasks      | elapsed:    0.4s\n"
     ]
    },
    {
     "name": "stdout",
     "output_type": "stream",
     "text": [
      "Not setting metadata\n",
      "288 matching events found\n",
      "Setting baseline interval to [-0.3, 0.0] s\n",
      "Applying baseline correction (mode: mean)\n",
      "0 projection items activated\n",
      "Using data from preloaded Raw for 288 events and 1076 original time points ...\n",
      "0 bad epochs dropped\n",
      "  Filtering 30-40 Hz...\n",
      "Filtering raw data in 1 contiguous segment\n",
      "Setting up band-pass filter from 30 - 40 Hz\n",
      "\n",
      "FIR filter parameters\n",
      "---------------------\n",
      "Designing a one-pass, zero-phase, non-causal bandpass filter:\n",
      "- Windowed time-domain design (firwin) method\n",
      "- Hamming window with 0.0194 passband ripple and 53 dB stopband attenuation\n",
      "- Lower passband edge: 30.00\n",
      "- Lower transition bandwidth: 7.50 Hz (-6 dB cutoff frequency: 26.25 Hz)\n",
      "- Upper passband edge: 40.00 Hz\n",
      "- Upper transition bandwidth: 10.00 Hz (-6 dB cutoff frequency: 45.00 Hz)\n",
      "- Filter length: 111 samples (0.444 s)\n",
      "\n"
     ]
    },
    {
     "name": "stderr",
     "output_type": "stream",
     "text": [
      "[Parallel(n_jobs=1)]: Done  17 tasks      | elapsed:    0.4s\n"
     ]
    },
    {
     "name": "stdout",
     "output_type": "stream",
     "text": [
      "Not setting metadata\n",
      "288 matching events found\n",
      "Setting baseline interval to [-0.3, 0.0] s\n",
      "Applying baseline correction (mode: mean)\n",
      "0 projection items activated\n",
      "Using data from preloaded Raw for 288 events and 1076 original time points ...\n",
      "0 bad epochs dropped\n",
      "\n",
      "Processing A09T.gdf...\n",
      "Extracting EDF parameters from C:\\Users\\hunte\\Documents\\COGS189-BCI-Competition-Project\\BCICIV_2a_gdf\\A09T.gdf...\n",
      "GDF file detected\n",
      "Setting channel info structure...\n",
      "Could not determine channel type of the following channels, they will be set as EEG:\n",
      "EEG-Fz, EEG, EEG, EEG, EEG, EEG, EEG, EEG-C3, EEG, EEG-Cz, EEG, EEG-C4, EEG, EEG, EEG, EEG, EEG, EEG, EEG, EEG-Pz, EEG, EEG, EOG-left, EOG-central, EOG-right\n",
      "Creating raw.info structure...\n",
      "Reading 0 ... 673327  =      0.000 ...  2693.308 secs...\n"
     ]
    },
    {
     "name": "stderr",
     "output_type": "stream",
     "text": [
      "c:\\Users\\hunte\\anaconda3\\envs\\CSE156\\Lib\\contextlib.py:144: RuntimeWarning: Channel names are not unique, found duplicates for: {'EEG'}. Applying running numbers for duplicates.\n",
      "  next(self.gen)\n"
     ]
    },
    {
     "name": "stdout",
     "output_type": "stream",
     "text": [
      "Used Annotations descriptions: ['1023', '1072', '276', '277', '32766', '768', '769', '770', '771', '772']\n",
      "  Filtering 1-3 Hz...\n",
      "Filtering raw data in 1 contiguous segment\n",
      "Setting up band-pass filter from 1 - 3 Hz\n",
      "\n",
      "FIR filter parameters\n",
      "---------------------\n",
      "Designing a one-pass, zero-phase, non-causal bandpass filter:\n",
      "- Windowed time-domain design (firwin) method\n",
      "- Hamming window with 0.0194 passband ripple and 53 dB stopband attenuation\n",
      "- Lower passband edge: 1.00\n",
      "- Lower transition bandwidth: 1.00 Hz (-6 dB cutoff frequency: 0.50 Hz)\n",
      "- Upper passband edge: 3.00 Hz\n",
      "- Upper transition bandwidth: 2.00 Hz (-6 dB cutoff frequency: 4.00 Hz)\n",
      "- Filter length: 825 samples (3.300 s)\n",
      "\n",
      "Not setting metadata\n"
     ]
    },
    {
     "name": "stderr",
     "output_type": "stream",
     "text": [
      "[Parallel(n_jobs=1)]: Done  17 tasks      | elapsed:    0.2s\n"
     ]
    },
    {
     "name": "stdout",
     "output_type": "stream",
     "text": [
      "288 matching events found\n",
      "Setting baseline interval to [-0.3, 0.0] s\n",
      "Applying baseline correction (mode: mean)\n",
      "0 projection items activated\n",
      "Using data from preloaded Raw for 288 events and 1076 original time points ...\n",
      "0 bad epochs dropped\n",
      "  Filtering 2-5 Hz...\n",
      "Filtering raw data in 1 contiguous segment\n",
      "Setting up band-pass filter from 2 - 5 Hz\n",
      "\n",
      "FIR filter parameters\n",
      "---------------------\n",
      "Designing a one-pass, zero-phase, non-causal bandpass filter:\n",
      "- Windowed time-domain design (firwin) method\n",
      "- Hamming window with 0.0194 passband ripple and 53 dB stopband attenuation\n",
      "- Lower passband edge: 2.00\n",
      "- Lower transition bandwidth: 2.00 Hz (-6 dB cutoff frequency: 1.00 Hz)\n",
      "- Upper passband edge: 5.00 Hz\n",
      "- Upper transition bandwidth: 2.00 Hz (-6 dB cutoff frequency: 6.00 Hz)\n",
      "- Filter length: 413 samples (1.652 s)\n",
      "\n",
      "Not setting metadata\n",
      "288 matching events found\n",
      "Setting baseline interval to [-0.3, 0.0] s\n",
      "Applying baseline correction (mode: mean)\n",
      "0 projection items activated\n",
      "Using data from preloaded Raw for 288 events and 1076 original time points ...\n"
     ]
    },
    {
     "name": "stderr",
     "output_type": "stream",
     "text": [
      "[Parallel(n_jobs=1)]: Done  17 tasks      | elapsed:    0.2s\n"
     ]
    },
    {
     "name": "stdout",
     "output_type": "stream",
     "text": [
      "0 bad epochs dropped\n",
      "  Filtering 4-7 Hz...\n",
      "Filtering raw data in 1 contiguous segment\n",
      "Setting up band-pass filter from 4 - 7 Hz\n",
      "\n",
      "FIR filter parameters\n",
      "---------------------\n",
      "Designing a one-pass, zero-phase, non-causal bandpass filter:\n",
      "- Windowed time-domain design (firwin) method\n",
      "- Hamming window with 0.0194 passband ripple and 53 dB stopband attenuation\n",
      "- Lower passband edge: 4.00\n",
      "- Lower transition bandwidth: 2.00 Hz (-6 dB cutoff frequency: 3.00 Hz)\n",
      "- Upper passband edge: 7.00 Hz\n",
      "- Upper transition bandwidth: 2.00 Hz (-6 dB cutoff frequency: 8.00 Hz)\n",
      "- Filter length: 413 samples (1.652 s)\n",
      "\n",
      "Not setting metadata\n",
      "288 matching events found\n",
      "Setting baseline interval to [-0.3, 0.0] s\n"
     ]
    },
    {
     "name": "stderr",
     "output_type": "stream",
     "text": [
      "[Parallel(n_jobs=1)]: Done  17 tasks      | elapsed:    0.2s\n"
     ]
    },
    {
     "name": "stdout",
     "output_type": "stream",
     "text": [
      "Applying baseline correction (mode: mean)\n",
      "0 projection items activated\n",
      "Using data from preloaded Raw for 288 events and 1076 original time points ...\n",
      "0 bad epochs dropped\n",
      "  Filtering 6-10 Hz...\n",
      "Filtering raw data in 1 contiguous segment\n",
      "Setting up band-pass filter from 6 - 10 Hz\n",
      "\n",
      "FIR filter parameters\n",
      "---------------------\n",
      "Designing a one-pass, zero-phase, non-causal bandpass filter:\n",
      "- Windowed time-domain design (firwin) method\n",
      "- Hamming window with 0.0194 passband ripple and 53 dB stopband attenuation\n",
      "- Lower passband edge: 6.00\n",
      "- Lower transition bandwidth: 2.00 Hz (-6 dB cutoff frequency: 5.00 Hz)\n",
      "- Upper passband edge: 10.00 Hz\n",
      "- Upper transition bandwidth: 2.50 Hz (-6 dB cutoff frequency: 11.25 Hz)\n",
      "- Filter length: 413 samples (1.652 s)\n",
      "\n",
      "Not setting metadata\n",
      "288 matching events found\n",
      "Setting baseline interval to [-0.3, 0.0] s\n"
     ]
    },
    {
     "name": "stderr",
     "output_type": "stream",
     "text": [
      "[Parallel(n_jobs=1)]: Done  17 tasks      | elapsed:    0.2s\n"
     ]
    },
    {
     "name": "stdout",
     "output_type": "stream",
     "text": [
      "Applying baseline correction (mode: mean)\n",
      "0 projection items activated\n",
      "Using data from preloaded Raw for 288 events and 1076 original time points ...\n",
      "0 bad epochs dropped\n",
      "  Filtering 7-12 Hz...\n",
      "Filtering raw data in 1 contiguous segment\n",
      "Setting up band-pass filter from 7 - 12 Hz\n",
      "\n",
      "FIR filter parameters\n",
      "---------------------\n",
      "Designing a one-pass, zero-phase, non-causal bandpass filter:\n",
      "- Windowed time-domain design (firwin) method\n",
      "- Hamming window with 0.0194 passband ripple and 53 dB stopband attenuation\n",
      "- Lower passband edge: 7.00\n",
      "- Lower transition bandwidth: 2.00 Hz (-6 dB cutoff frequency: 6.00 Hz)\n",
      "- Upper passband edge: 12.00 Hz\n",
      "- Upper transition bandwidth: 3.00 Hz (-6 dB cutoff frequency: 13.50 Hz)\n",
      "- Filter length: 413 samples (1.652 s)\n",
      "\n",
      "Not setting metadata\n"
     ]
    },
    {
     "name": "stderr",
     "output_type": "stream",
     "text": [
      "[Parallel(n_jobs=1)]: Done  17 tasks      | elapsed:    0.2s\n"
     ]
    },
    {
     "name": "stdout",
     "output_type": "stream",
     "text": [
      "288 matching events found\n",
      "Setting baseline interval to [-0.3, 0.0] s\n",
      "Applying baseline correction (mode: mean)\n",
      "0 projection items activated\n",
      "Using data from preloaded Raw for 288 events and 1076 original time points ...\n",
      "0 bad epochs dropped\n",
      "  Filtering 10-15 Hz...\n",
      "Filtering raw data in 1 contiguous segment\n",
      "Setting up band-pass filter from 10 - 15 Hz\n",
      "\n",
      "FIR filter parameters\n",
      "---------------------\n",
      "Designing a one-pass, zero-phase, non-causal bandpass filter:\n",
      "- Windowed time-domain design (firwin) method\n",
      "- Hamming window with 0.0194 passband ripple and 53 dB stopband attenuation\n",
      "- Lower passband edge: 10.00\n",
      "- Lower transition bandwidth: 2.50 Hz (-6 dB cutoff frequency: 8.75 Hz)\n",
      "- Upper passband edge: 15.00 Hz\n",
      "- Upper transition bandwidth: 3.75 Hz (-6 dB cutoff frequency: 16.88 Hz)\n",
      "- Filter length: 331 samples (1.324 s)\n",
      "\n",
      "Not setting metadata\n",
      "288 matching events found\n",
      "Setting baseline interval to [-0.3, 0.0] s\n",
      "Applying baseline correction (mode: mean)\n",
      "0 projection items activated\n",
      "Using data from preloaded Raw for 288 events and 1076 original time points ...\n"
     ]
    },
    {
     "name": "stderr",
     "output_type": "stream",
     "text": [
      "[Parallel(n_jobs=1)]: Done  17 tasks      | elapsed:    0.2s\n"
     ]
    },
    {
     "name": "stdout",
     "output_type": "stream",
     "text": [
      "0 bad epochs dropped\n",
      "  Filtering 12-19 Hz...\n",
      "Filtering raw data in 1 contiguous segment\n",
      "Setting up band-pass filter from 12 - 19 Hz\n",
      "\n",
      "FIR filter parameters\n",
      "---------------------\n",
      "Designing a one-pass, zero-phase, non-causal bandpass filter:\n",
      "- Windowed time-domain design (firwin) method\n",
      "- Hamming window with 0.0194 passband ripple and 53 dB stopband attenuation\n",
      "- Lower passband edge: 12.00\n",
      "- Lower transition bandwidth: 3.00 Hz (-6 dB cutoff frequency: 10.50 Hz)\n",
      "- Upper passband edge: 19.00 Hz\n",
      "- Upper transition bandwidth: 4.75 Hz (-6 dB cutoff frequency: 21.38 Hz)\n",
      "- Filter length: 275 samples (1.100 s)\n",
      "\n",
      "Not setting metadata\n"
     ]
    },
    {
     "name": "stderr",
     "output_type": "stream",
     "text": [
      "[Parallel(n_jobs=1)]: Done  17 tasks      | elapsed:    0.3s\n"
     ]
    },
    {
     "name": "stdout",
     "output_type": "stream",
     "text": [
      "288 matching events found\n",
      "Setting baseline interval to [-0.3, 0.0] s\n",
      "Applying baseline correction (mode: mean)\n",
      "0 projection items activated\n",
      "Using data from preloaded Raw for 288 events and 1076 original time points ...\n",
      "0 bad epochs dropped\n",
      "  Filtering 15-25 Hz...\n",
      "Filtering raw data in 1 contiguous segment\n",
      "Setting up band-pass filter from 15 - 25 Hz\n",
      "\n",
      "FIR filter parameters\n",
      "---------------------\n",
      "Designing a one-pass, zero-phase, non-causal bandpass filter:\n",
      "- Windowed time-domain design (firwin) method\n",
      "- Hamming window with 0.0194 passband ripple and 53 dB stopband attenuation\n",
      "- Lower passband edge: 15.00\n",
      "- Lower transition bandwidth: 3.75 Hz (-6 dB cutoff frequency: 13.12 Hz)\n",
      "- Upper passband edge: 25.00 Hz\n",
      "- Upper transition bandwidth: 6.25 Hz (-6 dB cutoff frequency: 28.12 Hz)\n",
      "- Filter length: 221 samples (0.884 s)\n",
      "\n",
      "Not setting metadata\n"
     ]
    },
    {
     "name": "stderr",
     "output_type": "stream",
     "text": [
      "[Parallel(n_jobs=1)]: Done  17 tasks      | elapsed:    0.3s\n"
     ]
    },
    {
     "name": "stdout",
     "output_type": "stream",
     "text": [
      "288 matching events found\n",
      "Setting baseline interval to [-0.3, 0.0] s\n",
      "Applying baseline correction (mode: mean)\n",
      "0 projection items activated\n",
      "Using data from preloaded Raw for 288 events and 1076 original time points ...\n",
      "0 bad epochs dropped\n",
      "  Filtering 19-30 Hz...\n",
      "Filtering raw data in 1 contiguous segment\n",
      "Setting up band-pass filter from 19 - 30 Hz\n",
      "\n",
      "FIR filter parameters\n",
      "---------------------\n",
      "Designing a one-pass, zero-phase, non-causal bandpass filter:\n",
      "- Windowed time-domain design (firwin) method\n",
      "- Hamming window with 0.0194 passband ripple and 53 dB stopband attenuation\n",
      "- Lower passband edge: 19.00\n",
      "- Lower transition bandwidth: 4.75 Hz (-6 dB cutoff frequency: 16.62 Hz)\n",
      "- Upper passband edge: 30.00 Hz\n",
      "- Upper transition bandwidth: 7.50 Hz (-6 dB cutoff frequency: 33.75 Hz)\n",
      "- Filter length: 175 samples (0.700 s)\n",
      "\n"
     ]
    },
    {
     "name": "stderr",
     "output_type": "stream",
     "text": [
      "[Parallel(n_jobs=1)]: Done  17 tasks      | elapsed:    0.2s\n"
     ]
    },
    {
     "name": "stdout",
     "output_type": "stream",
     "text": [
      "Not setting metadata\n",
      "288 matching events found\n",
      "Setting baseline interval to [-0.3, 0.0] s\n",
      "Applying baseline correction (mode: mean)\n",
      "0 projection items activated\n",
      "Using data from preloaded Raw for 288 events and 1076 original time points ...\n",
      "0 bad epochs dropped\n",
      "  Filtering 25-35 Hz...\n",
      "Filtering raw data in 1 contiguous segment\n",
      "Setting up band-pass filter from 25 - 35 Hz\n",
      "\n",
      "FIR filter parameters\n",
      "---------------------\n",
      "Designing a one-pass, zero-phase, non-causal bandpass filter:\n",
      "- Windowed time-domain design (firwin) method\n",
      "- Hamming window with 0.0194 passband ripple and 53 dB stopband attenuation\n",
      "- Lower passband edge: 25.00\n",
      "- Lower transition bandwidth: 6.25 Hz (-6 dB cutoff frequency: 21.88 Hz)\n",
      "- Upper passband edge: 35.00 Hz\n",
      "- Upper transition bandwidth: 8.75 Hz (-6 dB cutoff frequency: 39.38 Hz)\n",
      "- Filter length: 133 samples (0.532 s)\n",
      "\n"
     ]
    },
    {
     "name": "stderr",
     "output_type": "stream",
     "text": [
      "[Parallel(n_jobs=1)]: Done  17 tasks      | elapsed:    0.4s\n"
     ]
    },
    {
     "name": "stdout",
     "output_type": "stream",
     "text": [
      "Not setting metadata\n",
      "288 matching events found\n",
      "Setting baseline interval to [-0.3, 0.0] s\n",
      "Applying baseline correction (mode: mean)\n",
      "0 projection items activated\n",
      "Using data from preloaded Raw for 288 events and 1076 original time points ...\n",
      "0 bad epochs dropped\n",
      "  Filtering 30-40 Hz...\n",
      "Filtering raw data in 1 contiguous segment\n",
      "Setting up band-pass filter from 30 - 40 Hz\n",
      "\n",
      "FIR filter parameters\n",
      "---------------------\n",
      "Designing a one-pass, zero-phase, non-causal bandpass filter:\n",
      "- Windowed time-domain design (firwin) method\n",
      "- Hamming window with 0.0194 passband ripple and 53 dB stopband attenuation\n",
      "- Lower passband edge: 30.00\n",
      "- Lower transition bandwidth: 7.50 Hz (-6 dB cutoff frequency: 26.25 Hz)\n",
      "- Upper passband edge: 40.00 Hz\n",
      "- Upper transition bandwidth: 10.00 Hz (-6 dB cutoff frequency: 45.00 Hz)\n",
      "- Filter length: 111 samples (0.444 s)\n",
      "\n"
     ]
    },
    {
     "name": "stderr",
     "output_type": "stream",
     "text": [
      "[Parallel(n_jobs=1)]: Done  17 tasks      | elapsed:    0.4s\n"
     ]
    },
    {
     "name": "stdout",
     "output_type": "stream",
     "text": [
      "Not setting metadata\n",
      "288 matching events found\n",
      "Setting baseline interval to [-0.3, 0.0] s\n",
      "Applying baseline correction (mode: mean)\n",
      "0 projection items activated\n",
      "Using data from preloaded Raw for 288 events and 1076 original time points ...\n",
      "0 bad epochs dropped\n"
     ]
    }
   ],
   "source": [
    "passbands = [\n",
    "    (1, 3), (2, 5), (4, 7), (6, 10), (7, 12),\n",
    "    (10, 15), (12, 19), (15, 25), (19, 30),\n",
    "    (25, 35), (30, 40)\n",
    "]\n",
    "\n",
    "gdf_folder = Path(\"BCICIV_2a_gdf\")\n",
    "\n",
    "target_events = {'769': 'left', '770': 'right', '771': 'feet', '772': 'tongue'}\n",
    "\n",
    "filtered_data = []\n",
    "labels_2d = []\n",
    "\n",
    "# skipping AO4T because only has eye movement\n",
    "users = [\"A01T.gdf\", \"A02T.gdf\", \"A03T.gdf\", \"A05T.gdf\", \"A06T.gdf\", \"A07T.gdf\", \"A08T.gdf\", \"A09T.gdf\"]\n",
    "\n",
    "for subject in users:\n",
    "    # Iterate through users\n",
    "    gdf_path = gdf_folder / subject\n",
    "    print(f\"\\nProcessing {subject}...\")\n",
    "    \n",
    "    raw = mne.io.read_raw_gdf(gdf_path.resolve(), preload=True)\n",
    "    events, event_id_map = mne.events_from_annotations(raw)\n",
    "\n",
    "    subject_data = []\n",
    "    user_labels = []\n",
    "\n",
    "    user_event_ids = {target_events[key]: event_id_map[key] for key in target_events if key in event_id_map}\n",
    "\n",
    "    # Filter and epoch for each band\n",
    "    for band in passbands:\n",
    "        low, high = band\n",
    "        print(f\"  Filtering {low}-{high} Hz...\")\n",
    "\n",
    "        # Bandpass filter\n",
    "        raw_filtered = raw.copy().filter(l_freq=low, h_freq=high, method='fir', fir_design='firwin')\n",
    "\n",
    "        # Create epochs\n",
    "        epochs = mne.Epochs(raw_filtered, events, event_id=user_event_ids, baseline=(None, 0), event_repeated='merge', preload=True, tmin=-.3, tmax=4)\n",
    "        labels = epochs.events[:, -1]  # Last column contains the event ID\n",
    "\n",
    "        # Collect data and labels\n",
    "        subject_data.append(epochs.get_data()[:, :-3, :])  # Shape: (n_trials, n_channels, n_times)\n",
    "        user_labels.append(labels)\n",
    "\n",
    "    filtered_data.append(subject_data)\n",
    "    labels_2d.append(user_labels)"
   ]
  },
  {
   "cell_type": "code",
   "execution_count": 3,
   "metadata": {},
   "outputs": [
    {
     "data": {
      "text/plain": [
       "(8, 11, 288, 22, 1076)"
      ]
     },
     "execution_count": 3,
     "metadata": {},
     "output_type": "execute_result"
    }
   ],
   "source": [
    "filtered_data = np.array(filtered_data)\n",
    "filtered_data.shape"
   ]
  },
  {
   "cell_type": "code",
   "execution_count": 4,
   "metadata": {},
   "outputs": [
    {
     "data": {
      "text/plain": [
       "(8, 11, 288)"
      ]
     },
     "execution_count": 4,
     "metadata": {},
     "output_type": "execute_result"
    }
   ],
   "source": [
    "labels_2d = np.array(labels_2d)\n",
    "labels_2d.shape"
   ]
  },
  {
   "cell_type": "markdown",
   "metadata": {},
   "source": [
    "**Separating data into 4 groups**"
   ]
  },
  {
   "cell_type": "code",
   "execution_count": 5,
   "metadata": {},
   "outputs": [
    {
     "data": {
      "text/plain": [
       "((8, 11, 72, 22, 1076),\n",
       " (8, 11, 72, 22, 1076),\n",
       " (8, 11, 72, 22, 1076),\n",
       " (8, 11, 72, 22, 1076))"
      ]
     },
     "execution_count": 5,
     "metadata": {},
     "output_type": "execute_result"
    }
   ],
   "source": [
    "data_left = []\n",
    "data_right = []\n",
    "data_feet = []\n",
    "data_tongue = []\n",
    "\n",
    "for subject in range(len(filtered_data)):\n",
    "    subject_data_left = []\n",
    "    subject_data_right = []\n",
    "    subject_data_feet = []\n",
    "    subject_data_tongue = []\n",
    "    for band in range(len(filtered_data[subject])):\n",
    "        band_data_left = []\n",
    "        band_data_right = []\n",
    "        band_data_feet = []\n",
    "        band_data_tongue = []\n",
    "        for label in range(len(labels_2d[subject][band])):\n",
    "            if labels_2d[subject][band][label] == 7:\n",
    "                band_data_left.append(filtered_data[subject][band][label])\n",
    "            elif labels_2d[subject][band][label] == 8:\n",
    "                band_data_right.append(filtered_data[subject][band][label])\n",
    "            elif labels_2d[subject][band][label] == 9:\n",
    "                band_data_feet.append(filtered_data[subject][band][label])\n",
    "            else:\n",
    "                band_data_tongue.append(filtered_data[subject][band][label])\n",
    "        subject_data_left.append(band_data_left)\n",
    "        subject_data_right.append(band_data_right)\n",
    "        subject_data_feet.append(band_data_feet)\n",
    "        subject_data_tongue.append(band_data_tongue)\n",
    "    data_left.append(subject_data_left)\n",
    "    data_right.append(subject_data_right)\n",
    "    data_feet.append(subject_data_feet)\n",
    "    data_tongue.append(subject_data_tongue)\n",
    "\n",
    "data_left = np.array(data_left)\n",
    "data_right = np.array(data_right)\n",
    "data_feet = np.array(data_feet)\n",
    "data_tongue = np.array(data_tongue)\n",
    "\n",
    "data_left.shape, data_right.shape, data_feet.shape, data_tongue.shape"
   ]
  },
  {
   "cell_type": "code",
   "execution_count": 6,
   "metadata": {},
   "outputs": [],
   "source": [
    "data_OVR_left = []\n",
    "data_OVR_right = []\n",
    "data_OVR_feet = []\n",
    "data_OVR_tongue = []\n",
    "\n",
    "random_samples = np.random.permutation(72)\n",
    "random_sample_range1 = random_samples[:24]\n",
    "random_sample_range2 = random_samples[24:48]\n",
    "random_sample_range3 = random_samples[48:72]\n",
    "\n",
    "# data_OVR_left\n",
    "for subject in range(8):\n",
    "    subject_data = []\n",
    "    for band in range(11):\n",
    "        band_data = []\n",
    "        for sample in random_sample_range1:\n",
    "            band_data.append(data_right[subject][band][sample])\n",
    "        for sample in random_sample_range2:\n",
    "            band_data.append(data_feet[subject][band][sample])\n",
    "        for sample in random_sample_range3:\n",
    "            band_data.append(data_tongue[subject][band][sample])\n",
    "        np.random.shuffle(band_data)\n",
    "        subject_data.append(band_data)\n",
    "    data_OVR_left.append(subject_data)\n",
    "\n",
    "# data_OVR_right\n",
    "for subject in range(8):\n",
    "    subject_data = []\n",
    "    for band in range(11):\n",
    "        band_data = []\n",
    "        for sample in random_sample_range1:\n",
    "            band_data.append(data_left[subject][band][sample])\n",
    "        for sample in random_sample_range2:\n",
    "            band_data.append(data_feet[subject][band][sample])\n",
    "        for sample in random_sample_range3:\n",
    "            band_data.append(data_tongue[subject][band][sample])\n",
    "        np.random.shuffle(band_data)\n",
    "        subject_data.append(band_data)\n",
    "    data_OVR_right.append(subject_data)\n",
    "\n",
    "# data_OVR_feet\n",
    "for subject in range(8):\n",
    "    subject_data = []\n",
    "    for band in range(11):\n",
    "        band_data = []\n",
    "        for sample in random_sample_range1:\n",
    "            band_data.append(data_left[subject][band][sample])\n",
    "        for sample in random_sample_range2:\n",
    "            band_data.append(data_right[subject][band][sample])\n",
    "        for sample in random_sample_range3:\n",
    "            band_data.append(data_tongue[subject][band][sample])\n",
    "        np.random.shuffle(band_data)\n",
    "        subject_data.append(band_data)\n",
    "    data_OVR_feet.append(subject_data)\n",
    "\n",
    "# data_OVR_tongue\n",
    "for subject in range(8):\n",
    "    subject_data = []\n",
    "    for band in range(11):\n",
    "        band_data = []\n",
    "        for sample in random_sample_range1:\n",
    "            band_data.append(data_left[subject][band][sample])\n",
    "        for sample in random_sample_range2:\n",
    "            band_data.append(data_right[subject][band][sample])\n",
    "        for sample in random_sample_range3:\n",
    "            band_data.append(data_feet[subject][band][sample])\n",
    "        np.random.shuffle(band_data)\n",
    "        subject_data.append(band_data)\n",
    "    data_OVR_tongue.append(subject_data)\n",
    "\n",
    "# Convert to numpy arrays\n",
    "data_OVR_left = np.array(data_OVR_left)\n",
    "data_OVR_right = np.array(data_OVR_right)\n",
    "data_OVR_feet = np.array(data_OVR_feet)\n",
    "data_OVR_tongue = np.array(data_OVR_tongue)"
   ]
  },
  {
   "cell_type": "code",
   "execution_count": 7,
   "metadata": {},
   "outputs": [
    {
     "data": {
      "text/plain": [
       "((8, 11, 22, 1076, 72),\n",
       " (8, 11, 22, 1076, 72),\n",
       " (8, 11, 22, 1076, 72),\n",
       " (8, 11, 22, 1076, 72))"
      ]
     },
     "execution_count": 7,
     "metadata": {},
     "output_type": "execute_result"
    }
   ],
   "source": [
    "# # Reordering dimensions\n",
    "data_left = data_left.transpose(0, 1, 3, 4, 2)\n",
    "data_right = data_right.transpose(0, 1, 3, 4, 2)\n",
    "data_feet = data_feet.transpose(0, 1, 3, 4, 2)\n",
    "data_tongue = data_tongue.transpose(0, 1, 3, 4, 2)\n",
    "\n",
    "data_left.shape, data_right.shape, data_feet.shape, data_tongue.shape"
   ]
  },
  {
   "cell_type": "code",
   "execution_count": 8,
   "metadata": {},
   "outputs": [
    {
     "data": {
      "text/plain": [
       "((8, 11, 22, 1076, 72),\n",
       " (8, 11, 22, 1076, 72),\n",
       " (8, 11, 22, 1076, 72),\n",
       " (8, 11, 22, 1076, 72))"
      ]
     },
     "execution_count": 8,
     "metadata": {},
     "output_type": "execute_result"
    }
   ],
   "source": [
    "# # Reordering dimensions\n",
    "data_OVR_left = data_OVR_left.transpose(0, 1, 3, 4, 2)\n",
    "data_OVR_right = data_OVR_right.transpose(0, 1, 3, 4, 2)\n",
    "data_OVR_feet = data_OVR_feet.transpose(0, 1, 3, 4, 2)\n",
    "data_OVR_tongue = data_OVR_tongue.transpose(0, 1, 3, 4, 2)\n",
    "\n",
    "data_OVR_left.shape, data_OVR_right.shape, data_OVR_feet.shape, data_OVR_tongue.shape"
   ]
  },
  {
   "cell_type": "markdown",
   "metadata": {},
   "source": [
    "### Start of Assignment 3 Code"
   ]
  },
  {
   "cell_type": "code",
   "execution_count": 9,
   "metadata": {},
   "outputs": [],
   "source": [
    "n_sample = 72"
   ]
  },
  {
   "cell_type": "code",
   "execution_count": 10,
   "metadata": {},
   "outputs": [
    {
     "data": {
      "text/plain": [
       "array([24, 66, 50,  5,  3, 62, 27, 71, 53, 14, 11, 15, 58, 12, 51, 60, 52,\n",
       "       23, 37, 55, 59, 28, 42, 47, 67,  9, 68, 18, 22,  8, 29,  6, 33,  2,\n",
       "       70, 57, 45, 31, 10, 38, 61, 49, 69, 26, 40, 39, 30, 65, 13, 48, 25,\n",
       "       34, 43, 35,  4, 21, 16, 46, 44, 32,  1,  0, 19, 17, 20, 63,  7, 64,\n",
       "       56, 41, 36, 54])"
      ]
     },
     "execution_count": 10,
     "metadata": {},
     "output_type": "execute_result"
    }
   ],
   "source": [
    "#n_channel, n_time, n_sample = EEGR_train[0][0].shape\n",
    "randIdx = np.random.permutation(n_sample)\n",
    "randIdx"
   ]
  },
  {
   "cell_type": "code",
   "execution_count": 11,
   "metadata": {},
   "outputs": [
    {
     "name": "stdout",
     "output_type": "stream",
     "text": [
      "Our k is: 6\n",
      "Our bin size is: 12\n",
      "[[24 66 50  5  3 62 27 71 53 14 11 15]\n",
      " [58 12 51 60 52 23 37 55 59 28 42 47]\n",
      " [67  9 68 18 22  8 29  6 33  2 70 57]\n",
      " [45 31 10 38 61 49 69 26 40 39 30 65]\n",
      " [13 48 25 34 43 35  4 21 16 46 44 32]\n",
      " [ 1  0 19 17 20 63  7 64 56 41 36 54]]\n"
     ]
    }
   ],
   "source": [
    "k = 6\n",
    "print(f'Our k is: {k}')\n",
    "\n",
    "bin_size = int(n_sample / k)\n",
    "print(f'Our bin size is: {bin_size}')\n",
    "\n",
    "# In order to make our task easier, \n",
    "# we can reshape randIdx to have k rows and bin_size columns\n",
    "# by using .reshape():\n",
    "randIdx = randIdx.reshape(k, bin_size)\n",
    "print(randIdx)"
   ]
  },
  {
   "cell_type": "code",
   "execution_count": 12,
   "metadata": {},
   "outputs": [],
   "source": [
    "trainIdx = np.zeros((k, bin_size*(k-1)), dtype=int)\n",
    "valIdx = np.zeros((k, bin_size), dtype=int)"
   ]
  },
  {
   "cell_type": "code",
   "execution_count": 13,
   "metadata": {},
   "outputs": [
    {
     "data": {
      "text/plain": [
       "array([[24, 66, 50,  5,  3, 62, 27, 71, 53, 14, 11, 15],\n",
       "       [ 4, 30,  2, 66, 54, 19, 15, 48, 44, 55, 70, 28],\n",
       "       [56, 59,  1, 46, 55, 29, 20, 22, 21,  6, 14, 40],\n",
       "       [47, 57,  8, 52, 13,  2, 23, 40, 20, 39, 41, 11],\n",
       "       [29, 21, 66, 14, 15,  2, 16,  5, 34,  9, 11, 55],\n",
       "       [ 7, 21, 57, 41, 30, 46, 49, 48, 68, 70, 25, 66]])"
      ]
     },
     "execution_count": 13,
     "metadata": {},
     "output_type": "execute_result"
    }
   ],
   "source": [
    "# We'll reset trainIdx and valIdx (just in case)\n",
    "# Note: feel free to use uninitialized lists and append\n",
    "#       this is just one possible starting point to show\n",
    "#       the correct size of these objects.\n",
    "trainIdx = np.zeros((k, bin_size*(k-1)), dtype=int) # could also be = []\n",
    "valIdx = np.zeros((k, bin_size), dtype=int)           # could also be = []\n",
    "\n",
    "# --- Question 4 ---\n",
    "# YOUR CODE HERE\n",
    "\n",
    "for i in range(k):\n",
    "    lst = []\n",
    "    for row in range(k):\n",
    "        if row == 0:\n",
    "            valIdx[i] = randIdx[row]\n",
    "            continue\n",
    "        for col in range(len(randIdx[0])):\n",
    "            lst.append(randIdx[row][col])\n",
    "    trainIdx[i] = lst\n",
    "    randIdx = np.random.permutation(n_sample)\n",
    "    randIdx = randIdx.reshape(k, bin_size)\n",
    "valIdx"
   ]
  },
  {
   "cell_type": "code",
   "execution_count": 14,
   "metadata": {},
   "outputs": [],
   "source": [
    "# Depending on your solution, valIdx and trainIdx may not be np.arrays\n",
    "# Let's guarantee they are\n",
    "valIdx = np.array(valIdx)\n",
    "trainIdx = np.array(trainIdx)\n",
    "\n",
    "assert valIdx.shape == (k, bin_size)\n",
    "assert trainIdx.shape == (k, bin_size*(k-1))"
   ]
  },
  {
   "cell_type": "code",
   "execution_count": 15,
   "metadata": {},
   "outputs": [
    {
     "data": {
      "text/plain": [
       "(6, 60)"
      ]
     },
     "execution_count": 15,
     "metadata": {},
     "output_type": "execute_result"
    }
   ],
   "source": [
    "trainIdx.shape"
   ]
  },
  {
   "cell_type": "code",
   "execution_count": 16,
   "metadata": {},
   "outputs": [
    {
     "data": {
      "text/plain": [
       "(6, 12)"
      ]
     },
     "execution_count": 16,
     "metadata": {},
     "output_type": "execute_result"
    }
   ],
   "source": [
    "valIdx.shape"
   ]
  },
  {
   "cell_type": "code",
   "execution_count": 17,
   "metadata": {},
   "outputs": [
    {
     "data": {
      "text/plain": [
       "(22, 1076, 72)"
      ]
     },
     "execution_count": 17,
     "metadata": {},
     "output_type": "execute_result"
    }
   ],
   "source": [
    "data_left[0, 0].shape"
   ]
  },
  {
   "cell_type": "markdown",
   "metadata": {},
   "source": [
    "### This is left vs right classification from assignment 3"
   ]
  },
  {
   "cell_type": "code",
   "execution_count": 18,
   "metadata": {},
   "outputs": [
    {
     "name": "stdout",
     "output_type": "stream",
     "text": [
      "===============\n",
      "Processing Subject 1/8\n",
      "Processing Fold 1/6\n",
      "Processing Fold 2/6\n",
      "Processing Fold 3/6\n",
      "Processing Fold 4/6\n",
      "Processing Fold 5/6\n",
      "Processing Fold 6/6\n",
      "===============\n",
      "Processing Subject 2/8\n",
      "Processing Fold 1/6\n",
      "Processing Fold 2/6\n",
      "Processing Fold 3/6\n",
      "Processing Fold 4/6\n",
      "Processing Fold 5/6\n",
      "Processing Fold 6/6\n",
      "===============\n",
      "Processing Subject 3/8\n",
      "Processing Fold 1/6\n",
      "Processing Fold 2/6\n",
      "Processing Fold 3/6\n",
      "Processing Fold 4/6\n",
      "Processing Fold 5/6\n",
      "Processing Fold 6/6\n",
      "===============\n",
      "Processing Subject 4/8\n",
      "Processing Fold 1/6\n",
      "Processing Fold 2/6\n",
      "Processing Fold 3/6\n",
      "Processing Fold 4/6\n",
      "Processing Fold 5/6\n",
      "Processing Fold 6/6\n",
      "===============\n",
      "Processing Subject 5/8\n",
      "Processing Fold 1/6\n",
      "Processing Fold 2/6\n",
      "Processing Fold 3/6\n",
      "Processing Fold 4/6\n",
      "Processing Fold 5/6\n",
      "Processing Fold 6/6\n",
      "===============\n",
      "Processing Subject 6/8\n",
      "Processing Fold 1/6\n",
      "Processing Fold 2/6\n",
      "Processing Fold 3/6\n",
      "Processing Fold 4/6\n",
      "Processing Fold 5/6\n",
      "Processing Fold 6/6\n",
      "===============\n",
      "Processing Subject 7/8\n",
      "Processing Fold 1/6\n",
      "Processing Fold 2/6\n",
      "Processing Fold 3/6\n",
      "Processing Fold 4/6\n",
      "Processing Fold 5/6\n",
      "Processing Fold 6/6\n",
      "===============\n",
      "Processing Subject 8/8\n",
      "Processing Fold 1/6\n",
      "Processing Fold 2/6\n",
      "Processing Fold 3/6\n",
      "Processing Fold 4/6\n",
      "Processing Fold 5/6\n",
      "Processing Fold 6/6\n",
      "===============\n",
      "[0.85416667 0.68055556 0.94444444 0.79166667 0.80555556 0.89583333\n",
      " 0.96527778 0.80555556]\n"
     ]
    }
   ],
   "source": [
    "# Main Analysis (Do Not Modify)\n",
    "\n",
    "# Declare useful variables\n",
    "n_subjects, n_filters = (8, 11)\n",
    "train_size = bin_size * (k-1)\n",
    "val_size = bin_size\n",
    "accuracy = np.zeros((n_subjects, k))\n",
    "csp_per_class = 3\n",
    "trainIdx = trainIdx.astype(int)\n",
    "valIdx = valIdx.astype(int)\n",
    "\n",
    "# Begin nested loops\n",
    "# Subject > Fold > Band\n",
    "print('===============')\n",
    "for subject in range(n_subjects):\n",
    "    print('Processing Subject {}/{}'.format(subject+1, n_subjects))\n",
    "    for fold in range(k):\n",
    "        print('Processing Fold {}/{}'.format(fold+1, k))\n",
    "        band_score_train = np.zeros((train_size*2, n_filters))\n",
    "        band_score_val = np.zeros((val_size*2, n_filters))\n",
    "        for band in range(n_filters):\n",
    "            # train,val dataset -> train,val for each subject&band\n",
    "            L_train = data_left[subject, band][:,:,trainIdx[fold]].transpose(2,0,1) # (trials, chans, samples)\n",
    "            R_train = data_right[subject, band][:,:,trainIdx[fold]].transpose(2,0,1) # (trials, chans, samples)\n",
    "            L_val = data_left[subject, band][:,:,valIdx[fold]].transpose(2,0,1) # (trials, chans, samples)\n",
    "            R_val = data_right[subject, band][:,:,valIdx[fold]].transpose(2,0,1) # (trials, chans, samples)\n",
    "            train_data = np.stack((L_train,R_train), axis=0) # <- CSP input data format (classes, trials, chans, samples) \n",
    "            val_data = np.stack((L_val,R_val), axis=0) # <- CSP input data format (classes, trials, chans, samples)\n",
    "\n",
    "            # Run Mahta's CSP code\n",
    "            # Source: https://github.com/mahtamsv/CCACSP\n",
    "            csp_filts, clf = train(train_data[0], train_data[1], csp_per_class)\n",
    "            train_prob = test(np.vstack(train_data), csp_filts, clf)\n",
    "            val_prob = test(np.vstack(val_data), csp_filts, clf)\n",
    "                        \n",
    "            # test() gives the prob of the 0th class, that's why \n",
    "            # we have y_val seemingly switched below\n",
    "            y_val = np.append(np.ones(12), np.zeros(12))\n",
    "\n",
    "            band_score_train[:,band] = train_prob\n",
    "            band_score_val[:,band] = val_prob\n",
    "        \n",
    "        \n",
    "        accuracy[subject,fold] = sum(np.rint(band_score_val.mean(1))==y_val)/len(y_val)\n",
    "    print('===============')\n",
    "print(np.mean(accuracy, axis=1))\n",
    "\n",
    "# Main Analysis Over"
   ]
  },
  {
   "cell_type": "markdown",
   "metadata": {},
   "source": [
    "### Need to create 4 more: Left vs rest, Right vs rest, Feet vs rest, Tongue vs rest\n",
    "\n",
    "This will involve creating 4 more train sets. \n",
    "\n",
    "E.g. Instead of L_train and R_train, we can use L_train again, but we need a O_train which contains an equal amount of data points from the other 3 classes."
   ]
  },
  {
   "cell_type": "markdown",
   "metadata": {},
   "source": [
    "## Left vs Rest"
   ]
  },
  {
   "cell_type": "code",
   "execution_count": 19,
   "metadata": {},
   "outputs": [
    {
     "name": "stdout",
     "output_type": "stream",
     "text": [
      "===============\n",
      "Processing Subject 1/8\n",
      "Processing Fold 1/6\n",
      "Processing Fold 2/6\n",
      "Processing Fold 3/6\n",
      "Processing Fold 4/6\n",
      "Processing Fold 5/6\n",
      "Processing Fold 6/6\n",
      "===============\n",
      "Processing Subject 2/8\n",
      "Processing Fold 1/6\n",
      "Processing Fold 2/6\n",
      "Processing Fold 3/6\n",
      "Processing Fold 4/6\n",
      "Processing Fold 5/6\n",
      "Processing Fold 6/6\n",
      "===============\n",
      "Processing Subject 3/8\n",
      "Processing Fold 1/6\n",
      "Processing Fold 2/6\n",
      "Processing Fold 3/6\n",
      "Processing Fold 4/6\n",
      "Processing Fold 5/6\n",
      "Processing Fold 6/6\n",
      "===============\n",
      "Processing Subject 4/8\n",
      "Processing Fold 1/6\n",
      "Processing Fold 2/6\n",
      "Processing Fold 3/6\n",
      "Processing Fold 4/6\n",
      "Processing Fold 5/6\n",
      "Processing Fold 6/6\n",
      "===============\n",
      "Processing Subject 5/8\n",
      "Processing Fold 1/6\n",
      "Processing Fold 2/6\n",
      "Processing Fold 3/6\n",
      "Processing Fold 4/6\n",
      "Processing Fold 5/6\n",
      "Processing Fold 6/6\n",
      "===============\n",
      "Processing Subject 6/8\n",
      "Processing Fold 1/6\n",
      "Processing Fold 2/6\n",
      "Processing Fold 3/6\n",
      "Processing Fold 4/6\n",
      "Processing Fold 5/6\n",
      "Processing Fold 6/6\n",
      "===============\n",
      "Processing Subject 7/8\n",
      "Processing Fold 1/6\n",
      "Processing Fold 2/6\n",
      "Processing Fold 3/6\n",
      "Processing Fold 4/6\n",
      "Processing Fold 5/6\n",
      "Processing Fold 6/6\n",
      "===============\n",
      "Processing Subject 8/8\n",
      "Processing Fold 1/6\n",
      "Processing Fold 2/6\n",
      "Processing Fold 3/6\n",
      "Processing Fold 4/6\n",
      "Processing Fold 5/6\n",
      "Processing Fold 6/6\n",
      "===============\n",
      "[0.92361111 0.65972222 0.91666667 0.8125     0.67361111 0.96527778\n",
      " 0.95138889 0.83333333]\n",
      "[0.84722222 0.31944444 0.83333333 0.625      0.34722222 0.93055556\n",
      " 0.90277778 0.66666667]\n"
     ]
    }
   ],
   "source": [
    "# We'll reset trainIdx and valIdx (just in case)\n",
    "# Note: feel free to use uninitialized lists and append\n",
    "#       this is just one possible starting point to show\n",
    "#       the correct size of these objects.\n",
    "trainIdx = np.zeros((k, bin_size*(k-1)), dtype=int) # could also be = []\n",
    "valIdx = np.zeros((k, bin_size), dtype=int)           # could also be = []\n",
    "\n",
    "# --- Question 4 ---\n",
    "# YOUR CODE HERE\n",
    "\n",
    "for i in range(k):\n",
    "    lst = []\n",
    "    for row in range(k):\n",
    "        if row == 0:\n",
    "            valIdx[i] = randIdx[row]\n",
    "            continue\n",
    "        for col in range(len(randIdx[0])):\n",
    "            lst.append(randIdx[row][col])\n",
    "    trainIdx[i] = lst\n",
    "    randIdx = np.random.permutation(n_sample)\n",
    "    randIdx = randIdx.reshape(k, bin_size)\n",
    "\n",
    "assert valIdx.shape == (k, bin_size)\n",
    "assert trainIdx.shape == (k, bin_size*(k-1))\n",
    "\n",
    "# Main Analysis (Do Not Modify)\n",
    "\n",
    "# Declare useful variables\n",
    "n_subjects, n_filters = (8, 11)\n",
    "train_size = bin_size * (k-1)\n",
    "val_size = bin_size\n",
    "accuracy = np.zeros((n_subjects, k))\n",
    "kappa = np.zeros((n_subjects, k))\n",
    "csp_per_class = 3\n",
    "trainIdx = trainIdx.astype(int)\n",
    "valIdx = valIdx.astype(int)\n",
    "\n",
    "# Begin nested loops\n",
    "# Subject > Fold > Band\n",
    "# n_subjects = 1\n",
    "print('===============')\n",
    "for subject in range(n_subjects):\n",
    "    print('Processing Subject {}/{}'.format(subject+1, n_subjects))\n",
    "    for fold in range(k):\n",
    "        print('Processing Fold {}/{}'.format(fold+1, k))\n",
    "        band_score_train = np.zeros((train_size*2, n_filters))\n",
    "        band_score_val = np.zeros((val_size*2, n_filters))\n",
    "        for band in range(n_filters):\n",
    "            # train,val dataset -> train,val for each subject&band\n",
    "            L_train = data_left[subject, band][:,:,trainIdx[fold]].transpose(2,0,1) # (trials, chans, samples)\n",
    "            OVR_train = data_OVR_left[subject, band][:,:,trainIdx[fold]].transpose(2,0,1) # (trials, chans, samples)\n",
    "            L_val = data_left[subject, band][:,:,valIdx[fold]].transpose(2,0,1) # (trials, chans, samples)\n",
    "            OVR_val = data_OVR_left[subject, band][:,:,valIdx[fold]].transpose(2,0,1) # (trials, chans, samples)\n",
    "            train_data = np.stack((L_train,OVR_train), axis=0) # <- CSP input data format (classes, trials, chans, samples) \n",
    "            val_data = np.stack((L_val,OVR_val), axis=0) # <- CSP input data format (classes, trials, chans, samples)\n",
    "\n",
    "            # Run Mahta's CSP code\n",
    "            # Source: https://github.com/mahtamsv/CCACSP\n",
    "            csp_filts, clf = train(train_data[0], train_data[1], csp_per_class)\n",
    "            train_prob = test(np.vstack(train_data), csp_filts, clf)\n",
    "            val_prob = test(np.vstack(val_data), csp_filts, clf)\n",
    "            \n",
    "            # test() gives the prob of the 0th class, that's why \n",
    "            # we have y_val seemingly switched below\n",
    "            y_val = np.append(np.ones(12), np.zeros(12))\n",
    "\n",
    "            band_score_train[:,band] = train_prob\n",
    "            band_score_val[:,band] = val_prob\n",
    "\n",
    "        y_pred = np.rint(band_score_val.mean(1))\n",
    "        accuracy[subject,fold] = sum(y_pred==y_val)/len(y_val)\n",
    "        kappa[subject, fold] = cohen_kappa_score(y_pred, y_val)\n",
    "    print('===============')\n",
    "print(np.mean(accuracy, axis=1))\n",
    "print(np.mean(kappa, axis=1))\n",
    "\n",
    "# Main Analysis Over"
   ]
  },
  {
   "cell_type": "markdown",
   "metadata": {},
   "source": [
    "## Right vs Rest"
   ]
  },
  {
   "cell_type": "code",
   "execution_count": 20,
   "metadata": {},
   "outputs": [
    {
     "name": "stdout",
     "output_type": "stream",
     "text": [
      "===============\n",
      "Processing Subject 1/8\n",
      "Processing Fold 1/6\n",
      "Processing Fold 2/6\n",
      "Processing Fold 3/6\n",
      "Processing Fold 4/6\n",
      "Processing Fold 5/6\n",
      "Processing Fold 6/6\n",
      "===============\n",
      "Processing Subject 2/8\n",
      "Processing Fold 1/6\n",
      "Processing Fold 2/6\n",
      "Processing Fold 3/6\n",
      "Processing Fold 4/6\n",
      "Processing Fold 5/6\n",
      "Processing Fold 6/6\n",
      "===============\n",
      "Processing Subject 3/8\n",
      "Processing Fold 1/6\n",
      "Processing Fold 2/6\n",
      "Processing Fold 3/6\n",
      "Processing Fold 4/6\n",
      "Processing Fold 5/6\n",
      "Processing Fold 6/6\n",
      "===============\n",
      "Processing Subject 4/8\n",
      "Processing Fold 1/6\n",
      "Processing Fold 2/6\n",
      "Processing Fold 3/6\n",
      "Processing Fold 4/6\n",
      "Processing Fold 5/6\n",
      "Processing Fold 6/6\n",
      "===============\n",
      "Processing Subject 5/8\n",
      "Processing Fold 1/6\n",
      "Processing Fold 2/6\n",
      "Processing Fold 3/6\n",
      "Processing Fold 4/6\n",
      "Processing Fold 5/6\n",
      "Processing Fold 6/6\n",
      "===============\n",
      "Processing Subject 6/8\n",
      "Processing Fold 1/6\n",
      "Processing Fold 2/6\n",
      "Processing Fold 3/6\n",
      "Processing Fold 4/6\n",
      "Processing Fold 5/6\n",
      "Processing Fold 6/6\n",
      "===============\n",
      "Processing Subject 7/8\n",
      "Processing Fold 1/6\n",
      "Processing Fold 2/6\n",
      "Processing Fold 3/6\n",
      "Processing Fold 4/6\n",
      "Processing Fold 5/6\n",
      "Processing Fold 6/6\n",
      "===============\n",
      "Processing Subject 8/8\n",
      "Processing Fold 1/6\n",
      "Processing Fold 2/6\n",
      "Processing Fold 3/6\n",
      "Processing Fold 4/6\n",
      "Processing Fold 5/6\n",
      "Processing Fold 6/6\n",
      "===============\n",
      "[0.97222222 0.76388889 0.94444444 0.91666667 0.68055556 0.97222222\n",
      " 0.96527778 0.89583333]\n",
      "[0.94444444 0.52777778 0.88888889 0.83333333 0.36111111 0.94444444\n",
      " 0.93055556 0.79166667]\n"
     ]
    }
   ],
   "source": [
    "# We'll reset trainIdx and valIdx (just in case)\n",
    "# Note: feel free to use uninitialized lists and append\n",
    "#       this is just one possible starting point to show\n",
    "#       the correct size of these objects.\n",
    "trainIdx = np.zeros((k, bin_size*(k-1)), dtype=int) # could also be = []\n",
    "valIdx = np.zeros((k, bin_size), dtype=int)           # could also be = []\n",
    "\n",
    "# --- Question 4 ---\n",
    "# YOUR CODE HERE\n",
    "\n",
    "for i in range(k):\n",
    "    lst = []\n",
    "    for row in range(k):\n",
    "        if row == 0:\n",
    "            valIdx[i] = randIdx[row]\n",
    "            continue\n",
    "        for col in range(len(randIdx[0])):\n",
    "            lst.append(randIdx[row][col])\n",
    "    trainIdx[i] = lst\n",
    "    randIdx = np.random.permutation(n_sample)\n",
    "    randIdx = randIdx.reshape(k, bin_size)\n",
    "valIdx\n",
    "\n",
    "assert valIdx.shape == (k, bin_size)\n",
    "assert trainIdx.shape == (k, bin_size*(k-1))\n",
    "\n",
    "# Main Analysis (Do Not Modify)\n",
    "\n",
    "# Declare useful variables\n",
    "n_subjects, n_filters = (8, 11)\n",
    "train_size = bin_size * (k-1)\n",
    "val_size = bin_size\n",
    "accuracy = np.zeros((n_subjects, k))\n",
    "kappa = np.zeros((n_subjects, k))\n",
    "csp_per_class = 3\n",
    "trainIdx = trainIdx.astype(int)\n",
    "valIdx = valIdx.astype(int)\n",
    "\n",
    "# Begin nested loops\n",
    "# Subject > Fold > Band\n",
    "print('===============')\n",
    "for subject in range(n_subjects):\n",
    "    print('Processing Subject {}/{}'.format(subject+1, n_subjects))\n",
    "    for fold in range(k):\n",
    "        print('Processing Fold {}/{}'.format(fold+1, k))\n",
    "        band_score_train = np.zeros((train_size*2, n_filters))\n",
    "        band_score_val = np.zeros((val_size*2, n_filters))\n",
    "        for band in range(n_filters):\n",
    "            # train,val dataset -> train,val for each subject&band\n",
    "            r_train = data_right[subject, band][:,:,trainIdx[fold]].transpose(2,0,1) # (trials, chans, samples)\n",
    "            OVR_train = data_OVR_right[subject, band][:,:,trainIdx[fold]].transpose(2,0,1) # (trials, chans, samples)\n",
    "            r_val = data_right[subject, band][:,:,valIdx[fold]].transpose(2,0,1) # (trials, chans, samples)\n",
    "            OVR_val = data_OVR_right[subject, band][:,:,valIdx[fold]].transpose(2,0,1) # (trials, chans, samples)\n",
    "            train_data = np.stack((r_train,OVR_train), axis=0) # <- CSP input data format (classes, trials, chans, samples) \n",
    "            val_data = np.stack((r_val,OVR_val), axis=0) # <- CSP input data format (classes, trials, chans, samples)\n",
    "\n",
    "            # Run Mahta's CSP code\n",
    "            # Source: https://github.com/mahtamsv/CCACSP\n",
    "            csp_filts, clf = train(train_data[0], train_data[1], csp_per_class)\n",
    "            train_prob = test(np.vstack(train_data), csp_filts, clf)\n",
    "            val_prob = test(np.vstack(val_data), csp_filts, clf)\n",
    "            \n",
    "            # test() gives the prob of the 0th class, that's why \n",
    "            # we have y_val seemingly switched below\n",
    "            y_val = np.append(np.ones(12), np.zeros(12))\n",
    "\n",
    "            band_score_train[:,band] = train_prob\n",
    "            band_score_val[:,band] = val_prob\n",
    "        \n",
    "        \n",
    "        y_pred = np.rint(band_score_val.mean(1))\n",
    "        accuracy[subject,fold] = sum(y_pred==y_val)/len(y_val)\n",
    "        kappa[subject, fold] = cohen_kappa_score(y_pred, y_val)\n",
    "    print('===============')\n",
    "print(np.mean(accuracy, axis=1))\n",
    "print(np.mean(kappa, axis=1))\n",
    "\n",
    "# Main Analysis Over"
   ]
  },
  {
   "cell_type": "markdown",
   "metadata": {},
   "source": [
    "## Feet vs Rest"
   ]
  },
  {
   "cell_type": "code",
   "execution_count": 21,
   "metadata": {},
   "outputs": [
    {
     "name": "stdout",
     "output_type": "stream",
     "text": [
      "===============\n",
      "Processing Subject 1/8\n",
      "Processing Fold 1/6\n",
      "Processing Fold 2/6\n",
      "Processing Fold 3/6\n",
      "Processing Fold 4/6\n",
      "Processing Fold 5/6\n",
      "Processing Fold 6/6\n",
      "===============\n",
      "Processing Subject 2/8\n",
      "Processing Fold 1/6\n",
      "Processing Fold 2/6\n",
      "Processing Fold 3/6\n",
      "Processing Fold 4/6\n",
      "Processing Fold 5/6\n",
      "Processing Fold 6/6\n",
      "===============\n",
      "Processing Subject 3/8\n",
      "Processing Fold 1/6\n",
      "Processing Fold 2/6\n",
      "Processing Fold 3/6\n",
      "Processing Fold 4/6\n",
      "Processing Fold 5/6\n",
      "Processing Fold 6/6\n",
      "===============\n",
      "Processing Subject 4/8\n",
      "Processing Fold 1/6\n",
      "Processing Fold 2/6\n",
      "Processing Fold 3/6\n",
      "Processing Fold 4/6\n",
      "Processing Fold 5/6\n",
      "Processing Fold 6/6\n",
      "===============\n",
      "Processing Subject 5/8\n",
      "Processing Fold 1/6\n",
      "Processing Fold 2/6\n",
      "Processing Fold 3/6\n",
      "Processing Fold 4/6\n",
      "Processing Fold 5/6\n",
      "Processing Fold 6/6\n",
      "===============\n",
      "Processing Subject 6/8\n",
      "Processing Fold 1/6\n",
      "Processing Fold 2/6\n",
      "Processing Fold 3/6\n",
      "Processing Fold 4/6\n",
      "Processing Fold 5/6\n",
      "Processing Fold 6/6\n",
      "===============\n",
      "Processing Subject 7/8\n",
      "Processing Fold 1/6\n",
      "Processing Fold 2/6\n",
      "Processing Fold 3/6\n",
      "Processing Fold 4/6\n",
      "Processing Fold 5/6\n",
      "Processing Fold 6/6\n",
      "===============\n",
      "Processing Subject 8/8\n",
      "Processing Fold 1/6\n",
      "Processing Fold 2/6\n",
      "Processing Fold 3/6\n",
      "Processing Fold 4/6\n",
      "Processing Fold 5/6\n",
      "Processing Fold 6/6\n",
      "===============\n",
      "[0.93055556 0.96527778 0.91666667 0.70138889 0.75       0.97916667\n",
      " 0.92361111 0.90972222]\n",
      "[0.86111111 0.93055556 0.83333333 0.40277778 0.5        0.95833333\n",
      " 0.84722222 0.81944444]\n"
     ]
    }
   ],
   "source": [
    "# We'll reset trainIdx and valIdx (just in case)\n",
    "# Note: feel free to use uninitialized lists and append\n",
    "#       this is just one possible starting point to show\n",
    "#       the correct size of these objects.\n",
    "trainIdx = np.zeros((k, bin_size*(k-1)), dtype=int) # could also be = []\n",
    "valIdx = np.zeros((k, bin_size), dtype=int)           # could also be = []\n",
    "\n",
    "# --- Question 4 ---\n",
    "# YOUR CODE HERE\n",
    "\n",
    "for i in range(k):\n",
    "    lst = []\n",
    "    for row in range(k):\n",
    "        if row == 0:\n",
    "            valIdx[i] = randIdx[row]\n",
    "            continue\n",
    "        for col in range(len(randIdx[0])):\n",
    "            lst.append(randIdx[row][col])\n",
    "    trainIdx[i] = lst\n",
    "    randIdx = np.random.permutation(n_sample)\n",
    "    randIdx = randIdx.reshape(k, bin_size)\n",
    "valIdx\n",
    "\n",
    "assert valIdx.shape == (k, bin_size)\n",
    "assert trainIdx.shape == (k, bin_size*(k-1))\n",
    "\n",
    "# Main Analysis (Do Not Modify)\n",
    "\n",
    "# Declare useful variables\n",
    "n_subjects, n_filters = (8, 11)\n",
    "train_size = bin_size * (k-1)\n",
    "val_size = bin_size\n",
    "accuracy = np.zeros((n_subjects, k))\n",
    "kappa = np.zeros((n_subjects, k))\n",
    "csp_per_class = 3\n",
    "trainIdx = trainIdx.astype(int)\n",
    "valIdx = valIdx.astype(int)\n",
    "\n",
    "# Begin nested loops\n",
    "# Subject > Fold > Band\n",
    "print('===============')\n",
    "for subject in range(n_subjects):\n",
    "    print('Processing Subject {}/{}'.format(subject+1, n_subjects))\n",
    "    for fold in range(k):\n",
    "        print('Processing Fold {}/{}'.format(fold+1, k))\n",
    "        band_score_train = np.zeros((train_size*2, n_filters))\n",
    "        band_score_val = np.zeros((val_size*2, n_filters))\n",
    "        for band in range(n_filters):\n",
    "            # train,val dataset -> train,val for each subject&band\n",
    "            f_train = data_feet[subject, band][:,:,trainIdx[fold]].transpose(2,0,1) # (trials, chans, samples)\n",
    "            OVR_train = data_OVR_feet[subject, band][:,:,trainIdx[fold]].transpose(2,0,1) # (trials, chans, samples)\n",
    "            f_val = data_feet[subject, band][:,:,valIdx[fold]].transpose(2,0,1) # (trials, chans, samples)\n",
    "            OVR_val = data_OVR_feet[subject, band][:,:,valIdx[fold]].transpose(2,0,1) # (trials, chans, samples)\n",
    "            train_data = np.stack((f_train,OVR_train), axis=0) # <- CSP input data format (classes, trials, chans, samples) \n",
    "            val_data = np.stack((f_val,OVR_val), axis=0) # <- CSP input data format (classes, trials, chans, samples)\n",
    "\n",
    "            # Run Mahta's CSP code\n",
    "            # Source: https://github.com/mahtamsv/CCACSP\n",
    "            csp_filts, clf = train(train_data[0], train_data[1], csp_per_class)\n",
    "            train_prob = test(np.vstack(train_data), csp_filts, clf)\n",
    "            val_prob = test(np.vstack(val_data), csp_filts, clf)\n",
    "            \n",
    "            # test() gives the prob of the 0th class, that's why \n",
    "            # we have y_val seemingly switched below\n",
    "            y_val = np.append(np.ones(12), np.zeros(12))\n",
    "\n",
    "            band_score_train[:,band] = train_prob\n",
    "            band_score_val[:,band] = val_prob\n",
    "        \n",
    "        \n",
    "        y_pred = np.rint(band_score_val.mean(1))\n",
    "        accuracy[subject,fold] = sum(y_pred==y_val)/len(y_val)\n",
    "        kappa[subject, fold] = cohen_kappa_score(y_pred, y_val)\n",
    "    print('===============')\n",
    "print(np.mean(accuracy, axis=1))\n",
    "print(np.mean(kappa, axis=1))\n",
    "\n",
    "# Main Analysis Over"
   ]
  },
  {
   "cell_type": "markdown",
   "metadata": {},
   "source": [
    "## Tongue vs Rest"
   ]
  },
  {
   "cell_type": "code",
   "execution_count": 22,
   "metadata": {},
   "outputs": [
    {
     "name": "stdout",
     "output_type": "stream",
     "text": [
      "===============\n",
      "Processing Subject 1/8\n",
      "Processing Fold 1/6\n",
      "Processing Fold 2/6\n",
      "Processing Fold 3/6\n",
      "Processing Fold 4/6\n",
      "Processing Fold 5/6\n",
      "Processing Fold 6/6\n",
      "===============\n",
      "Processing Subject 2/8\n",
      "Processing Fold 1/6\n",
      "Processing Fold 2/6\n",
      "Processing Fold 3/6\n",
      "Processing Fold 4/6\n",
      "Processing Fold 5/6\n",
      "Processing Fold 6/6\n",
      "===============\n",
      "Processing Subject 3/8\n",
      "Processing Fold 1/6\n",
      "Processing Fold 2/6\n",
      "Processing Fold 3/6\n",
      "Processing Fold 4/6\n",
      "Processing Fold 5/6\n",
      "Processing Fold 6/6\n",
      "===============\n",
      "Processing Subject 4/8\n",
      "Processing Fold 1/6\n",
      "Processing Fold 2/6\n",
      "Processing Fold 3/6\n",
      "Processing Fold 4/6\n",
      "Processing Fold 5/6\n",
      "Processing Fold 6/6\n",
      "===============\n",
      "Processing Subject 5/8\n",
      "Processing Fold 1/6\n",
      "Processing Fold 2/6\n",
      "Processing Fold 3/6\n",
      "Processing Fold 4/6\n",
      "Processing Fold 5/6\n",
      "Processing Fold 6/6\n",
      "===============\n",
      "Processing Subject 6/8\n",
      "Processing Fold 1/6\n",
      "Processing Fold 2/6\n",
      "Processing Fold 3/6\n",
      "Processing Fold 4/6\n",
      "Processing Fold 5/6\n",
      "Processing Fold 6/6\n",
      "===============\n",
      "Processing Subject 7/8\n",
      "Processing Fold 1/6\n",
      "Processing Fold 2/6\n",
      "Processing Fold 3/6\n",
      "Processing Fold 4/6\n",
      "Processing Fold 5/6\n",
      "Processing Fold 6/6\n",
      "===============\n",
      "Processing Subject 8/8\n",
      "Processing Fold 1/6\n",
      "Processing Fold 2/6\n",
      "Processing Fold 3/6\n",
      "Processing Fold 4/6\n",
      "Processing Fold 5/6\n",
      "Processing Fold 6/6\n",
      "===============\n",
      "[0.97916667 0.76388889 0.93055556 0.84722222 0.70138889 0.96527778\n",
      " 0.98611111 0.91666667]\n",
      "[0.95833333 0.52777778 0.86111111 0.69444444 0.40277778 0.93055556\n",
      " 0.97222222 0.83333333]\n"
     ]
    }
   ],
   "source": [
    "# We'll reset trainIdx and valIdx (just in case)\n",
    "# Note: feel free to use uninitialized lists and append\n",
    "#       this is just one possible starting point to show\n",
    "#       the correct size of these objects.\n",
    "trainIdx = np.zeros((k, bin_size*(k-1)), dtype=int) # could also be = []\n",
    "valIdx = np.zeros((k, bin_size), dtype=int)           # could also be = []\n",
    "\n",
    "# --- Question 4 ---\n",
    "# YOUR CODE HERE\n",
    "\n",
    "for i in range(k):\n",
    "    lst = []\n",
    "    for row in range(k):\n",
    "        if row == 0:\n",
    "            valIdx[i] = randIdx[row]\n",
    "            continue\n",
    "        for col in range(len(randIdx[0])):\n",
    "            lst.append(randIdx[row][col])\n",
    "    trainIdx[i] = lst\n",
    "    randIdx = np.random.permutation(n_sample)\n",
    "    randIdx = randIdx.reshape(k, bin_size)\n",
    "valIdx\n",
    "\n",
    "assert valIdx.shape == (k, bin_size)\n",
    "assert trainIdx.shape == (k, bin_size*(k-1))\n",
    "\n",
    "# Main Analysis (Do Not Modify)\n",
    "\n",
    "# Declare useful variables\n",
    "n_subjects, n_filters = (8, 11)\n",
    "train_size = bin_size * (k-1)\n",
    "val_size = bin_size\n",
    "accuracy = np.zeros((n_subjects, k))\n",
    "kappa = np.zeros((n_subjects, k))\n",
    "csp_per_class = 3\n",
    "trainIdx = trainIdx.astype(int)\n",
    "valIdx = valIdx.astype(int)\n",
    "\n",
    "# Begin nested loops\n",
    "# Subject > Fold > Band\n",
    "print('===============')\n",
    "for subject in range(n_subjects):\n",
    "    print('Processing Subject {}/{}'.format(subject+1, n_subjects))\n",
    "    for fold in range(k):\n",
    "        print('Processing Fold {}/{}'.format(fold+1, k))\n",
    "        band_score_train = np.zeros((train_size*2, n_filters))\n",
    "        band_score_val = np.zeros((val_size*2, n_filters))\n",
    "        for band in range(n_filters):\n",
    "            # train,val dataset -> train,val for each subject&band\n",
    "            t_train = data_tongue[subject, band][:,:,trainIdx[fold]].transpose(2,0,1) # (trials, chans, samples)\n",
    "            OVR_train = data_OVR_tongue[subject, band][:,:,trainIdx[fold]].transpose(2,0,1) # (trials, chans, samples)\n",
    "            t_val = data_tongue[subject, band][:,:,valIdx[fold]].transpose(2,0,1) # (trials, chans, samples)\n",
    "            OVR_val = data_OVR_tongue[subject, band][:,:,valIdx[fold]].transpose(2,0,1) # (trials, chans, samples)\n",
    "            train_data = np.stack((t_train,OVR_train), axis=0) # <- CSP input data format (classes, trials, chans, samples) \n",
    "            val_data = np.stack((t_val,OVR_val), axis=0) # <- CSP input data format (classes, trials, chans, samples)\n",
    "\n",
    "            # Run Mahta's CSP code\n",
    "            # Source: https://github.com/mahtamsv/CCACSP\n",
    "            csp_filts, clf = train(train_data[0], train_data[1], csp_per_class)\n",
    "            train_prob = test(np.vstack(train_data), csp_filts, clf)\n",
    "            val_prob = test(np.vstack(val_data), csp_filts, clf)\n",
    "            \n",
    "            # test() gives the prob of the 0th class, that's why \n",
    "            # we have y_val seemingly switched below\n",
    "            y_val = np.append(np.ones(12), np.zeros(12))\n",
    "\n",
    "            band_score_train[:,band] = train_prob\n",
    "            band_score_val[:,band] = val_prob\n",
    "        \n",
    "        \n",
    "        y_pred = np.rint(band_score_val.mean(1))\n",
    "        accuracy[subject,fold] = sum(y_pred==y_val)/len(y_val)\n",
    "        kappa[subject, fold] = cohen_kappa_score(y_pred, y_val)\n",
    "    print('===============')\n",
    "print(np.mean(accuracy, axis=1))\n",
    "print(np.mean(kappa, axis=1))\n",
    "\n",
    "# Main Analysis Over"
   ]
  },
  {
   "cell_type": "code",
   "execution_count": 23,
   "metadata": {},
   "outputs": [
    {
     "data": {
      "text/plain": [
       "0"
      ]
     },
     "execution_count": 23,
     "metadata": {},
     "output_type": "execute_result"
    }
   ],
   "source": [
    "import os\n",
    "\n",
    "os.system('jupyter nbconvert --to html CSP_LDA.ipynb')"
   ]
  },
  {
   "cell_type": "code",
   "execution_count": 53,
   "metadata": {},
   "outputs": [],
   "source": [
    "import warnings\n",
    "\n",
    "import matplotlib.pyplot as plt\n",
    "import pandas as pd\n",
    "import seaborn as sns\n",
    "from mne.decoding import CSP\n",
    "from sklearn.discriminant_analysis import LinearDiscriminantAnalysis as LDA\n",
    "from sklearn.pipeline import make_pipeline\n",
    "\n",
    "import moabb\n",
    "from moabb.datasets import BNCI2014_001\n",
    "from moabb.evaluations import WithinSessionEvaluation\n",
    "from moabb.paradigms import LeftRightImagery\n",
    "\n",
    "\n",
    "moabb.set_log_level(\"info\")\n",
    "warnings.filterwarnings(\"ignore\")\n",
    "\n",
    "dataset = BNCI2014_001()"
   ]
  },
  {
   "cell_type": "code",
   "execution_count": 56,
   "metadata": {},
   "outputs": [
    {
     "name": "stderr",
     "output_type": "stream",
     "text": [
      "Downloading data from 'http://bnci-horizon-2020.eu/database/data-sets/001-2014/A01T.mat' to file 'C:\\Users\\hunte\\mne_data\\MNE-bnci-data\\database\\data-sets\\001-2014\\A01T.mat'.\n"
     ]
    },
    {
     "name": "stdout",
     "output_type": "stream",
     "text": [
      "MNE_DATA is not already configured. It will be set to default location in the home directory - C:\\Users\\hunte\\mne_data\n",
      "All datasets will be downloaded to this location, if anything is already downloaded, please move manually to this location\n"
     ]
    },
    {
     "name": "stderr",
     "output_type": "stream",
     "text": [
      "100%|#############################################| 42.8M/42.8M [00:00<?, ?B/s]\n",
      "SHA256 hash of downloaded file: 054f02e70cf9c4ada1517e9b9864f45407939c1062c6793516585c6f511d0325\n",
      "Use this value as the 'known_hash' argument of 'pooch.retrieve' to ensure that the file hasn't changed if it is downloaded again in the future.\n",
      "Downloading data from 'http://bnci-horizon-2020.eu/database/data-sets/001-2014/A01E.mat' to file 'C:\\Users\\hunte\\mne_data\\MNE-bnci-data\\database\\data-sets\\001-2014\\A01E.mat'.\n",
      "100%|#############################################| 43.8M/43.8M [00:00<?, ?B/s]\n",
      "SHA256 hash of downloaded file: 53d415f39c3d7b0c88b894d7b08d99bcdfe855ede63831d3691af1a45607fb62\n",
      "Use this value as the 'known_hash' argument of 'pooch.retrieve' to ensure that the file hasn't changed if it is downloaded again in the future.\n"
     ]
    }
   ],
   "source": [
    "sessions = dataset.get_data(subjects=[1])"
   ]
  },
  {
   "cell_type": "code",
   "execution_count": 57,
   "metadata": {},
   "outputs": [],
   "source": [
    "subject = 1\n",
    "session_name = \"0train\"\n",
    "run_name = \"0\"\n",
    "raw = sessions[subject][session_name][run_name]"
   ]
  },
  {
   "cell_type": "code",
   "execution_count": 84,
   "metadata": {},
   "outputs": [
    {
     "data": {
      "text/plain": [
       "{'0': <RawArray | 26 x 96735 (386.9 s), ~19.2 MiB, data loaded>,\n",
       " '1': <RawArray | 26 x 96735 (386.9 s), ~19.2 MiB, data loaded>,\n",
       " '2': <RawArray | 26 x 96735 (386.9 s), ~19.2 MiB, data loaded>,\n",
       " '3': <RawArray | 26 x 96735 (386.9 s), ~19.2 MiB, data loaded>,\n",
       " '4': <RawArray | 26 x 96735 (386.9 s), ~19.2 MiB, data loaded>,\n",
       " '5': <RawArray | 26 x 96735 (386.9 s), ~19.2 MiB, data loaded>}"
      ]
     },
     "execution_count": 84,
     "metadata": {},
     "output_type": "execute_result"
    }
   ],
   "source": [
    "raw = sessions[1][\"1test\"]\n",
    "raw"
   ]
  },
  {
   "cell_type": "code",
   "execution_count": 201,
   "metadata": {},
   "outputs": [
    {
     "name": "stdout",
     "output_type": "stream",
     "text": [
      "  Filtering 1-3 Hz...\n",
      "  Filtering 2-5 Hz...\n",
      "  Filtering 4-7 Hz...\n",
      "  Filtering 6-10 Hz...\n",
      "  Filtering 7-12 Hz...\n",
      "  Filtering 10-15 Hz...\n",
      "  Filtering 12-19 Hz...\n",
      "  Filtering 15-25 Hz...\n",
      "  Filtering 19-30 Hz...\n",
      "  Filtering 25-35 Hz...\n",
      "  Filtering 30-40 Hz...\n"
     ]
    }
   ],
   "source": [
    "passbands = [\n",
    "    (1, 3), (2, 5), (4, 7), (6, 10), (7, 12),\n",
    "    (10, 15), (12, 19), (15, 25), (19, 30),\n",
    "    (25, 35), (30, 40)\n",
    "]\n",
    "\n",
    "filtered_data = []\n",
    "labels_2d = []\n",
    "\n",
    "# skipping AO4T because only has eye movement\n",
    "runs = [\"0\", \"1\", \"2\", \"3\", \"4\", \"5\"]\n",
    "\n",
    "# List to store all raw objects\n",
    "raw_list = []\n",
    "\n",
    "# Iterate over runs and add each raw to the list\n",
    "for run in runs:\n",
    "    raw = sessions[1][\"1test\"][run]\n",
    "    raw_list.append(raw)\n",
    "\n",
    "# Concatenate all raw objects into one\n",
    "combined_raw = mne.concatenate_raws(raw_list)\n",
    "\n",
    "for subject in range(1):\n",
    "    # Iterate through users\n",
    "    \n",
    "    raw = combined_raw\n",
    "    events, event_id = mne.events_from_annotations(raw)\n",
    "\n",
    "    subject_data = []\n",
    "    user_labels = []\n",
    "\n",
    "    # Filter and epoch for each band\n",
    "    for band in passbands:\n",
    "        low, high = band\n",
    "        print(f\"  Filtering {low}-{high} Hz...\")\n",
    "\n",
    "        # Bandpass filter\n",
    "        raw_filtered = raw.copy().filter(l_freq=low, h_freq=high, method='fir', fir_design='firwin')\n",
    "\n",
    "        # Create epochs\n",
    "        epochs = mne.Epochs(raw_filtered, events, event_id=event_id, baseline=(None, 0), event_repeated='merge', preload=True, tmin=-.3, tmax=4)\n",
    "        labels = epochs.events[:, -1]  # Last column contains the event ID\n",
    "\n",
    "        # Collect data and labels\n",
    "        subject_data.append(epochs.get_data()[:, :-4, :])  # Shape: (n_trials, n_channels, n_times)\n",
    "        user_labels.append(labels)\n",
    "    filtered_data.append(subject_data)\n",
    "    labels_2d.append(user_labels)"
   ]
  },
  {
   "cell_type": "code",
   "execution_count": 202,
   "metadata": {},
   "outputs": [
    {
     "data": {
      "text/plain": [
       "(1, 11, 1248, 22, 1076)"
      ]
     },
     "execution_count": 202,
     "metadata": {},
     "output_type": "execute_result"
    }
   ],
   "source": [
    "filtered_data = np.array(filtered_data)\n",
    "filtered_data.shape"
   ]
  },
  {
   "cell_type": "code",
   "execution_count": 177,
   "metadata": {},
   "outputs": [
    {
     "data": {
      "text/plain": [
       "768"
      ]
     },
     "execution_count": 177,
     "metadata": {},
     "output_type": "execute_result"
    }
   ],
   "source": [
    "len(filtered_data[0][0])"
   ]
  },
  {
   "cell_type": "code",
   "execution_count": 175,
   "metadata": {},
   "outputs": [
    {
     "data": {
      "text/plain": [
       "768"
      ]
     },
     "execution_count": 175,
     "metadata": {},
     "output_type": "execute_result"
    }
   ],
   "source": [
    "len(labels_2d[0][0])"
   ]
  },
  {
   "cell_type": "code",
   "execution_count": 168,
   "metadata": {},
   "outputs": [
    {
     "data": {
      "text/plain": [
       "((1, 11, 192, 22, 1076),\n",
       " (1, 11, 192, 22, 1076),\n",
       " (1, 11, 192, 22, 1076),\n",
       " (1, 11, 192, 22, 1076))"
      ]
     },
     "execution_count": 168,
     "metadata": {},
     "output_type": "execute_result"
    }
   ],
   "source": [
    "test_data_left = []\n",
    "test_data_right = []\n",
    "test_data_feet = []\n",
    "test_data_tongue = []\n",
    "\n",
    "for subject in range(len(filtered_data)):\n",
    "    subject_data_left = []\n",
    "    subject_data_right = []\n",
    "    subject_data_feet = []\n",
    "    subject_data_tongue = []\n",
    "    for band in range(len(filtered_data[subject])):\n",
    "        band_data_left = []\n",
    "        band_data_right = []\n",
    "        band_data_feet = []\n",
    "        band_data_tongue = []\n",
    "        for label in range(len(labels_2d[subject][band])):\n",
    "            if labels_2d[subject][band][label] == 2:\n",
    "                band_data_left.append(filtered_data[subject][band][label])\n",
    "            elif labels_2d[subject][band][label] == 3:\n",
    "                band_data_right.append(filtered_data[subject][band][label])\n",
    "            elif labels_2d[subject][band][label] == 1:\n",
    "                band_data_feet.append(filtered_data[subject][band][label])\n",
    "            else:\n",
    "                band_data_tongue.append(filtered_data[subject][band][label])\n",
    "        subject_data_left.append(band_data_left)\n",
    "        subject_data_right.append(band_data_right)\n",
    "        subject_data_feet.append(band_data_feet)\n",
    "        subject_data_tongue.append(band_data_tongue)\n",
    "    test_data_left.append(subject_data_left)\n",
    "    test_data_right.append(subject_data_right)\n",
    "    test_data_feet.append(subject_data_feet)\n",
    "    test_data_tongue.append(subject_data_tongue)\n",
    "\n",
    "test_data_left = np.array(test_data_left)\n",
    "test_data_right = np.array(test_data_right)\n",
    "test_data_feet = np.array(test_data_feet)\n",
    "test_data_tongue = np.array(test_data_tongue)\n",
    "\n",
    "test_data_left.shape, test_data_right.shape, test_data_feet.shape, test_data_tongue.shape"
   ]
  },
  {
   "cell_type": "code",
   "execution_count": 169,
   "metadata": {},
   "outputs": [],
   "source": [
    "test_data_OVR_left = []\n",
    "test_data_OVR_right = []\n",
    "test_data_OVR_feet = []\n",
    "test_data_OVR_tongue = []\n",
    "\n",
    "random_samples = np.random.permutation(192)\n",
    "random_sample_range1 = random_samples[:64]\n",
    "random_sample_range2 = random_samples[64:128]\n",
    "random_sample_range3 = random_samples[128:192]\n",
    "\n",
    "# data_OVR_left\n",
    "for subject in range(1):\n",
    "    subject_data = []\n",
    "    for band in range(11):\n",
    "        band_data = []\n",
    "        for sample in random_sample_range1:\n",
    "            band_data.append(test_data_right[subject][band][sample])\n",
    "        for sample in random_sample_range2:\n",
    "            band_data.append(test_data_feet[subject][band][sample])\n",
    "        for sample in random_sample_range3:\n",
    "            band_data.append(test_data_tongue[subject][band][sample])\n",
    "        np.random.shuffle(band_data)\n",
    "        subject_data.append(band_data)\n",
    "    test_data_OVR_left.append(subject_data)\n",
    "\n",
    "# data_OVR_right\n",
    "for subject in range(1):\n",
    "    subject_data = []\n",
    "    for band in range(11):\n",
    "        band_data = []\n",
    "        for sample in random_sample_range1:\n",
    "            band_data.append(test_data_left[subject][band][sample])\n",
    "        for sample in random_sample_range2:\n",
    "            band_data.append(test_data_feet[subject][band][sample])\n",
    "        for sample in random_sample_range3:\n",
    "            band_data.append(test_data_tongue[subject][band][sample])\n",
    "        np.random.shuffle(band_data)\n",
    "        subject_data.append(band_data)\n",
    "    test_data_OVR_right.append(subject_data)\n",
    "\n",
    "# data_OVR_feet\n",
    "for subject in range(1):\n",
    "    subject_data = []\n",
    "    for band in range(11):\n",
    "        band_data = []\n",
    "        for sample in random_sample_range1:\n",
    "            band_data.append(test_data_left[subject][band][sample])\n",
    "        for sample in random_sample_range2:\n",
    "            band_data.append(test_data_right[subject][band][sample])\n",
    "        for sample in random_sample_range3:\n",
    "            band_data.append(test_data_tongue[subject][band][sample])\n",
    "        np.random.shuffle(band_data)\n",
    "        subject_data.append(band_data)\n",
    "    test_data_OVR_feet.append(subject_data)\n",
    "\n",
    "# data_OVR_tongue\n",
    "for subject in range(1):\n",
    "    subject_data = []\n",
    "    for band in range(11):\n",
    "        band_data = []\n",
    "        for sample in random_sample_range1:\n",
    "            band_data.append(test_data_left[subject][band][sample])\n",
    "        for sample in random_sample_range2:\n",
    "            band_data.append(test_data_right[subject][band][sample])\n",
    "        for sample in random_sample_range3:\n",
    "            band_data.append(test_data_feet[subject][band][sample])\n",
    "        np.random.shuffle(band_data)\n",
    "        subject_data.append(band_data)\n",
    "    test_data_OVR_tongue.append(subject_data)\n",
    "\n",
    "# Convert to numpy arrays\n",
    "test_data_OVR_left = np.array(test_data_OVR_left)\n",
    "test_data_OVR_right = np.array(test_data_OVR_right)\n",
    "test_data_OVR_feet = np.array(test_data_OVR_feet)\n",
    "test_data_OVR_tongue = np.array(test_data_OVR_tongue)\n",
    "\n",
    "test_data_OVR_left = test_data_OVR_left.transpose(0, 1, 3, 4, 2)\n",
    "test_data_OVR_right = test_data_OVR_right.transpose(0, 1, 3, 4, 2)\n",
    "test_data_OVR_feet = test_data_OVR_feet.transpose(0, 1, 3, 4, 2)\n",
    "test_data_OVR_tongue = test_data_OVR_tongue.transpose(0, 1, 3, 4, 2)\n",
    "\n",
    "test_data_left = test_data_left.transpose(0, 1, 3, 4, 2)\n",
    "test_data_right = test_data_right.transpose(0, 1, 3, 4, 2)\n",
    "test_data_feet = test_data_feet.transpose(0, 1, 3, 4, 2)\n",
    "test_data_tongue = test_data_tongue.transpose(0, 1, 3, 4, 2)"
   ]
  },
  {
   "cell_type": "code",
   "execution_count": 170,
   "metadata": {},
   "outputs": [
    {
     "data": {
      "text/plain": [
       "(1, 11, 22, 1076, 192)"
      ]
     },
     "execution_count": 170,
     "metadata": {},
     "output_type": "execute_result"
    }
   ],
   "source": [
    "test_data_left.shape"
   ]
  },
  {
   "cell_type": "code",
   "execution_count": 172,
   "metadata": {},
   "outputs": [
    {
     "name": "stdout",
     "output_type": "stream",
     "text": [
      "===============\n",
      "Processing Subject 1/8\n",
      "Processing Fold 1/6\n",
      "Processing Fold 2/6\n",
      "Processing Fold 3/6\n",
      "Processing Fold 4/6\n",
      "Processing Fold 5/6\n",
      "Processing Fold 6/6\n",
      "===============\n",
      "[0.88671875 0.         0.         0.         0.         0.\n",
      " 0.         0.        ]\n",
      "[0.7734375 0.        0.        0.        0.        0.        0.\n",
      " 0.       ]\n"
     ]
    }
   ],
   "source": [
    "# We'll reset trainIdx and valIdx (just in case)\n",
    "# Note: feel free to use uninitialized lists and append\n",
    "#       this is just one possible starting point to show\n",
    "#       the correct size of these objects.\n",
    "trainIdx = np.zeros((k, bin_size*(k-1)), dtype=int) # could also be = []\n",
    "valIdx = np.zeros((k, bin_size), dtype=int)           # could also be = []\n",
    "\n",
    "# --- Question 4 ---\n",
    "# YOUR CODE HERE\n",
    "\n",
    "for i in range(k):\n",
    "    lst = []\n",
    "    for row in range(k):\n",
    "        if row == 0:\n",
    "            valIdx[i] = randIdx[row]\n",
    "            continue\n",
    "        for col in range(len(randIdx[0])):\n",
    "            lst.append(randIdx[row][col])\n",
    "    trainIdx[i] = lst\n",
    "    randIdx = np.random.permutation(n_sample)\n",
    "    randIdx = randIdx.reshape(k, bin_size)\n",
    "valIdx\n",
    "\n",
    "assert valIdx.shape == (k, bin_size)\n",
    "assert trainIdx.shape == (k, bin_size*(k-1))\n",
    "\n",
    "# Main Analysis (Do Not Modify)\n",
    "\n",
    "# Declare useful variables\n",
    "n_subjects, n_filters = (8, 11)\n",
    "train_size = bin_size * (k-1)\n",
    "val_size = bin_size\n",
    "test_size = 192\n",
    "accuracy = np.zeros((n_subjects, k))\n",
    "kappa = np.zeros((n_subjects, k))\n",
    "csp_per_class = 3\n",
    "trainIdx = trainIdx.astype(int)\n",
    "valIdx = valIdx.astype(int)\n",
    "\n",
    "# Begin nested loops\n",
    "# Subject > Fold > Band\n",
    "print('===============')\n",
    "for subject in range(1):\n",
    "    print('Processing Subject {}/{}'.format(subject+1, n_subjects))\n",
    "    for fold in range(k):\n",
    "        print('Processing Fold {}/{}'.format(fold+1, k))\n",
    "        band_score_train = np.zeros((train_size*2, n_filters))\n",
    "        band_score_val = np.zeros((val_size*2, n_filters))\n",
    "        band_score_test = np.zeros((test_size*2, n_filters))\n",
    "        for band in range(n_filters):\n",
    "            # train,val dataset -> train,val for each subject&band\n",
    "            t_train = data_tongue[subject, band][:,:,trainIdx[fold]].transpose(2,0,1) # (trials, chans, samples)\n",
    "            OVR_train = data_OVR_tongue[subject, band][:,:,trainIdx[fold]].transpose(2,0,1) # (trials, chans, samples)\n",
    "            t_val = data_tongue[subject, band][:,:,valIdx[fold]].transpose(2,0,1) # (trials, chans, samples)\n",
    "            OVR_val = data_OVR_tongue[subject, band][:,:,valIdx[fold]].transpose(2,0,1) # (trials, chans, samples)\n",
    "            t_test = test_data_tongue[subject, band][:,:,:].transpose(2,0,1) # (trials, chans, samples)\n",
    "            OVR_test = test_data_OVR_tongue[subject, band][:,:,:].transpose(2,0,1) # (trials, chans, samples)\n",
    "            train_data = np.stack((t_train,OVR_train), axis=0) # <- CSP input data format (classes, trials, chans, samples) \n",
    "            val_data = np.stack((t_val,OVR_val), axis=0) # <- CSP input data format (classes, trials, chans, samples)\n",
    "            test_data = np.stack((t_test,OVR_test), axis=0) # <- CSP input data format (classes, trials, chans, samples)\n",
    "\n",
    "\n",
    "            # Run Mahta's CSP code\n",
    "            # Source: https://github.com/mahtamsv/CCACSP\n",
    "            csp_filts, clf = train(train_data[0], train_data[1], csp_per_class)\n",
    "            train_prob = test(np.vstack(train_data), csp_filts, clf)\n",
    "            val_prob = test(np.vstack(val_data), csp_filts, clf)\n",
    "            test_prob = test(np.vstack(test_data), csp_filts, clf)\n",
    "            \n",
    "            # test() gives the prob of the 0th class, that's why \n",
    "            # we have y_val seemingly switched below\n",
    "            y_val = np.append(np.ones(12), np.zeros(12))\n",
    "            y_true = np.append(np.ones(192), np.zeros(192))\n",
    "\n",
    "            band_score_train[:,band] = train_prob\n",
    "            band_score_val[:,band] = val_prob\n",
    "            band_score_test[:,band] = test_prob\n",
    "\n",
    "        \n",
    "        \n",
    "        y_pred = np.rint(band_score_test.mean(1))\n",
    "        accuracy[subject,fold] = sum(y_pred==y_true)/len(y_true)\n",
    "        kappa[subject, fold] = cohen_kappa_score(y_pred, y_true)\n",
    "    print('===============')\n",
    "print(np.mean(accuracy, axis=1))\n",
    "print(np.mean(kappa, axis=1))\n",
    "\n",
    "# Main Analysis Over"
   ]
  },
  {
   "cell_type": "code",
   "execution_count": null,
   "metadata": {},
   "outputs": [],
   "source": []
  }
 ],
 "metadata": {
  "kernelspec": {
   "display_name": "CSE156",
   "language": "python",
   "name": "python3"
  },
  "language_info": {
   "codemirror_mode": {
    "name": "ipython",
    "version": 3
   },
   "file_extension": ".py",
   "mimetype": "text/x-python",
   "name": "python",
   "nbconvert_exporter": "python",
   "pygments_lexer": "ipython3",
   "version": "3.12.7"
  }
 },
 "nbformat": 4,
 "nbformat_minor": 2
}
