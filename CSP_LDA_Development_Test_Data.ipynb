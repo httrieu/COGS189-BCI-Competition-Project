{
 "cells": [
  {
   "cell_type": "code",
   "execution_count": 1,
   "metadata": {},
   "outputs": [],
   "source": [
    "import numpy as np\n",
    "from pathlib import Path\n",
    "import mne\n",
    "from util import *\n",
    "from scipy.signal import butter, sosfiltfilt, sosfreqz  # for filtering\n",
    "import matplotlib.pyplot as plt   \n",
    "import pandas as pd\n",
    "from sklearn.metrics import cohen_kappa_score"
   ]
  },
  {
   "cell_type": "markdown",
   "metadata": {},
   "source": [
    "### Data Processing"
   ]
  },
  {
   "cell_type": "code",
   "execution_count": 2,
   "metadata": {
    "scrolled": true
   },
   "outputs": [
    {
     "name": "stdout",
     "output_type": "stream",
     "text": [
      "\n",
      "Processing A01T.gdf...\n",
      "Extracting EDF parameters from /home/r3hu/COGS189-BCI-Competition-Project/BCICIV_2a_gdf/A01T.gdf...\n",
      "GDF file detected\n",
      "Setting channel info structure...\n",
      "Could not determine channel type of the following channels, they will be set as EEG:\n",
      "EEG-Fz, EEG, EEG, EEG, EEG, EEG, EEG, EEG-C3, EEG, EEG-Cz, EEG, EEG-C4, EEG, EEG, EEG, EEG, EEG, EEG, EEG, EEG-Pz, EEG, EEG, EOG-left, EOG-central, EOG-right\n",
      "Creating raw.info structure...\n"
     ]
    },
    {
     "name": "stderr",
     "output_type": "stream",
     "text": [
      "/opt/conda/lib/python3.11/contextlib.py:144: RuntimeWarning: Channel names are not unique, found duplicates for: {'EEG'}. Applying running numbers for duplicates.\n",
      "  next(self.gen)\n"
     ]
    },
    {
     "name": "stdout",
     "output_type": "stream",
     "text": [
      "Reading 0 ... 672527  =      0.000 ...  2690.108 secs...\n",
      "Used Annotations descriptions: ['1023', '1072', '276', '277', '32766', '768', '769', '770', '771', '772']\n",
      "  Filtering 1-3 Hz...\n",
      "Filtering raw data in 1 contiguous segment\n",
      "Setting up band-pass filter from 1 - 3 Hz\n",
      "\n",
      "FIR filter parameters\n",
      "---------------------\n",
      "Designing a one-pass, zero-phase, non-causal bandpass filter:\n",
      "- Windowed time-domain design (firwin) method\n",
      "- Hamming window with 0.0194 passband ripple and 53 dB stopband attenuation\n",
      "- Lower passband edge: 1.00\n",
      "- Lower transition bandwidth: 1.00 Hz (-6 dB cutoff frequency: 0.50 Hz)\n",
      "- Upper passband edge: 3.00 Hz\n",
      "- Upper transition bandwidth: 2.00 Hz (-6 dB cutoff frequency: 4.00 Hz)\n",
      "- Filter length: 825 samples (3.300 s)\n",
      "\n"
     ]
    },
    {
     "name": "stderr",
     "output_type": "stream",
     "text": [
      "[Parallel(n_jobs=1)]: Done  17 tasks      | elapsed:    0.4s\n"
     ]
    },
    {
     "name": "stdout",
     "output_type": "stream",
     "text": [
      "Not setting metadata\n",
      "288 matching events found\n",
      "Setting baseline interval to [-0.3, 0.0] s\n",
      "Applying baseline correction (mode: mean)\n",
      "0 projection items activated\n",
      "Using data from preloaded Raw for 288 events and 1076 original time points ...\n",
      "0 bad epochs dropped\n",
      "  Filtering 2-5 Hz...\n",
      "Filtering raw data in 1 contiguous segment\n",
      "Setting up band-pass filter from 2 - 5 Hz\n",
      "\n",
      "FIR filter parameters\n",
      "---------------------\n",
      "Designing a one-pass, zero-phase, non-causal bandpass filter:\n",
      "- Windowed time-domain design (firwin) method\n",
      "- Hamming window with 0.0194 passband ripple and 53 dB stopband attenuation\n",
      "- Lower passband edge: 2.00\n",
      "- Lower transition bandwidth: 2.00 Hz (-6 dB cutoff frequency: 1.00 Hz)\n",
      "- Upper passband edge: 5.00 Hz\n",
      "- Upper transition bandwidth: 2.00 Hz (-6 dB cutoff frequency: 6.00 Hz)\n",
      "- Filter length: 413 samples (1.652 s)\n",
      "\n"
     ]
    },
    {
     "name": "stderr",
     "output_type": "stream",
     "text": [
      "[Parallel(n_jobs=1)]: Done  17 tasks      | elapsed:    0.5s\n"
     ]
    },
    {
     "name": "stdout",
     "output_type": "stream",
     "text": [
      "Not setting metadata\n",
      "288 matching events found\n",
      "Setting baseline interval to [-0.3, 0.0] s\n",
      "Applying baseline correction (mode: mean)\n",
      "0 projection items activated\n",
      "Using data from preloaded Raw for 288 events and 1076 original time points ...\n",
      "0 bad epochs dropped\n",
      "  Filtering 4-7 Hz...\n",
      "Filtering raw data in 1 contiguous segment\n",
      "Setting up band-pass filter from 4 - 7 Hz\n",
      "\n",
      "FIR filter parameters\n",
      "---------------------\n",
      "Designing a one-pass, zero-phase, non-causal bandpass filter:\n",
      "- Windowed time-domain design (firwin) method\n",
      "- Hamming window with 0.0194 passband ripple and 53 dB stopband attenuation\n",
      "- Lower passband edge: 4.00\n",
      "- Lower transition bandwidth: 2.00 Hz (-6 dB cutoff frequency: 3.00 Hz)\n",
      "- Upper passband edge: 7.00 Hz\n",
      "- Upper transition bandwidth: 2.00 Hz (-6 dB cutoff frequency: 8.00 Hz)\n",
      "- Filter length: 413 samples (1.652 s)\n",
      "\n"
     ]
    },
    {
     "name": "stderr",
     "output_type": "stream",
     "text": [
      "[Parallel(n_jobs=1)]: Done  17 tasks      | elapsed:    0.5s\n"
     ]
    },
    {
     "name": "stdout",
     "output_type": "stream",
     "text": [
      "Not setting metadata\n",
      "288 matching events found\n",
      "Setting baseline interval to [-0.3, 0.0] s\n",
      "Applying baseline correction (mode: mean)\n",
      "0 projection items activated\n",
      "Using data from preloaded Raw for 288 events and 1076 original time points ...\n",
      "0 bad epochs dropped\n",
      "  Filtering 6-10 Hz...\n",
      "Filtering raw data in 1 contiguous segment\n",
      "Setting up band-pass filter from 6 - 10 Hz\n",
      "\n",
      "FIR filter parameters\n",
      "---------------------\n",
      "Designing a one-pass, zero-phase, non-causal bandpass filter:\n",
      "- Windowed time-domain design (firwin) method\n",
      "- Hamming window with 0.0194 passband ripple and 53 dB stopband attenuation\n",
      "- Lower passband edge: 6.00\n",
      "- Lower transition bandwidth: 2.00 Hz (-6 dB cutoff frequency: 5.00 Hz)\n",
      "- Upper passband edge: 10.00 Hz\n",
      "- Upper transition bandwidth: 2.50 Hz (-6 dB cutoff frequency: 11.25 Hz)\n",
      "- Filter length: 413 samples (1.652 s)\n",
      "\n"
     ]
    },
    {
     "name": "stderr",
     "output_type": "stream",
     "text": [
      "[Parallel(n_jobs=1)]: Done  17 tasks      | elapsed:    0.5s\n"
     ]
    },
    {
     "name": "stdout",
     "output_type": "stream",
     "text": [
      "Not setting metadata\n",
      "288 matching events found\n",
      "Setting baseline interval to [-0.3, 0.0] s\n",
      "Applying baseline correction (mode: mean)\n",
      "0 projection items activated\n",
      "Using data from preloaded Raw for 288 events and 1076 original time points ...\n",
      "0 bad epochs dropped\n",
      "  Filtering 7-12 Hz...\n",
      "Filtering raw data in 1 contiguous segment\n",
      "Setting up band-pass filter from 7 - 12 Hz\n",
      "\n",
      "FIR filter parameters\n",
      "---------------------\n",
      "Designing a one-pass, zero-phase, non-causal bandpass filter:\n",
      "- Windowed time-domain design (firwin) method\n",
      "- Hamming window with 0.0194 passband ripple and 53 dB stopband attenuation\n",
      "- Lower passband edge: 7.00\n",
      "- Lower transition bandwidth: 2.00 Hz (-6 dB cutoff frequency: 6.00 Hz)\n",
      "- Upper passband edge: 12.00 Hz\n",
      "- Upper transition bandwidth: 3.00 Hz (-6 dB cutoff frequency: 13.50 Hz)\n",
      "- Filter length: 413 samples (1.652 s)\n",
      "\n"
     ]
    },
    {
     "name": "stderr",
     "output_type": "stream",
     "text": [
      "[Parallel(n_jobs=1)]: Done  17 tasks      | elapsed:    0.5s\n"
     ]
    },
    {
     "name": "stdout",
     "output_type": "stream",
     "text": [
      "Not setting metadata\n",
      "288 matching events found\n",
      "Setting baseline interval to [-0.3, 0.0] s\n",
      "Applying baseline correction (mode: mean)\n",
      "0 projection items activated\n",
      "Using data from preloaded Raw for 288 events and 1076 original time points ...\n",
      "0 bad epochs dropped\n",
      "  Filtering 10-15 Hz...\n",
      "Filtering raw data in 1 contiguous segment\n",
      "Setting up band-pass filter from 10 - 15 Hz\n",
      "\n",
      "FIR filter parameters\n",
      "---------------------\n",
      "Designing a one-pass, zero-phase, non-causal bandpass filter:\n",
      "- Windowed time-domain design (firwin) method\n",
      "- Hamming window with 0.0194 passband ripple and 53 dB stopband attenuation\n",
      "- Lower passband edge: 10.00\n",
      "- Lower transition bandwidth: 2.50 Hz (-6 dB cutoff frequency: 8.75 Hz)\n",
      "- Upper passband edge: 15.00 Hz\n",
      "- Upper transition bandwidth: 3.75 Hz (-6 dB cutoff frequency: 16.88 Hz)\n",
      "- Filter length: 331 samples (1.324 s)\n",
      "\n"
     ]
    },
    {
     "name": "stderr",
     "output_type": "stream",
     "text": [
      "[Parallel(n_jobs=1)]: Done  17 tasks      | elapsed:    0.4s\n"
     ]
    },
    {
     "name": "stdout",
     "output_type": "stream",
     "text": [
      "Not setting metadata\n",
      "288 matching events found\n",
      "Setting baseline interval to [-0.3, 0.0] s\n",
      "Applying baseline correction (mode: mean)\n",
      "0 projection items activated\n",
      "Using data from preloaded Raw for 288 events and 1076 original time points ...\n",
      "0 bad epochs dropped\n",
      "  Filtering 12-19 Hz...\n",
      "Filtering raw data in 1 contiguous segment\n",
      "Setting up band-pass filter from 12 - 19 Hz\n",
      "\n",
      "FIR filter parameters\n",
      "---------------------\n",
      "Designing a one-pass, zero-phase, non-causal bandpass filter:\n",
      "- Windowed time-domain design (firwin) method\n",
      "- Hamming window with 0.0194 passband ripple and 53 dB stopband attenuation\n",
      "- Lower passband edge: 12.00\n",
      "- Lower transition bandwidth: 3.00 Hz (-6 dB cutoff frequency: 10.50 Hz)\n",
      "- Upper passband edge: 19.00 Hz\n",
      "- Upper transition bandwidth: 4.75 Hz (-6 dB cutoff frequency: 21.38 Hz)\n",
      "- Filter length: 275 samples (1.100 s)\n",
      "\n"
     ]
    },
    {
     "name": "stderr",
     "output_type": "stream",
     "text": [
      "[Parallel(n_jobs=1)]: Done  17 tasks      | elapsed:    0.5s\n"
     ]
    },
    {
     "name": "stdout",
     "output_type": "stream",
     "text": [
      "Not setting metadata\n",
      "288 matching events found\n",
      "Setting baseline interval to [-0.3, 0.0] s\n",
      "Applying baseline correction (mode: mean)\n",
      "0 projection items activated\n",
      "Using data from preloaded Raw for 288 events and 1076 original time points ...\n",
      "0 bad epochs dropped\n",
      "  Filtering 15-25 Hz...\n",
      "Filtering raw data in 1 contiguous segment\n",
      "Setting up band-pass filter from 15 - 25 Hz\n",
      "\n",
      "FIR filter parameters\n",
      "---------------------\n",
      "Designing a one-pass, zero-phase, non-causal bandpass filter:\n",
      "- Windowed time-domain design (firwin) method\n",
      "- Hamming window with 0.0194 passband ripple and 53 dB stopband attenuation\n",
      "- Lower passband edge: 15.00\n",
      "- Lower transition bandwidth: 3.75 Hz (-6 dB cutoff frequency: 13.12 Hz)\n",
      "- Upper passband edge: 25.00 Hz\n",
      "- Upper transition bandwidth: 6.25 Hz (-6 dB cutoff frequency: 28.12 Hz)\n",
      "- Filter length: 221 samples (0.884 s)\n",
      "\n"
     ]
    },
    {
     "name": "stderr",
     "output_type": "stream",
     "text": [
      "[Parallel(n_jobs=1)]: Done  17 tasks      | elapsed:    0.5s\n"
     ]
    },
    {
     "name": "stdout",
     "output_type": "stream",
     "text": [
      "Not setting metadata\n",
      "288 matching events found\n",
      "Setting baseline interval to [-0.3, 0.0] s\n",
      "Applying baseline correction (mode: mean)\n",
      "0 projection items activated\n",
      "Using data from preloaded Raw for 288 events and 1076 original time points ...\n",
      "0 bad epochs dropped\n",
      "  Filtering 19-30 Hz...\n",
      "Filtering raw data in 1 contiguous segment\n",
      "Setting up band-pass filter from 19 - 30 Hz\n",
      "\n",
      "FIR filter parameters\n",
      "---------------------\n",
      "Designing a one-pass, zero-phase, non-causal bandpass filter:\n",
      "- Windowed time-domain design (firwin) method\n",
      "- Hamming window with 0.0194 passband ripple and 53 dB stopband attenuation\n",
      "- Lower passband edge: 19.00\n",
      "- Lower transition bandwidth: 4.75 Hz (-6 dB cutoff frequency: 16.62 Hz)\n",
      "- Upper passband edge: 30.00 Hz\n",
      "- Upper transition bandwidth: 7.50 Hz (-6 dB cutoff frequency: 33.75 Hz)\n",
      "- Filter length: 175 samples (0.700 s)\n",
      "\n"
     ]
    },
    {
     "name": "stderr",
     "output_type": "stream",
     "text": [
      "[Parallel(n_jobs=1)]: Done  17 tasks      | elapsed:    0.5s\n"
     ]
    },
    {
     "name": "stdout",
     "output_type": "stream",
     "text": [
      "Not setting metadata\n",
      "288 matching events found\n",
      "Setting baseline interval to [-0.3, 0.0] s\n",
      "Applying baseline correction (mode: mean)\n",
      "0 projection items activated\n",
      "Using data from preloaded Raw for 288 events and 1076 original time points ...\n",
      "0 bad epochs dropped\n",
      "  Filtering 25-35 Hz...\n",
      "Filtering raw data in 1 contiguous segment\n",
      "Setting up band-pass filter from 25 - 35 Hz\n",
      "\n",
      "FIR filter parameters\n",
      "---------------------\n",
      "Designing a one-pass, zero-phase, non-causal bandpass filter:\n",
      "- Windowed time-domain design (firwin) method\n",
      "- Hamming window with 0.0194 passband ripple and 53 dB stopband attenuation\n",
      "- Lower passband edge: 25.00\n",
      "- Lower transition bandwidth: 6.25 Hz (-6 dB cutoff frequency: 21.88 Hz)\n",
      "- Upper passband edge: 35.00 Hz\n",
      "- Upper transition bandwidth: 8.75 Hz (-6 dB cutoff frequency: 39.38 Hz)\n",
      "- Filter length: 133 samples (0.532 s)\n",
      "\n"
     ]
    },
    {
     "name": "stderr",
     "output_type": "stream",
     "text": [
      "[Parallel(n_jobs=1)]: Done  17 tasks      | elapsed:    0.8s\n"
     ]
    },
    {
     "name": "stdout",
     "output_type": "stream",
     "text": [
      "Not setting metadata\n",
      "288 matching events found\n",
      "Setting baseline interval to [-0.3, 0.0] s\n",
      "Applying baseline correction (mode: mean)\n",
      "0 projection items activated\n",
      "Using data from preloaded Raw for 288 events and 1076 original time points ...\n",
      "0 bad epochs dropped\n",
      "  Filtering 30-40 Hz...\n",
      "Filtering raw data in 1 contiguous segment\n",
      "Setting up band-pass filter from 30 - 40 Hz\n",
      "\n",
      "FIR filter parameters\n",
      "---------------------\n",
      "Designing a one-pass, zero-phase, non-causal bandpass filter:\n",
      "- Windowed time-domain design (firwin) method\n",
      "- Hamming window with 0.0194 passband ripple and 53 dB stopband attenuation\n",
      "- Lower passband edge: 30.00\n",
      "- Lower transition bandwidth: 7.50 Hz (-6 dB cutoff frequency: 26.25 Hz)\n",
      "- Upper passband edge: 40.00 Hz\n",
      "- Upper transition bandwidth: 10.00 Hz (-6 dB cutoff frequency: 45.00 Hz)\n",
      "- Filter length: 111 samples (0.444 s)\n",
      "\n"
     ]
    },
    {
     "name": "stderr",
     "output_type": "stream",
     "text": [
      "[Parallel(n_jobs=1)]: Done  17 tasks      | elapsed:    0.7s\n"
     ]
    },
    {
     "name": "stdout",
     "output_type": "stream",
     "text": [
      "Not setting metadata\n",
      "288 matching events found\n",
      "Setting baseline interval to [-0.3, 0.0] s\n",
      "Applying baseline correction (mode: mean)\n",
      "0 projection items activated\n",
      "Using data from preloaded Raw for 288 events and 1076 original time points ...\n",
      "0 bad epochs dropped\n",
      "\n",
      "Processing A02T.gdf...\n",
      "Extracting EDF parameters from /home/r3hu/COGS189-BCI-Competition-Project/BCICIV_2a_gdf/A02T.gdf...\n",
      "GDF file detected\n",
      "Setting channel info structure...\n",
      "Could not determine channel type of the following channels, they will be set as EEG:\n",
      "EEG-Fz, EEG, EEG, EEG, EEG, EEG, EEG, EEG-C3, EEG, EEG-Cz, EEG, EEG-C4, EEG, EEG, EEG, EEG, EEG, EEG, EEG, EEG-Pz, EEG, EEG, EOG-left, EOG-central, EOG-right\n",
      "Creating raw.info structure...\n",
      "Reading 0 ... 677168  =      0.000 ...  2708.672 secs...\n"
     ]
    },
    {
     "name": "stderr",
     "output_type": "stream",
     "text": [
      "/opt/conda/lib/python3.11/contextlib.py:144: RuntimeWarning: Channel names are not unique, found duplicates for: {'EEG'}. Applying running numbers for duplicates.\n",
      "  next(self.gen)\n"
     ]
    },
    {
     "name": "stdout",
     "output_type": "stream",
     "text": [
      "Used Annotations descriptions: ['1023', '1072', '276', '277', '32766', '768', '769', '770', '771', '772']\n",
      "  Filtering 1-3 Hz...\n",
      "Filtering raw data in 1 contiguous segment\n",
      "Setting up band-pass filter from 1 - 3 Hz\n",
      "\n",
      "FIR filter parameters\n",
      "---------------------\n",
      "Designing a one-pass, zero-phase, non-causal bandpass filter:\n",
      "- Windowed time-domain design (firwin) method\n",
      "- Hamming window with 0.0194 passband ripple and 53 dB stopband attenuation\n",
      "- Lower passband edge: 1.00\n",
      "- Lower transition bandwidth: 1.00 Hz (-6 dB cutoff frequency: 0.50 Hz)\n",
      "- Upper passband edge: 3.00 Hz\n",
      "- Upper transition bandwidth: 2.00 Hz (-6 dB cutoff frequency: 4.00 Hz)\n",
      "- Filter length: 825 samples (3.300 s)\n",
      "\n"
     ]
    },
    {
     "name": "stderr",
     "output_type": "stream",
     "text": [
      "[Parallel(n_jobs=1)]: Done  17 tasks      | elapsed:    0.5s\n"
     ]
    },
    {
     "name": "stdout",
     "output_type": "stream",
     "text": [
      "Not setting metadata\n",
      "288 matching events found\n",
      "Setting baseline interval to [-0.3, 0.0] s\n",
      "Applying baseline correction (mode: mean)\n",
      "0 projection items activated\n",
      "Using data from preloaded Raw for 288 events and 1076 original time points ...\n",
      "0 bad epochs dropped\n",
      "  Filtering 2-5 Hz...\n",
      "Filtering raw data in 1 contiguous segment\n",
      "Setting up band-pass filter from 2 - 5 Hz\n",
      "\n",
      "FIR filter parameters\n",
      "---------------------\n",
      "Designing a one-pass, zero-phase, non-causal bandpass filter:\n",
      "- Windowed time-domain design (firwin) method\n",
      "- Hamming window with 0.0194 passband ripple and 53 dB stopband attenuation\n",
      "- Lower passband edge: 2.00\n",
      "- Lower transition bandwidth: 2.00 Hz (-6 dB cutoff frequency: 1.00 Hz)\n",
      "- Upper passband edge: 5.00 Hz\n",
      "- Upper transition bandwidth: 2.00 Hz (-6 dB cutoff frequency: 6.00 Hz)\n",
      "- Filter length: 413 samples (1.652 s)\n",
      "\n"
     ]
    },
    {
     "name": "stderr",
     "output_type": "stream",
     "text": [
      "[Parallel(n_jobs=1)]: Done  17 tasks      | elapsed:    0.5s\n"
     ]
    },
    {
     "name": "stdout",
     "output_type": "stream",
     "text": [
      "Not setting metadata\n",
      "288 matching events found\n",
      "Setting baseline interval to [-0.3, 0.0] s\n",
      "Applying baseline correction (mode: mean)\n",
      "0 projection items activated\n",
      "Using data from preloaded Raw for 288 events and 1076 original time points ...\n",
      "0 bad epochs dropped\n",
      "  Filtering 4-7 Hz...\n",
      "Filtering raw data in 1 contiguous segment\n",
      "Setting up band-pass filter from 4 - 7 Hz\n",
      "\n",
      "FIR filter parameters\n",
      "---------------------\n",
      "Designing a one-pass, zero-phase, non-causal bandpass filter:\n",
      "- Windowed time-domain design (firwin) method\n",
      "- Hamming window with 0.0194 passband ripple and 53 dB stopband attenuation\n",
      "- Lower passband edge: 4.00\n",
      "- Lower transition bandwidth: 2.00 Hz (-6 dB cutoff frequency: 3.00 Hz)\n",
      "- Upper passband edge: 7.00 Hz\n",
      "- Upper transition bandwidth: 2.00 Hz (-6 dB cutoff frequency: 8.00 Hz)\n",
      "- Filter length: 413 samples (1.652 s)\n",
      "\n"
     ]
    },
    {
     "name": "stderr",
     "output_type": "stream",
     "text": [
      "[Parallel(n_jobs=1)]: Done  17 tasks      | elapsed:    0.4s\n"
     ]
    },
    {
     "name": "stdout",
     "output_type": "stream",
     "text": [
      "Not setting metadata\n",
      "288 matching events found\n",
      "Setting baseline interval to [-0.3, 0.0] s\n",
      "Applying baseline correction (mode: mean)\n",
      "0 projection items activated\n",
      "Using data from preloaded Raw for 288 events and 1076 original time points ...\n",
      "0 bad epochs dropped\n",
      "  Filtering 6-10 Hz...\n",
      "Filtering raw data in 1 contiguous segment\n",
      "Setting up band-pass filter from 6 - 10 Hz\n",
      "\n",
      "FIR filter parameters\n",
      "---------------------\n",
      "Designing a one-pass, zero-phase, non-causal bandpass filter:\n",
      "- Windowed time-domain design (firwin) method\n",
      "- Hamming window with 0.0194 passband ripple and 53 dB stopband attenuation\n",
      "- Lower passband edge: 6.00\n",
      "- Lower transition bandwidth: 2.00 Hz (-6 dB cutoff frequency: 5.00 Hz)\n",
      "- Upper passband edge: 10.00 Hz\n",
      "- Upper transition bandwidth: 2.50 Hz (-6 dB cutoff frequency: 11.25 Hz)\n",
      "- Filter length: 413 samples (1.652 s)\n",
      "\n"
     ]
    },
    {
     "name": "stderr",
     "output_type": "stream",
     "text": [
      "[Parallel(n_jobs=1)]: Done  17 tasks      | elapsed:    0.5s\n"
     ]
    },
    {
     "name": "stdout",
     "output_type": "stream",
     "text": [
      "Not setting metadata\n",
      "288 matching events found\n",
      "Setting baseline interval to [-0.3, 0.0] s\n",
      "Applying baseline correction (mode: mean)\n",
      "0 projection items activated\n",
      "Using data from preloaded Raw for 288 events and 1076 original time points ...\n",
      "0 bad epochs dropped\n",
      "  Filtering 7-12 Hz...\n",
      "Filtering raw data in 1 contiguous segment\n",
      "Setting up band-pass filter from 7 - 12 Hz\n",
      "\n",
      "FIR filter parameters\n",
      "---------------------\n",
      "Designing a one-pass, zero-phase, non-causal bandpass filter:\n",
      "- Windowed time-domain design (firwin) method\n",
      "- Hamming window with 0.0194 passband ripple and 53 dB stopband attenuation\n",
      "- Lower passband edge: 7.00\n",
      "- Lower transition bandwidth: 2.00 Hz (-6 dB cutoff frequency: 6.00 Hz)\n",
      "- Upper passband edge: 12.00 Hz\n",
      "- Upper transition bandwidth: 3.00 Hz (-6 dB cutoff frequency: 13.50 Hz)\n",
      "- Filter length: 413 samples (1.652 s)\n",
      "\n"
     ]
    },
    {
     "name": "stderr",
     "output_type": "stream",
     "text": [
      "[Parallel(n_jobs=1)]: Done  17 tasks      | elapsed:    0.5s\n"
     ]
    },
    {
     "name": "stdout",
     "output_type": "stream",
     "text": [
      "Not setting metadata\n",
      "288 matching events found\n",
      "Setting baseline interval to [-0.3, 0.0] s\n",
      "Applying baseline correction (mode: mean)\n",
      "0 projection items activated\n",
      "Using data from preloaded Raw for 288 events and 1076 original time points ...\n",
      "0 bad epochs dropped\n",
      "  Filtering 10-15 Hz...\n",
      "Filtering raw data in 1 contiguous segment\n",
      "Setting up band-pass filter from 10 - 15 Hz\n",
      "\n",
      "FIR filter parameters\n",
      "---------------------\n",
      "Designing a one-pass, zero-phase, non-causal bandpass filter:\n",
      "- Windowed time-domain design (firwin) method\n",
      "- Hamming window with 0.0194 passband ripple and 53 dB stopband attenuation\n",
      "- Lower passband edge: 10.00\n",
      "- Lower transition bandwidth: 2.50 Hz (-6 dB cutoff frequency: 8.75 Hz)\n",
      "- Upper passband edge: 15.00 Hz\n",
      "- Upper transition bandwidth: 3.75 Hz (-6 dB cutoff frequency: 16.88 Hz)\n",
      "- Filter length: 331 samples (1.324 s)\n",
      "\n"
     ]
    },
    {
     "name": "stderr",
     "output_type": "stream",
     "text": [
      "[Parallel(n_jobs=1)]: Done  17 tasks      | elapsed:    0.4s\n"
     ]
    },
    {
     "name": "stdout",
     "output_type": "stream",
     "text": [
      "Not setting metadata\n",
      "288 matching events found\n",
      "Setting baseline interval to [-0.3, 0.0] s\n",
      "Applying baseline correction (mode: mean)\n",
      "0 projection items activated\n",
      "Using data from preloaded Raw for 288 events and 1076 original time points ...\n",
      "0 bad epochs dropped\n",
      "  Filtering 12-19 Hz...\n",
      "Filtering raw data in 1 contiguous segment\n",
      "Setting up band-pass filter from 12 - 19 Hz\n",
      "\n",
      "FIR filter parameters\n",
      "---------------------\n",
      "Designing a one-pass, zero-phase, non-causal bandpass filter:\n",
      "- Windowed time-domain design (firwin) method\n",
      "- Hamming window with 0.0194 passband ripple and 53 dB stopband attenuation\n",
      "- Lower passband edge: 12.00\n",
      "- Lower transition bandwidth: 3.00 Hz (-6 dB cutoff frequency: 10.50 Hz)\n",
      "- Upper passband edge: 19.00 Hz\n",
      "- Upper transition bandwidth: 4.75 Hz (-6 dB cutoff frequency: 21.38 Hz)\n",
      "- Filter length: 275 samples (1.100 s)\n",
      "\n"
     ]
    },
    {
     "name": "stderr",
     "output_type": "stream",
     "text": [
      "[Parallel(n_jobs=1)]: Done  17 tasks      | elapsed:    0.6s\n"
     ]
    },
    {
     "name": "stdout",
     "output_type": "stream",
     "text": [
      "Not setting metadata\n",
      "288 matching events found\n",
      "Setting baseline interval to [-0.3, 0.0] s\n",
      "Applying baseline correction (mode: mean)\n",
      "0 projection items activated\n",
      "Using data from preloaded Raw for 288 events and 1076 original time points ...\n",
      "0 bad epochs dropped\n",
      "  Filtering 15-25 Hz...\n",
      "Filtering raw data in 1 contiguous segment\n",
      "Setting up band-pass filter from 15 - 25 Hz\n",
      "\n",
      "FIR filter parameters\n",
      "---------------------\n",
      "Designing a one-pass, zero-phase, non-causal bandpass filter:\n",
      "- Windowed time-domain design (firwin) method\n",
      "- Hamming window with 0.0194 passband ripple and 53 dB stopband attenuation\n",
      "- Lower passband edge: 15.00\n",
      "- Lower transition bandwidth: 3.75 Hz (-6 dB cutoff frequency: 13.12 Hz)\n",
      "- Upper passband edge: 25.00 Hz\n",
      "- Upper transition bandwidth: 6.25 Hz (-6 dB cutoff frequency: 28.12 Hz)\n",
      "- Filter length: 221 samples (0.884 s)\n",
      "\n"
     ]
    },
    {
     "name": "stderr",
     "output_type": "stream",
     "text": [
      "[Parallel(n_jobs=1)]: Done  17 tasks      | elapsed:    0.5s\n"
     ]
    },
    {
     "name": "stdout",
     "output_type": "stream",
     "text": [
      "Not setting metadata\n",
      "288 matching events found\n",
      "Setting baseline interval to [-0.3, 0.0] s\n",
      "Applying baseline correction (mode: mean)\n",
      "0 projection items activated\n",
      "Using data from preloaded Raw for 288 events and 1076 original time points ...\n",
      "0 bad epochs dropped\n",
      "  Filtering 19-30 Hz...\n",
      "Filtering raw data in 1 contiguous segment\n",
      "Setting up band-pass filter from 19 - 30 Hz\n",
      "\n",
      "FIR filter parameters\n",
      "---------------------\n",
      "Designing a one-pass, zero-phase, non-causal bandpass filter:\n",
      "- Windowed time-domain design (firwin) method\n",
      "- Hamming window with 0.0194 passband ripple and 53 dB stopband attenuation\n",
      "- Lower passband edge: 19.00\n",
      "- Lower transition bandwidth: 4.75 Hz (-6 dB cutoff frequency: 16.62 Hz)\n",
      "- Upper passband edge: 30.00 Hz\n",
      "- Upper transition bandwidth: 7.50 Hz (-6 dB cutoff frequency: 33.75 Hz)\n",
      "- Filter length: 175 samples (0.700 s)\n",
      "\n"
     ]
    },
    {
     "name": "stderr",
     "output_type": "stream",
     "text": [
      "[Parallel(n_jobs=1)]: Done  17 tasks      | elapsed:    0.5s\n"
     ]
    },
    {
     "name": "stdout",
     "output_type": "stream",
     "text": [
      "Not setting metadata\n",
      "288 matching events found\n",
      "Setting baseline interval to [-0.3, 0.0] s\n",
      "Applying baseline correction (mode: mean)\n",
      "0 projection items activated\n",
      "Using data from preloaded Raw for 288 events and 1076 original time points ...\n",
      "0 bad epochs dropped\n",
      "  Filtering 25-35 Hz...\n",
      "Filtering raw data in 1 contiguous segment\n",
      "Setting up band-pass filter from 25 - 35 Hz\n",
      "\n",
      "FIR filter parameters\n",
      "---------------------\n",
      "Designing a one-pass, zero-phase, non-causal bandpass filter:\n",
      "- Windowed time-domain design (firwin) method\n",
      "- Hamming window with 0.0194 passband ripple and 53 dB stopband attenuation\n",
      "- Lower passband edge: 25.00\n",
      "- Lower transition bandwidth: 6.25 Hz (-6 dB cutoff frequency: 21.88 Hz)\n",
      "- Upper passband edge: 35.00 Hz\n",
      "- Upper transition bandwidth: 8.75 Hz (-6 dB cutoff frequency: 39.38 Hz)\n",
      "- Filter length: 133 samples (0.532 s)\n",
      "\n"
     ]
    },
    {
     "name": "stderr",
     "output_type": "stream",
     "text": [
      "[Parallel(n_jobs=1)]: Done  17 tasks      | elapsed:    0.8s\n"
     ]
    },
    {
     "name": "stdout",
     "output_type": "stream",
     "text": [
      "Not setting metadata\n",
      "288 matching events found\n",
      "Setting baseline interval to [-0.3, 0.0] s\n",
      "Applying baseline correction (mode: mean)\n",
      "0 projection items activated\n",
      "Using data from preloaded Raw for 288 events and 1076 original time points ...\n",
      "0 bad epochs dropped\n",
      "  Filtering 30-40 Hz...\n",
      "Filtering raw data in 1 contiguous segment\n",
      "Setting up band-pass filter from 30 - 40 Hz\n",
      "\n",
      "FIR filter parameters\n",
      "---------------------\n",
      "Designing a one-pass, zero-phase, non-causal bandpass filter:\n",
      "- Windowed time-domain design (firwin) method\n",
      "- Hamming window with 0.0194 passband ripple and 53 dB stopband attenuation\n",
      "- Lower passband edge: 30.00\n",
      "- Lower transition bandwidth: 7.50 Hz (-6 dB cutoff frequency: 26.25 Hz)\n",
      "- Upper passband edge: 40.00 Hz\n",
      "- Upper transition bandwidth: 10.00 Hz (-6 dB cutoff frequency: 45.00 Hz)\n",
      "- Filter length: 111 samples (0.444 s)\n",
      "\n"
     ]
    },
    {
     "name": "stderr",
     "output_type": "stream",
     "text": [
      "[Parallel(n_jobs=1)]: Done  17 tasks      | elapsed:    0.7s\n"
     ]
    },
    {
     "name": "stdout",
     "output_type": "stream",
     "text": [
      "Not setting metadata\n",
      "288 matching events found\n",
      "Setting baseline interval to [-0.3, 0.0] s\n",
      "Applying baseline correction (mode: mean)\n",
      "0 projection items activated\n",
      "Using data from preloaded Raw for 288 events and 1076 original time points ...\n",
      "0 bad epochs dropped\n",
      "\n",
      "Processing A03T.gdf...\n",
      "Extracting EDF parameters from /home/r3hu/COGS189-BCI-Competition-Project/BCICIV_2a_gdf/A03T.gdf...\n",
      "GDF file detected\n",
      "Setting channel info structure...\n",
      "Could not determine channel type of the following channels, they will be set as EEG:\n",
      "EEG-Fz, EEG, EEG, EEG, EEG, EEG, EEG, EEG-C3, EEG, EEG-Cz, EEG, EEG-C4, EEG, EEG, EEG, EEG, EEG, EEG, EEG, EEG-Pz, EEG, EEG, EOG-left, EOG-central, EOG-right\n",
      "Creating raw.info structure...\n",
      "Reading 0 ... 660529  =      0.000 ...  2642.116 secs...\n"
     ]
    },
    {
     "name": "stderr",
     "output_type": "stream",
     "text": [
      "/opt/conda/lib/python3.11/contextlib.py:144: RuntimeWarning: Channel names are not unique, found duplicates for: {'EEG'}. Applying running numbers for duplicates.\n",
      "  next(self.gen)\n"
     ]
    },
    {
     "name": "stdout",
     "output_type": "stream",
     "text": [
      "Used Annotations descriptions: ['1023', '1072', '276', '277', '32766', '768', '769', '770', '771', '772']\n",
      "  Filtering 1-3 Hz...\n",
      "Filtering raw data in 1 contiguous segment\n",
      "Setting up band-pass filter from 1 - 3 Hz\n",
      "\n",
      "FIR filter parameters\n",
      "---------------------\n",
      "Designing a one-pass, zero-phase, non-causal bandpass filter:\n",
      "- Windowed time-domain design (firwin) method\n",
      "- Hamming window with 0.0194 passband ripple and 53 dB stopband attenuation\n",
      "- Lower passband edge: 1.00\n",
      "- Lower transition bandwidth: 1.00 Hz (-6 dB cutoff frequency: 0.50 Hz)\n",
      "- Upper passband edge: 3.00 Hz\n",
      "- Upper transition bandwidth: 2.00 Hz (-6 dB cutoff frequency: 4.00 Hz)\n",
      "- Filter length: 825 samples (3.300 s)\n",
      "\n"
     ]
    },
    {
     "name": "stderr",
     "output_type": "stream",
     "text": [
      "[Parallel(n_jobs=1)]: Done  17 tasks      | elapsed:    0.4s\n"
     ]
    },
    {
     "name": "stdout",
     "output_type": "stream",
     "text": [
      "Not setting metadata\n",
      "288 matching events found\n",
      "Setting baseline interval to [-0.3, 0.0] s\n",
      "Applying baseline correction (mode: mean)\n",
      "0 projection items activated\n",
      "Using data from preloaded Raw for 288 events and 1076 original time points ...\n",
      "0 bad epochs dropped\n",
      "  Filtering 2-5 Hz...\n",
      "Filtering raw data in 1 contiguous segment\n",
      "Setting up band-pass filter from 2 - 5 Hz\n",
      "\n",
      "FIR filter parameters\n",
      "---------------------\n",
      "Designing a one-pass, zero-phase, non-causal bandpass filter:\n",
      "- Windowed time-domain design (firwin) method\n",
      "- Hamming window with 0.0194 passband ripple and 53 dB stopband attenuation\n",
      "- Lower passband edge: 2.00\n",
      "- Lower transition bandwidth: 2.00 Hz (-6 dB cutoff frequency: 1.00 Hz)\n",
      "- Upper passband edge: 5.00 Hz\n",
      "- Upper transition bandwidth: 2.00 Hz (-6 dB cutoff frequency: 6.00 Hz)\n",
      "- Filter length: 413 samples (1.652 s)\n",
      "\n"
     ]
    },
    {
     "name": "stderr",
     "output_type": "stream",
     "text": [
      "[Parallel(n_jobs=1)]: Done  17 tasks      | elapsed:    0.4s\n"
     ]
    },
    {
     "name": "stdout",
     "output_type": "stream",
     "text": [
      "Not setting metadata\n",
      "288 matching events found\n",
      "Setting baseline interval to [-0.3, 0.0] s\n",
      "Applying baseline correction (mode: mean)\n",
      "0 projection items activated\n",
      "Using data from preloaded Raw for 288 events and 1076 original time points ...\n",
      "0 bad epochs dropped\n",
      "  Filtering 4-7 Hz...\n",
      "Filtering raw data in 1 contiguous segment\n",
      "Setting up band-pass filter from 4 - 7 Hz\n",
      "\n",
      "FIR filter parameters\n",
      "---------------------\n",
      "Designing a one-pass, zero-phase, non-causal bandpass filter:\n",
      "- Windowed time-domain design (firwin) method\n",
      "- Hamming window with 0.0194 passband ripple and 53 dB stopband attenuation\n",
      "- Lower passband edge: 4.00\n",
      "- Lower transition bandwidth: 2.00 Hz (-6 dB cutoff frequency: 3.00 Hz)\n",
      "- Upper passband edge: 7.00 Hz\n",
      "- Upper transition bandwidth: 2.00 Hz (-6 dB cutoff frequency: 8.00 Hz)\n",
      "- Filter length: 413 samples (1.652 s)\n",
      "\n"
     ]
    },
    {
     "name": "stderr",
     "output_type": "stream",
     "text": [
      "[Parallel(n_jobs=1)]: Done  17 tasks      | elapsed:    0.4s\n"
     ]
    },
    {
     "name": "stdout",
     "output_type": "stream",
     "text": [
      "Not setting metadata\n",
      "288 matching events found\n",
      "Setting baseline interval to [-0.3, 0.0] s\n",
      "Applying baseline correction (mode: mean)\n",
      "0 projection items activated\n",
      "Using data from preloaded Raw for 288 events and 1076 original time points ...\n",
      "0 bad epochs dropped\n",
      "  Filtering 6-10 Hz...\n",
      "Filtering raw data in 1 contiguous segment\n",
      "Setting up band-pass filter from 6 - 10 Hz\n",
      "\n",
      "FIR filter parameters\n",
      "---------------------\n",
      "Designing a one-pass, zero-phase, non-causal bandpass filter:\n",
      "- Windowed time-domain design (firwin) method\n",
      "- Hamming window with 0.0194 passband ripple and 53 dB stopband attenuation\n",
      "- Lower passband edge: 6.00\n",
      "- Lower transition bandwidth: 2.00 Hz (-6 dB cutoff frequency: 5.00 Hz)\n",
      "- Upper passband edge: 10.00 Hz\n",
      "- Upper transition bandwidth: 2.50 Hz (-6 dB cutoff frequency: 11.25 Hz)\n",
      "- Filter length: 413 samples (1.652 s)\n",
      "\n"
     ]
    },
    {
     "name": "stderr",
     "output_type": "stream",
     "text": [
      "[Parallel(n_jobs=1)]: Done  17 tasks      | elapsed:    0.4s\n"
     ]
    },
    {
     "name": "stdout",
     "output_type": "stream",
     "text": [
      "Not setting metadata\n",
      "288 matching events found\n",
      "Setting baseline interval to [-0.3, 0.0] s\n",
      "Applying baseline correction (mode: mean)\n",
      "0 projection items activated\n",
      "Using data from preloaded Raw for 288 events and 1076 original time points ...\n",
      "0 bad epochs dropped\n",
      "  Filtering 7-12 Hz...\n",
      "Filtering raw data in 1 contiguous segment\n",
      "Setting up band-pass filter from 7 - 12 Hz\n",
      "\n",
      "FIR filter parameters\n",
      "---------------------\n",
      "Designing a one-pass, zero-phase, non-causal bandpass filter:\n",
      "- Windowed time-domain design (firwin) method\n",
      "- Hamming window with 0.0194 passband ripple and 53 dB stopband attenuation\n",
      "- Lower passband edge: 7.00\n",
      "- Lower transition bandwidth: 2.00 Hz (-6 dB cutoff frequency: 6.00 Hz)\n",
      "- Upper passband edge: 12.00 Hz\n",
      "- Upper transition bandwidth: 3.00 Hz (-6 dB cutoff frequency: 13.50 Hz)\n",
      "- Filter length: 413 samples (1.652 s)\n",
      "\n"
     ]
    },
    {
     "name": "stderr",
     "output_type": "stream",
     "text": [
      "[Parallel(n_jobs=1)]: Done  17 tasks      | elapsed:    0.4s\n"
     ]
    },
    {
     "name": "stdout",
     "output_type": "stream",
     "text": [
      "Not setting metadata\n",
      "288 matching events found\n",
      "Setting baseline interval to [-0.3, 0.0] s\n",
      "Applying baseline correction (mode: mean)\n",
      "0 projection items activated\n",
      "Using data from preloaded Raw for 288 events and 1076 original time points ...\n",
      "0 bad epochs dropped\n",
      "  Filtering 10-15 Hz...\n",
      "Filtering raw data in 1 contiguous segment\n",
      "Setting up band-pass filter from 10 - 15 Hz\n",
      "\n",
      "FIR filter parameters\n",
      "---------------------\n",
      "Designing a one-pass, zero-phase, non-causal bandpass filter:\n",
      "- Windowed time-domain design (firwin) method\n",
      "- Hamming window with 0.0194 passband ripple and 53 dB stopband attenuation\n",
      "- Lower passband edge: 10.00\n",
      "- Lower transition bandwidth: 2.50 Hz (-6 dB cutoff frequency: 8.75 Hz)\n",
      "- Upper passband edge: 15.00 Hz\n",
      "- Upper transition bandwidth: 3.75 Hz (-6 dB cutoff frequency: 16.88 Hz)\n",
      "- Filter length: 331 samples (1.324 s)\n",
      "\n"
     ]
    },
    {
     "name": "stderr",
     "output_type": "stream",
     "text": [
      "[Parallel(n_jobs=1)]: Done  17 tasks      | elapsed:    0.4s\n"
     ]
    },
    {
     "name": "stdout",
     "output_type": "stream",
     "text": [
      "Not setting metadata\n",
      "288 matching events found\n",
      "Setting baseline interval to [-0.3, 0.0] s\n",
      "Applying baseline correction (mode: mean)\n",
      "0 projection items activated\n",
      "Using data from preloaded Raw for 288 events and 1076 original time points ...\n",
      "0 bad epochs dropped\n",
      "  Filtering 12-19 Hz...\n",
      "Filtering raw data in 1 contiguous segment\n",
      "Setting up band-pass filter from 12 - 19 Hz\n",
      "\n",
      "FIR filter parameters\n",
      "---------------------\n",
      "Designing a one-pass, zero-phase, non-causal bandpass filter:\n",
      "- Windowed time-domain design (firwin) method\n",
      "- Hamming window with 0.0194 passband ripple and 53 dB stopband attenuation\n",
      "- Lower passband edge: 12.00\n",
      "- Lower transition bandwidth: 3.00 Hz (-6 dB cutoff frequency: 10.50 Hz)\n",
      "- Upper passband edge: 19.00 Hz\n",
      "- Upper transition bandwidth: 4.75 Hz (-6 dB cutoff frequency: 21.38 Hz)\n",
      "- Filter length: 275 samples (1.100 s)\n",
      "\n"
     ]
    },
    {
     "name": "stderr",
     "output_type": "stream",
     "text": [
      "[Parallel(n_jobs=1)]: Done  17 tasks      | elapsed:    0.6s\n"
     ]
    },
    {
     "name": "stdout",
     "output_type": "stream",
     "text": [
      "Not setting metadata\n",
      "288 matching events found\n",
      "Setting baseline interval to [-0.3, 0.0] s\n",
      "Applying baseline correction (mode: mean)\n",
      "0 projection items activated\n",
      "Using data from preloaded Raw for 288 events and 1076 original time points ...\n",
      "0 bad epochs dropped\n",
      "  Filtering 15-25 Hz...\n",
      "Filtering raw data in 1 contiguous segment\n",
      "Setting up band-pass filter from 15 - 25 Hz\n",
      "\n",
      "FIR filter parameters\n",
      "---------------------\n",
      "Designing a one-pass, zero-phase, non-causal bandpass filter:\n",
      "- Windowed time-domain design (firwin) method\n",
      "- Hamming window with 0.0194 passband ripple and 53 dB stopband attenuation\n",
      "- Lower passband edge: 15.00\n",
      "- Lower transition bandwidth: 3.75 Hz (-6 dB cutoff frequency: 13.12 Hz)\n",
      "- Upper passband edge: 25.00 Hz\n",
      "- Upper transition bandwidth: 6.25 Hz (-6 dB cutoff frequency: 28.12 Hz)\n",
      "- Filter length: 221 samples (0.884 s)\n",
      "\n"
     ]
    },
    {
     "name": "stderr",
     "output_type": "stream",
     "text": [
      "[Parallel(n_jobs=1)]: Done  17 tasks      | elapsed:    0.5s\n"
     ]
    },
    {
     "name": "stdout",
     "output_type": "stream",
     "text": [
      "Not setting metadata\n",
      "288 matching events found\n",
      "Setting baseline interval to [-0.3, 0.0] s\n",
      "Applying baseline correction (mode: mean)\n",
      "0 projection items activated\n",
      "Using data from preloaded Raw for 288 events and 1076 original time points ...\n",
      "0 bad epochs dropped\n",
      "  Filtering 19-30 Hz...\n",
      "Filtering raw data in 1 contiguous segment\n",
      "Setting up band-pass filter from 19 - 30 Hz\n",
      "\n",
      "FIR filter parameters\n",
      "---------------------\n",
      "Designing a one-pass, zero-phase, non-causal bandpass filter:\n",
      "- Windowed time-domain design (firwin) method\n",
      "- Hamming window with 0.0194 passband ripple and 53 dB stopband attenuation\n",
      "- Lower passband edge: 19.00\n",
      "- Lower transition bandwidth: 4.75 Hz (-6 dB cutoff frequency: 16.62 Hz)\n",
      "- Upper passband edge: 30.00 Hz\n",
      "- Upper transition bandwidth: 7.50 Hz (-6 dB cutoff frequency: 33.75 Hz)\n",
      "- Filter length: 175 samples (0.700 s)\n",
      "\n"
     ]
    },
    {
     "name": "stderr",
     "output_type": "stream",
     "text": [
      "[Parallel(n_jobs=1)]: Done  17 tasks      | elapsed:    0.5s\n"
     ]
    },
    {
     "name": "stdout",
     "output_type": "stream",
     "text": [
      "Not setting metadata\n",
      "288 matching events found\n",
      "Setting baseline interval to [-0.3, 0.0] s\n",
      "Applying baseline correction (mode: mean)\n",
      "0 projection items activated\n",
      "Using data from preloaded Raw for 288 events and 1076 original time points ...\n",
      "0 bad epochs dropped\n",
      "  Filtering 25-35 Hz...\n",
      "Filtering raw data in 1 contiguous segment\n",
      "Setting up band-pass filter from 25 - 35 Hz\n",
      "\n",
      "FIR filter parameters\n",
      "---------------------\n",
      "Designing a one-pass, zero-phase, non-causal bandpass filter:\n",
      "- Windowed time-domain design (firwin) method\n",
      "- Hamming window with 0.0194 passband ripple and 53 dB stopband attenuation\n",
      "- Lower passband edge: 25.00\n",
      "- Lower transition bandwidth: 6.25 Hz (-6 dB cutoff frequency: 21.88 Hz)\n",
      "- Upper passband edge: 35.00 Hz\n",
      "- Upper transition bandwidth: 8.75 Hz (-6 dB cutoff frequency: 39.38 Hz)\n",
      "- Filter length: 133 samples (0.532 s)\n",
      "\n"
     ]
    },
    {
     "name": "stderr",
     "output_type": "stream",
     "text": [
      "[Parallel(n_jobs=1)]: Done  17 tasks      | elapsed:    0.7s\n"
     ]
    },
    {
     "name": "stdout",
     "output_type": "stream",
     "text": [
      "Not setting metadata\n",
      "288 matching events found\n",
      "Setting baseline interval to [-0.3, 0.0] s\n",
      "Applying baseline correction (mode: mean)\n",
      "0 projection items activated\n",
      "Using data from preloaded Raw for 288 events and 1076 original time points ...\n",
      "0 bad epochs dropped\n",
      "  Filtering 30-40 Hz...\n",
      "Filtering raw data in 1 contiguous segment\n",
      "Setting up band-pass filter from 30 - 40 Hz\n",
      "\n",
      "FIR filter parameters\n",
      "---------------------\n",
      "Designing a one-pass, zero-phase, non-causal bandpass filter:\n",
      "- Windowed time-domain design (firwin) method\n",
      "- Hamming window with 0.0194 passband ripple and 53 dB stopband attenuation\n",
      "- Lower passband edge: 30.00\n",
      "- Lower transition bandwidth: 7.50 Hz (-6 dB cutoff frequency: 26.25 Hz)\n",
      "- Upper passband edge: 40.00 Hz\n",
      "- Upper transition bandwidth: 10.00 Hz (-6 dB cutoff frequency: 45.00 Hz)\n",
      "- Filter length: 111 samples (0.444 s)\n",
      "\n"
     ]
    },
    {
     "name": "stderr",
     "output_type": "stream",
     "text": [
      "[Parallel(n_jobs=1)]: Done  17 tasks      | elapsed:    0.7s\n"
     ]
    },
    {
     "name": "stdout",
     "output_type": "stream",
     "text": [
      "Not setting metadata\n",
      "288 matching events found\n",
      "Setting baseline interval to [-0.3, 0.0] s\n",
      "Applying baseline correction (mode: mean)\n",
      "0 projection items activated\n",
      "Using data from preloaded Raw for 288 events and 1076 original time points ...\n",
      "0 bad epochs dropped\n",
      "\n",
      "Processing A05T.gdf...\n",
      "Extracting EDF parameters from /home/r3hu/COGS189-BCI-Competition-Project/BCICIV_2a_gdf/A05T.gdf...\n",
      "GDF file detected\n",
      "Setting channel info structure...\n",
      "Could not determine channel type of the following channels, they will be set as EEG:\n",
      "EEG-Fz, EEG, EEG, EEG, EEG, EEG, EEG, EEG-C3, EEG, EEG-Cz, EEG, EEG-C4, EEG, EEG, EEG, EEG, EEG, EEG, EEG, EEG-Pz, EEG, EEG, EOG-left, EOG-central, EOG-right\n",
      "Creating raw.info structure...\n",
      "Reading 0 ... 686119  =      0.000 ...  2744.476 secs...\n"
     ]
    },
    {
     "name": "stderr",
     "output_type": "stream",
     "text": [
      "/opt/conda/lib/python3.11/contextlib.py:144: RuntimeWarning: Channel names are not unique, found duplicates for: {'EEG'}. Applying running numbers for duplicates.\n",
      "  next(self.gen)\n"
     ]
    },
    {
     "name": "stdout",
     "output_type": "stream",
     "text": [
      "Used Annotations descriptions: ['1023', '1072', '276', '277', '32766', '768', '769', '770', '771', '772']\n",
      "  Filtering 1-3 Hz...\n",
      "Filtering raw data in 1 contiguous segment\n",
      "Setting up band-pass filter from 1 - 3 Hz\n",
      "\n",
      "FIR filter parameters\n",
      "---------------------\n",
      "Designing a one-pass, zero-phase, non-causal bandpass filter:\n",
      "- Windowed time-domain design (firwin) method\n",
      "- Hamming window with 0.0194 passband ripple and 53 dB stopband attenuation\n",
      "- Lower passband edge: 1.00\n",
      "- Lower transition bandwidth: 1.00 Hz (-6 dB cutoff frequency: 0.50 Hz)\n",
      "- Upper passband edge: 3.00 Hz\n",
      "- Upper transition bandwidth: 2.00 Hz (-6 dB cutoff frequency: 4.00 Hz)\n",
      "- Filter length: 825 samples (3.300 s)\n",
      "\n"
     ]
    },
    {
     "name": "stderr",
     "output_type": "stream",
     "text": [
      "[Parallel(n_jobs=1)]: Done  17 tasks      | elapsed:    0.5s\n"
     ]
    },
    {
     "name": "stdout",
     "output_type": "stream",
     "text": [
      "Not setting metadata\n",
      "288 matching events found\n",
      "Setting baseline interval to [-0.3, 0.0] s\n",
      "Applying baseline correction (mode: mean)\n",
      "0 projection items activated\n",
      "Using data from preloaded Raw for 288 events and 1076 original time points ...\n",
      "0 bad epochs dropped\n",
      "  Filtering 2-5 Hz...\n",
      "Filtering raw data in 1 contiguous segment\n",
      "Setting up band-pass filter from 2 - 5 Hz\n",
      "\n",
      "FIR filter parameters\n",
      "---------------------\n",
      "Designing a one-pass, zero-phase, non-causal bandpass filter:\n",
      "- Windowed time-domain design (firwin) method\n",
      "- Hamming window with 0.0194 passband ripple and 53 dB stopband attenuation\n",
      "- Lower passband edge: 2.00\n",
      "- Lower transition bandwidth: 2.00 Hz (-6 dB cutoff frequency: 1.00 Hz)\n",
      "- Upper passband edge: 5.00 Hz\n",
      "- Upper transition bandwidth: 2.00 Hz (-6 dB cutoff frequency: 6.00 Hz)\n",
      "- Filter length: 413 samples (1.652 s)\n",
      "\n"
     ]
    },
    {
     "name": "stderr",
     "output_type": "stream",
     "text": [
      "[Parallel(n_jobs=1)]: Done  17 tasks      | elapsed:    0.5s\n"
     ]
    },
    {
     "name": "stdout",
     "output_type": "stream",
     "text": [
      "Not setting metadata\n",
      "288 matching events found\n",
      "Setting baseline interval to [-0.3, 0.0] s\n",
      "Applying baseline correction (mode: mean)\n",
      "0 projection items activated\n",
      "Using data from preloaded Raw for 288 events and 1076 original time points ...\n",
      "0 bad epochs dropped\n",
      "  Filtering 4-7 Hz...\n",
      "Filtering raw data in 1 contiguous segment\n",
      "Setting up band-pass filter from 4 - 7 Hz\n",
      "\n",
      "FIR filter parameters\n",
      "---------------------\n",
      "Designing a one-pass, zero-phase, non-causal bandpass filter:\n",
      "- Windowed time-domain design (firwin) method\n",
      "- Hamming window with 0.0194 passband ripple and 53 dB stopband attenuation\n",
      "- Lower passband edge: 4.00\n",
      "- Lower transition bandwidth: 2.00 Hz (-6 dB cutoff frequency: 3.00 Hz)\n",
      "- Upper passband edge: 7.00 Hz\n",
      "- Upper transition bandwidth: 2.00 Hz (-6 dB cutoff frequency: 8.00 Hz)\n",
      "- Filter length: 413 samples (1.652 s)\n",
      "\n"
     ]
    },
    {
     "name": "stderr",
     "output_type": "stream",
     "text": [
      "[Parallel(n_jobs=1)]: Done  17 tasks      | elapsed:    0.4s\n"
     ]
    },
    {
     "name": "stdout",
     "output_type": "stream",
     "text": [
      "Not setting metadata\n",
      "288 matching events found\n",
      "Setting baseline interval to [-0.3, 0.0] s\n",
      "Applying baseline correction (mode: mean)\n",
      "0 projection items activated\n",
      "Using data from preloaded Raw for 288 events and 1076 original time points ...\n",
      "0 bad epochs dropped\n",
      "  Filtering 6-10 Hz...\n",
      "Filtering raw data in 1 contiguous segment\n",
      "Setting up band-pass filter from 6 - 10 Hz\n",
      "\n",
      "FIR filter parameters\n",
      "---------------------\n",
      "Designing a one-pass, zero-phase, non-causal bandpass filter:\n",
      "- Windowed time-domain design (firwin) method\n",
      "- Hamming window with 0.0194 passband ripple and 53 dB stopband attenuation\n",
      "- Lower passband edge: 6.00\n",
      "- Lower transition bandwidth: 2.00 Hz (-6 dB cutoff frequency: 5.00 Hz)\n",
      "- Upper passband edge: 10.00 Hz\n",
      "- Upper transition bandwidth: 2.50 Hz (-6 dB cutoff frequency: 11.25 Hz)\n",
      "- Filter length: 413 samples (1.652 s)\n",
      "\n"
     ]
    },
    {
     "name": "stderr",
     "output_type": "stream",
     "text": [
      "[Parallel(n_jobs=1)]: Done  17 tasks      | elapsed:    0.5s\n"
     ]
    },
    {
     "name": "stdout",
     "output_type": "stream",
     "text": [
      "Not setting metadata\n",
      "288 matching events found\n",
      "Setting baseline interval to [-0.3, 0.0] s\n",
      "Applying baseline correction (mode: mean)\n",
      "0 projection items activated\n",
      "Using data from preloaded Raw for 288 events and 1076 original time points ...\n",
      "0 bad epochs dropped\n",
      "  Filtering 7-12 Hz...\n",
      "Filtering raw data in 1 contiguous segment\n",
      "Setting up band-pass filter from 7 - 12 Hz\n",
      "\n",
      "FIR filter parameters\n",
      "---------------------\n",
      "Designing a one-pass, zero-phase, non-causal bandpass filter:\n",
      "- Windowed time-domain design (firwin) method\n",
      "- Hamming window with 0.0194 passband ripple and 53 dB stopband attenuation\n",
      "- Lower passband edge: 7.00\n",
      "- Lower transition bandwidth: 2.00 Hz (-6 dB cutoff frequency: 6.00 Hz)\n",
      "- Upper passband edge: 12.00 Hz\n",
      "- Upper transition bandwidth: 3.00 Hz (-6 dB cutoff frequency: 13.50 Hz)\n",
      "- Filter length: 413 samples (1.652 s)\n",
      "\n"
     ]
    },
    {
     "name": "stderr",
     "output_type": "stream",
     "text": [
      "[Parallel(n_jobs=1)]: Done  17 tasks      | elapsed:    0.5s\n"
     ]
    },
    {
     "name": "stdout",
     "output_type": "stream",
     "text": [
      "Not setting metadata\n",
      "288 matching events found\n",
      "Setting baseline interval to [-0.3, 0.0] s\n",
      "Applying baseline correction (mode: mean)\n",
      "0 projection items activated\n",
      "Using data from preloaded Raw for 288 events and 1076 original time points ...\n",
      "0 bad epochs dropped\n",
      "  Filtering 10-15 Hz...\n",
      "Filtering raw data in 1 contiguous segment\n",
      "Setting up band-pass filter from 10 - 15 Hz\n",
      "\n",
      "FIR filter parameters\n",
      "---------------------\n",
      "Designing a one-pass, zero-phase, non-causal bandpass filter:\n",
      "- Windowed time-domain design (firwin) method\n",
      "- Hamming window with 0.0194 passband ripple and 53 dB stopband attenuation\n",
      "- Lower passband edge: 10.00\n",
      "- Lower transition bandwidth: 2.50 Hz (-6 dB cutoff frequency: 8.75 Hz)\n",
      "- Upper passband edge: 15.00 Hz\n",
      "- Upper transition bandwidth: 3.75 Hz (-6 dB cutoff frequency: 16.88 Hz)\n",
      "- Filter length: 331 samples (1.324 s)\n",
      "\n"
     ]
    },
    {
     "name": "stderr",
     "output_type": "stream",
     "text": [
      "[Parallel(n_jobs=1)]: Done  17 tasks      | elapsed:    0.5s\n"
     ]
    },
    {
     "name": "stdout",
     "output_type": "stream",
     "text": [
      "Not setting metadata\n",
      "288 matching events found\n",
      "Setting baseline interval to [-0.3, 0.0] s\n",
      "Applying baseline correction (mode: mean)\n",
      "0 projection items activated\n",
      "Using data from preloaded Raw for 288 events and 1076 original time points ...\n",
      "0 bad epochs dropped\n",
      "  Filtering 12-19 Hz...\n",
      "Filtering raw data in 1 contiguous segment\n",
      "Setting up band-pass filter from 12 - 19 Hz\n",
      "\n",
      "FIR filter parameters\n",
      "---------------------\n",
      "Designing a one-pass, zero-phase, non-causal bandpass filter:\n",
      "- Windowed time-domain design (firwin) method\n",
      "- Hamming window with 0.0194 passband ripple and 53 dB stopband attenuation\n",
      "- Lower passband edge: 12.00\n",
      "- Lower transition bandwidth: 3.00 Hz (-6 dB cutoff frequency: 10.50 Hz)\n",
      "- Upper passband edge: 19.00 Hz\n",
      "- Upper transition bandwidth: 4.75 Hz (-6 dB cutoff frequency: 21.38 Hz)\n",
      "- Filter length: 275 samples (1.100 s)\n",
      "\n"
     ]
    },
    {
     "name": "stderr",
     "output_type": "stream",
     "text": [
      "[Parallel(n_jobs=1)]: Done  17 tasks      | elapsed:    0.6s\n"
     ]
    },
    {
     "name": "stdout",
     "output_type": "stream",
     "text": [
      "Not setting metadata\n",
      "288 matching events found\n",
      "Setting baseline interval to [-0.3, 0.0] s\n",
      "Applying baseline correction (mode: mean)\n",
      "0 projection items activated\n",
      "Using data from preloaded Raw for 288 events and 1076 original time points ...\n",
      "0 bad epochs dropped\n",
      "  Filtering 15-25 Hz...\n",
      "Filtering raw data in 1 contiguous segment\n",
      "Setting up band-pass filter from 15 - 25 Hz\n",
      "\n",
      "FIR filter parameters\n",
      "---------------------\n",
      "Designing a one-pass, zero-phase, non-causal bandpass filter:\n",
      "- Windowed time-domain design (firwin) method\n",
      "- Hamming window with 0.0194 passband ripple and 53 dB stopband attenuation\n",
      "- Lower passband edge: 15.00\n",
      "- Lower transition bandwidth: 3.75 Hz (-6 dB cutoff frequency: 13.12 Hz)\n",
      "- Upper passband edge: 25.00 Hz\n",
      "- Upper transition bandwidth: 6.25 Hz (-6 dB cutoff frequency: 28.12 Hz)\n",
      "- Filter length: 221 samples (0.884 s)\n",
      "\n"
     ]
    },
    {
     "name": "stderr",
     "output_type": "stream",
     "text": [
      "[Parallel(n_jobs=1)]: Done  17 tasks      | elapsed:    0.6s\n"
     ]
    },
    {
     "name": "stdout",
     "output_type": "stream",
     "text": [
      "Not setting metadata\n",
      "288 matching events found\n",
      "Setting baseline interval to [-0.3, 0.0] s\n",
      "Applying baseline correction (mode: mean)\n",
      "0 projection items activated\n",
      "Using data from preloaded Raw for 288 events and 1076 original time points ...\n",
      "0 bad epochs dropped\n",
      "  Filtering 19-30 Hz...\n",
      "Filtering raw data in 1 contiguous segment\n",
      "Setting up band-pass filter from 19 - 30 Hz\n",
      "\n",
      "FIR filter parameters\n",
      "---------------------\n",
      "Designing a one-pass, zero-phase, non-causal bandpass filter:\n",
      "- Windowed time-domain design (firwin) method\n",
      "- Hamming window with 0.0194 passband ripple and 53 dB stopband attenuation\n",
      "- Lower passband edge: 19.00\n",
      "- Lower transition bandwidth: 4.75 Hz (-6 dB cutoff frequency: 16.62 Hz)\n",
      "- Upper passband edge: 30.00 Hz\n",
      "- Upper transition bandwidth: 7.50 Hz (-6 dB cutoff frequency: 33.75 Hz)\n",
      "- Filter length: 175 samples (0.700 s)\n",
      "\n"
     ]
    },
    {
     "name": "stderr",
     "output_type": "stream",
     "text": [
      "[Parallel(n_jobs=1)]: Done  17 tasks      | elapsed:    0.5s\n"
     ]
    },
    {
     "name": "stdout",
     "output_type": "stream",
     "text": [
      "Not setting metadata\n",
      "288 matching events found\n",
      "Setting baseline interval to [-0.3, 0.0] s\n",
      "Applying baseline correction (mode: mean)\n",
      "0 projection items activated\n",
      "Using data from preloaded Raw for 288 events and 1076 original time points ...\n",
      "0 bad epochs dropped\n",
      "  Filtering 25-35 Hz...\n",
      "Filtering raw data in 1 contiguous segment\n",
      "Setting up band-pass filter from 25 - 35 Hz\n",
      "\n",
      "FIR filter parameters\n",
      "---------------------\n",
      "Designing a one-pass, zero-phase, non-causal bandpass filter:\n",
      "- Windowed time-domain design (firwin) method\n",
      "- Hamming window with 0.0194 passband ripple and 53 dB stopband attenuation\n",
      "- Lower passband edge: 25.00\n",
      "- Lower transition bandwidth: 6.25 Hz (-6 dB cutoff frequency: 21.88 Hz)\n",
      "- Upper passband edge: 35.00 Hz\n",
      "- Upper transition bandwidth: 8.75 Hz (-6 dB cutoff frequency: 39.38 Hz)\n",
      "- Filter length: 133 samples (0.532 s)\n",
      "\n"
     ]
    },
    {
     "name": "stderr",
     "output_type": "stream",
     "text": [
      "[Parallel(n_jobs=1)]: Done  17 tasks      | elapsed:    0.8s\n"
     ]
    },
    {
     "name": "stdout",
     "output_type": "stream",
     "text": [
      "Not setting metadata\n",
      "288 matching events found\n",
      "Setting baseline interval to [-0.3, 0.0] s\n",
      "Applying baseline correction (mode: mean)\n",
      "0 projection items activated\n",
      "Using data from preloaded Raw for 288 events and 1076 original time points ...\n",
      "0 bad epochs dropped\n",
      "  Filtering 30-40 Hz...\n",
      "Filtering raw data in 1 contiguous segment\n",
      "Setting up band-pass filter from 30 - 40 Hz\n",
      "\n",
      "FIR filter parameters\n",
      "---------------------\n",
      "Designing a one-pass, zero-phase, non-causal bandpass filter:\n",
      "- Windowed time-domain design (firwin) method\n",
      "- Hamming window with 0.0194 passband ripple and 53 dB stopband attenuation\n",
      "- Lower passband edge: 30.00\n",
      "- Lower transition bandwidth: 7.50 Hz (-6 dB cutoff frequency: 26.25 Hz)\n",
      "- Upper passband edge: 40.00 Hz\n",
      "- Upper transition bandwidth: 10.00 Hz (-6 dB cutoff frequency: 45.00 Hz)\n",
      "- Filter length: 111 samples (0.444 s)\n",
      "\n"
     ]
    },
    {
     "name": "stderr",
     "output_type": "stream",
     "text": [
      "[Parallel(n_jobs=1)]: Done  17 tasks      | elapsed:    0.7s\n"
     ]
    },
    {
     "name": "stdout",
     "output_type": "stream",
     "text": [
      "Not setting metadata\n",
      "288 matching events found\n",
      "Setting baseline interval to [-0.3, 0.0] s\n",
      "Applying baseline correction (mode: mean)\n",
      "0 projection items activated\n",
      "Using data from preloaded Raw for 288 events and 1076 original time points ...\n",
      "0 bad epochs dropped\n",
      "\n",
      "Processing A06T.gdf...\n",
      "Extracting EDF parameters from /home/r3hu/COGS189-BCI-Competition-Project/BCICIV_2a_gdf/A06T.gdf...\n",
      "GDF file detected\n",
      "Setting channel info structure...\n",
      "Could not determine channel type of the following channels, they will be set as EEG:\n",
      "EEG-Fz, EEG, EEG, EEG, EEG, EEG, EEG, EEG-C3, EEG, EEG-Cz, EEG, EEG-C4, EEG, EEG, EEG, EEG, EEG, EEG, EEG, EEG-Pz, EEG, EEG, EOG-left, EOG-central, EOG-right\n",
      "Creating raw.info structure...\n",
      "Reading 0 ... 678979  =      0.000 ...  2715.916 secs...\n"
     ]
    },
    {
     "name": "stderr",
     "output_type": "stream",
     "text": [
      "/opt/conda/lib/python3.11/contextlib.py:144: RuntimeWarning: Channel names are not unique, found duplicates for: {'EEG'}. Applying running numbers for duplicates.\n",
      "  next(self.gen)\n"
     ]
    },
    {
     "name": "stdout",
     "output_type": "stream",
     "text": [
      "Used Annotations descriptions: ['1023', '1072', '276', '277', '32766', '768', '769', '770', '771', '772']\n",
      "  Filtering 1-3 Hz...\n",
      "Filtering raw data in 1 contiguous segment\n",
      "Setting up band-pass filter from 1 - 3 Hz\n",
      "\n",
      "FIR filter parameters\n",
      "---------------------\n",
      "Designing a one-pass, zero-phase, non-causal bandpass filter:\n",
      "- Windowed time-domain design (firwin) method\n",
      "- Hamming window with 0.0194 passband ripple and 53 dB stopband attenuation\n",
      "- Lower passband edge: 1.00\n",
      "- Lower transition bandwidth: 1.00 Hz (-6 dB cutoff frequency: 0.50 Hz)\n",
      "- Upper passband edge: 3.00 Hz\n",
      "- Upper transition bandwidth: 2.00 Hz (-6 dB cutoff frequency: 4.00 Hz)\n",
      "- Filter length: 825 samples (3.300 s)\n",
      "\n"
     ]
    },
    {
     "name": "stderr",
     "output_type": "stream",
     "text": [
      "[Parallel(n_jobs=1)]: Done  17 tasks      | elapsed:    0.5s\n"
     ]
    },
    {
     "name": "stdout",
     "output_type": "stream",
     "text": [
      "Not setting metadata\n",
      "288 matching events found\n",
      "Setting baseline interval to [-0.3, 0.0] s\n",
      "Applying baseline correction (mode: mean)\n",
      "0 projection items activated\n",
      "Using data from preloaded Raw for 288 events and 1076 original time points ...\n",
      "0 bad epochs dropped\n",
      "  Filtering 2-5 Hz...\n",
      "Filtering raw data in 1 contiguous segment\n",
      "Setting up band-pass filter from 2 - 5 Hz\n",
      "\n",
      "FIR filter parameters\n",
      "---------------------\n",
      "Designing a one-pass, zero-phase, non-causal bandpass filter:\n",
      "- Windowed time-domain design (firwin) method\n",
      "- Hamming window with 0.0194 passband ripple and 53 dB stopband attenuation\n",
      "- Lower passband edge: 2.00\n",
      "- Lower transition bandwidth: 2.00 Hz (-6 dB cutoff frequency: 1.00 Hz)\n",
      "- Upper passband edge: 5.00 Hz\n",
      "- Upper transition bandwidth: 2.00 Hz (-6 dB cutoff frequency: 6.00 Hz)\n",
      "- Filter length: 413 samples (1.652 s)\n",
      "\n"
     ]
    },
    {
     "name": "stderr",
     "output_type": "stream",
     "text": [
      "[Parallel(n_jobs=1)]: Done  17 tasks      | elapsed:    0.4s\n"
     ]
    },
    {
     "name": "stdout",
     "output_type": "stream",
     "text": [
      "Not setting metadata\n",
      "288 matching events found\n",
      "Setting baseline interval to [-0.3, 0.0] s\n",
      "Applying baseline correction (mode: mean)\n",
      "0 projection items activated\n",
      "Using data from preloaded Raw for 288 events and 1076 original time points ...\n",
      "0 bad epochs dropped\n",
      "  Filtering 4-7 Hz...\n",
      "Filtering raw data in 1 contiguous segment\n",
      "Setting up band-pass filter from 4 - 7 Hz\n",
      "\n",
      "FIR filter parameters\n",
      "---------------------\n",
      "Designing a one-pass, zero-phase, non-causal bandpass filter:\n",
      "- Windowed time-domain design (firwin) method\n",
      "- Hamming window with 0.0194 passband ripple and 53 dB stopband attenuation\n",
      "- Lower passband edge: 4.00\n",
      "- Lower transition bandwidth: 2.00 Hz (-6 dB cutoff frequency: 3.00 Hz)\n",
      "- Upper passband edge: 7.00 Hz\n",
      "- Upper transition bandwidth: 2.00 Hz (-6 dB cutoff frequency: 8.00 Hz)\n",
      "- Filter length: 413 samples (1.652 s)\n",
      "\n"
     ]
    },
    {
     "name": "stderr",
     "output_type": "stream",
     "text": [
      "[Parallel(n_jobs=1)]: Done  17 tasks      | elapsed:    0.4s\n"
     ]
    },
    {
     "name": "stdout",
     "output_type": "stream",
     "text": [
      "Not setting metadata\n",
      "288 matching events found\n",
      "Setting baseline interval to [-0.3, 0.0] s\n",
      "Applying baseline correction (mode: mean)\n",
      "0 projection items activated\n",
      "Using data from preloaded Raw for 288 events and 1076 original time points ...\n",
      "0 bad epochs dropped\n",
      "  Filtering 6-10 Hz...\n",
      "Filtering raw data in 1 contiguous segment\n",
      "Setting up band-pass filter from 6 - 10 Hz\n",
      "\n",
      "FIR filter parameters\n",
      "---------------------\n",
      "Designing a one-pass, zero-phase, non-causal bandpass filter:\n",
      "- Windowed time-domain design (firwin) method\n",
      "- Hamming window with 0.0194 passband ripple and 53 dB stopband attenuation\n",
      "- Lower passband edge: 6.00\n",
      "- Lower transition bandwidth: 2.00 Hz (-6 dB cutoff frequency: 5.00 Hz)\n",
      "- Upper passband edge: 10.00 Hz\n",
      "- Upper transition bandwidth: 2.50 Hz (-6 dB cutoff frequency: 11.25 Hz)\n",
      "- Filter length: 413 samples (1.652 s)\n",
      "\n"
     ]
    },
    {
     "name": "stderr",
     "output_type": "stream",
     "text": [
      "[Parallel(n_jobs=1)]: Done  17 tasks      | elapsed:    0.4s\n"
     ]
    },
    {
     "name": "stdout",
     "output_type": "stream",
     "text": [
      "Not setting metadata\n",
      "288 matching events found\n",
      "Setting baseline interval to [-0.3, 0.0] s\n",
      "Applying baseline correction (mode: mean)\n",
      "0 projection items activated\n",
      "Using data from preloaded Raw for 288 events and 1076 original time points ...\n",
      "0 bad epochs dropped\n",
      "  Filtering 7-12 Hz...\n",
      "Filtering raw data in 1 contiguous segment\n",
      "Setting up band-pass filter from 7 - 12 Hz\n",
      "\n",
      "FIR filter parameters\n",
      "---------------------\n",
      "Designing a one-pass, zero-phase, non-causal bandpass filter:\n",
      "- Windowed time-domain design (firwin) method\n",
      "- Hamming window with 0.0194 passband ripple and 53 dB stopband attenuation\n",
      "- Lower passband edge: 7.00\n",
      "- Lower transition bandwidth: 2.00 Hz (-6 dB cutoff frequency: 6.00 Hz)\n",
      "- Upper passband edge: 12.00 Hz\n",
      "- Upper transition bandwidth: 3.00 Hz (-6 dB cutoff frequency: 13.50 Hz)\n",
      "- Filter length: 413 samples (1.652 s)\n",
      "\n"
     ]
    },
    {
     "name": "stderr",
     "output_type": "stream",
     "text": [
      "[Parallel(n_jobs=1)]: Done  17 tasks      | elapsed:    0.4s\n"
     ]
    },
    {
     "name": "stdout",
     "output_type": "stream",
     "text": [
      "Not setting metadata\n",
      "288 matching events found\n",
      "Setting baseline interval to [-0.3, 0.0] s\n",
      "Applying baseline correction (mode: mean)\n",
      "0 projection items activated\n",
      "Using data from preloaded Raw for 288 events and 1076 original time points ...\n",
      "0 bad epochs dropped\n",
      "  Filtering 10-15 Hz...\n",
      "Filtering raw data in 1 contiguous segment\n",
      "Setting up band-pass filter from 10 - 15 Hz\n",
      "\n",
      "FIR filter parameters\n",
      "---------------------\n",
      "Designing a one-pass, zero-phase, non-causal bandpass filter:\n",
      "- Windowed time-domain design (firwin) method\n",
      "- Hamming window with 0.0194 passband ripple and 53 dB stopband attenuation\n",
      "- Lower passband edge: 10.00\n",
      "- Lower transition bandwidth: 2.50 Hz (-6 dB cutoff frequency: 8.75 Hz)\n",
      "- Upper passband edge: 15.00 Hz\n",
      "- Upper transition bandwidth: 3.75 Hz (-6 dB cutoff frequency: 16.88 Hz)\n",
      "- Filter length: 331 samples (1.324 s)\n",
      "\n"
     ]
    },
    {
     "name": "stderr",
     "output_type": "stream",
     "text": [
      "[Parallel(n_jobs=1)]: Done  17 tasks      | elapsed:    0.5s\n"
     ]
    },
    {
     "name": "stdout",
     "output_type": "stream",
     "text": [
      "Not setting metadata\n",
      "288 matching events found\n",
      "Setting baseline interval to [-0.3, 0.0] s\n",
      "Applying baseline correction (mode: mean)\n",
      "0 projection items activated\n",
      "Using data from preloaded Raw for 288 events and 1076 original time points ...\n",
      "0 bad epochs dropped\n",
      "  Filtering 12-19 Hz...\n",
      "Filtering raw data in 1 contiguous segment\n",
      "Setting up band-pass filter from 12 - 19 Hz\n",
      "\n",
      "FIR filter parameters\n",
      "---------------------\n",
      "Designing a one-pass, zero-phase, non-causal bandpass filter:\n",
      "- Windowed time-domain design (firwin) method\n",
      "- Hamming window with 0.0194 passband ripple and 53 dB stopband attenuation\n",
      "- Lower passband edge: 12.00\n",
      "- Lower transition bandwidth: 3.00 Hz (-6 dB cutoff frequency: 10.50 Hz)\n",
      "- Upper passband edge: 19.00 Hz\n",
      "- Upper transition bandwidth: 4.75 Hz (-6 dB cutoff frequency: 21.38 Hz)\n",
      "- Filter length: 275 samples (1.100 s)\n",
      "\n"
     ]
    },
    {
     "name": "stderr",
     "output_type": "stream",
     "text": [
      "[Parallel(n_jobs=1)]: Done  17 tasks      | elapsed:    0.6s\n"
     ]
    },
    {
     "name": "stdout",
     "output_type": "stream",
     "text": [
      "Not setting metadata\n",
      "288 matching events found\n",
      "Setting baseline interval to [-0.3, 0.0] s\n",
      "Applying baseline correction (mode: mean)\n",
      "0 projection items activated\n",
      "Using data from preloaded Raw for 288 events and 1076 original time points ...\n",
      "0 bad epochs dropped\n",
      "  Filtering 15-25 Hz...\n",
      "Filtering raw data in 1 contiguous segment\n",
      "Setting up band-pass filter from 15 - 25 Hz\n",
      "\n",
      "FIR filter parameters\n",
      "---------------------\n",
      "Designing a one-pass, zero-phase, non-causal bandpass filter:\n",
      "- Windowed time-domain design (firwin) method\n",
      "- Hamming window with 0.0194 passband ripple and 53 dB stopband attenuation\n",
      "- Lower passband edge: 15.00\n",
      "- Lower transition bandwidth: 3.75 Hz (-6 dB cutoff frequency: 13.12 Hz)\n",
      "- Upper passband edge: 25.00 Hz\n",
      "- Upper transition bandwidth: 6.25 Hz (-6 dB cutoff frequency: 28.12 Hz)\n",
      "- Filter length: 221 samples (0.884 s)\n",
      "\n"
     ]
    },
    {
     "name": "stderr",
     "output_type": "stream",
     "text": [
      "[Parallel(n_jobs=1)]: Done  17 tasks      | elapsed:    0.5s\n"
     ]
    },
    {
     "name": "stdout",
     "output_type": "stream",
     "text": [
      "Not setting metadata\n",
      "288 matching events found\n",
      "Setting baseline interval to [-0.3, 0.0] s\n",
      "Applying baseline correction (mode: mean)\n",
      "0 projection items activated\n",
      "Using data from preloaded Raw for 288 events and 1076 original time points ...\n",
      "0 bad epochs dropped\n",
      "  Filtering 19-30 Hz...\n",
      "Filtering raw data in 1 contiguous segment\n",
      "Setting up band-pass filter from 19 - 30 Hz\n",
      "\n",
      "FIR filter parameters\n",
      "---------------------\n",
      "Designing a one-pass, zero-phase, non-causal bandpass filter:\n",
      "- Windowed time-domain design (firwin) method\n",
      "- Hamming window with 0.0194 passband ripple and 53 dB stopband attenuation\n",
      "- Lower passband edge: 19.00\n",
      "- Lower transition bandwidth: 4.75 Hz (-6 dB cutoff frequency: 16.62 Hz)\n",
      "- Upper passband edge: 30.00 Hz\n",
      "- Upper transition bandwidth: 7.50 Hz (-6 dB cutoff frequency: 33.75 Hz)\n",
      "- Filter length: 175 samples (0.700 s)\n",
      "\n"
     ]
    },
    {
     "name": "stderr",
     "output_type": "stream",
     "text": [
      "[Parallel(n_jobs=1)]: Done  17 tasks      | elapsed:    0.5s\n"
     ]
    },
    {
     "name": "stdout",
     "output_type": "stream",
     "text": [
      "Not setting metadata\n",
      "288 matching events found\n",
      "Setting baseline interval to [-0.3, 0.0] s\n",
      "Applying baseline correction (mode: mean)\n",
      "0 projection items activated\n",
      "Using data from preloaded Raw for 288 events and 1076 original time points ...\n",
      "0 bad epochs dropped\n",
      "  Filtering 25-35 Hz...\n",
      "Filtering raw data in 1 contiguous segment\n",
      "Setting up band-pass filter from 25 - 35 Hz\n",
      "\n",
      "FIR filter parameters\n",
      "---------------------\n",
      "Designing a one-pass, zero-phase, non-causal bandpass filter:\n",
      "- Windowed time-domain design (firwin) method\n",
      "- Hamming window with 0.0194 passband ripple and 53 dB stopband attenuation\n",
      "- Lower passband edge: 25.00\n",
      "- Lower transition bandwidth: 6.25 Hz (-6 dB cutoff frequency: 21.88 Hz)\n",
      "- Upper passband edge: 35.00 Hz\n",
      "- Upper transition bandwidth: 8.75 Hz (-6 dB cutoff frequency: 39.38 Hz)\n",
      "- Filter length: 133 samples (0.532 s)\n",
      "\n"
     ]
    },
    {
     "name": "stderr",
     "output_type": "stream",
     "text": [
      "[Parallel(n_jobs=1)]: Done  17 tasks      | elapsed:    0.8s\n"
     ]
    },
    {
     "name": "stdout",
     "output_type": "stream",
     "text": [
      "Not setting metadata\n",
      "288 matching events found\n",
      "Setting baseline interval to [-0.3, 0.0] s\n",
      "Applying baseline correction (mode: mean)\n",
      "0 projection items activated\n",
      "Using data from preloaded Raw for 288 events and 1076 original time points ...\n",
      "0 bad epochs dropped\n",
      "  Filtering 30-40 Hz...\n",
      "Filtering raw data in 1 contiguous segment\n",
      "Setting up band-pass filter from 30 - 40 Hz\n",
      "\n",
      "FIR filter parameters\n",
      "---------------------\n",
      "Designing a one-pass, zero-phase, non-causal bandpass filter:\n",
      "- Windowed time-domain design (firwin) method\n",
      "- Hamming window with 0.0194 passband ripple and 53 dB stopband attenuation\n",
      "- Lower passband edge: 30.00\n",
      "- Lower transition bandwidth: 7.50 Hz (-6 dB cutoff frequency: 26.25 Hz)\n",
      "- Upper passband edge: 40.00 Hz\n",
      "- Upper transition bandwidth: 10.00 Hz (-6 dB cutoff frequency: 45.00 Hz)\n",
      "- Filter length: 111 samples (0.444 s)\n",
      "\n"
     ]
    },
    {
     "name": "stderr",
     "output_type": "stream",
     "text": [
      "[Parallel(n_jobs=1)]: Done  17 tasks      | elapsed:    0.8s\n"
     ]
    },
    {
     "name": "stdout",
     "output_type": "stream",
     "text": [
      "Not setting metadata\n",
      "288 matching events found\n",
      "Setting baseline interval to [-0.3, 0.0] s\n",
      "Applying baseline correction (mode: mean)\n",
      "0 projection items activated\n",
      "Using data from preloaded Raw for 288 events and 1076 original time points ...\n",
      "0 bad epochs dropped\n",
      "\n",
      "Processing A07T.gdf...\n",
      "Extracting EDF parameters from /home/r3hu/COGS189-BCI-Competition-Project/BCICIV_2a_gdf/A07T.gdf...\n",
      "GDF file detected\n",
      "Setting channel info structure...\n",
      "Could not determine channel type of the following channels, they will be set as EEG:\n",
      "EEG-Fz, EEG, EEG, EEG, EEG, EEG, EEG, EEG-C3, EEG, EEG-Cz, EEG, EEG-C4, EEG, EEG, EEG, EEG, EEG, EEG, EEG, EEG-Pz, EEG, EEG, EOG-left, EOG-central, EOG-right\n",
      "Creating raw.info structure...\n",
      "Reading 0 ... 681070  =      0.000 ...  2724.280 secs...\n"
     ]
    },
    {
     "name": "stderr",
     "output_type": "stream",
     "text": [
      "/opt/conda/lib/python3.11/contextlib.py:144: RuntimeWarning: Channel names are not unique, found duplicates for: {'EEG'}. Applying running numbers for duplicates.\n",
      "  next(self.gen)\n"
     ]
    },
    {
     "name": "stdout",
     "output_type": "stream",
     "text": [
      "Used Annotations descriptions: ['1023', '1072', '276', '277', '32766', '768', '769', '770', '771', '772']\n",
      "  Filtering 1-3 Hz...\n",
      "Filtering raw data in 1 contiguous segment\n",
      "Setting up band-pass filter from 1 - 3 Hz\n",
      "\n",
      "FIR filter parameters\n",
      "---------------------\n",
      "Designing a one-pass, zero-phase, non-causal bandpass filter:\n",
      "- Windowed time-domain design (firwin) method\n",
      "- Hamming window with 0.0194 passband ripple and 53 dB stopband attenuation\n",
      "- Lower passband edge: 1.00\n",
      "- Lower transition bandwidth: 1.00 Hz (-6 dB cutoff frequency: 0.50 Hz)\n",
      "- Upper passband edge: 3.00 Hz\n",
      "- Upper transition bandwidth: 2.00 Hz (-6 dB cutoff frequency: 4.00 Hz)\n",
      "- Filter length: 825 samples (3.300 s)\n",
      "\n"
     ]
    },
    {
     "name": "stderr",
     "output_type": "stream",
     "text": [
      "[Parallel(n_jobs=1)]: Done  17 tasks      | elapsed:    0.4s\n"
     ]
    },
    {
     "name": "stdout",
     "output_type": "stream",
     "text": [
      "Not setting metadata\n",
      "288 matching events found\n",
      "Setting baseline interval to [-0.3, 0.0] s\n",
      "Applying baseline correction (mode: mean)\n",
      "0 projection items activated\n",
      "Using data from preloaded Raw for 288 events and 1076 original time points ...\n",
      "0 bad epochs dropped\n",
      "  Filtering 2-5 Hz...\n",
      "Filtering raw data in 1 contiguous segment\n",
      "Setting up band-pass filter from 2 - 5 Hz\n",
      "\n",
      "FIR filter parameters\n",
      "---------------------\n",
      "Designing a one-pass, zero-phase, non-causal bandpass filter:\n",
      "- Windowed time-domain design (firwin) method\n",
      "- Hamming window with 0.0194 passband ripple and 53 dB stopband attenuation\n",
      "- Lower passband edge: 2.00\n",
      "- Lower transition bandwidth: 2.00 Hz (-6 dB cutoff frequency: 1.00 Hz)\n",
      "- Upper passband edge: 5.00 Hz\n",
      "- Upper transition bandwidth: 2.00 Hz (-6 dB cutoff frequency: 6.00 Hz)\n",
      "- Filter length: 413 samples (1.652 s)\n",
      "\n"
     ]
    },
    {
     "name": "stderr",
     "output_type": "stream",
     "text": [
      "[Parallel(n_jobs=1)]: Done  17 tasks      | elapsed:    0.4s\n"
     ]
    },
    {
     "name": "stdout",
     "output_type": "stream",
     "text": [
      "Not setting metadata\n",
      "288 matching events found\n",
      "Setting baseline interval to [-0.3, 0.0] s\n",
      "Applying baseline correction (mode: mean)\n",
      "0 projection items activated\n",
      "Using data from preloaded Raw for 288 events and 1076 original time points ...\n",
      "0 bad epochs dropped\n",
      "  Filtering 4-7 Hz...\n",
      "Filtering raw data in 1 contiguous segment\n",
      "Setting up band-pass filter from 4 - 7 Hz\n",
      "\n",
      "FIR filter parameters\n",
      "---------------------\n",
      "Designing a one-pass, zero-phase, non-causal bandpass filter:\n",
      "- Windowed time-domain design (firwin) method\n",
      "- Hamming window with 0.0194 passband ripple and 53 dB stopband attenuation\n",
      "- Lower passband edge: 4.00\n",
      "- Lower transition bandwidth: 2.00 Hz (-6 dB cutoff frequency: 3.00 Hz)\n",
      "- Upper passband edge: 7.00 Hz\n",
      "- Upper transition bandwidth: 2.00 Hz (-6 dB cutoff frequency: 8.00 Hz)\n",
      "- Filter length: 413 samples (1.652 s)\n",
      "\n"
     ]
    },
    {
     "name": "stderr",
     "output_type": "stream",
     "text": [
      "[Parallel(n_jobs=1)]: Done  17 tasks      | elapsed:    0.4s\n"
     ]
    },
    {
     "name": "stdout",
     "output_type": "stream",
     "text": [
      "Not setting metadata\n",
      "288 matching events found\n",
      "Setting baseline interval to [-0.3, 0.0] s\n",
      "Applying baseline correction (mode: mean)\n",
      "0 projection items activated\n",
      "Using data from preloaded Raw for 288 events and 1076 original time points ...\n",
      "0 bad epochs dropped\n",
      "  Filtering 6-10 Hz...\n",
      "Filtering raw data in 1 contiguous segment\n",
      "Setting up band-pass filter from 6 - 10 Hz\n",
      "\n",
      "FIR filter parameters\n",
      "---------------------\n",
      "Designing a one-pass, zero-phase, non-causal bandpass filter:\n",
      "- Windowed time-domain design (firwin) method\n",
      "- Hamming window with 0.0194 passband ripple and 53 dB stopband attenuation\n",
      "- Lower passband edge: 6.00\n",
      "- Lower transition bandwidth: 2.00 Hz (-6 dB cutoff frequency: 5.00 Hz)\n",
      "- Upper passband edge: 10.00 Hz\n",
      "- Upper transition bandwidth: 2.50 Hz (-6 dB cutoff frequency: 11.25 Hz)\n",
      "- Filter length: 413 samples (1.652 s)\n",
      "\n"
     ]
    },
    {
     "name": "stderr",
     "output_type": "stream",
     "text": [
      "[Parallel(n_jobs=1)]: Done  17 tasks      | elapsed:    0.4s\n"
     ]
    },
    {
     "name": "stdout",
     "output_type": "stream",
     "text": [
      "Not setting metadata\n",
      "288 matching events found\n",
      "Setting baseline interval to [-0.3, 0.0] s\n",
      "Applying baseline correction (mode: mean)\n",
      "0 projection items activated\n",
      "Using data from preloaded Raw for 288 events and 1076 original time points ...\n",
      "0 bad epochs dropped\n",
      "  Filtering 7-12 Hz...\n",
      "Filtering raw data in 1 contiguous segment\n",
      "Setting up band-pass filter from 7 - 12 Hz\n",
      "\n",
      "FIR filter parameters\n",
      "---------------------\n",
      "Designing a one-pass, zero-phase, non-causal bandpass filter:\n",
      "- Windowed time-domain design (firwin) method\n",
      "- Hamming window with 0.0194 passband ripple and 53 dB stopband attenuation\n",
      "- Lower passband edge: 7.00\n",
      "- Lower transition bandwidth: 2.00 Hz (-6 dB cutoff frequency: 6.00 Hz)\n",
      "- Upper passband edge: 12.00 Hz\n",
      "- Upper transition bandwidth: 3.00 Hz (-6 dB cutoff frequency: 13.50 Hz)\n",
      "- Filter length: 413 samples (1.652 s)\n",
      "\n"
     ]
    },
    {
     "name": "stderr",
     "output_type": "stream",
     "text": [
      "[Parallel(n_jobs=1)]: Done  17 tasks      | elapsed:    0.4s\n"
     ]
    },
    {
     "name": "stdout",
     "output_type": "stream",
     "text": [
      "Not setting metadata\n",
      "288 matching events found\n",
      "Setting baseline interval to [-0.3, 0.0] s\n",
      "Applying baseline correction (mode: mean)\n",
      "0 projection items activated\n",
      "Using data from preloaded Raw for 288 events and 1076 original time points ...\n",
      "0 bad epochs dropped\n",
      "  Filtering 10-15 Hz...\n",
      "Filtering raw data in 1 contiguous segment\n",
      "Setting up band-pass filter from 10 - 15 Hz\n",
      "\n",
      "FIR filter parameters\n",
      "---------------------\n",
      "Designing a one-pass, zero-phase, non-causal bandpass filter:\n",
      "- Windowed time-domain design (firwin) method\n",
      "- Hamming window with 0.0194 passband ripple and 53 dB stopband attenuation\n",
      "- Lower passband edge: 10.00\n",
      "- Lower transition bandwidth: 2.50 Hz (-6 dB cutoff frequency: 8.75 Hz)\n",
      "- Upper passband edge: 15.00 Hz\n",
      "- Upper transition bandwidth: 3.75 Hz (-6 dB cutoff frequency: 16.88 Hz)\n",
      "- Filter length: 331 samples (1.324 s)\n",
      "\n"
     ]
    },
    {
     "name": "stderr",
     "output_type": "stream",
     "text": [
      "[Parallel(n_jobs=1)]: Done  17 tasks      | elapsed:    0.4s\n"
     ]
    },
    {
     "name": "stdout",
     "output_type": "stream",
     "text": [
      "Not setting metadata\n",
      "288 matching events found\n",
      "Setting baseline interval to [-0.3, 0.0] s\n",
      "Applying baseline correction (mode: mean)\n",
      "0 projection items activated\n",
      "Using data from preloaded Raw for 288 events and 1076 original time points ...\n",
      "0 bad epochs dropped\n",
      "  Filtering 12-19 Hz...\n",
      "Filtering raw data in 1 contiguous segment\n",
      "Setting up band-pass filter from 12 - 19 Hz\n",
      "\n",
      "FIR filter parameters\n",
      "---------------------\n",
      "Designing a one-pass, zero-phase, non-causal bandpass filter:\n",
      "- Windowed time-domain design (firwin) method\n",
      "- Hamming window with 0.0194 passband ripple and 53 dB stopband attenuation\n",
      "- Lower passband edge: 12.00\n",
      "- Lower transition bandwidth: 3.00 Hz (-6 dB cutoff frequency: 10.50 Hz)\n",
      "- Upper passband edge: 19.00 Hz\n",
      "- Upper transition bandwidth: 4.75 Hz (-6 dB cutoff frequency: 21.38 Hz)\n",
      "- Filter length: 275 samples (1.100 s)\n",
      "\n"
     ]
    },
    {
     "name": "stderr",
     "output_type": "stream",
     "text": [
      "[Parallel(n_jobs=1)]: Done  17 tasks      | elapsed:    0.5s\n"
     ]
    },
    {
     "name": "stdout",
     "output_type": "stream",
     "text": [
      "Not setting metadata\n",
      "288 matching events found\n",
      "Setting baseline interval to [-0.3, 0.0] s\n",
      "Applying baseline correction (mode: mean)\n",
      "0 projection items activated\n",
      "Using data from preloaded Raw for 288 events and 1076 original time points ...\n",
      "0 bad epochs dropped\n",
      "  Filtering 15-25 Hz...\n",
      "Filtering raw data in 1 contiguous segment\n",
      "Setting up band-pass filter from 15 - 25 Hz\n",
      "\n",
      "FIR filter parameters\n",
      "---------------------\n",
      "Designing a one-pass, zero-phase, non-causal bandpass filter:\n",
      "- Windowed time-domain design (firwin) method\n",
      "- Hamming window with 0.0194 passband ripple and 53 dB stopband attenuation\n",
      "- Lower passband edge: 15.00\n",
      "- Lower transition bandwidth: 3.75 Hz (-6 dB cutoff frequency: 13.12 Hz)\n",
      "- Upper passband edge: 25.00 Hz\n",
      "- Upper transition bandwidth: 6.25 Hz (-6 dB cutoff frequency: 28.12 Hz)\n",
      "- Filter length: 221 samples (0.884 s)\n",
      "\n"
     ]
    },
    {
     "name": "stderr",
     "output_type": "stream",
     "text": [
      "[Parallel(n_jobs=1)]: Done  17 tasks      | elapsed:    0.5s\n"
     ]
    },
    {
     "name": "stdout",
     "output_type": "stream",
     "text": [
      "Not setting metadata\n",
      "288 matching events found\n",
      "Setting baseline interval to [-0.3, 0.0] s\n",
      "Applying baseline correction (mode: mean)\n",
      "0 projection items activated\n",
      "Using data from preloaded Raw for 288 events and 1076 original time points ...\n",
      "0 bad epochs dropped\n",
      "  Filtering 19-30 Hz...\n",
      "Filtering raw data in 1 contiguous segment\n",
      "Setting up band-pass filter from 19 - 30 Hz\n",
      "\n",
      "FIR filter parameters\n",
      "---------------------\n",
      "Designing a one-pass, zero-phase, non-causal bandpass filter:\n",
      "- Windowed time-domain design (firwin) method\n",
      "- Hamming window with 0.0194 passband ripple and 53 dB stopband attenuation\n",
      "- Lower passband edge: 19.00\n",
      "- Lower transition bandwidth: 4.75 Hz (-6 dB cutoff frequency: 16.62 Hz)\n",
      "- Upper passband edge: 30.00 Hz\n",
      "- Upper transition bandwidth: 7.50 Hz (-6 dB cutoff frequency: 33.75 Hz)\n",
      "- Filter length: 175 samples (0.700 s)\n",
      "\n"
     ]
    },
    {
     "name": "stderr",
     "output_type": "stream",
     "text": [
      "[Parallel(n_jobs=1)]: Done  17 tasks      | elapsed:    0.5s\n"
     ]
    },
    {
     "name": "stdout",
     "output_type": "stream",
     "text": [
      "Not setting metadata\n",
      "288 matching events found\n",
      "Setting baseline interval to [-0.3, 0.0] s\n",
      "Applying baseline correction (mode: mean)\n",
      "0 projection items activated\n",
      "Using data from preloaded Raw for 288 events and 1076 original time points ...\n",
      "0 bad epochs dropped\n",
      "  Filtering 25-35 Hz...\n",
      "Filtering raw data in 1 contiguous segment\n",
      "Setting up band-pass filter from 25 - 35 Hz\n",
      "\n",
      "FIR filter parameters\n",
      "---------------------\n",
      "Designing a one-pass, zero-phase, non-causal bandpass filter:\n",
      "- Windowed time-domain design (firwin) method\n",
      "- Hamming window with 0.0194 passband ripple and 53 dB stopband attenuation\n",
      "- Lower passband edge: 25.00\n",
      "- Lower transition bandwidth: 6.25 Hz (-6 dB cutoff frequency: 21.88 Hz)\n",
      "- Upper passband edge: 35.00 Hz\n",
      "- Upper transition bandwidth: 8.75 Hz (-6 dB cutoff frequency: 39.38 Hz)\n",
      "- Filter length: 133 samples (0.532 s)\n",
      "\n"
     ]
    },
    {
     "name": "stderr",
     "output_type": "stream",
     "text": [
      "[Parallel(n_jobs=1)]: Done  17 tasks      | elapsed:    0.7s\n"
     ]
    },
    {
     "name": "stdout",
     "output_type": "stream",
     "text": [
      "Not setting metadata\n",
      "288 matching events found\n",
      "Setting baseline interval to [-0.3, 0.0] s\n",
      "Applying baseline correction (mode: mean)\n",
      "0 projection items activated\n",
      "Using data from preloaded Raw for 288 events and 1076 original time points ...\n",
      "0 bad epochs dropped\n",
      "  Filtering 30-40 Hz...\n",
      "Filtering raw data in 1 contiguous segment\n",
      "Setting up band-pass filter from 30 - 40 Hz\n",
      "\n",
      "FIR filter parameters\n",
      "---------------------\n",
      "Designing a one-pass, zero-phase, non-causal bandpass filter:\n",
      "- Windowed time-domain design (firwin) method\n",
      "- Hamming window with 0.0194 passband ripple and 53 dB stopband attenuation\n",
      "- Lower passband edge: 30.00\n",
      "- Lower transition bandwidth: 7.50 Hz (-6 dB cutoff frequency: 26.25 Hz)\n",
      "- Upper passband edge: 40.00 Hz\n",
      "- Upper transition bandwidth: 10.00 Hz (-6 dB cutoff frequency: 45.00 Hz)\n",
      "- Filter length: 111 samples (0.444 s)\n",
      "\n"
     ]
    },
    {
     "name": "stderr",
     "output_type": "stream",
     "text": [
      "[Parallel(n_jobs=1)]: Done  17 tasks      | elapsed:    0.7s\n"
     ]
    },
    {
     "name": "stdout",
     "output_type": "stream",
     "text": [
      "Not setting metadata\n",
      "288 matching events found\n",
      "Setting baseline interval to [-0.3, 0.0] s\n",
      "Applying baseline correction (mode: mean)\n",
      "0 projection items activated\n",
      "Using data from preloaded Raw for 288 events and 1076 original time points ...\n",
      "0 bad epochs dropped\n",
      "\n",
      "Processing A08T.gdf...\n",
      "Extracting EDF parameters from /home/r3hu/COGS189-BCI-Competition-Project/BCICIV_2a_gdf/A08T.gdf...\n",
      "GDF file detected\n",
      "Setting channel info structure...\n",
      "Could not determine channel type of the following channels, they will be set as EEG:\n",
      "EEG-Fz, EEG, EEG, EEG, EEG, EEG, EEG, EEG-C3, EEG, EEG-Cz, EEG, EEG-C4, EEG, EEG, EEG, EEG, EEG, EEG, EEG, EEG-Pz, EEG, EEG, EOG-left, EOG-central, EOG-right\n",
      "Creating raw.info structure...\n",
      "Reading 0 ... 675269  =      0.000 ...  2701.076 secs...\n"
     ]
    },
    {
     "name": "stderr",
     "output_type": "stream",
     "text": [
      "/opt/conda/lib/python3.11/contextlib.py:144: RuntimeWarning: Channel names are not unique, found duplicates for: {'EEG'}. Applying running numbers for duplicates.\n",
      "  next(self.gen)\n"
     ]
    },
    {
     "name": "stdout",
     "output_type": "stream",
     "text": [
      "Used Annotations descriptions: ['1023', '1072', '276', '277', '32766', '768', '769', '770', '771', '772']\n",
      "  Filtering 1-3 Hz...\n",
      "Filtering raw data in 1 contiguous segment\n",
      "Setting up band-pass filter from 1 - 3 Hz\n",
      "\n",
      "FIR filter parameters\n",
      "---------------------\n",
      "Designing a one-pass, zero-phase, non-causal bandpass filter:\n",
      "- Windowed time-domain design (firwin) method\n",
      "- Hamming window with 0.0194 passband ripple and 53 dB stopband attenuation\n",
      "- Lower passband edge: 1.00\n",
      "- Lower transition bandwidth: 1.00 Hz (-6 dB cutoff frequency: 0.50 Hz)\n",
      "- Upper passband edge: 3.00 Hz\n",
      "- Upper transition bandwidth: 2.00 Hz (-6 dB cutoff frequency: 4.00 Hz)\n",
      "- Filter length: 825 samples (3.300 s)\n",
      "\n"
     ]
    },
    {
     "name": "stderr",
     "output_type": "stream",
     "text": [
      "[Parallel(n_jobs=1)]: Done  17 tasks      | elapsed:    0.4s\n"
     ]
    },
    {
     "name": "stdout",
     "output_type": "stream",
     "text": [
      "Not setting metadata\n",
      "288 matching events found\n",
      "Setting baseline interval to [-0.3, 0.0] s\n",
      "Applying baseline correction (mode: mean)\n",
      "0 projection items activated\n",
      "Using data from preloaded Raw for 288 events and 1076 original time points ...\n",
      "0 bad epochs dropped\n",
      "  Filtering 2-5 Hz...\n",
      "Filtering raw data in 1 contiguous segment\n",
      "Setting up band-pass filter from 2 - 5 Hz\n",
      "\n",
      "FIR filter parameters\n",
      "---------------------\n",
      "Designing a one-pass, zero-phase, non-causal bandpass filter:\n",
      "- Windowed time-domain design (firwin) method\n",
      "- Hamming window with 0.0194 passband ripple and 53 dB stopband attenuation\n",
      "- Lower passband edge: 2.00\n",
      "- Lower transition bandwidth: 2.00 Hz (-6 dB cutoff frequency: 1.00 Hz)\n",
      "- Upper passband edge: 5.00 Hz\n",
      "- Upper transition bandwidth: 2.00 Hz (-6 dB cutoff frequency: 6.00 Hz)\n",
      "- Filter length: 413 samples (1.652 s)\n",
      "\n"
     ]
    },
    {
     "name": "stderr",
     "output_type": "stream",
     "text": [
      "[Parallel(n_jobs=1)]: Done  17 tasks      | elapsed:    0.4s\n"
     ]
    },
    {
     "name": "stdout",
     "output_type": "stream",
     "text": [
      "Not setting metadata\n",
      "288 matching events found\n",
      "Setting baseline interval to [-0.3, 0.0] s\n",
      "Applying baseline correction (mode: mean)\n",
      "0 projection items activated\n",
      "Using data from preloaded Raw for 288 events and 1076 original time points ...\n",
      "0 bad epochs dropped\n",
      "  Filtering 4-7 Hz...\n",
      "Filtering raw data in 1 contiguous segment\n",
      "Setting up band-pass filter from 4 - 7 Hz\n",
      "\n",
      "FIR filter parameters\n",
      "---------------------\n",
      "Designing a one-pass, zero-phase, non-causal bandpass filter:\n",
      "- Windowed time-domain design (firwin) method\n",
      "- Hamming window with 0.0194 passband ripple and 53 dB stopband attenuation\n",
      "- Lower passband edge: 4.00\n",
      "- Lower transition bandwidth: 2.00 Hz (-6 dB cutoff frequency: 3.00 Hz)\n",
      "- Upper passband edge: 7.00 Hz\n",
      "- Upper transition bandwidth: 2.00 Hz (-6 dB cutoff frequency: 8.00 Hz)\n",
      "- Filter length: 413 samples (1.652 s)\n",
      "\n"
     ]
    },
    {
     "name": "stderr",
     "output_type": "stream",
     "text": [
      "[Parallel(n_jobs=1)]: Done  17 tasks      | elapsed:    0.4s\n"
     ]
    },
    {
     "name": "stdout",
     "output_type": "stream",
     "text": [
      "Not setting metadata\n",
      "288 matching events found\n",
      "Setting baseline interval to [-0.3, 0.0] s\n",
      "Applying baseline correction (mode: mean)\n",
      "0 projection items activated\n",
      "Using data from preloaded Raw for 288 events and 1076 original time points ...\n",
      "0 bad epochs dropped\n",
      "  Filtering 6-10 Hz...\n",
      "Filtering raw data in 1 contiguous segment\n",
      "Setting up band-pass filter from 6 - 10 Hz\n",
      "\n",
      "FIR filter parameters\n",
      "---------------------\n",
      "Designing a one-pass, zero-phase, non-causal bandpass filter:\n",
      "- Windowed time-domain design (firwin) method\n",
      "- Hamming window with 0.0194 passband ripple and 53 dB stopband attenuation\n",
      "- Lower passband edge: 6.00\n",
      "- Lower transition bandwidth: 2.00 Hz (-6 dB cutoff frequency: 5.00 Hz)\n",
      "- Upper passband edge: 10.00 Hz\n",
      "- Upper transition bandwidth: 2.50 Hz (-6 dB cutoff frequency: 11.25 Hz)\n",
      "- Filter length: 413 samples (1.652 s)\n",
      "\n"
     ]
    },
    {
     "name": "stderr",
     "output_type": "stream",
     "text": [
      "[Parallel(n_jobs=1)]: Done  17 tasks      | elapsed:    0.4s\n"
     ]
    },
    {
     "name": "stdout",
     "output_type": "stream",
     "text": [
      "Not setting metadata\n",
      "288 matching events found\n",
      "Setting baseline interval to [-0.3, 0.0] s\n",
      "Applying baseline correction (mode: mean)\n",
      "0 projection items activated\n",
      "Using data from preloaded Raw for 288 events and 1076 original time points ...\n",
      "0 bad epochs dropped\n",
      "  Filtering 7-12 Hz...\n",
      "Filtering raw data in 1 contiguous segment\n",
      "Setting up band-pass filter from 7 - 12 Hz\n",
      "\n",
      "FIR filter parameters\n",
      "---------------------\n",
      "Designing a one-pass, zero-phase, non-causal bandpass filter:\n",
      "- Windowed time-domain design (firwin) method\n",
      "- Hamming window with 0.0194 passband ripple and 53 dB stopband attenuation\n",
      "- Lower passband edge: 7.00\n",
      "- Lower transition bandwidth: 2.00 Hz (-6 dB cutoff frequency: 6.00 Hz)\n",
      "- Upper passband edge: 12.00 Hz\n",
      "- Upper transition bandwidth: 3.00 Hz (-6 dB cutoff frequency: 13.50 Hz)\n",
      "- Filter length: 413 samples (1.652 s)\n",
      "\n"
     ]
    },
    {
     "name": "stderr",
     "output_type": "stream",
     "text": [
      "[Parallel(n_jobs=1)]: Done  17 tasks      | elapsed:    0.4s\n"
     ]
    },
    {
     "name": "stdout",
     "output_type": "stream",
     "text": [
      "Not setting metadata\n",
      "288 matching events found\n",
      "Setting baseline interval to [-0.3, 0.0] s\n",
      "Applying baseline correction (mode: mean)\n",
      "0 projection items activated\n",
      "Using data from preloaded Raw for 288 events and 1076 original time points ...\n",
      "0 bad epochs dropped\n",
      "  Filtering 10-15 Hz...\n",
      "Filtering raw data in 1 contiguous segment\n",
      "Setting up band-pass filter from 10 - 15 Hz\n",
      "\n",
      "FIR filter parameters\n",
      "---------------------\n",
      "Designing a one-pass, zero-phase, non-causal bandpass filter:\n",
      "- Windowed time-domain design (firwin) method\n",
      "- Hamming window with 0.0194 passband ripple and 53 dB stopband attenuation\n",
      "- Lower passband edge: 10.00\n",
      "- Lower transition bandwidth: 2.50 Hz (-6 dB cutoff frequency: 8.75 Hz)\n",
      "- Upper passband edge: 15.00 Hz\n",
      "- Upper transition bandwidth: 3.75 Hz (-6 dB cutoff frequency: 16.88 Hz)\n",
      "- Filter length: 331 samples (1.324 s)\n",
      "\n"
     ]
    },
    {
     "name": "stderr",
     "output_type": "stream",
     "text": [
      "[Parallel(n_jobs=1)]: Done  17 tasks      | elapsed:    0.4s\n"
     ]
    },
    {
     "name": "stdout",
     "output_type": "stream",
     "text": [
      "Not setting metadata\n",
      "288 matching events found\n",
      "Setting baseline interval to [-0.3, 0.0] s\n",
      "Applying baseline correction (mode: mean)\n",
      "0 projection items activated\n",
      "Using data from preloaded Raw for 288 events and 1076 original time points ...\n",
      "0 bad epochs dropped\n",
      "  Filtering 12-19 Hz...\n",
      "Filtering raw data in 1 contiguous segment\n",
      "Setting up band-pass filter from 12 - 19 Hz\n",
      "\n",
      "FIR filter parameters\n",
      "---------------------\n",
      "Designing a one-pass, zero-phase, non-causal bandpass filter:\n",
      "- Windowed time-domain design (firwin) method\n",
      "- Hamming window with 0.0194 passband ripple and 53 dB stopband attenuation\n",
      "- Lower passband edge: 12.00\n",
      "- Lower transition bandwidth: 3.00 Hz (-6 dB cutoff frequency: 10.50 Hz)\n",
      "- Upper passband edge: 19.00 Hz\n",
      "- Upper transition bandwidth: 4.75 Hz (-6 dB cutoff frequency: 21.38 Hz)\n",
      "- Filter length: 275 samples (1.100 s)\n",
      "\n"
     ]
    },
    {
     "name": "stderr",
     "output_type": "stream",
     "text": [
      "[Parallel(n_jobs=1)]: Done  17 tasks      | elapsed:    0.5s\n"
     ]
    },
    {
     "name": "stdout",
     "output_type": "stream",
     "text": [
      "Not setting metadata\n",
      "288 matching events found\n",
      "Setting baseline interval to [-0.3, 0.0] s\n",
      "Applying baseline correction (mode: mean)\n",
      "0 projection items activated\n",
      "Using data from preloaded Raw for 288 events and 1076 original time points ...\n",
      "0 bad epochs dropped\n",
      "  Filtering 15-25 Hz...\n",
      "Filtering raw data in 1 contiguous segment\n",
      "Setting up band-pass filter from 15 - 25 Hz\n",
      "\n",
      "FIR filter parameters\n",
      "---------------------\n",
      "Designing a one-pass, zero-phase, non-causal bandpass filter:\n",
      "- Windowed time-domain design (firwin) method\n",
      "- Hamming window with 0.0194 passband ripple and 53 dB stopband attenuation\n",
      "- Lower passband edge: 15.00\n",
      "- Lower transition bandwidth: 3.75 Hz (-6 dB cutoff frequency: 13.12 Hz)\n",
      "- Upper passband edge: 25.00 Hz\n",
      "- Upper transition bandwidth: 6.25 Hz (-6 dB cutoff frequency: 28.12 Hz)\n",
      "- Filter length: 221 samples (0.884 s)\n",
      "\n"
     ]
    },
    {
     "name": "stderr",
     "output_type": "stream",
     "text": [
      "[Parallel(n_jobs=1)]: Done  17 tasks      | elapsed:    0.5s\n"
     ]
    },
    {
     "name": "stdout",
     "output_type": "stream",
     "text": [
      "Not setting metadata\n",
      "288 matching events found\n",
      "Setting baseline interval to [-0.3, 0.0] s\n",
      "Applying baseline correction (mode: mean)\n",
      "0 projection items activated\n",
      "Using data from preloaded Raw for 288 events and 1076 original time points ...\n",
      "0 bad epochs dropped\n",
      "  Filtering 19-30 Hz...\n",
      "Filtering raw data in 1 contiguous segment\n",
      "Setting up band-pass filter from 19 - 30 Hz\n",
      "\n",
      "FIR filter parameters\n",
      "---------------------\n",
      "Designing a one-pass, zero-phase, non-causal bandpass filter:\n",
      "- Windowed time-domain design (firwin) method\n",
      "- Hamming window with 0.0194 passband ripple and 53 dB stopband attenuation\n",
      "- Lower passband edge: 19.00\n",
      "- Lower transition bandwidth: 4.75 Hz (-6 dB cutoff frequency: 16.62 Hz)\n",
      "- Upper passband edge: 30.00 Hz\n",
      "- Upper transition bandwidth: 7.50 Hz (-6 dB cutoff frequency: 33.75 Hz)\n",
      "- Filter length: 175 samples (0.700 s)\n",
      "\n"
     ]
    },
    {
     "name": "stderr",
     "output_type": "stream",
     "text": [
      "[Parallel(n_jobs=1)]: Done  17 tasks      | elapsed:    0.5s\n"
     ]
    },
    {
     "name": "stdout",
     "output_type": "stream",
     "text": [
      "Not setting metadata\n",
      "288 matching events found\n",
      "Setting baseline interval to [-0.3, 0.0] s\n",
      "Applying baseline correction (mode: mean)\n",
      "0 projection items activated\n",
      "Using data from preloaded Raw for 288 events and 1076 original time points ...\n",
      "0 bad epochs dropped\n",
      "  Filtering 25-35 Hz...\n",
      "Filtering raw data in 1 contiguous segment\n",
      "Setting up band-pass filter from 25 - 35 Hz\n",
      "\n",
      "FIR filter parameters\n",
      "---------------------\n",
      "Designing a one-pass, zero-phase, non-causal bandpass filter:\n",
      "- Windowed time-domain design (firwin) method\n",
      "- Hamming window with 0.0194 passband ripple and 53 dB stopband attenuation\n",
      "- Lower passband edge: 25.00\n",
      "- Lower transition bandwidth: 6.25 Hz (-6 dB cutoff frequency: 21.88 Hz)\n",
      "- Upper passband edge: 35.00 Hz\n",
      "- Upper transition bandwidth: 8.75 Hz (-6 dB cutoff frequency: 39.38 Hz)\n",
      "- Filter length: 133 samples (0.532 s)\n",
      "\n"
     ]
    },
    {
     "name": "stderr",
     "output_type": "stream",
     "text": [
      "[Parallel(n_jobs=1)]: Done  17 tasks      | elapsed:    0.8s\n"
     ]
    },
    {
     "name": "stdout",
     "output_type": "stream",
     "text": [
      "Not setting metadata\n",
      "288 matching events found\n",
      "Setting baseline interval to [-0.3, 0.0] s\n",
      "Applying baseline correction (mode: mean)\n",
      "0 projection items activated\n",
      "Using data from preloaded Raw for 288 events and 1076 original time points ...\n",
      "0 bad epochs dropped\n",
      "  Filtering 30-40 Hz...\n",
      "Filtering raw data in 1 contiguous segment\n",
      "Setting up band-pass filter from 30 - 40 Hz\n",
      "\n",
      "FIR filter parameters\n",
      "---------------------\n",
      "Designing a one-pass, zero-phase, non-causal bandpass filter:\n",
      "- Windowed time-domain design (firwin) method\n",
      "- Hamming window with 0.0194 passband ripple and 53 dB stopband attenuation\n",
      "- Lower passband edge: 30.00\n",
      "- Lower transition bandwidth: 7.50 Hz (-6 dB cutoff frequency: 26.25 Hz)\n",
      "- Upper passband edge: 40.00 Hz\n",
      "- Upper transition bandwidth: 10.00 Hz (-6 dB cutoff frequency: 45.00 Hz)\n",
      "- Filter length: 111 samples (0.444 s)\n",
      "\n"
     ]
    },
    {
     "name": "stderr",
     "output_type": "stream",
     "text": [
      "[Parallel(n_jobs=1)]: Done  17 tasks      | elapsed:    0.7s\n"
     ]
    },
    {
     "name": "stdout",
     "output_type": "stream",
     "text": [
      "Not setting metadata\n",
      "288 matching events found\n",
      "Setting baseline interval to [-0.3, 0.0] s\n",
      "Applying baseline correction (mode: mean)\n",
      "0 projection items activated\n",
      "Using data from preloaded Raw for 288 events and 1076 original time points ...\n",
      "0 bad epochs dropped\n",
      "\n",
      "Processing A09T.gdf...\n",
      "Extracting EDF parameters from /home/r3hu/COGS189-BCI-Competition-Project/BCICIV_2a_gdf/A09T.gdf...\n",
      "GDF file detected\n",
      "Setting channel info structure...\n",
      "Could not determine channel type of the following channels, they will be set as EEG:\n",
      "EEG-Fz, EEG, EEG, EEG, EEG, EEG, EEG, EEG-C3, EEG, EEG-Cz, EEG, EEG-C4, EEG, EEG, EEG, EEG, EEG, EEG, EEG, EEG-Pz, EEG, EEG, EOG-left, EOG-central, EOG-right\n",
      "Creating raw.info structure...\n",
      "Reading 0 ... 673327  =      0.000 ...  2693.308 secs...\n"
     ]
    },
    {
     "name": "stderr",
     "output_type": "stream",
     "text": [
      "/opt/conda/lib/python3.11/contextlib.py:144: RuntimeWarning: Channel names are not unique, found duplicates for: {'EEG'}. Applying running numbers for duplicates.\n",
      "  next(self.gen)\n"
     ]
    },
    {
     "name": "stdout",
     "output_type": "stream",
     "text": [
      "Used Annotations descriptions: ['1023', '1072', '276', '277', '32766', '768', '769', '770', '771', '772']\n",
      "  Filtering 1-3 Hz...\n",
      "Filtering raw data in 1 contiguous segment\n",
      "Setting up band-pass filter from 1 - 3 Hz\n",
      "\n",
      "FIR filter parameters\n",
      "---------------------\n",
      "Designing a one-pass, zero-phase, non-causal bandpass filter:\n",
      "- Windowed time-domain design (firwin) method\n",
      "- Hamming window with 0.0194 passband ripple and 53 dB stopband attenuation\n",
      "- Lower passband edge: 1.00\n",
      "- Lower transition bandwidth: 1.00 Hz (-6 dB cutoff frequency: 0.50 Hz)\n",
      "- Upper passband edge: 3.00 Hz\n",
      "- Upper transition bandwidth: 2.00 Hz (-6 dB cutoff frequency: 4.00 Hz)\n",
      "- Filter length: 825 samples (3.300 s)\n",
      "\n"
     ]
    },
    {
     "name": "stderr",
     "output_type": "stream",
     "text": [
      "[Parallel(n_jobs=1)]: Done  17 tasks      | elapsed:    0.4s\n"
     ]
    },
    {
     "name": "stdout",
     "output_type": "stream",
     "text": [
      "Not setting metadata\n",
      "288 matching events found\n",
      "Setting baseline interval to [-0.3, 0.0] s\n",
      "Applying baseline correction (mode: mean)\n",
      "0 projection items activated\n",
      "Using data from preloaded Raw for 288 events and 1076 original time points ...\n",
      "0 bad epochs dropped\n",
      "  Filtering 2-5 Hz...\n",
      "Filtering raw data in 1 contiguous segment\n",
      "Setting up band-pass filter from 2 - 5 Hz\n",
      "\n",
      "FIR filter parameters\n",
      "---------------------\n",
      "Designing a one-pass, zero-phase, non-causal bandpass filter:\n",
      "- Windowed time-domain design (firwin) method\n",
      "- Hamming window with 0.0194 passband ripple and 53 dB stopband attenuation\n",
      "- Lower passband edge: 2.00\n",
      "- Lower transition bandwidth: 2.00 Hz (-6 dB cutoff frequency: 1.00 Hz)\n",
      "- Upper passband edge: 5.00 Hz\n",
      "- Upper transition bandwidth: 2.00 Hz (-6 dB cutoff frequency: 6.00 Hz)\n",
      "- Filter length: 413 samples (1.652 s)\n",
      "\n"
     ]
    },
    {
     "name": "stderr",
     "output_type": "stream",
     "text": [
      "[Parallel(n_jobs=1)]: Done  17 tasks      | elapsed:    0.4s\n"
     ]
    },
    {
     "name": "stdout",
     "output_type": "stream",
     "text": [
      "Not setting metadata\n",
      "288 matching events found\n",
      "Setting baseline interval to [-0.3, 0.0] s\n",
      "Applying baseline correction (mode: mean)\n",
      "0 projection items activated\n",
      "Using data from preloaded Raw for 288 events and 1076 original time points ...\n",
      "0 bad epochs dropped\n",
      "  Filtering 4-7 Hz...\n",
      "Filtering raw data in 1 contiguous segment\n",
      "Setting up band-pass filter from 4 - 7 Hz\n",
      "\n",
      "FIR filter parameters\n",
      "---------------------\n",
      "Designing a one-pass, zero-phase, non-causal bandpass filter:\n",
      "- Windowed time-domain design (firwin) method\n",
      "- Hamming window with 0.0194 passband ripple and 53 dB stopband attenuation\n",
      "- Lower passband edge: 4.00\n",
      "- Lower transition bandwidth: 2.00 Hz (-6 dB cutoff frequency: 3.00 Hz)\n",
      "- Upper passband edge: 7.00 Hz\n",
      "- Upper transition bandwidth: 2.00 Hz (-6 dB cutoff frequency: 8.00 Hz)\n",
      "- Filter length: 413 samples (1.652 s)\n",
      "\n"
     ]
    },
    {
     "name": "stderr",
     "output_type": "stream",
     "text": [
      "[Parallel(n_jobs=1)]: Done  17 tasks      | elapsed:    0.4s\n"
     ]
    },
    {
     "name": "stdout",
     "output_type": "stream",
     "text": [
      "Not setting metadata\n",
      "288 matching events found\n",
      "Setting baseline interval to [-0.3, 0.0] s\n",
      "Applying baseline correction (mode: mean)\n",
      "0 projection items activated\n",
      "Using data from preloaded Raw for 288 events and 1076 original time points ...\n",
      "0 bad epochs dropped\n",
      "  Filtering 6-10 Hz...\n",
      "Filtering raw data in 1 contiguous segment\n",
      "Setting up band-pass filter from 6 - 10 Hz\n",
      "\n",
      "FIR filter parameters\n",
      "---------------------\n",
      "Designing a one-pass, zero-phase, non-causal bandpass filter:\n",
      "- Windowed time-domain design (firwin) method\n",
      "- Hamming window with 0.0194 passband ripple and 53 dB stopband attenuation\n",
      "- Lower passband edge: 6.00\n",
      "- Lower transition bandwidth: 2.00 Hz (-6 dB cutoff frequency: 5.00 Hz)\n",
      "- Upper passband edge: 10.00 Hz\n",
      "- Upper transition bandwidth: 2.50 Hz (-6 dB cutoff frequency: 11.25 Hz)\n",
      "- Filter length: 413 samples (1.652 s)\n",
      "\n"
     ]
    },
    {
     "name": "stderr",
     "output_type": "stream",
     "text": [
      "[Parallel(n_jobs=1)]: Done  17 tasks      | elapsed:    0.4s\n"
     ]
    },
    {
     "name": "stdout",
     "output_type": "stream",
     "text": [
      "Not setting metadata\n",
      "288 matching events found\n",
      "Setting baseline interval to [-0.3, 0.0] s\n",
      "Applying baseline correction (mode: mean)\n",
      "0 projection items activated\n",
      "Using data from preloaded Raw for 288 events and 1076 original time points ...\n",
      "0 bad epochs dropped\n",
      "  Filtering 7-12 Hz...\n",
      "Filtering raw data in 1 contiguous segment\n",
      "Setting up band-pass filter from 7 - 12 Hz\n",
      "\n",
      "FIR filter parameters\n",
      "---------------------\n",
      "Designing a one-pass, zero-phase, non-causal bandpass filter:\n",
      "- Windowed time-domain design (firwin) method\n",
      "- Hamming window with 0.0194 passband ripple and 53 dB stopband attenuation\n",
      "- Lower passband edge: 7.00\n",
      "- Lower transition bandwidth: 2.00 Hz (-6 dB cutoff frequency: 6.00 Hz)\n",
      "- Upper passband edge: 12.00 Hz\n",
      "- Upper transition bandwidth: 3.00 Hz (-6 dB cutoff frequency: 13.50 Hz)\n",
      "- Filter length: 413 samples (1.652 s)\n",
      "\n"
     ]
    },
    {
     "name": "stderr",
     "output_type": "stream",
     "text": [
      "[Parallel(n_jobs=1)]: Done  17 tasks      | elapsed:    0.5s\n"
     ]
    },
    {
     "name": "stdout",
     "output_type": "stream",
     "text": [
      "Not setting metadata\n",
      "288 matching events found\n",
      "Setting baseline interval to [-0.3, 0.0] s\n",
      "Applying baseline correction (mode: mean)\n",
      "0 projection items activated\n",
      "Using data from preloaded Raw for 288 events and 1076 original time points ...\n",
      "0 bad epochs dropped\n",
      "  Filtering 10-15 Hz...\n",
      "Filtering raw data in 1 contiguous segment\n",
      "Setting up band-pass filter from 10 - 15 Hz\n",
      "\n",
      "FIR filter parameters\n",
      "---------------------\n",
      "Designing a one-pass, zero-phase, non-causal bandpass filter:\n",
      "- Windowed time-domain design (firwin) method\n",
      "- Hamming window with 0.0194 passband ripple and 53 dB stopband attenuation\n",
      "- Lower passband edge: 10.00\n",
      "- Lower transition bandwidth: 2.50 Hz (-6 dB cutoff frequency: 8.75 Hz)\n",
      "- Upper passband edge: 15.00 Hz\n",
      "- Upper transition bandwidth: 3.75 Hz (-6 dB cutoff frequency: 16.88 Hz)\n",
      "- Filter length: 331 samples (1.324 s)\n",
      "\n"
     ]
    },
    {
     "name": "stderr",
     "output_type": "stream",
     "text": [
      "[Parallel(n_jobs=1)]: Done  17 tasks      | elapsed:    0.4s\n"
     ]
    },
    {
     "name": "stdout",
     "output_type": "stream",
     "text": [
      "Not setting metadata\n",
      "288 matching events found\n",
      "Setting baseline interval to [-0.3, 0.0] s\n",
      "Applying baseline correction (mode: mean)\n",
      "0 projection items activated\n",
      "Using data from preloaded Raw for 288 events and 1076 original time points ...\n",
      "0 bad epochs dropped\n",
      "  Filtering 12-19 Hz...\n",
      "Filtering raw data in 1 contiguous segment\n",
      "Setting up band-pass filter from 12 - 19 Hz\n",
      "\n",
      "FIR filter parameters\n",
      "---------------------\n",
      "Designing a one-pass, zero-phase, non-causal bandpass filter:\n",
      "- Windowed time-domain design (firwin) method\n",
      "- Hamming window with 0.0194 passband ripple and 53 dB stopband attenuation\n",
      "- Lower passband edge: 12.00\n",
      "- Lower transition bandwidth: 3.00 Hz (-6 dB cutoff frequency: 10.50 Hz)\n",
      "- Upper passband edge: 19.00 Hz\n",
      "- Upper transition bandwidth: 4.75 Hz (-6 dB cutoff frequency: 21.38 Hz)\n",
      "- Filter length: 275 samples (1.100 s)\n",
      "\n"
     ]
    },
    {
     "name": "stderr",
     "output_type": "stream",
     "text": [
      "[Parallel(n_jobs=1)]: Done  17 tasks      | elapsed:    0.6s\n"
     ]
    },
    {
     "name": "stdout",
     "output_type": "stream",
     "text": [
      "Not setting metadata\n",
      "288 matching events found\n",
      "Setting baseline interval to [-0.3, 0.0] s\n",
      "Applying baseline correction (mode: mean)\n",
      "0 projection items activated\n",
      "Using data from preloaded Raw for 288 events and 1076 original time points ...\n",
      "0 bad epochs dropped\n",
      "  Filtering 15-25 Hz...\n",
      "Filtering raw data in 1 contiguous segment\n",
      "Setting up band-pass filter from 15 - 25 Hz\n",
      "\n",
      "FIR filter parameters\n",
      "---------------------\n",
      "Designing a one-pass, zero-phase, non-causal bandpass filter:\n",
      "- Windowed time-domain design (firwin) method\n",
      "- Hamming window with 0.0194 passband ripple and 53 dB stopband attenuation\n",
      "- Lower passband edge: 15.00\n",
      "- Lower transition bandwidth: 3.75 Hz (-6 dB cutoff frequency: 13.12 Hz)\n",
      "- Upper passband edge: 25.00 Hz\n",
      "- Upper transition bandwidth: 6.25 Hz (-6 dB cutoff frequency: 28.12 Hz)\n",
      "- Filter length: 221 samples (0.884 s)\n",
      "\n"
     ]
    },
    {
     "name": "stderr",
     "output_type": "stream",
     "text": [
      "[Parallel(n_jobs=1)]: Done  17 tasks      | elapsed:    0.5s\n"
     ]
    },
    {
     "name": "stdout",
     "output_type": "stream",
     "text": [
      "Not setting metadata\n",
      "288 matching events found\n",
      "Setting baseline interval to [-0.3, 0.0] s\n",
      "Applying baseline correction (mode: mean)\n",
      "0 projection items activated\n",
      "Using data from preloaded Raw for 288 events and 1076 original time points ...\n",
      "0 bad epochs dropped\n",
      "  Filtering 19-30 Hz...\n",
      "Filtering raw data in 1 contiguous segment\n",
      "Setting up band-pass filter from 19 - 30 Hz\n",
      "\n",
      "FIR filter parameters\n",
      "---------------------\n",
      "Designing a one-pass, zero-phase, non-causal bandpass filter:\n",
      "- Windowed time-domain design (firwin) method\n",
      "- Hamming window with 0.0194 passband ripple and 53 dB stopband attenuation\n",
      "- Lower passband edge: 19.00\n",
      "- Lower transition bandwidth: 4.75 Hz (-6 dB cutoff frequency: 16.62 Hz)\n",
      "- Upper passband edge: 30.00 Hz\n",
      "- Upper transition bandwidth: 7.50 Hz (-6 dB cutoff frequency: 33.75 Hz)\n",
      "- Filter length: 175 samples (0.700 s)\n",
      "\n"
     ]
    },
    {
     "name": "stderr",
     "output_type": "stream",
     "text": [
      "[Parallel(n_jobs=1)]: Done  17 tasks      | elapsed:    0.5s\n"
     ]
    },
    {
     "name": "stdout",
     "output_type": "stream",
     "text": [
      "Not setting metadata\n",
      "288 matching events found\n",
      "Setting baseline interval to [-0.3, 0.0] s\n",
      "Applying baseline correction (mode: mean)\n",
      "0 projection items activated\n",
      "Using data from preloaded Raw for 288 events and 1076 original time points ...\n",
      "0 bad epochs dropped\n",
      "  Filtering 25-35 Hz...\n",
      "Filtering raw data in 1 contiguous segment\n",
      "Setting up band-pass filter from 25 - 35 Hz\n",
      "\n",
      "FIR filter parameters\n",
      "---------------------\n",
      "Designing a one-pass, zero-phase, non-causal bandpass filter:\n",
      "- Windowed time-domain design (firwin) method\n",
      "- Hamming window with 0.0194 passband ripple and 53 dB stopband attenuation\n",
      "- Lower passband edge: 25.00\n",
      "- Lower transition bandwidth: 6.25 Hz (-6 dB cutoff frequency: 21.88 Hz)\n",
      "- Upper passband edge: 35.00 Hz\n",
      "- Upper transition bandwidth: 8.75 Hz (-6 dB cutoff frequency: 39.38 Hz)\n",
      "- Filter length: 133 samples (0.532 s)\n",
      "\n"
     ]
    },
    {
     "name": "stderr",
     "output_type": "stream",
     "text": [
      "[Parallel(n_jobs=1)]: Done  17 tasks      | elapsed:    0.7s\n"
     ]
    },
    {
     "name": "stdout",
     "output_type": "stream",
     "text": [
      "Not setting metadata\n",
      "288 matching events found\n",
      "Setting baseline interval to [-0.3, 0.0] s\n",
      "Applying baseline correction (mode: mean)\n",
      "0 projection items activated\n",
      "Using data from preloaded Raw for 288 events and 1076 original time points ...\n",
      "0 bad epochs dropped\n",
      "  Filtering 30-40 Hz...\n",
      "Filtering raw data in 1 contiguous segment\n",
      "Setting up band-pass filter from 30 - 40 Hz\n",
      "\n",
      "FIR filter parameters\n",
      "---------------------\n",
      "Designing a one-pass, zero-phase, non-causal bandpass filter:\n",
      "- Windowed time-domain design (firwin) method\n",
      "- Hamming window with 0.0194 passband ripple and 53 dB stopband attenuation\n",
      "- Lower passband edge: 30.00\n",
      "- Lower transition bandwidth: 7.50 Hz (-6 dB cutoff frequency: 26.25 Hz)\n",
      "- Upper passband edge: 40.00 Hz\n",
      "- Upper transition bandwidth: 10.00 Hz (-6 dB cutoff frequency: 45.00 Hz)\n",
      "- Filter length: 111 samples (0.444 s)\n",
      "\n"
     ]
    },
    {
     "name": "stderr",
     "output_type": "stream",
     "text": [
      "[Parallel(n_jobs=1)]: Done  17 tasks      | elapsed:    0.7s\n"
     ]
    },
    {
     "name": "stdout",
     "output_type": "stream",
     "text": [
      "Not setting metadata\n",
      "288 matching events found\n",
      "Setting baseline interval to [-0.3, 0.0] s\n",
      "Applying baseline correction (mode: mean)\n",
      "0 projection items activated\n",
      "Using data from preloaded Raw for 288 events and 1076 original time points ...\n",
      "0 bad epochs dropped\n"
     ]
    }
   ],
   "source": [
    "passbands = [\n",
    "    (1, 3), (2, 5), (4, 7), (6, 10), (7, 12),\n",
    "    (10, 15), (12, 19), (15, 25), (19, 30),\n",
    "    (25, 35), (30, 40)\n",
    "]\n",
    "\n",
    "gdf_folder = Path(\"BCICIV_2a_gdf\")\n",
    "\n",
    "target_events = {'769': 'left', '770': 'right', '771': 'feet', '772': 'tongue'}\n",
    "\n",
    "filtered_data = []\n",
    "labels_2d = []\n",
    "\n",
    "# skipping AO4T because only has eye movement\n",
    "users = [\"A01T.gdf\", \"A02T.gdf\", \"A03T.gdf\", \"A05T.gdf\", \"A06T.gdf\", \"A07T.gdf\", \"A08T.gdf\", \"A09T.gdf\"]\n",
    "\n",
    "for subject in users:\n",
    "    # Iterate through users\n",
    "    gdf_path = gdf_folder / subject\n",
    "    print(f\"\\nProcessing {subject}...\")\n",
    "    \n",
    "    raw = mne.io.read_raw_gdf(gdf_path.resolve(), preload=True)\n",
    "    events, event_id_map = mne.events_from_annotations(raw)\n",
    "\n",
    "    subject_data = []\n",
    "    user_labels = []\n",
    "\n",
    "    user_event_ids = {target_events[key]: event_id_map[key] for key in target_events if key in event_id_map}\n",
    "\n",
    "    # Filter and epoch for each band\n",
    "    for band in passbands:\n",
    "        low, high = band\n",
    "        print(f\"  Filtering {low}-{high} Hz...\")\n",
    "\n",
    "        # Bandpass filter\n",
    "        raw_filtered = raw.copy().filter(l_freq=low, h_freq=high, method='fir', fir_design='firwin')\n",
    "\n",
    "        # Create epochs\n",
    "        epochs = mne.Epochs(raw_filtered, events, event_id=user_event_ids, baseline=(None, 0), event_repeated='merge', preload=True, tmin=-.3, tmax=4)\n",
    "        labels = epochs.events[:, -1]  # Last column contains the event ID\n",
    "\n",
    "        # Collect data and labels\n",
    "        subject_data.append(epochs.get_data()[:, :-3, :])  # Shape: (n_trials, n_channels, n_times)\n",
    "        user_labels.append(labels)\n",
    "\n",
    "    filtered_data.append(subject_data)\n",
    "    labels_2d.append(user_labels)"
   ]
  },
  {
   "cell_type": "code",
   "execution_count": 3,
   "metadata": {},
   "outputs": [
    {
     "data": {
      "text/plain": [
       "(8, 11, 288, 22, 1076)"
      ]
     },
     "execution_count": 3,
     "metadata": {},
     "output_type": "execute_result"
    }
   ],
   "source": [
    "filtered_data = np.array(filtered_data)\n",
    "filtered_data.shape"
   ]
  },
  {
   "cell_type": "code",
   "execution_count": 4,
   "metadata": {},
   "outputs": [
    {
     "data": {
      "text/plain": [
       "(8, 11, 288)"
      ]
     },
     "execution_count": 4,
     "metadata": {},
     "output_type": "execute_result"
    }
   ],
   "source": [
    "labels_2d = np.array(labels_2d)\n",
    "labels_2d.shape"
   ]
  },
  {
   "cell_type": "markdown",
   "metadata": {},
   "source": [
    "**Separating data into 4 groups**"
   ]
  },
  {
   "cell_type": "code",
   "execution_count": 53,
   "metadata": {},
   "outputs": [
    {
     "data": {
      "text/plain": [
       "((8, 11, 72, 22, 1076),\n",
       " (8, 11, 72, 22, 1076),\n",
       " (8, 11, 72, 22, 1076),\n",
       " (8, 11, 72, 22, 1076))"
      ]
     },
     "execution_count": 53,
     "metadata": {},
     "output_type": "execute_result"
    }
   ],
   "source": [
    "data_left = []\n",
    "data_right = []\n",
    "data_feet = []\n",
    "data_tongue = []\n",
    "\n",
    "for subject in range(len(filtered_data)):\n",
    "    subject_data_left = []\n",
    "    subject_data_right = []\n",
    "    subject_data_feet = []\n",
    "    subject_data_tongue = []\n",
    "    for band in range(len(filtered_data[subject])):\n",
    "        band_data_left = []\n",
    "        band_data_right = []\n",
    "        band_data_feet = []\n",
    "        band_data_tongue = []\n",
    "        for label in range(len(labels_2d[subject][band])):\n",
    "            if labels_2d[subject][band][label] == 7:\n",
    "                band_data_left.append(filtered_data[subject][band][label])\n",
    "            elif labels_2d[subject][band][label] == 8:\n",
    "                band_data_right.append(filtered_data[subject][band][label])\n",
    "            elif labels_2d[subject][band][label] == 9:\n",
    "                band_data_feet.append(filtered_data[subject][band][label])\n",
    "            else:\n",
    "                band_data_tongue.append(filtered_data[subject][band][label])\n",
    "        subject_data_left.append(band_data_left)\n",
    "        subject_data_right.append(band_data_right)\n",
    "        subject_data_feet.append(band_data_feet)\n",
    "        subject_data_tongue.append(band_data_tongue)\n",
    "    data_left.append(subject_data_left)\n",
    "    data_right.append(subject_data_right)\n",
    "    data_feet.append(subject_data_feet)\n",
    "    data_tongue.append(subject_data_tongue)\n",
    "\n",
    "data_left = np.array(data_left)\n",
    "data_right = np.array(data_right)\n",
    "data_feet = np.array(data_feet)\n",
    "data_tongue = np.array(data_tongue)\n",
    "\n",
    "data_left.shape, data_right.shape, data_feet.shape, data_tongue.shape"
   ]
  },
  {
   "cell_type": "code",
   "execution_count": 54,
   "metadata": {},
   "outputs": [],
   "source": [
    "data_OVR_left = []\n",
    "data_OVR_right = []\n",
    "data_OVR_feet = []\n",
    "data_OVR_tongue = []\n",
    "\n",
    "random_samples = np.random.permutation(72)\n",
    "random_sample_range1 = random_samples[:24]\n",
    "random_sample_range2 = random_samples[24:48]\n",
    "random_sample_range3 = random_samples[48:72]\n",
    "\n",
    "# data_OVR_left\n",
    "for subject in range(8):\n",
    "    subject_data = []\n",
    "    for band in range(11):\n",
    "        band_data = []\n",
    "        for sample in random_sample_range1:\n",
    "            band_data.append(data_right[subject][band][sample])\n",
    "        for sample in random_sample_range2:\n",
    "            band_data.append(data_feet[subject][band][sample])\n",
    "        for sample in random_sample_range3:\n",
    "            band_data.append(data_tongue[subject][band][sample])\n",
    "        np.random.shuffle(band_data)\n",
    "        subject_data.append(band_data)\n",
    "    data_OVR_left.append(subject_data)\n",
    "\n",
    "# data_OVR_right\n",
    "for subject in range(8):\n",
    "    subject_data = []\n",
    "    for band in range(11):\n",
    "        band_data = []\n",
    "        for sample in random_sample_range1:\n",
    "            band_data.append(data_left[subject][band][sample])\n",
    "        for sample in random_sample_range2:\n",
    "            band_data.append(data_feet[subject][band][sample])\n",
    "        for sample in random_sample_range3:\n",
    "            band_data.append(data_tongue[subject][band][sample])\n",
    "        np.random.shuffle(band_data)\n",
    "        subject_data.append(band_data)\n",
    "    data_OVR_right.append(subject_data)\n",
    "\n",
    "# data_OVR_feet\n",
    "for subject in range(8):\n",
    "    subject_data = []\n",
    "    for band in range(11):\n",
    "        band_data = []\n",
    "        for sample in random_sample_range1:\n",
    "            band_data.append(data_left[subject][band][sample])\n",
    "        for sample in random_sample_range2:\n",
    "            band_data.append(data_right[subject][band][sample])\n",
    "        for sample in random_sample_range3:\n",
    "            band_data.append(data_tongue[subject][band][sample])\n",
    "        np.random.shuffle(band_data)\n",
    "        subject_data.append(band_data)\n",
    "    data_OVR_feet.append(subject_data)\n",
    "\n",
    "# data_OVR_tongue\n",
    "for subject in range(8):\n",
    "    subject_data = []\n",
    "    for band in range(11):\n",
    "        band_data = []\n",
    "        for sample in random_sample_range1:\n",
    "            band_data.append(data_left[subject][band][sample])\n",
    "        for sample in random_sample_range2:\n",
    "            band_data.append(data_right[subject][band][sample])\n",
    "        for sample in random_sample_range3:\n",
    "            band_data.append(data_feet[subject][band][sample])\n",
    "        np.random.shuffle(band_data)\n",
    "        subject_data.append(band_data)\n",
    "    data_OVR_tongue.append(subject_data)\n",
    "\n",
    "# Convert to numpy arrays\n",
    "data_OVR_left = np.array(data_OVR_left)\n",
    "data_OVR_right = np.array(data_OVR_right)\n",
    "data_OVR_feet = np.array(data_OVR_feet)\n",
    "data_OVR_tongue = np.array(data_OVR_tongue)"
   ]
  },
  {
   "cell_type": "code",
   "execution_count": 55,
   "metadata": {},
   "outputs": [
    {
     "data": {
      "text/plain": [
       "((8, 11, 22, 1076, 72),\n",
       " (8, 11, 22, 1076, 72),\n",
       " (8, 11, 22, 1076, 72),\n",
       " (8, 11, 22, 1076, 72))"
      ]
     },
     "execution_count": 55,
     "metadata": {},
     "output_type": "execute_result"
    }
   ],
   "source": [
    "# # Reordering dimensions\n",
    "data_left = data_left.transpose(0, 1, 3, 4, 2)\n",
    "data_right = data_right.transpose(0, 1, 3, 4, 2)\n",
    "data_feet = data_feet.transpose(0, 1, 3, 4, 2)\n",
    "data_tongue = data_tongue.transpose(0, 1, 3, 4, 2)\n",
    "\n",
    "data_left.shape, data_right.shape, data_feet.shape, data_tongue.shape"
   ]
  },
  {
   "cell_type": "code",
   "execution_count": 56,
   "metadata": {},
   "outputs": [
    {
     "data": {
      "text/plain": [
       "((8, 11, 22, 1076, 72),\n",
       " (8, 11, 22, 1076, 72),\n",
       " (8, 11, 22, 1076, 72),\n",
       " (8, 11, 22, 1076, 72))"
      ]
     },
     "execution_count": 56,
     "metadata": {},
     "output_type": "execute_result"
    }
   ],
   "source": [
    "# # Reordering dimensions\n",
    "data_OVR_left = data_OVR_left.transpose(0, 1, 3, 4, 2)\n",
    "data_OVR_right = data_OVR_right.transpose(0, 1, 3, 4, 2)\n",
    "data_OVR_feet = data_OVR_feet.transpose(0, 1, 3, 4, 2)\n",
    "data_OVR_tongue = data_OVR_tongue.transpose(0, 1, 3, 4, 2)\n",
    "\n",
    "data_OVR_left.shape, data_OVR_right.shape, data_OVR_feet.shape, data_OVR_tongue.shape"
   ]
  },
  {
   "cell_type": "markdown",
   "metadata": {},
   "source": [
    "## Use shannon entropy to create a subset of channels"
   ]
  },
  {
   "cell_type": "code",
   "execution_count": 7,
   "metadata": {},
   "outputs": [],
   "source": [
    "import numpy as np\n",
    "\n",
    "def shannon_entropy(signal_data, num_bins=10):\n",
    "    signal_data = signal_data.flatten()  # Flatten trials and time\n",
    "    signal_data = (signal_data - np.min(signal_data)) / (np.max(signal_data) - np.min(signal_data) + 1e-8)  # Normalize\n",
    "\n",
    "    hist, _ = np.histogram(signal_data, bins=num_bins, density=True)\n",
    "    p = hist / np.sum(hist)  # Normalize to get probabilities\n",
    "    p = p[p > 0]  # Remove zero probabilities\n",
    "\n",
    "    return -np.sum(p * np.log2(p))  # Compute Shannon entropy\n",
    "\n",
    "def compute_entropy_top_channels(data, class_name, channels, top_n=5):\n",
    "    num_subjects, num_bands, num_channels, _, num_trials = data.shape\n",
    "    entropy_per_channel = {ch: [] for ch in channels}\n",
    "\n",
    "    for subject in range(num_subjects):\n",
    "        for band in range(num_bands):\n",
    "            trials = np.array(data[subject][band])  # Extract (channels, time, trials)\n",
    "            trials = np.moveaxis(trials, -1, 0)  # Reshape to (trials, channels, time)\n",
    "\n",
    "            for ch_idx, (ch_name, ch_values) in enumerate(entropy_per_channel.items()):\n",
    "                entropy = shannon_entropy(trials[:, ch_idx, :])  # Calculate entropy for each channel\n",
    "                entropy_per_channel[ch_name].append(entropy)\n",
    "\n",
    "    # Compute average entropy across subjects and bands\n",
    "    avg_entropy_per_channel = {ch: np.mean(ent) for ch, ent in entropy_per_channel.items()}\n",
    "\n",
    "    # Sort channels by entropy in descending order\n",
    "    sorted_entropy = sorted(avg_entropy_per_channel.items(), key=lambda x: x[1], reverse=True)\n",
    "\n",
    "    return sorted_entropy  # Return top N channels\n",
    "\n",
    "# Compute top channels based on entropy\n",
    "eeg_channels = raw.info[\"ch_names\"][:22] # we have removed eog channels\n",
    "top_channels_left = compute_entropy_top_channels(data_left, \"Left Hand\", channels=eeg_channels)\n",
    "top_channels_right = compute_entropy_top_channels(data_right, \"Right Hand\", channels=eeg_channels)\n",
    "top_channels_feet = compute_entropy_top_channels(data_feet, \"Feet\", channels=eeg_channels)\n",
    "top_channels_tongue = compute_entropy_top_channels(data_tongue, \"Tongue\", channels=eeg_channels)"
   ]
  },
  {
   "cell_type": "code",
   "execution_count": 26,
   "metadata": {},
   "outputs": [
    {
     "name": "stdout",
     "output_type": "stream",
     "text": [
      "\n",
      "Top 10 channels for Left hand motor imagery:\n",
      "EEG-Cz: 1.9903\n",
      "EEG-7: 1.9781\n",
      "EEG-C4: 1.9777\n",
      "EEG-6: 1.9776\n",
      "EEG-C3: 1.9761\n",
      "EEG-11: 1.9668\n",
      "EEG-12: 1.9578\n",
      "EEG-3: 1.9574\n",
      "EEG-10: 1.9552\n",
      "EEG-13: 1.9523\n",
      "\n",
      "Top 10 channels for Right hand motor imagery:\n",
      "EEG-Cz: 1.9888\n",
      "EEG-11: 1.9752\n",
      "EEG-7: 1.9749\n",
      "EEG-12: 1.9729\n",
      "EEG-6: 1.9726\n",
      "EEG-10: 1.9572\n",
      "EEG-13: 1.9563\n",
      "EEG-C4: 1.9536\n",
      "EEG-15: 1.9519\n",
      "EEG-16: 1.9511\n",
      "\n",
      "Top 10 channels for Feet motor imagery:\n",
      "EEG-7: 2.0313\n",
      "EEG-C4: 2.0306\n",
      "EEG-6: 2.0259\n",
      "EEG-Cz: 2.0251\n",
      "EEG-C3: 2.0054\n",
      "EEG-12: 2.0047\n",
      "EEG-10: 2.0026\n",
      "EEG-11: 2.0016\n",
      "EEG-3: 1.9999\n",
      "EEG-2: 1.9948\n",
      "\n",
      "Top 10 channels for Tongue motor imagery:\n",
      "EEG-C4: 1.9976\n",
      "EEG-C3: 1.9939\n",
      "EEG-7: 1.9860\n",
      "EEG-Cz: 1.9827\n",
      "EEG-13: 1.9751\n",
      "EEG-6: 1.9700\n",
      "EEG-9: 1.9656\n",
      "EEG-2: 1.9648\n",
      "EEG-12: 1.9587\n",
      "EEG-11: 1.9578\n",
      "{'EEG-C3', 'EEG-16', 'EEG-3', 'EEG-10', 'EEG-C4', 'EEG-12', 'EEG-Cz', 'EEG-13', 'EEG-9', 'EEG-6', 'EEG-11', 'EEG-2', 'EEG-7', 'EEG-15'}\n"
     ]
    }
   ],
   "source": [
    "# find the subset of channels that are most discriminative\n",
    "top_n = 10\n",
    "unique_channels = set()\n",
    "for class_name, sorted_entropy in zip([\"Left hand\", \"Right hand\", \"Feet\", \"Tongue\"], \n",
    "                                      [top_channels_left, top_channels_right, top_channels_feet, top_channels_tongue]):\n",
    "    print(f\"\\nTop {top_n} channels for {class_name} motor imagery:\")\n",
    "    for ch, ent in sorted_entropy[:top_n]:\n",
    "        print(f\"{ch}: {ent:.4f}\")\n",
    "        unique_channels.add(ch)\n",
    "\n",
    "print(unique_channels)"
   ]
  },
  {
   "cell_type": "code",
   "execution_count": 47,
   "metadata": {},
   "outputs": [
    {
     "data": {
      "text/plain": [
       "(array([ 3,  4,  7,  8,  9, 10, 11, 13, 14, 15, 16, 17, 20, 21]), 14)"
      ]
     },
     "execution_count": 47,
     "metadata": {},
     "output_type": "execute_result"
    }
   ],
   "source": [
    "selected_channels = []\n",
    "for ch in unique_channels:\n",
    "    for idx in range(len(eeg_channels)):\n",
    "        if eeg_channels[idx] == ch:\n",
    "            selected_channels.append(idx)\n",
    "selected_channels = sorted(selected_channels)\n",
    "selected_channels = np.array(selected_channels)\n",
    "selected_channels, len(selected_channels)"
   ]
  },
  {
   "cell_type": "markdown",
   "metadata": {},
   "source": [
    "### Start of Assignment 3 Code"
   ]
  },
  {
   "cell_type": "code",
   "execution_count": 14,
   "metadata": {},
   "outputs": [],
   "source": [
    "n_sample = 72"
   ]
  },
  {
   "cell_type": "code",
   "execution_count": 15,
   "metadata": {},
   "outputs": [
    {
     "data": {
      "text/plain": [
       "array([17, 53,  0, 10, 29, 50, 66, 44, 13, 24, 40, 61, 41, 16, 46,  5, 11,\n",
       "       70, 56, 37, 23, 19,  6, 71, 12, 57, 68, 69, 62, 51, 64, 39, 20, 36,\n",
       "       63, 27, 60, 65,  2, 30,  3, 52, 26, 34, 55,  9, 58, 48,  8, 47, 21,\n",
       "       54, 67, 18, 42, 35,  7, 31, 14,  1, 32, 25, 43, 49, 45, 38, 28, 15,\n",
       "       22, 59, 33,  4])"
      ]
     },
     "execution_count": 15,
     "metadata": {},
     "output_type": "execute_result"
    }
   ],
   "source": [
    "#n_channel, n_time, n_sample = EEGR_train[0][0].shape\n",
    "randIdx = np.random.permutation(n_sample)\n",
    "randIdx"
   ]
  },
  {
   "cell_type": "code",
   "execution_count": 16,
   "metadata": {},
   "outputs": [
    {
     "name": "stdout",
     "output_type": "stream",
     "text": [
      "Our k is: 6\n",
      "Our bin size is: 12\n",
      "[[17 53  0 10 29 50 66 44 13 24 40 61]\n",
      " [41 16 46  5 11 70 56 37 23 19  6 71]\n",
      " [12 57 68 69 62 51 64 39 20 36 63 27]\n",
      " [60 65  2 30  3 52 26 34 55  9 58 48]\n",
      " [ 8 47 21 54 67 18 42 35  7 31 14  1]\n",
      " [32 25 43 49 45 38 28 15 22 59 33  4]]\n"
     ]
    }
   ],
   "source": [
    "k = 6\n",
    "print(f'Our k is: {k}')\n",
    "\n",
    "bin_size = int(n_sample / k)\n",
    "print(f'Our bin size is: {bin_size}')\n",
    "\n",
    "# In order to make our task easier, \n",
    "# we can reshape randIdx to have k rows and bin_size columns\n",
    "# by using .reshape():\n",
    "randIdx = randIdx.reshape(k, bin_size)\n",
    "print(randIdx)"
   ]
  },
  {
   "cell_type": "code",
   "execution_count": 17,
   "metadata": {},
   "outputs": [],
   "source": [
    "trainIdx = np.zeros((k, bin_size*(k-1)), dtype=int)\n",
    "valIdx = np.zeros((k, bin_size), dtype=int)"
   ]
  },
  {
   "cell_type": "code",
   "execution_count": 18,
   "metadata": {},
   "outputs": [
    {
     "data": {
      "text/plain": [
       "array([[17, 53,  0, 10, 29, 50, 66, 44, 13, 24, 40, 61],\n",
       "       [11,  6, 70,  2, 37, 62, 34, 32, 50, 41,  4, 39],\n",
       "       [36, 38, 52, 22, 34, 70, 41,  6, 20, 25, 42,  0],\n",
       "       [51, 37, 10, 11, 52, 20, 33,  4, 43, 54, 41, 29],\n",
       "       [19, 60, 37, 58, 27, 21, 13,  7, 12, 59, 17, 34],\n",
       "       [23, 28, 56, 66, 61, 45, 17, 62, 46, 71, 36,  3]])"
      ]
     },
     "execution_count": 18,
     "metadata": {},
     "output_type": "execute_result"
    }
   ],
   "source": [
    "# We'll reset trainIdx and valIdx (just in case)\n",
    "# Note: feel free to use uninitialized lists and append\n",
    "#       this is just one possible starting point to show\n",
    "#       the correct size of these objects.\n",
    "trainIdx = np.zeros((k, bin_size*(k-1)), dtype=int) # could also be = []\n",
    "valIdx = np.zeros((k, bin_size), dtype=int)           # could also be = []\n",
    "\n",
    "# --- Question 4 ---\n",
    "# YOUR CODE HERE\n",
    "\n",
    "for i in range(k):\n",
    "    lst = []\n",
    "    for row in range(k):\n",
    "        if row == 0:\n",
    "            valIdx[i] = randIdx[row]\n",
    "            continue\n",
    "        for col in range(len(randIdx[0])):\n",
    "            lst.append(randIdx[row][col])\n",
    "    trainIdx[i] = lst\n",
    "    randIdx = np.random.permutation(n_sample)\n",
    "    randIdx = randIdx.reshape(k, bin_size)\n",
    "valIdx"
   ]
  },
  {
   "cell_type": "code",
   "execution_count": 34,
   "metadata": {},
   "outputs": [],
   "source": [
    "# Depending on your solution, valIdx and trainIdx may not be np.arrays\n",
    "# Let's guarantee they are\n",
    "valIdx = np.array(valIdx)\n",
    "trainIdx = np.array(trainIdx)\n",
    "\n",
    "assert valIdx.shape == (k, bin_size)\n",
    "assert trainIdx.shape == (k, bin_size*(k-1))"
   ]
  },
  {
   "cell_type": "code",
   "execution_count": 35,
   "metadata": {},
   "outputs": [
    {
     "data": {
      "text/plain": [
       "(6, 60)"
      ]
     },
     "execution_count": 35,
     "metadata": {},
     "output_type": "execute_result"
    }
   ],
   "source": [
    "trainIdx.shape"
   ]
  },
  {
   "cell_type": "code",
   "execution_count": 36,
   "metadata": {},
   "outputs": [
    {
     "data": {
      "text/plain": [
       "(6, 12)"
      ]
     },
     "execution_count": 36,
     "metadata": {},
     "output_type": "execute_result"
    }
   ],
   "source": [
    "valIdx.shape"
   ]
  },
  {
   "cell_type": "code",
   "execution_count": 37,
   "metadata": {},
   "outputs": [
    {
     "data": {
      "text/plain": [
       "(22, 1076, 72)"
      ]
     },
     "execution_count": 37,
     "metadata": {},
     "output_type": "execute_result"
    }
   ],
   "source": [
    "data_left[0, 0].shape"
   ]
  },
  {
   "cell_type": "markdown",
   "metadata": {},
   "source": [
    "### This is left vs right classification from assignment 3"
   ]
  },
  {
   "cell_type": "code",
   "execution_count": 50,
   "metadata": {},
   "outputs": [
    {
     "name": "stdout",
     "output_type": "stream",
     "text": [
      "===============\n",
      "Processing Subject 1/8\n",
      "Processing Fold 1/6\n",
      "Processing Fold 2/6\n",
      "Processing Fold 3/6\n",
      "Processing Fold 4/6\n",
      "Processing Fold 5/6\n",
      "Processing Fold 6/6\n",
      "===============\n",
      "Processing Subject 2/8\n",
      "Processing Fold 1/6\n",
      "Processing Fold 2/6\n",
      "Processing Fold 3/6\n",
      "Processing Fold 4/6\n",
      "Processing Fold 5/6\n",
      "Processing Fold 6/6\n",
      "===============\n",
      "Processing Subject 3/8\n",
      "Processing Fold 1/6\n",
      "Processing Fold 2/6\n",
      "Processing Fold 3/6\n",
      "Processing Fold 4/6\n",
      "Processing Fold 5/6\n",
      "Processing Fold 6/6\n",
      "===============\n",
      "Processing Subject 4/8\n",
      "Processing Fold 1/6\n",
      "Processing Fold 2/6\n",
      "Processing Fold 3/6\n",
      "Processing Fold 4/6\n",
      "Processing Fold 5/6\n",
      "Processing Fold 6/6\n",
      "===============\n",
      "Processing Subject 5/8\n",
      "Processing Fold 1/6\n",
      "Processing Fold 2/6\n",
      "Processing Fold 3/6\n",
      "Processing Fold 4/6\n",
      "Processing Fold 5/6\n",
      "Processing Fold 6/6\n",
      "===============\n",
      "Processing Subject 6/8\n",
      "Processing Fold 1/6\n",
      "Processing Fold 2/6\n",
      "Processing Fold 3/6\n",
      "Processing Fold 4/6\n",
      "Processing Fold 5/6\n",
      "Processing Fold 6/6\n",
      "===============\n",
      "Processing Subject 7/8\n",
      "Processing Fold 1/6\n",
      "Processing Fold 2/6\n",
      "Processing Fold 3/6\n",
      "Processing Fold 4/6\n",
      "Processing Fold 5/6\n",
      "Processing Fold 6/6\n",
      "===============\n",
      "Processing Subject 8/8\n",
      "Processing Fold 1/6\n",
      "Processing Fold 2/6\n",
      "Processing Fold 3/6\n",
      "Processing Fold 4/6\n",
      "Processing Fold 5/6\n",
      "Processing Fold 6/6\n",
      "===============\n",
      "[0.88194444 0.60416667 0.98611111 0.86805556 0.79861111 0.92361111\n",
      " 0.96527778 0.82638889]\n"
     ]
    }
   ],
   "source": [
    "# Main Analysis (Do Not Modify)\n",
    "\n",
    "# Declare useful variables\n",
    "n_subjects, n_filters = (8, 11)\n",
    "train_size = bin_size * (k-1)\n",
    "val_size = bin_size\n",
    "accuracy = np.zeros((n_subjects, k))\n",
    "csp_per_class = 3\n",
    "trainIdx = trainIdx.astype(int)\n",
    "valIdx = valIdx.astype(int)\n",
    "\n",
    "# Begin nested loops\n",
    "# Subject > Fold > Band\n",
    "print('===============')\n",
    "for subject in range(n_subjects):\n",
    "    print('Processing Subject {}/{}'.format(subject+1, n_subjects))\n",
    "    for fold in range(k):\n",
    "        print('Processing Fold {}/{}'.format(fold+1, k))\n",
    "        band_score_train = np.zeros((train_size*2, n_filters))\n",
    "        band_score_val = np.zeros((val_size*2, n_filters))\n",
    "        for band in range(n_filters):\n",
    "            # train,val dataset -> train,val for each subject&band\n",
    "            L_train = data_left[subject, band][:,:,trainIdx[fold]].transpose(2,0,1) # (trials, chans, samples)\n",
    "            R_train = data_right[subject, band][:,:,trainIdx[fold]].transpose(2,0,1) # (trials, chans, samples)\n",
    "            L_val = data_left[subject, band][:,:,valIdx[fold]].transpose(2,0,1) # (trials, chans, samples)\n",
    "            R_val = data_right[subject, band][:,:,valIdx[fold]].transpose(2,0,1) # (trials, chans, samples)\n",
    "            train_data = np.stack((L_train,R_train), axis=0) # <- CSP input data format (classes, trials, chans, samples) \n",
    "            val_data = np.stack((L_val,R_val), axis=0) # <- CSP input data format (classes, trials, chans, samples)\n",
    "\n",
    "            # Run Mahta's CSP code\n",
    "            # Source: https://github.com/mahtamsv/CCACSP\n",
    "            csp_filts, clf = train(train_data[0], train_data[1], csp_per_class)\n",
    "            train_prob = test(np.vstack(train_data), csp_filts, clf)\n",
    "            val_prob = test(np.vstack(val_data), csp_filts, clf)\n",
    "                        \n",
    "            # test() gives the prob of the 0th class, that's why \n",
    "            # we have y_val seemingly switched below\n",
    "            y_val = np.append(np.ones(12), np.zeros(12))\n",
    "\n",
    "            band_score_train[:,band] = train_prob\n",
    "            band_score_val[:,band] = val_prob\n",
    "        \n",
    "        \n",
    "        accuracy[subject,fold] = sum(np.rint(band_score_val.mean(1))==y_val)/len(y_val)\n",
    "    print('===============')\n",
    "print(np.mean(accuracy, axis=1))\n",
    "\n",
    "# Main Analysis Over"
   ]
  },
  {
   "cell_type": "markdown",
   "metadata": {},
   "source": [
    "## Testing subset of channels"
   ]
  },
  {
   "cell_type": "code",
   "execution_count": 49,
   "metadata": {},
   "outputs": [
    {
     "name": "stdout",
     "output_type": "stream",
     "text": [
      "===============\n",
      "Processing Subject 1/8\n",
      "Processing Fold 1/6\n",
      "Processing Fold 2/6\n",
      "Processing Fold 3/6\n",
      "Processing Fold 4/6\n",
      "Processing Fold 5/6\n",
      "Processing Fold 6/6\n",
      "===============\n",
      "Processing Subject 2/8\n",
      "Processing Fold 1/6\n",
      "Processing Fold 2/6\n",
      "Processing Fold 3/6\n",
      "Processing Fold 4/6\n",
      "Processing Fold 5/6\n",
      "Processing Fold 6/6\n",
      "===============\n",
      "Processing Subject 3/8\n",
      "Processing Fold 1/6\n",
      "Processing Fold 2/6\n",
      "Processing Fold 3/6\n",
      "Processing Fold 4/6\n",
      "Processing Fold 5/6\n",
      "Processing Fold 6/6\n",
      "===============\n",
      "Processing Subject 4/8\n",
      "Processing Fold 1/6\n",
      "Processing Fold 2/6\n",
      "Processing Fold 3/6\n",
      "Processing Fold 4/6\n",
      "Processing Fold 5/6\n",
      "Processing Fold 6/6\n",
      "===============\n",
      "Processing Subject 5/8\n",
      "Processing Fold 1/6\n",
      "Processing Fold 2/6\n",
      "Processing Fold 3/6\n",
      "Processing Fold 4/6\n",
      "Processing Fold 5/6\n",
      "Processing Fold 6/6\n",
      "===============\n",
      "Processing Subject 6/8\n",
      "Processing Fold 1/6\n",
      "Processing Fold 2/6\n",
      "Processing Fold 3/6\n",
      "Processing Fold 4/6\n",
      "Processing Fold 5/6\n",
      "Processing Fold 6/6\n",
      "===============\n",
      "Processing Subject 7/8\n",
      "Processing Fold 1/6\n",
      "Processing Fold 2/6\n",
      "Processing Fold 3/6\n",
      "Processing Fold 4/6\n",
      "Processing Fold 5/6\n",
      "Processing Fold 6/6\n",
      "===============\n",
      "Processing Subject 8/8\n",
      "Processing Fold 1/6\n",
      "Processing Fold 2/6\n",
      "Processing Fold 3/6\n",
      "Processing Fold 4/6\n",
      "Processing Fold 5/6\n",
      "Processing Fold 6/6\n",
      "===============\n",
      "[0.89583333 0.63888889 0.95138889 0.86111111 0.79166667 0.91666667\n",
      " 0.95833333 0.83333333]\n"
     ]
    }
   ],
   "source": [
    "# Main Analysis (Do Not Modify)\n",
    "\n",
    "# Declare useful variables\n",
    "n_subjects, n_filters = (8, 11)\n",
    "train_size = bin_size * (k-1)\n",
    "val_size = bin_size\n",
    "accuracy = np.zeros((n_subjects, k))\n",
    "csp_per_class = 3\n",
    "trainIdx = trainIdx.astype(int)\n",
    "valIdx = valIdx.astype(int)\n",
    "\n",
    "# Begin nested loops\n",
    "# Subject > Fold > Band\n",
    "print('===============')\n",
    "for subject in range(n_subjects):\n",
    "    print('Processing Subject {}/{}'.format(subject+1, n_subjects))\n",
    "    for fold in range(k):\n",
    "        print('Processing Fold {}/{}'.format(fold+1, k))\n",
    "        band_score_train = np.zeros((train_size*2, n_filters))\n",
    "        band_score_val = np.zeros((val_size*2, n_filters))\n",
    "        for band in range(n_filters):\n",
    "            # train,val dataset -> train,val for each subject&band\n",
    "            L_train = data_left[subject, band][selected_channels][:, :, trainIdx[fold]].transpose(2, 0, 1)\n",
    "            R_train = data_right[subject, band][selected_channels][:, :, trainIdx[fold]].transpose(2,0,1) # (trials, chans, samples)\n",
    "            L_val = data_left[subject, band][selected_channels][:, :, valIdx[fold]].transpose(2,0,1) # (trials, chans, samples)\n",
    "            R_val = data_right[subject, band][selected_channels][:, :, valIdx[fold]].transpose(2,0,1) # (trials, chans, samples)\n",
    "            train_data = np.stack((L_train,R_train), axis=0) # <- CSP input data format (classes, trials, chans, samples) \n",
    "            val_data = np.stack((L_val,R_val), axis=0) # <- CSP input data format (classes, trials, chans, samples)\n",
    "\n",
    "            # Run Mahta's CSP code\n",
    "            # Source: https://github.com/mahtamsv/CCACSP\n",
    "            csp_filts, clf = train(train_data[0], train_data[1], csp_per_class)\n",
    "            train_prob = test(np.vstack(train_data), csp_filts, clf)\n",
    "            val_prob = test(np.vstack(val_data), csp_filts, clf)\n",
    "                        \n",
    "            # test() gives the prob of the 0th class, that's why \n",
    "            # we have y_val seemingly switched below\n",
    "            y_val = np.append(np.ones(12), np.zeros(12))\n",
    "\n",
    "            band_score_train[:,band] = train_prob\n",
    "            band_score_val[:,band] = val_prob\n",
    "        \n",
    "        \n",
    "        accuracy[subject,fold] = sum(np.rint(band_score_val.mean(1))==y_val)/len(y_val)\n",
    "    print('===============')\n",
    "print(np.mean(accuracy, axis=1))\n",
    "\n",
    "# Main Analysis Over"
   ]
  },
  {
   "cell_type": "markdown",
   "metadata": {},
   "source": [
    "### Need to create 4 more: Left vs rest, Right vs rest, Feet vs rest, Tongue vs rest\n",
    "\n",
    "This will involve creating 4 more train sets. \n",
    "\n",
    "E.g. Instead of L_train and R_train, we can use L_train again, but we need a O_train which contains an equal amount of data points from the other 3 classes."
   ]
  },
  {
   "cell_type": "markdown",
   "metadata": {},
   "source": [
    "## Left vs Rest"
   ]
  },
  {
   "cell_type": "code",
   "execution_count": null,
   "metadata": {},
   "outputs": [
    {
     "name": "stdout",
     "output_type": "stream",
     "text": [
      "===============\n",
      "Processing Subject 1/8\n",
      "Processing Fold 1/6\n",
      "Processing Fold 2/6\n",
      "Processing Fold 3/6\n",
      "Processing Fold 4/6\n",
      "Processing Fold 5/6\n",
      "Processing Fold 6/6\n",
      "===============\n",
      "Processing Subject 2/8\n",
      "Processing Fold 1/6\n",
      "Processing Fold 2/6\n",
      "Processing Fold 3/6\n",
      "Processing Fold 4/6\n",
      "Processing Fold 5/6\n",
      "Processing Fold 6/6\n",
      "===============\n",
      "Processing Subject 3/8\n",
      "Processing Fold 1/6\n",
      "Processing Fold 2/6\n",
      "Processing Fold 3/6\n",
      "Processing Fold 4/6\n",
      "Processing Fold 5/6\n",
      "Processing Fold 6/6\n",
      "===============\n",
      "Processing Subject 4/8\n",
      "Processing Fold 1/6\n",
      "Processing Fold 2/6\n",
      "Processing Fold 3/6\n",
      "Processing Fold 4/6\n",
      "Processing Fold 5/6\n",
      "Processing Fold 6/6\n",
      "===============\n",
      "Processing Subject 5/8\n",
      "Processing Fold 1/6\n",
      "Processing Fold 2/6\n",
      "Processing Fold 3/6\n",
      "Processing Fold 4/6\n",
      "Processing Fold 5/6\n",
      "Processing Fold 6/6\n",
      "===============\n",
      "Processing Subject 6/8\n",
      "Processing Fold 1/6\n",
      "Processing Fold 2/6\n",
      "Processing Fold 3/6\n",
      "Processing Fold 4/6\n",
      "Processing Fold 5/6\n",
      "Processing Fold 6/6\n",
      "===============\n",
      "Processing Subject 7/8\n",
      "Processing Fold 1/6\n",
      "Processing Fold 2/6\n",
      "Processing Fold 3/6\n",
      "Processing Fold 4/6\n",
      "Processing Fold 5/6\n",
      "Processing Fold 6/6\n",
      "===============\n",
      "Processing Subject 8/8\n",
      "Processing Fold 1/6\n",
      "Processing Fold 2/6\n",
      "Processing Fold 3/6\n",
      "Processing Fold 4/6\n",
      "Processing Fold 5/6\n",
      "Processing Fold 6/6\n",
      "===============\n",
      "[0.95138889 0.75       0.89583333 0.83333333 0.74305556 0.96527778\n",
      " 0.90277778 0.90277778]\n",
      "[0.90277778 0.5        0.79166667 0.66666667 0.48611111 0.93055556\n",
      " 0.80555556 0.80555556]\n"
     ]
    }
   ],
   "source": [
    "# We'll reset trainIdx and valIdx (just in case)\n",
    "# Note: feel free to use uninitialized lists and append\n",
    "#       this is just one possible starting point to show\n",
    "#       the correct size of these objects.\n",
    "trainIdx = np.zeros((k, bin_size*(k-1)), dtype=int) # could also be = []\n",
    "valIdx = np.zeros((k, bin_size), dtype=int)           # could also be = []\n",
    "\n",
    "# --- Question 4 ---\n",
    "# YOUR CODE HERE\n",
    "\n",
    "for i in range(k):\n",
    "    lst = []\n",
    "    for row in range(k):\n",
    "        if row == 0:\n",
    "            valIdx[i] = randIdx[row]\n",
    "            continue\n",
    "        for col in range(len(randIdx[0])):\n",
    "            lst.append(randIdx[row][col])\n",
    "    trainIdx[i] = lst\n",
    "    randIdx = np.random.permutation(n_sample)\n",
    "    randIdx = randIdx.reshape(k, bin_size)\n",
    "\n",
    "assert valIdx.shape == (k, bin_size)\n",
    "assert trainIdx.shape == (k, bin_size*(k-1))\n",
    "\n",
    "# Main Analysis (Do Not Modify)\n",
    "\n",
    "# Declare useful variables\n",
    "n_subjects, n_filters = (8, 11)\n",
    "train_size = bin_size * (k-1)\n",
    "val_size = bin_size\n",
    "accuracy = np.zeros((n_subjects, k))\n",
    "kappa = np.zeros((n_subjects, k))\n",
    "csp_per_class = 3\n",
    "trainIdx = trainIdx.astype(int)\n",
    "valIdx = valIdx.astype(int)\n",
    "\n",
    "# Begin nested loops\n",
    "# Subject > Fold > Band\n",
    "# n_subjects = 1\n",
    "print('===============')\n",
    "for subject in range(n_subjects):\n",
    "    print('Processing Subject {}/{}'.format(subject+1, n_subjects))\n",
    "    for fold in range(k):\n",
    "        print('Processing Fold {}/{}'.format(fold+1, k))\n",
    "        band_score_train = np.zeros((train_size*2, n_filters))\n",
    "        band_score_val = np.zeros((val_size*2, n_filters))\n",
    "        for band in range(n_filters):\n",
    "            # train,val dataset -> train,val for each subject&band\n",
    "            L_train = data_left[subject, band][selected_channels][:,:,trainIdx[fold]].transpose(2,0,1) # (trials, chans, samples)\n",
    "            OVR_train = data_OVR_left[subject, band][selected_channels][:,:,trainIdx[fold]].transpose(2,0,1) # (trials, chans, samples)\n",
    "            L_val = data_left[subject, band][selected_channels][:,:,valIdx[fold]].transpose(2,0,1) # (trials, chans, samples)\n",
    "            OVR_val = data_OVR_left[subject, band][selected_channels][:,:,valIdx[fold]].transpose(2,0,1) # (trials, chans, samples)\n",
    "            train_data = np.stack((L_train,OVR_train), axis=0) # <- CSP input data format (classes, trials, chans, samples) \n",
    "            val_data = np.stack((L_val,OVR_val), axis=0) # <- CSP input data format (classes, trials, chans, samples)\n",
    "\n",
    "            # Run Mahta's CSP code\n",
    "            # Source: https://github.com/mahtamsv/CCACSP\n",
    "            csp_filts, clf = train(train_data[0], train_data[1], csp_per_class)\n",
    "            train_prob = test(np.vstack(train_data), csp_filts, clf)\n",
    "            val_prob = test(np.vstack(val_data), csp_filts, clf)\n",
    "            \n",
    "            # test() gives the prob of the 0th class, that's why \n",
    "            # we have y_val seemingly switched below\n",
    "            y_val = np.append(np.ones(12), np.zeros(12))\n",
    "\n",
    "            band_score_train[:,band] = train_prob\n",
    "            band_score_val[:,band] = val_prob\n",
    "\n",
    "        y_pred = np.rint(band_score_val.mean(1))\n",
    "        accuracy[subject,fold] = sum(y_pred==y_val)/len(y_val)\n",
    "        kappa[subject, fold] = cohen_kappa_score(y_pred, y_val)\n",
    "    print('===============')\n",
    "print(np.mean(accuracy, axis=1))\n",
    "print(np.mean(kappa, axis=1))\n",
    "\n",
    "# Main Analysis Over"
   ]
  },
  {
   "cell_type": "markdown",
   "metadata": {},
   "source": [
    "## Right vs Rest"
   ]
  },
  {
   "cell_type": "code",
   "execution_count": 59,
   "metadata": {},
   "outputs": [
    {
     "name": "stdout",
     "output_type": "stream",
     "text": [
      "===============\n",
      "Processing Subject 1/8\n",
      "Processing Fold 1/6\n",
      "Processing Fold 2/6\n",
      "Processing Fold 3/6\n",
      "Processing Fold 4/6\n",
      "Processing Fold 5/6\n",
      "Processing Fold 6/6\n",
      "===============\n",
      "Processing Subject 2/8\n",
      "Processing Fold 1/6\n",
      "Processing Fold 2/6\n",
      "Processing Fold 3/6\n",
      "Processing Fold 4/6\n",
      "Processing Fold 5/6\n",
      "Processing Fold 6/6\n",
      "===============\n",
      "Processing Subject 3/8\n",
      "Processing Fold 1/6\n",
      "Processing Fold 2/6\n",
      "Processing Fold 3/6\n",
      "Processing Fold 4/6\n",
      "Processing Fold 5/6\n",
      "Processing Fold 6/6\n",
      "===============\n",
      "Processing Subject 4/8\n",
      "Processing Fold 1/6\n",
      "Processing Fold 2/6\n",
      "Processing Fold 3/6\n",
      "Processing Fold 4/6\n",
      "Processing Fold 5/6\n",
      "Processing Fold 6/6\n",
      "===============\n",
      "Processing Subject 5/8\n",
      "Processing Fold 1/6\n",
      "Processing Fold 2/6\n",
      "Processing Fold 3/6\n",
      "Processing Fold 4/6\n",
      "Processing Fold 5/6\n",
      "Processing Fold 6/6\n",
      "===============\n",
      "Processing Subject 6/8\n",
      "Processing Fold 1/6\n",
      "Processing Fold 2/6\n",
      "Processing Fold 3/6\n",
      "Processing Fold 4/6\n",
      "Processing Fold 5/6\n",
      "Processing Fold 6/6\n",
      "===============\n",
      "Processing Subject 7/8\n",
      "Processing Fold 1/6\n",
      "Processing Fold 2/6\n",
      "Processing Fold 3/6\n",
      "Processing Fold 4/6\n",
      "Processing Fold 5/6\n",
      "Processing Fold 6/6\n",
      "===============\n",
      "Processing Subject 8/8\n",
      "Processing Fold 1/6\n",
      "Processing Fold 2/6\n",
      "Processing Fold 3/6\n",
      "Processing Fold 4/6\n",
      "Processing Fold 5/6\n",
      "Processing Fold 6/6\n",
      "===============\n",
      "[0.97916667 0.70138889 0.9375     0.73611111 0.77083333 0.92361111\n",
      " 0.94444444 0.84722222]\n",
      "[0.95833333 0.40277778 0.875      0.47222222 0.54166667 0.84722222\n",
      " 0.88888889 0.69444444]\n"
     ]
    }
   ],
   "source": [
    "# We'll reset trainIdx and valIdx (just in case)\n",
    "# Note: feel free to use uninitialized lists and append\n",
    "#       this is just one possible starting point to show\n",
    "#       the correct size of these objects.\n",
    "trainIdx = np.zeros((k, bin_size*(k-1)), dtype=int) # could also be = []\n",
    "valIdx = np.zeros((k, bin_size), dtype=int)           # could also be = []\n",
    "\n",
    "# --- Question 4 ---\n",
    "# YOUR CODE HERE\n",
    "\n",
    "for i in range(k):\n",
    "    lst = []\n",
    "    for row in range(k):\n",
    "        if row == 0:\n",
    "            valIdx[i] = randIdx[row]\n",
    "            continue\n",
    "        for col in range(len(randIdx[0])):\n",
    "            lst.append(randIdx[row][col])\n",
    "    trainIdx[i] = lst\n",
    "    randIdx = np.random.permutation(n_sample)\n",
    "    randIdx = randIdx.reshape(k, bin_size)\n",
    "valIdx\n",
    "\n",
    "assert valIdx.shape == (k, bin_size)\n",
    "assert trainIdx.shape == (k, bin_size*(k-1))\n",
    "\n",
    "# Main Analysis (Do Not Modify)\n",
    "\n",
    "# Declare useful variables\n",
    "n_subjects, n_filters = (8, 11)\n",
    "train_size = bin_size * (k-1)\n",
    "val_size = bin_size\n",
    "accuracy = np.zeros((n_subjects, k))\n",
    "kappa = np.zeros((n_subjects, k))\n",
    "csp_per_class = 3\n",
    "trainIdx = trainIdx.astype(int)\n",
    "valIdx = valIdx.astype(int)\n",
    "\n",
    "# Begin nested loops\n",
    "# Subject > Fold > Band\n",
    "print('===============')\n",
    "for subject in range(n_subjects):\n",
    "    print('Processing Subject {}/{}'.format(subject+1, n_subjects))\n",
    "    for fold in range(k):\n",
    "        print('Processing Fold {}/{}'.format(fold+1, k))\n",
    "        band_score_train = np.zeros((train_size*2, n_filters))\n",
    "        band_score_val = np.zeros((val_size*2, n_filters))\n",
    "        for band in range(n_filters):\n",
    "            # train,val dataset -> train,val for each subject&band\n",
    "            r_train = data_right[subject, band][:,:,trainIdx[fold]].transpose(2,0,1) # (trials, chans, samples)\n",
    "            OVR_train = data_OVR_right[subject, band][:,:,trainIdx[fold]].transpose(2,0,1) # (trials, chans, samples)\n",
    "            r_val = data_right[subject, band][:,:,valIdx[fold]].transpose(2,0,1) # (trials, chans, samples)\n",
    "            OVR_val = data_OVR_right[subject, band][:,:,valIdx[fold]].transpose(2,0,1) # (trials, chans, samples)\n",
    "            train_data = np.stack((r_train,OVR_train), axis=0) # <- CSP input data format (classes, trials, chans, samples) \n",
    "            val_data = np.stack((r_val,OVR_val), axis=0) # <- CSP input data format (classes, trials, chans, samples)\n",
    "\n",
    "            # Run Mahta's CSP code\n",
    "            # Source: https://github.com/mahtamsv/CCACSP\n",
    "            csp_filts, clf = train(train_data[0], train_data[1], csp_per_class)\n",
    "            train_prob = test(np.vstack(train_data), csp_filts, clf)\n",
    "            val_prob = test(np.vstack(val_data), csp_filts, clf)\n",
    "            \n",
    "            # test() gives the prob of the 0th class, that's why \n",
    "            # we have y_val seemingly switched below\n",
    "            y_val = np.append(np.ones(12), np.zeros(12))\n",
    "\n",
    "            band_score_train[:,band] = train_prob\n",
    "            band_score_val[:,band] = val_prob\n",
    "        \n",
    "        \n",
    "        y_pred = np.rint(band_score_val.mean(1))\n",
    "        accuracy[subject,fold] = sum(y_pred==y_val)/len(y_val)\n",
    "        kappa[subject, fold] = cohen_kappa_score(y_pred, y_val)\n",
    "    print('===============')\n",
    "print(np.mean(accuracy, axis=1))\n",
    "print(np.mean(kappa, axis=1))\n",
    "\n",
    "# Main Analysis Over"
   ]
  },
  {
   "cell_type": "markdown",
   "metadata": {},
   "source": [
    "## Feet vs Rest"
   ]
  },
  {
   "cell_type": "code",
   "execution_count": 60,
   "metadata": {},
   "outputs": [
    {
     "name": "stdout",
     "output_type": "stream",
     "text": [
      "===============\n",
      "Processing Subject 1/8\n",
      "Processing Fold 1/6\n",
      "Processing Fold 2/6\n",
      "Processing Fold 3/6\n",
      "Processing Fold 4/6\n",
      "Processing Fold 5/6\n",
      "Processing Fold 6/6\n",
      "===============\n",
      "Processing Subject 2/8\n",
      "Processing Fold 1/6\n",
      "Processing Fold 2/6\n",
      "Processing Fold 3/6\n",
      "Processing Fold 4/6\n",
      "Processing Fold 5/6\n",
      "Processing Fold 6/6\n",
      "===============\n",
      "Processing Subject 3/8\n",
      "Processing Fold 1/6\n",
      "Processing Fold 2/6\n",
      "Processing Fold 3/6\n",
      "Processing Fold 4/6\n",
      "Processing Fold 5/6\n",
      "Processing Fold 6/6\n",
      "===============\n",
      "Processing Subject 4/8\n",
      "Processing Fold 1/6\n",
      "Processing Fold 2/6\n",
      "Processing Fold 3/6\n",
      "Processing Fold 4/6\n",
      "Processing Fold 5/6\n",
      "Processing Fold 6/6\n",
      "===============\n",
      "Processing Subject 5/8\n",
      "Processing Fold 1/6\n",
      "Processing Fold 2/6\n",
      "Processing Fold 3/6\n",
      "Processing Fold 4/6\n",
      "Processing Fold 5/6\n",
      "Processing Fold 6/6\n",
      "===============\n",
      "Processing Subject 6/8\n",
      "Processing Fold 1/6\n",
      "Processing Fold 2/6\n",
      "Processing Fold 3/6\n",
      "Processing Fold 4/6\n",
      "Processing Fold 5/6\n",
      "Processing Fold 6/6\n",
      "===============\n",
      "Processing Subject 7/8\n",
      "Processing Fold 1/6\n",
      "Processing Fold 2/6\n",
      "Processing Fold 3/6\n",
      "Processing Fold 4/6\n",
      "Processing Fold 5/6\n",
      "Processing Fold 6/6\n",
      "===============\n",
      "Processing Subject 8/8\n",
      "Processing Fold 1/6\n",
      "Processing Fold 2/6\n",
      "Processing Fold 3/6\n",
      "Processing Fold 4/6\n",
      "Processing Fold 5/6\n",
      "Processing Fold 6/6\n",
      "===============\n",
      "[0.92361111 0.96527778 0.90972222 0.72916667 0.75694444 0.9375\n",
      " 0.88194444 0.84722222]\n",
      "[0.84722222 0.93055556 0.81944444 0.45833333 0.51388889 0.875\n",
      " 0.76388889 0.69444444]\n"
     ]
    }
   ],
   "source": [
    "# We'll reset trainIdx and valIdx (just in case)\n",
    "# Note: feel free to use uninitialized lists and append\n",
    "#       this is just one possible starting point to show\n",
    "#       the correct size of these objects.\n",
    "trainIdx = np.zeros((k, bin_size*(k-1)), dtype=int) # could also be = []\n",
    "valIdx = np.zeros((k, bin_size), dtype=int)           # could also be = []\n",
    "\n",
    "# --- Question 4 ---\n",
    "# YOUR CODE HERE\n",
    "\n",
    "for i in range(k):\n",
    "    lst = []\n",
    "    for row in range(k):\n",
    "        if row == 0:\n",
    "            valIdx[i] = randIdx[row]\n",
    "            continue\n",
    "        for col in range(len(randIdx[0])):\n",
    "            lst.append(randIdx[row][col])\n",
    "    trainIdx[i] = lst\n",
    "    randIdx = np.random.permutation(n_sample)\n",
    "    randIdx = randIdx.reshape(k, bin_size)\n",
    "valIdx\n",
    "\n",
    "assert valIdx.shape == (k, bin_size)\n",
    "assert trainIdx.shape == (k, bin_size*(k-1))\n",
    "\n",
    "# Main Analysis (Do Not Modify)\n",
    "\n",
    "# Declare useful variables\n",
    "n_subjects, n_filters = (8, 11)\n",
    "train_size = bin_size * (k-1)\n",
    "val_size = bin_size\n",
    "accuracy = np.zeros((n_subjects, k))\n",
    "kappa = np.zeros((n_subjects, k))\n",
    "csp_per_class = 3\n",
    "trainIdx = trainIdx.astype(int)\n",
    "valIdx = valIdx.astype(int)\n",
    "\n",
    "# Begin nested loops\n",
    "# Subject > Fold > Band\n",
    "print('===============')\n",
    "for subject in range(n_subjects):\n",
    "    print('Processing Subject {}/{}'.format(subject+1, n_subjects))\n",
    "    for fold in range(k):\n",
    "        print('Processing Fold {}/{}'.format(fold+1, k))\n",
    "        band_score_train = np.zeros((train_size*2, n_filters))\n",
    "        band_score_val = np.zeros((val_size*2, n_filters))\n",
    "        for band in range(n_filters):\n",
    "            # train,val dataset -> train,val for each subject&band\n",
    "            f_train = data_feet[subject, band][selected_channels][:,:,trainIdx[fold]].transpose(2,0,1) # (trials, chans, samples)\n",
    "            OVR_train = data_OVR_feet[subject, band][selected_channels][:,:,trainIdx[fold]].transpose(2,0,1) # (trials, chans, samples)\n",
    "            f_val = data_feet[subject, band][selected_channels][:,:,valIdx[fold]].transpose(2,0,1) # (trials, chans, samples)\n",
    "            OVR_val = data_OVR_feet[subject, band][selected_channels][:,:,valIdx[fold]].transpose(2,0,1) # (trials, chans, samples)\n",
    "            train_data = np.stack((f_train,OVR_train), axis=0) # <- CSP input data format (classes, trials, chans, samples) \n",
    "            val_data = np.stack((f_val,OVR_val), axis=0) # <- CSP input data format (classes, trials, chans, samples)\n",
    "\n",
    "            # Run Mahta's CSP code\n",
    "            # Source: https://github.com/mahtamsv/CCACSP\n",
    "            csp_filts, clf = train(train_data[0], train_data[1], csp_per_class)\n",
    "            train_prob = test(np.vstack(train_data), csp_filts, clf)\n",
    "            val_prob = test(np.vstack(val_data), csp_filts, clf)\n",
    "            \n",
    "            # test() gives the prob of the 0th class, that's why \n",
    "            # we have y_val seemingly switched below\n",
    "            y_val = np.append(np.ones(12), np.zeros(12))\n",
    "\n",
    "            band_score_train[:,band] = train_prob\n",
    "            band_score_val[:,band] = val_prob\n",
    "        \n",
    "        \n",
    "        y_pred = np.rint(band_score_val.mean(1))\n",
    "        accuracy[subject,fold] = sum(y_pred==y_val)/len(y_val)\n",
    "        kappa[subject, fold] = cohen_kappa_score(y_pred, y_val)\n",
    "    print('===============')\n",
    "print(np.mean(accuracy, axis=1))\n",
    "print(np.mean(kappa, axis=1))\n",
    "\n",
    "# Main Analysis Over"
   ]
  },
  {
   "cell_type": "markdown",
   "metadata": {},
   "source": [
    "## Tongue vs Rest"
   ]
  },
  {
   "cell_type": "code",
   "execution_count": 61,
   "metadata": {},
   "outputs": [
    {
     "name": "stdout",
     "output_type": "stream",
     "text": [
      "===============\n",
      "Processing Subject 1/8\n",
      "Processing Fold 1/6\n",
      "Processing Fold 2/6\n",
      "Processing Fold 3/6\n",
      "Processing Fold 4/6\n",
      "Processing Fold 5/6\n",
      "Processing Fold 6/6\n",
      "===============\n",
      "Processing Subject 2/8\n",
      "Processing Fold 1/6\n",
      "Processing Fold 2/6\n",
      "Processing Fold 3/6\n",
      "Processing Fold 4/6\n",
      "Processing Fold 5/6\n",
      "Processing Fold 6/6\n",
      "===============\n",
      "Processing Subject 3/8\n",
      "Processing Fold 1/6\n",
      "Processing Fold 2/6\n",
      "Processing Fold 3/6\n",
      "Processing Fold 4/6\n",
      "Processing Fold 5/6\n",
      "Processing Fold 6/6\n",
      "===============\n",
      "Processing Subject 4/8\n",
      "Processing Fold 1/6\n",
      "Processing Fold 2/6\n",
      "Processing Fold 3/6\n",
      "Processing Fold 4/6\n",
      "Processing Fold 5/6\n",
      "Processing Fold 6/6\n",
      "===============\n",
      "Processing Subject 5/8\n",
      "Processing Fold 1/6\n",
      "Processing Fold 2/6\n",
      "Processing Fold 3/6\n",
      "Processing Fold 4/6\n",
      "Processing Fold 5/6\n",
      "Processing Fold 6/6\n",
      "===============\n",
      "Processing Subject 6/8\n",
      "Processing Fold 1/6\n",
      "Processing Fold 2/6\n",
      "Processing Fold 3/6\n",
      "Processing Fold 4/6\n",
      "Processing Fold 5/6\n",
      "Processing Fold 6/6\n",
      "===============\n",
      "Processing Subject 7/8\n",
      "Processing Fold 1/6\n",
      "Processing Fold 2/6\n",
      "Processing Fold 3/6\n",
      "Processing Fold 4/6\n",
      "Processing Fold 5/6\n",
      "Processing Fold 6/6\n",
      "===============\n",
      "Processing Subject 8/8\n",
      "Processing Fold 1/6\n",
      "Processing Fold 2/6\n",
      "Processing Fold 3/6\n",
      "Processing Fold 4/6\n",
      "Processing Fold 5/6\n",
      "Processing Fold 6/6\n",
      "===============\n",
      "[0.92361111 0.75694444 0.95138889 0.67361111 0.66666667 0.96527778\n",
      " 0.97222222 0.91666667]\n",
      "[0.84722222 0.51388889 0.90277778 0.34722222 0.33333333 0.93055556\n",
      " 0.94444444 0.83333333]\n"
     ]
    }
   ],
   "source": [
    "# We'll reset trainIdx and valIdx (just in case)\n",
    "# Note: feel free to use uninitialized lists and append\n",
    "#       this is just one possible starting point to show\n",
    "#       the correct size of these objects.\n",
    "trainIdx = np.zeros((k, bin_size*(k-1)), dtype=int) # could also be = []\n",
    "valIdx = np.zeros((k, bin_size), dtype=int)           # could also be = []\n",
    "\n",
    "# --- Question 4 ---\n",
    "# YOUR CODE HERE\n",
    "\n",
    "for i in range(k):\n",
    "    lst = []\n",
    "    for row in range(k):\n",
    "        if row == 0:\n",
    "            valIdx[i] = randIdx[row]\n",
    "            continue\n",
    "        for col in range(len(randIdx[0])):\n",
    "            lst.append(randIdx[row][col])\n",
    "    trainIdx[i] = lst\n",
    "    randIdx = np.random.permutation(n_sample)\n",
    "    randIdx = randIdx.reshape(k, bin_size)\n",
    "valIdx\n",
    "\n",
    "assert valIdx.shape == (k, bin_size)\n",
    "assert trainIdx.shape == (k, bin_size*(k-1))\n",
    "\n",
    "# Main Analysis (Do Not Modify)\n",
    "\n",
    "# Declare useful variables\n",
    "n_subjects, n_filters = (8, 11)\n",
    "train_size = bin_size * (k-1)\n",
    "val_size = bin_size\n",
    "accuracy = np.zeros((n_subjects, k))\n",
    "kappa = np.zeros((n_subjects, k))\n",
    "csp_per_class = 3\n",
    "trainIdx = trainIdx.astype(int)\n",
    "valIdx = valIdx.astype(int)\n",
    "\n",
    "# Begin nested loops\n",
    "# Subject > Fold > Band\n",
    "print('===============')\n",
    "for subject in range(n_subjects):\n",
    "    print('Processing Subject {}/{}'.format(subject+1, n_subjects))\n",
    "    for fold in range(k):\n",
    "        print('Processing Fold {}/{}'.format(fold+1, k))\n",
    "        band_score_train = np.zeros((train_size*2, n_filters))\n",
    "        band_score_val = np.zeros((val_size*2, n_filters))\n",
    "        for band in range(n_filters):\n",
    "            # train,val dataset -> train,val for each subject&band\n",
    "            t_train = data_tongue[subject, band][selected_channels][:,:,trainIdx[fold]].transpose(2,0,1) # (trials, chans, samples)\n",
    "            OVR_train = data_OVR_tongue[subject, band][selected_channels][:,:,trainIdx[fold]].transpose(2,0,1) # (trials, chans, samples)\n",
    "            t_val = data_tongue[subject, band][selected_channels][:,:,valIdx[fold]].transpose(2,0,1) # (trials, chans, samples)\n",
    "            OVR_val = data_OVR_tongue[subject, band][selected_channels][:,:,valIdx[fold]].transpose(2,0,1) # (trials, chans, samples)\n",
    "            train_data = np.stack((t_train,OVR_train), axis=0) # <- CSP input data format (classes, trials, chans, samples) \n",
    "            val_data = np.stack((t_val,OVR_val), axis=0) # <- CSP input data format (classes, trials, chans, samples)\n",
    "\n",
    "            # Run Mahta's CSP code\n",
    "            # Source: https://github.com/mahtamsv/CCACSP\n",
    "            csp_filts, clf = train(train_data[0], train_data[1], csp_per_class)\n",
    "            train_prob = test(np.vstack(train_data), csp_filts, clf)\n",
    "            val_prob = test(np.vstack(val_data), csp_filts, clf)\n",
    "            \n",
    "            # test() gives the prob of the 0th class, that's why \n",
    "            # we have y_val seemingly switched below\n",
    "            y_val = np.append(np.ones(12), np.zeros(12))\n",
    "\n",
    "            band_score_train[:,band] = train_prob\n",
    "            band_score_val[:,band] = val_prob\n",
    "        \n",
    "        \n",
    "        y_pred = np.rint(band_score_val.mean(1))\n",
    "        accuracy[subject,fold] = sum(y_pred==y_val)/len(y_val)\n",
    "        kappa[subject, fold] = cohen_kappa_score(y_pred, y_val)\n",
    "    print('===============')\n",
    "print(np.mean(accuracy, axis=1))\n",
    "print(np.mean(kappa, axis=1))\n",
    "\n",
    "# Main Analysis Over"
   ]
  },
  {
   "cell_type": "markdown",
   "metadata": {},
   "source": [
    "## Train Kappa (selected channels)"
   ]
  },
  {
   "cell_type": "code",
   "execution_count": 70,
   "metadata": {},
   "outputs": [
    {
     "name": "stdout",
     "output_type": "stream",
     "text": [
      "Subject 1: 0.8888888875\n",
      "Subject 2: 0.5868055575\n",
      "Subject 3: 0.8472222225000001\n",
      "Subject 5: 0.46875\n",
      "Subject 6: 0.8958333350000001\n",
      "Subject 7: 0.850694445\n",
      "Subject 8: 0.7569444424999999\n"
     ]
    }
   ],
   "source": [
    "left_train_kap = [0.90277778, 0.5, 0.79166667, 0.66666667, 0.48611111, 0.93055556, 0.80555556, 0.80555556]\n",
    "right_train_kap = [0.95833333, 0.40277778, 0.875, 0.47222222, 0.54166667, 0.84722222, 0.88888889, 0.69444444]\n",
    "feet_train_kap = [0.84722222, 0.93055556, 0.81944444, 0.45833333, 0.51388889, 0.875, 0.76388889, 0.69444444]\n",
    "tongue_train_kap = [0.84722222, 0.51388889, 0.90277778, 0.34722222, 0.33333333, 0.93055556, 0.94444444, 0.83333333]\n",
    "\n",
    "for sub in range(n_subjects):\n",
    "    if sub == 3:\n",
    "        continue\n",
    "    sub_avg = (left_train_kap[sub] + right_train_kap[sub] + feet_train_kap[sub] + tongue_train_kap[sub]) / 4\n",
    "    print(f'Subject {sub+1}: {sub_avg}')"
   ]
  },
  {
   "cell_type": "code",
   "execution_count": 2,
   "metadata": {},
   "outputs": [],
   "source": [
    "import warnings\n",
    "\n",
    "import matplotlib.pyplot as plt\n",
    "import pandas as pd\n",
    "import seaborn as sns\n",
    "from mne.decoding import CSP\n",
    "from sklearn.discriminant_analysis import LinearDiscriminantAnalysis as LDA\n",
    "from sklearn.pipeline import make_pipeline\n",
    "\n",
    "import moabb\n",
    "from moabb.datasets import BNCI2014_001\n",
    "from moabb.evaluations import WithinSessionEvaluation\n",
    "from moabb.paradigms import LeftRightImagery\n",
    "\n",
    "\n",
    "moabb.set_log_level(\"info\")\n",
    "warnings.filterwarnings(\"ignore\")\n",
    "\n",
    "dataset = BNCI2014_001()"
   ]
  },
  {
   "cell_type": "code",
   "execution_count": 3,
   "metadata": {},
   "outputs": [
    {
     "name": "stderr",
     "output_type": "stream",
     "text": [
      "Downloading data from 'http://bnci-horizon-2020.eu/database/data-sets/001-2014/A09T.mat' to file '/home/r3hu/mne_data/MNE-bnci-data/database/data-sets/001-2014/A09T.mat'.\n",
      "100%|█████████████████████████████████████| 44.8M/44.8M [00:00<00:00, 58.4GB/s]\n",
      "SHA256 hash of downloaded file: b28d8a262c779c8cad9cc80ee6aa9c5691cfa6617c03befe490a090347ebd15c\n",
      "Use this value as the 'known_hash' argument of 'pooch.retrieve' to ensure that the file hasn't changed if it is downloaded again in the future.\n",
      "Downloading data from 'http://bnci-horizon-2020.eu/database/data-sets/001-2014/A09E.mat' to file '/home/r3hu/mne_data/MNE-bnci-data/database/data-sets/001-2014/A09E.mat'.\n",
      "100%|█████████████████████████████████████| 44.8M/44.8M [00:00<00:00, 72.1GB/s]\n",
      "SHA256 hash of downloaded file: 5d79649a42df9d51215def8ffbdaf1c3f76c54b88b9bbaae721e8c6fd972cc36\n",
      "Use this value as the 'known_hash' argument of 'pooch.retrieve' to ensure that the file hasn't changed if it is downloaded again in the future.\n"
     ]
    }
   ],
   "source": [
    "sessions = dataset.get_data()"
   ]
  },
  {
   "cell_type": "code",
   "execution_count": 12,
   "metadata": {},
   "outputs": [
    {
     "data": {
      "text/plain": [
       "({'0train': {'0': <RawArray | 26 x 96735 (386.9 s), ~19.2 MiB, data loaded>,\n",
       "   '1': <RawArray | 26 x 96735 (386.9 s), ~19.2 MiB, data loaded>,\n",
       "   '2': <RawArray | 26 x 96735 (386.9 s), ~19.2 MiB, data loaded>,\n",
       "   '3': <RawArray | 26 x 96735 (386.9 s), ~19.2 MiB, data loaded>,\n",
       "   '4': <RawArray | 26 x 96735 (386.9 s), ~19.2 MiB, data loaded>,\n",
       "   '5': <RawArray | 26 x 96735 (386.9 s), ~19.2 MiB, data loaded>},\n",
       "  '1test': {'0': <RawArray | 26 x 96735 (386.9 s), ~19.2 MiB, data loaded>,\n",
       "   '1': <RawArray | 26 x 96735 (386.9 s), ~19.2 MiB, data loaded>,\n",
       "   '2': <RawArray | 26 x 96735 (386.9 s), ~19.2 MiB, data loaded>,\n",
       "   '3': <RawArray | 26 x 96735 (386.9 s), ~19.2 MiB, data loaded>,\n",
       "   '4': <RawArray | 26 x 96735 (386.9 s), ~19.2 MiB, data loaded>,\n",
       "   '5': <RawArray | 26 x 96735 (386.9 s), ~19.2 MiB, data loaded>}},\n",
       " {'0train': {'0': <RawArray | 26 x 96735 (386.9 s), ~19.2 MiB, data loaded>,\n",
       "   '1': <RawArray | 26 x 96735 (386.9 s), ~19.2 MiB, data loaded>,\n",
       "   '2': <RawArray | 26 x 96735 (386.9 s), ~19.2 MiB, data loaded>,\n",
       "   '3': <RawArray | 26 x 96735 (386.9 s), ~19.2 MiB, data loaded>,\n",
       "   '4': <RawArray | 26 x 96735 (386.9 s), ~19.2 MiB, data loaded>,\n",
       "   '5': <RawArray | 26 x 96735 (386.9 s), ~19.2 MiB, data loaded>},\n",
       "  '1test': {'0': <RawArray | 26 x 96735 (386.9 s), ~19.2 MiB, data loaded>,\n",
       "   '1': <RawArray | 26 x 96735 (386.9 s), ~19.2 MiB, data loaded>,\n",
       "   '2': <RawArray | 26 x 96735 (386.9 s), ~19.2 MiB, data loaded>,\n",
       "   '3': <RawArray | 26 x 96735 (386.9 s), ~19.2 MiB, data loaded>,\n",
       "   '4': <RawArray | 26 x 96735 (386.9 s), ~19.2 MiB, data loaded>,\n",
       "   '5': <RawArray | 26 x 96735 (386.9 s), ~19.2 MiB, data loaded>}})"
      ]
     },
     "execution_count": 12,
     "metadata": {},
     "output_type": "execute_result"
    }
   ],
   "source": [
    "train_path = \"A01T.mat\"\n",
    "eval_path = \"A01E.mat\"\n",
    "sessions[1], sessions[2]"
   ]
  },
  {
   "cell_type": "code",
   "execution_count": 1,
   "metadata": {},
   "outputs": [
    {
     "name": "stdout",
     "output_type": "stream",
     "text": [
      "Subject:  1\n"
     ]
    },
    {
     "ename": "NameError",
     "evalue": "name 'sessions' is not defined",
     "output_type": "error",
     "traceback": [
      "\u001b[0;31m---------------------------------------------------------------------------\u001b[0m",
      "\u001b[0;31mNameError\u001b[0m                                 Traceback (most recent call last)",
      "Cell \u001b[0;32mIn[1], line 25\u001b[0m\n\u001b[1;32m     23\u001b[0m \u001b[38;5;66;03m# Iterate over runs and add each raw to the list\u001b[39;00m\n\u001b[1;32m     24\u001b[0m \u001b[38;5;28;01mfor\u001b[39;00m run \u001b[38;5;129;01min\u001b[39;00m runs:\n\u001b[0;32m---> 25\u001b[0m     raw \u001b[38;5;241m=\u001b[39m \u001b[43msessions\u001b[49m[subject][\u001b[38;5;124m\"\u001b[39m\u001b[38;5;124m1test\u001b[39m\u001b[38;5;124m\"\u001b[39m][run]\n\u001b[1;32m     26\u001b[0m     raw_list\u001b[38;5;241m.\u001b[39mappend(raw)\n\u001b[1;32m     28\u001b[0m \u001b[38;5;66;03m# Concatenate all raw objects into one\u001b[39;00m\n",
      "\u001b[0;31mNameError\u001b[0m: name 'sessions' is not defined"
     ]
    }
   ],
   "source": [
    "passbands = [\n",
    "    (1, 3), (2, 5), (4, 7), (6, 10), (7, 12),\n",
    "    (10, 15), (12, 19), (15, 25), (19, 30),\n",
    "    (25, 35), (30, 40)\n",
    "]\n",
    "\n",
    "filtered_data = []\n",
    "labels_2d = []\n",
    "\n",
    "# skipping AO4T because only has eye movement\n",
    "runs = [\"0\", \"1\", \"2\", \"3\", \"4\", \"5\"]\n",
    "\n",
    "skip = 4\n",
    "\n",
    "for subject in range(1, 10):\n",
    "    print(\"Subject: \", subject)\n",
    "    if subject == skip:\n",
    "        continue\n",
    "\n",
    "    # List to store all raw objects\n",
    "    raw_list = []\n",
    "    \n",
    "    # Iterate over runs and add each raw to the list\n",
    "    for run in runs:\n",
    "        raw = sessions[subject][\"1test\"][run]\n",
    "        raw_list.append(raw)\n",
    "    \n",
    "    # Concatenate all raw objects into one\n",
    "    combined_raw = mne.concatenate_raws(raw_list)\n",
    "    \n",
    "    # Iterate through users\n",
    "    \n",
    "    raw = combined_raw\n",
    "    events, event_id = mne.events_from_annotations(raw)\n",
    "\n",
    "    subject_data = []\n",
    "    user_labels = []\n",
    "\n",
    "    # Filter and epoch for each band\n",
    "    for band in passbands:\n",
    "        low, high = band\n",
    "\n",
    "        # Bandpass filter\n",
    "        raw_filtered = raw.copy().filter(l_freq=low, h_freq=high, method='fir', fir_design='firwin')\n",
    "\n",
    "        # Create epochs\n",
    "        epochs = mne.Epochs(raw_filtered, events, event_id=event_id, baseline=(None, 0), event_repeated='merge', preload=True, tmin=-.3, tmax=4)\n",
    "        labels = epochs.events[:, -1]  # Last column contains the event ID\n",
    "\n",
    "        # Collect data and labels\n",
    "        subject_data.append(epochs.get_data()[:, :-4, :])  # Shape: (n_trials, n_channels, n_times)\n",
    "        user_labels.append(labels)\n",
    "    filtered_data.append(subject_data)\n",
    "    labels_2d.append(user_labels)"
   ]
  },
  {
   "cell_type": "code",
   "execution_count": 27,
   "metadata": {},
   "outputs": [
    {
     "data": {
      "text/plain": [
       "(8, 11, 288, 22, 1076)"
      ]
     },
     "execution_count": 27,
     "metadata": {},
     "output_type": "execute_result"
    }
   ],
   "source": [
    "filtered_data = np.array(filtered_data)\n",
    "filtered_data.shape"
   ]
  },
  {
   "cell_type": "code",
   "execution_count": 1,
   "metadata": {},
   "outputs": [
    {
     "ename": "NameError",
     "evalue": "name 'filtered_data' is not defined",
     "output_type": "error",
     "traceback": [
      "\u001b[0;31m---------------------------------------------------------------------------\u001b[0m",
      "\u001b[0;31mNameError\u001b[0m                                 Traceback (most recent call last)",
      "Cell \u001b[0;32mIn[1], line 6\u001b[0m\n\u001b[1;32m      3\u001b[0m test_data_feet \u001b[38;5;241m=\u001b[39m []\n\u001b[1;32m      4\u001b[0m test_data_tongue \u001b[38;5;241m=\u001b[39m []\n\u001b[0;32m----> 6\u001b[0m \u001b[38;5;28;01mfor\u001b[39;00m subject \u001b[38;5;129;01min\u001b[39;00m \u001b[38;5;28mrange\u001b[39m(\u001b[38;5;28mlen\u001b[39m(\u001b[43mfiltered_data\u001b[49m)):\n\u001b[1;32m      7\u001b[0m     subject_data_left \u001b[38;5;241m=\u001b[39m []\n\u001b[1;32m      8\u001b[0m     subject_data_right \u001b[38;5;241m=\u001b[39m []\n",
      "\u001b[0;31mNameError\u001b[0m: name 'filtered_data' is not defined"
     ]
    }
   ],
   "source": [
    "test_data_left = []\n",
    "test_data_right = []\n",
    "test_data_feet = []\n",
    "test_data_tongue = []\n",
    "\n",
    "for subject in range(len(filtered_data)):\n",
    "    subject_data_left = []\n",
    "    subject_data_right = []\n",
    "    subject_data_feet = []\n",
    "    subject_data_tongue = []\n",
    "    for band in range(len(filtered_data[subject])):\n",
    "        band_data_left = []\n",
    "        band_data_right = []\n",
    "        band_data_feet = []\n",
    "        band_data_tongue = []\n",
    "        for label in range(len(labels_2d[subject][band])):\n",
    "            if labels_2d[subject][band][label] == 2:\n",
    "                band_data_left.append(filtered_data[subject][band][label])\n",
    "            elif labels_2d[subject][band][label] == 3:\n",
    "                band_data_right.append(filtered_data[subject][band][label])\n",
    "            elif labels_2d[subject][band][label] == 1:\n",
    "                band_data_feet.append(filtered_data[subject][band][label])\n",
    "            else:\n",
    "                band_data_tongue.append(filtered_data[subject][band][label])\n",
    "        subject_data_left.append(band_data_left)\n",
    "        subject_data_right.append(band_data_right)\n",
    "        subject_data_feet.append(band_data_feet)\n",
    "        subject_data_tongue.append(band_data_tongue)\n",
    "    test_data_left.append(subject_data_left)\n",
    "    test_data_right.append(subject_data_right)\n",
    "    test_data_feet.append(subject_data_feet)\n",
    "    test_data_tongue.append(subject_data_tongue)\n",
    "\n",
    "test_data_left = np.array(test_data_left)\n",
    "test_data_right = np.array(test_data_right)\n",
    "test_data_feet = np.array(test_data_feet)\n",
    "test_data_tongue = np.array(test_data_tongue)\n",
    "\n",
    "test_data_left.shape, test_data_right.shape, test_data_feet.shape, test_data_tongue.shape"
   ]
  },
  {
   "cell_type": "code",
   "execution_count": null,
   "metadata": {},
   "outputs": [],
   "source": [
    "test_data_OVR_left = []\n",
    "test_data_OVR_right = []\n",
    "test_data_OVR_feet = []\n",
    "test_data_OVR_tongue = []\n",
    "\n",
    "random_samples = np.random.permutation(72)\n",
    "random_sample_range1 = random_samples[:24]\n",
    "random_sample_range2 = random_samples[24:48]\n",
    "random_sample_range3 = random_samples[48:72]\n",
    "\n",
    "# data_OVR_left\n",
    "for subject in range(8):\n",
    "    subject_data = []\n",
    "    for band in range(11):\n",
    "        band_data = []\n",
    "        for sample in random_sample_range1:\n",
    "            band_data.append(test_data_right[subject][band][sample])\n",
    "        for sample in random_sample_range2:\n",
    "            band_data.append(test_data_feet[subject][band][sample])\n",
    "        for sample in random_sample_range3:\n",
    "            band_data.append(test_data_tongue[subject][band][sample])\n",
    "        np.random.shuffle(band_data)\n",
    "        subject_data.append(band_data)\n",
    "    test_data_OVR_left.append(subject_data)\n",
    "\n",
    "# data_OVR_right\n",
    "for subject in range(8):\n",
    "    subject_data = []\n",
    "    for band in range(11):\n",
    "        band_data = []\n",
    "        for sample in random_sample_range1:\n",
    "            band_data.append(test_data_left[subject][band][sample])\n",
    "        for sample in random_sample_range2:\n",
    "            band_data.append(test_data_feet[subject][band][sample])\n",
    "        for sample in random_sample_range3:\n",
    "            band_data.append(test_data_tongue[subject][band][sample])\n",
    "        np.random.shuffle(band_data)\n",
    "        subject_data.append(band_data)\n",
    "    test_data_OVR_right.append(subject_data)\n",
    "\n",
    "# data_OVR_feet\n",
    "for subject in range(8):\n",
    "    subject_data = []\n",
    "    for band in range(11):\n",
    "        band_data = []\n",
    "        for sample in random_sample_range1:\n",
    "            band_data.append(test_data_left[subject][band][sample])\n",
    "        for sample in random_sample_range2:\n",
    "            band_data.append(test_data_right[subject][band][sample])\n",
    "        for sample in random_sample_range3:\n",
    "            band_data.append(test_data_tongue[subject][band][sample])\n",
    "        np.random.shuffle(band_data)\n",
    "        subject_data.append(band_data)\n",
    "    test_data_OVR_feet.append(subject_data)\n",
    "\n",
    "# data_OVR_tongue\n",
    "for subject in range(8):\n",
    "    subject_data = []\n",
    "    for band in range(11):\n",
    "        band_data = []\n",
    "        for sample in random_sample_range1:\n",
    "            band_data.append(test_data_left[subject][band][sample])\n",
    "        for sample in random_sample_range2:\n",
    "            band_data.append(test_data_right[subject][band][sample])\n",
    "        for sample in random_sample_range3:\n",
    "            band_data.append(test_data_feet[subject][band][sample])\n",
    "        np.random.shuffle(band_data)\n",
    "        subject_data.append(band_data)\n",
    "    test_data_OVR_tongue.append(subject_data)\n",
    "\n",
    "# Convert to numpy arrays\n",
    "test_data_OVR_left = np.array(test_data_OVR_left)\n",
    "test_data_OVR_right = np.array(test_data_OVR_right)\n",
    "test_data_OVR_feet = np.array(test_data_OVR_feet)\n",
    "test_data_OVR_tongue = np.array(test_data_OVR_tongue)\n",
    "\n",
    "test_data_OVR_left = test_data_OVR_left.transpose(0, 1, 3, 4, 2)\n",
    "test_data_OVR_right = test_data_OVR_right.transpose(0, 1, 3, 4, 2)\n",
    "test_data_OVR_feet = test_data_OVR_feet.transpose(0, 1, 3, 4, 2)\n",
    "test_data_OVR_tongue = test_data_OVR_tongue.transpose(0, 1, 3, 4, 2)\n",
    "\n",
    "test_data_left = test_data_left.transpose(0, 1, 3, 4, 2)\n",
    "test_data_right = test_data_right.transpose(0, 1, 3, 4, 2)\n",
    "test_data_feet = test_data_feet.transpose(0, 1, 3, 4, 2)\n",
    "test_data_tongue = test_data_tongue.transpose(0, 1, 3, 4, 2)"
   ]
  },
  {
   "cell_type": "code",
   "execution_count": null,
   "metadata": {},
   "outputs": [],
   "source": [
    "test_data_left.shape"
   ]
  },
  {
   "cell_type": "markdown",
   "metadata": {},
   "source": [
    "## Left vs Rest - Test Data"
   ]
  },
  {
   "cell_type": "code",
   "execution_count": 32,
   "metadata": {},
   "outputs": [
    {
     "name": "stdout",
     "output_type": "stream",
     "text": [
      "===============\n",
      "Processing Subject 1/8\n",
      "Processing Fold 1/6\n",
      "Processing Fold 2/6\n",
      "Processing Fold 3/6\n",
      "Processing Fold 4/6\n",
      "Processing Fold 5/6\n",
      "Processing Fold 6/6\n",
      "===============\n",
      "Processing Subject 2/8\n",
      "Processing Fold 1/6\n",
      "Processing Fold 2/6\n",
      "Processing Fold 3/6\n",
      "Processing Fold 4/6\n",
      "Processing Fold 5/6\n",
      "Processing Fold 6/6\n",
      "===============\n",
      "Processing Subject 3/8\n",
      "Processing Fold 1/6\n",
      "Processing Fold 2/6\n",
      "Processing Fold 3/6\n",
      "Processing Fold 4/6\n",
      "Processing Fold 5/6\n",
      "Processing Fold 6/6\n",
      "===============\n",
      "Processing Subject 4/8\n",
      "Processing Fold 1/6\n",
      "Processing Fold 2/6\n",
      "Processing Fold 3/6\n",
      "Processing Fold 4/6\n",
      "Processing Fold 5/6\n",
      "Processing Fold 6/6\n",
      "===============\n",
      "Processing Subject 5/8\n",
      "Processing Fold 1/6\n",
      "Processing Fold 2/6\n",
      "Processing Fold 3/6\n",
      "Processing Fold 4/6\n",
      "Processing Fold 5/6\n",
      "Processing Fold 6/6\n",
      "===============\n",
      "Processing Subject 6/8\n",
      "Processing Fold 1/6\n",
      "Processing Fold 2/6\n",
      "Processing Fold 3/6\n",
      "Processing Fold 4/6\n",
      "Processing Fold 5/6\n",
      "Processing Fold 6/6\n",
      "===============\n",
      "Processing Subject 7/8\n",
      "Processing Fold 1/6\n",
      "Processing Fold 2/6\n",
      "Processing Fold 3/6\n",
      "Processing Fold 4/6\n",
      "Processing Fold 5/6\n",
      "Processing Fold 6/6\n",
      "===============\n",
      "Processing Subject 8/8\n",
      "Processing Fold 1/6\n",
      "Processing Fold 2/6\n",
      "Processing Fold 3/6\n",
      "Processing Fold 4/6\n",
      "Processing Fold 5/6\n",
      "Processing Fold 6/6\n",
      "===============\n",
      "[0.90740741 0.68634259 0.86226852 0.50231481 0.59490741 0.81597222\n",
      " 0.77199074 0.96759259]\n",
      "[0.81481481 0.37268519 0.72453704 0.00462963 0.18981481 0.63194444\n",
      " 0.54398148 0.93518519]\n"
     ]
    }
   ],
   "source": [
    "# We'll reset trainIdx and valIdx (just in case)\n",
    "# Note: feel free to use uninitialized lists and append\n",
    "#       this is just one possible starting point to show\n",
    "#       the correct size of these objects.\n",
    "trainIdx = np.zeros((k, bin_size*(k-1)), dtype=int) # could also be = []\n",
    "valIdx = np.zeros((k, bin_size), dtype=int)           # could also be = []\n",
    "\n",
    "# --- Question 4 ---\n",
    "# YOUR CODE HERE\n",
    "\n",
    "for i in range(k):\n",
    "    lst = []\n",
    "    for row in range(k):\n",
    "        if row == 0:\n",
    "            valIdx[i] = randIdx[row]\n",
    "            continue\n",
    "        for col in range(len(randIdx[0])):\n",
    "            lst.append(randIdx[row][col])\n",
    "    trainIdx[i] = lst\n",
    "    randIdx = np.random.permutation(n_sample)\n",
    "    randIdx = randIdx.reshape(k, bin_size)\n",
    "valIdx\n",
    "\n",
    "assert valIdx.shape == (k, bin_size)\n",
    "assert trainIdx.shape == (k, bin_size*(k-1))\n",
    "\n",
    "# Main Analysis (Do Not Modify)\n",
    "\n",
    "# Declare useful variables\n",
    "n_subjects, n_filters = (8, 11)\n",
    "train_size = bin_size * (k-1)\n",
    "val_size = bin_size\n",
    "test_size = 72\n",
    "accuracy = np.zeros((n_subjects, k))\n",
    "kappa = np.zeros((n_subjects, k))\n",
    "csp_per_class = 3\n",
    "trainIdx = trainIdx.astype(int)\n",
    "valIdx = valIdx.astype(int)\n",
    "\n",
    "# Begin nested loops\n",
    "# Subject > Fold > Band\n",
    "print('===============')\n",
    "for subject in range(8):\n",
    "    print('Processing Subject {}/{}'.format(subject+1, n_subjects))\n",
    "    for fold in range(k):\n",
    "        print('Processing Fold {}/{}'.format(fold+1, k))\n",
    "        band_score_train = np.zeros((train_size*2, n_filters))\n",
    "        band_score_val = np.zeros((val_size*2, n_filters))\n",
    "        band_score_test = np.zeros((test_size*2, n_filters))\n",
    "        for band in range(n_filters):\n",
    "            # train,val dataset -> train,val for each subject&band\n",
    "            l_train = data_left[subject, band][selected_channels][:,:,trainIdx[fold]].transpose(2,0,1) # (trials, chans, samples)\n",
    "            OVR_train = data_OVR_left[subject, band][selected_channels][:,:,trainIdx[fold]].transpose(2,0,1) # (trials, chans, samples)\n",
    "            l_val = data_left[subject, band][selected_channels][:,:,valIdx[fold]].transpose(2,0,1) # (trials, chans, samples)\n",
    "            OVR_val = data_OVR_left[subject, band][selected_channels][:,:,valIdx[fold]].transpose(2,0,1) # (trials, chans, samples)\n",
    "            l_test = test_data_left[subject, band][selected_channels][:,:,:].transpose(2,0,1) # (trials, chans, samples)\n",
    "            OVR_test = test_data_OVR_left[subject, band][selected_channels][:,:,:].transpose(2,0,1) # (trials, chans, samples)\n",
    "            train_data = np.stack((l_train,OVR_train), axis=0) # <- CSP input data format (classes, trials, chans, samples) \n",
    "            val_data = np.stack((l_val,OVR_val), axis=0) # <- CSP input data format (classes, trials, chans, samples)\n",
    "            test_data = np.stack((l_test,OVR_test), axis=0) # <- CSP input data format (classes, trials, chans, samples)\n",
    "\n",
    "\n",
    "            # Run Mahta's CSP code\n",
    "            # Source: https://github.com/mahtamsv/CCACSP\n",
    "            csp_filts, clf = train(train_data[0], train_data[1], csp_per_class)\n",
    "            train_prob = test(np.vstack(train_data), csp_filts, clf)\n",
    "            val_prob = test(np.vstack(val_data), csp_filts, clf)\n",
    "            test_prob = test(np.vstack(test_data), csp_filts, clf)\n",
    "            \n",
    "            # test() gives the prob of the 0th class, that's why \n",
    "            # we have y_val seemingly switched below\n",
    "            y_val = np.append(np.ones(12), np.zeros(12))\n",
    "            y_true = np.append(np.ones(72), np.zeros(72))\n",
    "\n",
    "            band_score_train[:,band] = train_prob\n",
    "            band_score_val[:,band] = val_prob\n",
    "            band_score_test[:,band] = test_prob\n",
    "\n",
    "        \n",
    "        \n",
    "        y_pred = np.rint(band_score_test.mean(1))\n",
    "        accuracy[subject,fold] = sum(y_pred==y_true)/len(y_true)\n",
    "        kappa[subject, fold] = cohen_kappa_score(y_pred, y_true)\n",
    "    print('===============')\n",
    "print(np.mean(accuracy, axis=1))\n",
    "print(np.mean(kappa, axis=1))\n",
    "\n",
    "# Main Analysis Over"
   ]
  },
  {
   "cell_type": "markdown",
   "metadata": {},
   "source": [
    "## Right vs Rest - Test Data"
   ]
  },
  {
   "cell_type": "code",
   "execution_count": 33,
   "metadata": {},
   "outputs": [
    {
     "name": "stdout",
     "output_type": "stream",
     "text": [
      "===============\n",
      "Processing Subject 1/8\n",
      "Processing Fold 1/6\n",
      "Processing Fold 2/6\n",
      "Processing Fold 3/6\n",
      "Processing Fold 4/6\n",
      "Processing Fold 5/6\n",
      "Processing Fold 6/6\n",
      "===============\n",
      "Processing Subject 2/8\n",
      "Processing Fold 1/6\n",
      "Processing Fold 2/6\n",
      "Processing Fold 3/6\n",
      "Processing Fold 4/6\n",
      "Processing Fold 5/6\n",
      "Processing Fold 6/6\n",
      "===============\n",
      "Processing Subject 3/8\n",
      "Processing Fold 1/6\n",
      "Processing Fold 2/6\n",
      "Processing Fold 3/6\n",
      "Processing Fold 4/6\n",
      "Processing Fold 5/6\n",
      "Processing Fold 6/6\n",
      "===============\n",
      "Processing Subject 4/8\n",
      "Processing Fold 1/6\n",
      "Processing Fold 2/6\n",
      "Processing Fold 3/6\n",
      "Processing Fold 4/6\n",
      "Processing Fold 5/6\n",
      "Processing Fold 6/6\n",
      "===============\n",
      "Processing Subject 5/8\n",
      "Processing Fold 1/6\n",
      "Processing Fold 2/6\n",
      "Processing Fold 3/6\n",
      "Processing Fold 4/6\n",
      "Processing Fold 5/6\n",
      "Processing Fold 6/6\n",
      "===============\n",
      "Processing Subject 6/8\n",
      "Processing Fold 1/6\n",
      "Processing Fold 2/6\n",
      "Processing Fold 3/6\n",
      "Processing Fold 4/6\n",
      "Processing Fold 5/6\n",
      "Processing Fold 6/6\n",
      "===============\n",
      "Processing Subject 7/8\n",
      "Processing Fold 1/6\n",
      "Processing Fold 2/6\n",
      "Processing Fold 3/6\n",
      "Processing Fold 4/6\n",
      "Processing Fold 5/6\n",
      "Processing Fold 6/6\n",
      "===============\n",
      "Processing Subject 8/8\n",
      "Processing Fold 1/6\n",
      "Processing Fold 2/6\n",
      "Processing Fold 3/6\n",
      "Processing Fold 4/6\n",
      "Processing Fold 5/6\n",
      "Processing Fold 6/6\n",
      "===============\n",
      "[0.82986111 0.7025463  0.96759259 0.70601852 0.71990741 0.89236111\n",
      " 0.87152778 0.63310185]\n",
      "[0.65972222 0.40509259 0.93518519 0.41203704 0.43981481 0.78472222\n",
      " 0.74305556 0.2662037 ]\n"
     ]
    }
   ],
   "source": [
    "# We'll reset trainIdx and valIdx (just in case)\n",
    "# Note: feel free to use uninitialized lists and append\n",
    "#       this is just one possible starting point to show\n",
    "#       the correct size of these objects.\n",
    "trainIdx = np.zeros((k, bin_size*(k-1)), dtype=int) # could also be = []\n",
    "valIdx = np.zeros((k, bin_size), dtype=int)           # could also be = []\n",
    "\n",
    "# --- Question 4 ---\n",
    "# YOUR CODE HERE\n",
    "\n",
    "for i in range(k):\n",
    "    lst = []\n",
    "    for row in range(k):\n",
    "        if row == 0:\n",
    "            valIdx[i] = randIdx[row]\n",
    "            continue\n",
    "        for col in range(len(randIdx[0])):\n",
    "            lst.append(randIdx[row][col])\n",
    "    trainIdx[i] = lst\n",
    "    randIdx = np.random.permutation(n_sample)\n",
    "    randIdx = randIdx.reshape(k, bin_size)\n",
    "valIdx\n",
    "\n",
    "assert valIdx.shape == (k, bin_size)\n",
    "assert trainIdx.shape == (k, bin_size*(k-1))\n",
    "\n",
    "# Main Analysis (Do Not Modify)\n",
    "\n",
    "# Declare useful variables\n",
    "n_subjects, n_filters = (8, 11)\n",
    "train_size = bin_size * (k-1)\n",
    "val_size = bin_size\n",
    "test_size = 72\n",
    "accuracy = np.zeros((n_subjects, k))\n",
    "kappa = np.zeros((n_subjects, k))\n",
    "csp_per_class = 3\n",
    "trainIdx = trainIdx.astype(int)\n",
    "valIdx = valIdx.astype(int)\n",
    "\n",
    "# Begin nested loops\n",
    "# Subject > Fold > Band\n",
    "print('===============')\n",
    "for subject in range(8):\n",
    "    print('Processing Subject {}/{}'.format(subject+1, n_subjects))\n",
    "    for fold in range(k):\n",
    "        print('Processing Fold {}/{}'.format(fold+1, k))\n",
    "        band_score_train = np.zeros((train_size*2, n_filters))\n",
    "        band_score_val = np.zeros((val_size*2, n_filters))\n",
    "        band_score_test = np.zeros((test_size*2, n_filters))\n",
    "        for band in range(n_filters):\n",
    "            # train,val dataset -> train,val for each subject&band\n",
    "            r_train = data_right[subject, band][selected_channels][:,:,trainIdx[fold]].transpose(2,0,1) # (trials, chans, samples)\n",
    "            OVR_train = data_OVR_right[subject, band][selected_channels][:,:,trainIdx[fold]].transpose(2,0,1) # (trials, chans, samples)\n",
    "            r_val = data_right[subject, band][selected_channels][:,:,valIdx[fold]].transpose(2,0,1) # (trials, chans, samples)\n",
    "            OVR_val = data_OVR_right[subject, band][selected_channels][:,:,valIdx[fold]].transpose(2,0,1) # (trials, chans, samples)\n",
    "            r_test = test_data_right[subject, band][selected_channels][:,:,:].transpose(2,0,1) # (trials, chans, samples)\n",
    "            OVR_test = test_data_OVR_right[subject, band][selected_channels][:,:,:].transpose(2,0,1) # (trials, chans, samples)\n",
    "            train_data = np.stack((r_train,OVR_train), axis=0) # <- CSP input data format (classes, trials, chans, samples) \n",
    "            val_data = np.stack((r_val,OVR_val), axis=0) # <- CSP input data format (classes, trials, chans, samples)\n",
    "            test_data = np.stack((r_test,OVR_test), axis=0) # <- CSP input data format (classes, trials, chans, samples)\n",
    "\n",
    "\n",
    "            # Run Mahta's CSP code\n",
    "            # Source: https://github.com/mahtamsv/CCACSP\n",
    "            csp_filts, clf = train(train_data[0], train_data[1], csp_per_class)\n",
    "            train_prob = test(np.vstack(train_data), csp_filts, clf)\n",
    "            val_prob = test(np.vstack(val_data), csp_filts, clf)\n",
    "            test_prob = test(np.vstack(test_data), csp_filts, clf)\n",
    "            \n",
    "            # test() gives the prob of the 0th class, that's why \n",
    "            # we have y_val seemingly switched below\n",
    "            y_val = np.append(np.ones(12), np.zeros(12))\n",
    "            y_true = np.append(np.ones(72), np.zeros(72))\n",
    "\n",
    "            band_score_train[:,band] = train_prob\n",
    "            band_score_val[:,band] = val_prob\n",
    "            band_score_test[:,band] = test_prob\n",
    "\n",
    "        \n",
    "        \n",
    "        y_pred = np.rint(band_score_test.mean(1))\n",
    "        accuracy[subject,fold] = sum(y_pred==y_true)/len(y_true)\n",
    "        kappa[subject, fold] = cohen_kappa_score(y_pred, y_true)\n",
    "    print('===============')\n",
    "print(np.mean(accuracy, axis=1))\n",
    "print(np.mean(kappa, axis=1))\n",
    "\n",
    "# Main Analysis Over"
   ]
  },
  {
   "cell_type": "markdown",
   "metadata": {},
   "source": [
    "## Feet vs Rest - Test Data"
   ]
  },
  {
   "cell_type": "code",
   "execution_count": 43,
   "metadata": {},
   "outputs": [
    {
     "name": "stdout",
     "output_type": "stream",
     "text": [
      "===============\n",
      "Processing Subject 1/8\n",
      "Processing Fold 1/6\n",
      "Processing Fold 2/6\n",
      "Processing Fold 3/6\n",
      "Processing Fold 4/6\n",
      "Processing Fold 5/6\n",
      "Processing Fold 6/6\n",
      "===============\n",
      "Processing Subject 2/8\n",
      "Processing Fold 1/6\n",
      "Processing Fold 2/6\n",
      "Processing Fold 3/6\n",
      "Processing Fold 4/6\n",
      "Processing Fold 5/6\n",
      "Processing Fold 6/6\n",
      "===============\n",
      "Processing Subject 3/8\n",
      "Processing Fold 1/6\n",
      "Processing Fold 2/6\n",
      "Processing Fold 3/6\n",
      "Processing Fold 4/6\n",
      "Processing Fold 5/6\n",
      "Processing Fold 6/6\n",
      "===============\n",
      "Processing Subject 4/8\n",
      "Processing Fold 1/6\n",
      "Processing Fold 2/6\n",
      "Processing Fold 3/6\n",
      "Processing Fold 4/6\n",
      "Processing Fold 5/6\n",
      "Processing Fold 6/6\n",
      "===============\n",
      "Processing Subject 5/8\n",
      "Processing Fold 1/6\n",
      "Processing Fold 2/6\n",
      "Processing Fold 3/6\n",
      "Processing Fold 4/6\n",
      "Processing Fold 5/6\n",
      "Processing Fold 6/6\n",
      "===============\n",
      "Processing Subject 6/8\n",
      "Processing Fold 1/6\n",
      "Processing Fold 2/6\n",
      "Processing Fold 3/6\n",
      "Processing Fold 4/6\n",
      "Processing Fold 5/6\n",
      "Processing Fold 6/6\n",
      "===============\n",
      "Processing Subject 7/8\n",
      "Processing Fold 1/6\n",
      "Processing Fold 2/6\n",
      "Processing Fold 3/6\n",
      "Processing Fold 4/6\n",
      "Processing Fold 5/6\n",
      "Processing Fold 6/6\n",
      "===============\n",
      "Processing Subject 8/8\n",
      "Processing Fold 1/6\n",
      "Processing Fold 2/6\n",
      "Processing Fold 3/6\n",
      "Processing Fold 4/6\n",
      "Processing Fold 5/6\n",
      "Processing Fold 6/6\n",
      "===============\n",
      "[0.90393519 0.86226852 0.81018519 0.59837963 0.61805556 0.9375\n",
      " 0.77893519 0.75694444]\n",
      "[0.80787037 0.72453704 0.62037037 0.19675926 0.23611111 0.875\n",
      " 0.55787037 0.51388889]\n"
     ]
    }
   ],
   "source": [
    "# We'll reset trainIdx and valIdx (just in case)\n",
    "# Note: feel free to use uninitialized lists and append\n",
    "#       this is just one possible starting point to show\n",
    "#       the correct size of these objects.\n",
    "trainIdx = np.zeros((k, bin_size*(k-1)), dtype=int) # could also be = []\n",
    "valIdx = np.zeros((k, bin_size), dtype=int)           # could also be = []\n",
    "\n",
    "# --- Question 4 ---\n",
    "# YOUR CODE HERE\n",
    "\n",
    "for i in range(k):\n",
    "    lst = []\n",
    "    for row in range(k):\n",
    "        if row == 0:\n",
    "            valIdx[i] = randIdx[row]\n",
    "            continue\n",
    "        for col in range(len(randIdx[0])):\n",
    "            lst.append(randIdx[row][col])\n",
    "    trainIdx[i] = lst\n",
    "    randIdx = np.random.permutation(n_sample)\n",
    "    randIdx = randIdx.reshape(k, bin_size)\n",
    "valIdx\n",
    "\n",
    "assert valIdx.shape == (k, bin_size)\n",
    "assert trainIdx.shape == (k, bin_size*(k-1))\n",
    "\n",
    "# Main Analysis (Do Not Modify)\n",
    "\n",
    "# Declare useful variables\n",
    "n_subjects, n_filters = (8, 11)\n",
    "train_size = bin_size * (k-1)\n",
    "val_size = bin_size\n",
    "test_size = 72\n",
    "accuracy = np.zeros((n_subjects, k))\n",
    "kappa = np.zeros((n_subjects, k))\n",
    "csp_per_class = 3\n",
    "trainIdx = trainIdx.astype(int)\n",
    "valIdx = valIdx.astype(int)\n",
    "\n",
    "# Begin nested loops\n",
    "# Subject > Fold > Band\n",
    "print('===============')\n",
    "for subject in range(8):\n",
    "    print('Processing Subject {}/{}'.format(subject+1, n_subjects))\n",
    "    for fold in range(k):\n",
    "        print('Processing Fold {}/{}'.format(fold+1, k))\n",
    "        band_score_train = np.zeros((train_size*2, n_filters))\n",
    "        band_score_val = np.zeros((val_size*2, n_filters))\n",
    "        band_score_test = np.zeros((test_size*2, n_filters))\n",
    "        for band in range(n_filters):\n",
    "            # train,val dataset -> train,val for each subject&band\n",
    "            f_train = data_feet[subject, band][selected_channels][:,:,trainIdx[fold]].transpose(2,0,1) # (trials, chans, samples)\n",
    "            OVR_train = data_OVR_feet[subject, band][selected_channels][:,:,trainIdx[fold]].transpose(2,0,1) # (trials, chans, samples)\n",
    "            f_val = data_feet[subject, band][selected_channels][:,:,valIdx[fold]].transpose(2,0,1) # (trials, chans, samples)\n",
    "            OVR_val = data_OVR_feet[subject, band][selected_channels][:,:,valIdx[fold]].transpose(2,0,1) # (trials, chans, samples)\n",
    "            f_test = test_data_feet[subject, band][selected_channels][:,:,:].transpose(2,0,1) # (trials, chans, samples)\n",
    "            OVR_test = test_data_OVR_feet[subject, band][selected_channels][:,:,:].transpose(2,0,1) # (trials, chans, samples)\n",
    "            train_data = np.stack((f_train,OVR_train), axis=0) # <- CSP input data format (classes, trials, chans, samples) \n",
    "            val_data = np.stack((f_val,OVR_val), axis=0) # <- CSP input data format (classes, trials, chans, samples)\n",
    "            test_data = np.stack((f_test,OVR_test), axis=0) # <- CSP input data format (classes, trials, chans, samples)\n",
    "\n",
    "\n",
    "            # Run Mahta's CSP code\n",
    "            # Source: https://github.com/mahtamsv/CCACSP\n",
    "            csp_filts, clf = train(train_data[0], train_data[1], csp_per_class)\n",
    "            train_prob = test(np.vstack(train_data), csp_filts, clf)\n",
    "            val_prob = test(np.vstack(val_data), csp_filts, clf)\n",
    "            test_prob = test(np.vstack(test_data), csp_filts, clf)\n",
    "            \n",
    "            # test() gives the prob of the 0th class, that's why \n",
    "            # we have y_val seemingly switched below\n",
    "            y_val = np.append(np.ones(12), np.zeros(12))\n",
    "            y_true = np.append(np.ones(72), np.zeros(72))\n",
    "\n",
    "            band_score_train[:,band] = train_prob\n",
    "            band_score_val[:,band] = val_prob\n",
    "            band_score_test[:,band] = test_prob\n",
    "\n",
    "        \n",
    "        \n",
    "        y_pred = np.rint(band_score_test.mean(1))\n",
    "        accuracy[subject,fold] = sum(y_pred==y_true)/len(y_true)\n",
    "        kappa[subject, fold] = cohen_kappa_score(y_pred, y_true)\n",
    "    print('===============')\n",
    "print(np.mean(accuracy, axis=1))\n",
    "print(np.mean(kappa, axis=1))\n",
    "\n",
    "# Main Analysis Over"
   ]
  },
  {
   "cell_type": "markdown",
   "metadata": {},
   "source": [
    "## Tongue vs Rest - Test Data"
   ]
  },
  {
   "cell_type": "code",
   "execution_count": 33,
   "metadata": {},
   "outputs": [
    {
     "name": "stdout",
     "output_type": "stream",
     "text": [
      "===============\n",
      "Processing Subject 1/8\n",
      "Processing Fold 1/6\n"
     ]
    },
    {
     "ename": "NameError",
     "evalue": "name 'test_data_tongue' is not defined",
     "output_type": "error",
     "traceback": [
      "\u001b[0;31m---------------------------------------------------------------------------\u001b[0m",
      "\u001b[0;31mNameError\u001b[0m                                 Traceback (most recent call last)",
      "Cell \u001b[0;32mIn[33], line 56\u001b[0m\n\u001b[1;32m     54\u001b[0m t_val \u001b[38;5;241m=\u001b[39m data_tongue[subject, band][:,:,valIdx[fold]]\u001b[38;5;241m.\u001b[39mtranspose(\u001b[38;5;241m2\u001b[39m,\u001b[38;5;241m0\u001b[39m,\u001b[38;5;241m1\u001b[39m) \u001b[38;5;66;03m# (trials, chans, samples)\u001b[39;00m\n\u001b[1;32m     55\u001b[0m OVR_val \u001b[38;5;241m=\u001b[39m data_OVR_tongue[subject, band][:,:,valIdx[fold]]\u001b[38;5;241m.\u001b[39mtranspose(\u001b[38;5;241m2\u001b[39m,\u001b[38;5;241m0\u001b[39m,\u001b[38;5;241m1\u001b[39m) \u001b[38;5;66;03m# (trials, chans, samples)\u001b[39;00m\n\u001b[0;32m---> 56\u001b[0m t_test \u001b[38;5;241m=\u001b[39m \u001b[43mtest_data_tongue\u001b[49m[subject, band][:,:,:]\u001b[38;5;241m.\u001b[39mtranspose(\u001b[38;5;241m2\u001b[39m,\u001b[38;5;241m0\u001b[39m,\u001b[38;5;241m1\u001b[39m) \u001b[38;5;66;03m# (trials, chans, samples)\u001b[39;00m\n\u001b[1;32m     57\u001b[0m OVR_test \u001b[38;5;241m=\u001b[39m test_data_OVR_tongue[subject, band][:,:,:]\u001b[38;5;241m.\u001b[39mtranspose(\u001b[38;5;241m2\u001b[39m,\u001b[38;5;241m0\u001b[39m,\u001b[38;5;241m1\u001b[39m) \u001b[38;5;66;03m# (trials, chans, samples)\u001b[39;00m\n\u001b[1;32m     58\u001b[0m train_data \u001b[38;5;241m=\u001b[39m np\u001b[38;5;241m.\u001b[39mstack((t_train,OVR_train), axis\u001b[38;5;241m=\u001b[39m\u001b[38;5;241m0\u001b[39m) \u001b[38;5;66;03m# <- CSP input data format (classes, trials, chans, samples) \u001b[39;00m\n",
      "\u001b[0;31mNameError\u001b[0m: name 'test_data_tongue' is not defined"
     ]
    }
   ],
   "source": [
    "# We'll reset trainIdx and valIdx (just in case)\n",
    "# Note: feel free to use uninitialized lists and append\n",
    "#       this is just one possible starting point to show\n",
    "#       the correct size of these objects.\n",
    "trainIdx = np.zeros((k, bin_size*(k-1)), dtype=int) # could also be = []\n",
    "valIdx = np.zeros((k, bin_size), dtype=int)           # could also be = []\n",
    "\n",
    "# --- Question 4 ---\n",
    "# YOUR CODE HERE\n",
    "\n",
    "for i in range(k):\n",
    "    lst = []\n",
    "    for row in range(k):\n",
    "        if row == 0:\n",
    "            valIdx[i] = randIdx[row]\n",
    "            continue\n",
    "        for col in range(len(randIdx[0])):\n",
    "            lst.append(randIdx[row][col])\n",
    "    trainIdx[i] = lst\n",
    "    randIdx = np.random.permutation(n_sample)\n",
    "    randIdx = randIdx.reshape(k, bin_size)\n",
    "valIdx\n",
    "\n",
    "assert valIdx.shape == (k, bin_size)\n",
    "assert trainIdx.shape == (k, bin_size*(k-1))\n",
    "\n",
    "# Main Analysis (Do Not Modify)\n",
    "\n",
    "# Declare useful variables\n",
    "n_subjects, n_filters = (8, 11)\n",
    "train_size = bin_size * (k-1)\n",
    "val_size = bin_size\n",
    "test_size = 72\n",
    "accuracy = np.zeros((n_subjects, k))\n",
    "kappa = np.zeros((n_subjects, k))\n",
    "csp_per_class = 3\n",
    "trainIdx = trainIdx.astype(int)\n",
    "valIdx = valIdx.astype(int)\n",
    "\n",
    "# Begin nested loops\n",
    "# Subject > Fold > Band\n",
    "print('===============')\n",
    "for subject in range(8):\n",
    "    print('Processing Subject {}/{}'.format(subject+1, n_subjects))\n",
    "    for fold in range(k):\n",
    "        print('Processing Fold {}/{}'.format(fold+1, k))\n",
    "        band_score_train = np.zeros((train_size*2, n_filters))\n",
    "        band_score_val = np.zeros((val_size*2, n_filters))\n",
    "        band_score_test = np.zeros((test_size*2, n_filters))\n",
    "        for band in range(n_filters):\n",
    "            # train,val dataset -> train,val for each subject&band\n",
    "            t_train = data_tongue[subject, band][selected_channels][:,:,trainIdx[fold]].transpose(2,0,1) # (trials, chans, samples)\n",
    "            OVR_train = data_OVR_tongue[subject, band][selected_channels][:,:,trainIdx[fold]].transpose(2,0,1) # (trials, chans, samples)\n",
    "            t_val = data_tongue[subject, band][selected_channels][:,:,valIdx[fold]].transpose(2,0,1) # (trials, chans, samples)\n",
    "            OVR_val = data_OVR_tongue[subject, band][selected_channels][:,:,valIdx[fold]].transpose(2,0,1) # (trials, chans, samples)\n",
    "            t_test = test_data_tongue[subject, band][selected_channels][:,:,:].transpose(2,0,1) # (trials, chans, samples)\n",
    "            OVR_test = test_data_OVR_tongue[subject, band][selected_channels][:,:,:].transpose(2,0,1) # (trials, chans, samples)\n",
    "            train_data = np.stack((t_train,OVR_train), axis=0) # <- CSP input data format (classes, trials, chans, samples) \n",
    "            val_data = np.stack((t_val,OVR_val), axis=0) # <- CSP input data format (classes, trials, chans, samples)\n",
    "            test_data = np.stack((t_test,OVR_test), axis=0) # <- CSP input data format (classes, trials, chans, samples)\n",
    "\n",
    "\n",
    "            # Run Mahta's CSP code\n",
    "            # Source: https://github.com/mahtamsv/CCACSP\n",
    "            csp_filts, clf = train(train_data[0], train_data[1], csp_per_class)\n",
    "            train_prob = test(np.vstack(train_data), csp_filts, clf)\n",
    "            val_prob = test(np.vstack(val_data), csp_filts, clf)\n",
    "            test_prob = test(np.vstack(test_data), csp_filts, clf)\n",
    "            \n",
    "            # test() gives the prob of the 0th class, that's why \n",
    "            # we have y_val seemingly switched below\n",
    "            y_val = np.append(np.ones(12), np.zeros(12))\n",
    "            y_true = np.append(np.ones(72), np.zeros(72))\n",
    "\n",
    "            band_score_train[:,band] = train_prob\n",
    "            band_score_val[:,band] = val_prob\n",
    "            band_score_test[:,band] = test_prob\n",
    "\n",
    "        \n",
    "        \n",
    "        y_pred = np.rint(band_score_test.mean(1))\n",
    "        accuracy[subject,fold] = sum(y_pred==y_true)/len(y_true)\n",
    "        kappa[subject, fold] = cohen_kappa_score(y_pred, y_true)\n",
    "    print('===============')\n",
    "print(np.mean(accuracy, axis=1))\n",
    "print(np.mean(kappa, axis=1))\n",
    "\n",
    "# Main Analysis Over"
   ]
  },
  {
   "cell_type": "code",
   "execution_count": 49,
   "metadata": {},
   "outputs": [
    {
     "data": {
      "text/plain": [
       "{'Subject 1': 0.7690972199999999,\n",
       " 'Subject 2': 0.494212965,\n",
       " 'Subject 3': 0.7175925949999999,\n",
       " 'Subject 5': 0.1956018525,\n",
       " 'Subject 6': 0.30208333,\n",
       " 'Subject 7': 0.760416665,\n",
       " 'Subject 8': 0.57175926,\n",
       " 'Subject 9': 0.653935185}"
      ]
     },
     "execution_count": 49,
     "metadata": {},
     "output_type": "execute_result"
    }
   ],
   "source": [
    "#kappa values\n",
    "lvo = [0.81481481, 0.37268519, 0.72453704, 0.00462963, 0.18981481, 0.63194444,\n",
    " 0.54398148, 0.93518519]\n",
    "\n",
    "rvo = [0.65972222, 0.40509259, 0.93518519, 0.41203704, 0.43981481, 0.78472222,\n",
    " 0.74305556, 0.2662037 ]\n",
    "\n",
    "fvo = [0.80787037, 0.72453704, 0.62037037, 0.19675926, 0.23611111, 0.875,\n",
    " 0.55787037, 0.51388889]\n",
    "\n",
    "tvo = [0.79398148, 0.47453704, 0.59027778, 0.16898148, 0.34259259, 0.75,\n",
    " 0.44212963, 0.90046296]\n",
    "\n",
    "\n",
    "avgKappa = {}\n",
    "for i in range(len(lvo)):\n",
    "    subject = i+1\n",
    "    avg = (lvo[i] + rvo[i] + fvo[i] + tvo[i])/4\n",
    "    if subject >= 4:\n",
    "        subject += 1\n",
    "    avgKappa[f\"Subject {subject}\"] = avg\n",
    "    \n",
    "avgKappa"
   ]
  },
  {
   "cell_type": "code",
   "execution_count": 51,
   "metadata": {},
   "outputs": [
    {
     "data": {
      "text/plain": [
       "0"
      ]
     },
     "execution_count": 51,
     "metadata": {},
     "output_type": "execute_result"
    }
   ],
   "source": [
    "import os\n",
    "\n",
    "os.system('jupyter nbconvert --to html CSP_LDA.ipynb')"
   ]
  }
 ],
 "metadata": {
  "kernelspec": {
   "display_name": "Python 3 (ipykernel)",
   "language": "python",
   "name": "python3"
  },
  "language_info": {
   "codemirror_mode": {
    "name": "ipython",
    "version": 3
   },
   "file_extension": ".py",
   "mimetype": "text/x-python",
   "name": "python",
   "nbconvert_exporter": "python",
   "pygments_lexer": "ipython3",
   "version": "3.11.9"
  }
 },
 "nbformat": 4,
 "nbformat_minor": 4
}
